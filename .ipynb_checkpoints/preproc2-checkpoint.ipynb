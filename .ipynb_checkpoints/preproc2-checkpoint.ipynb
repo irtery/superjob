{
 "cells": [
  {
   "cell_type": "code",
   "execution_count": 1,
   "metadata": {},
   "outputs": [],
   "source": [
    "import pandas as pd\n",
    "import numpy as np\n",
    "import sklearn as sk\n",
    "import json as js\n",
    "import csv"
   ]
  },
  {
   "cell_type": "code",
   "execution_count": 2,
   "metadata": {},
   "outputs": [],
   "source": [
    "df = pd.read_csv('data/resume.csv')"
   ]
  },
  {
   "cell_type": "code",
   "execution_count": 3,
   "metadata": {},
   "outputs": [
    {
     "data": {
      "text/plain": [
       "(2369, 20)"
      ]
     },
     "execution_count": 3,
     "metadata": {},
     "output_type": "execute_result"
    }
   ],
   "source": [
    "df.shape"
   ]
  },
  {
   "cell_type": "code",
   "execution_count": 4,
   "metadata": {},
   "outputs": [
    {
     "data": {
      "text/plain": [
       "(2369,)"
      ]
     },
     "execution_count": 4,
     "metadata": {},
     "output_type": "execute_result"
    }
   ],
   "source": [
    "df.duplicated().shape"
   ]
  },
  {
   "cell_type": "code",
   "execution_count": 5,
   "metadata": {},
   "outputs": [
    {
     "data": {
      "text/html": [
       "<div>\n",
       "<style scoped>\n",
       "    .dataframe tbody tr th:only-of-type {\n",
       "        vertical-align: middle;\n",
       "    }\n",
       "\n",
       "    .dataframe tbody tr th {\n",
       "        vertical-align: top;\n",
       "    }\n",
       "\n",
       "    .dataframe thead th {\n",
       "        text-align: right;\n",
       "    }\n",
       "</style>\n",
       "<table border=\"1\" class=\"dataframe\">\n",
       "  <thead>\n",
       "    <tr style=\"text-align: right;\">\n",
       "      <th></th>\n",
       "      <th>Unnamed: 0</th>\n",
       "      <th>age</th>\n",
       "      <th>auto</th>\n",
       "      <th>business_trips</th>\n",
       "      <th>categories</th>\n",
       "      <th>citizenship</th>\n",
       "      <th>city</th>\n",
       "      <th>education</th>\n",
       "      <th>employment</th>\n",
       "      <th>experience</th>\n",
       "      <th>experience_length</th>\n",
       "      <th>family</th>\n",
       "      <th>gender</th>\n",
       "      <th>languages</th>\n",
       "      <th>metro_or_moving</th>\n",
       "      <th>name</th>\n",
       "      <th>photo_url</th>\n",
       "      <th>salary</th>\n",
       "      <th>skills</th>\n",
       "      <th>url</th>\n",
       "    </tr>\n",
       "  </thead>\n",
       "  <tbody>\n",
       "    <tr>\n",
       "      <th>0</th>\n",
       "      <td>0</td>\n",
       "      <td>20</td>\n",
       "      <td>NaN</td>\n",
       "      <td>не готов к командировкам</td>\n",
       "      <td>Архитектура</td>\n",
       "      <td>Россия</td>\n",
       "      <td>Ковров</td>\n",
       "      <td>[{'kind': 'Неполное высшее образование', 'form...</td>\n",
       "      <td>неполный рабочий день</td>\n",
       "      <td>[{'period': 'сентябрь 2017 – март 2018', 'leng...</td>\n",
       "      <td>7 месяцев</td>\n",
       "      <td>NaN</td>\n",
       "      <td>f</td>\n",
       "      <td>['Немецкий язык, Базовый']</td>\n",
       "      <td>NaN</td>\n",
       "      <td>3D-моделлер, IT стажёр, консультант</td>\n",
       "      <td>NaN</td>\n",
       "      <td>30 000₽</td>\n",
       "      <td>NaN</td>\n",
       "      <td>https://www.superjob.ru/resume/3d-modeller-436...</td>\n",
       "    </tr>\n",
       "  </tbody>\n",
       "</table>\n",
       "</div>"
      ],
      "text/plain": [
       "   Unnamed: 0  age auto            business_trips   categories citizenship  \\\n",
       "0           0   20  NaN  не готов к командировкам  Архитектура      Россия   \n",
       "\n",
       "     city                                          education  \\\n",
       "0  Ковров  [{'kind': 'Неполное высшее образование', 'form...   \n",
       "\n",
       "              employment                                         experience  \\\n",
       "0  неполный рабочий день  [{'period': 'сентябрь 2017 – март 2018', 'leng...   \n",
       "\n",
       "  experience_length family gender                   languages metro_or_moving  \\\n",
       "0         7 месяцев    NaN      f  ['Немецкий язык, Базовый']             NaN   \n",
       "\n",
       "                                  name photo_url   salary skills  \\\n",
       "0  3D-моделлер, IT стажёр, консультант       NaN  30 000₽    NaN   \n",
       "\n",
       "                                                 url  \n",
       "0  https://www.superjob.ru/resume/3d-modeller-436...  "
      ]
     },
     "execution_count": 5,
     "metadata": {},
     "output_type": "execute_result"
    }
   ],
   "source": [
    "df.head(1)"
   ]
  },
  {
   "cell_type": "code",
   "execution_count": 6,
   "metadata": {},
   "outputs": [
    {
     "data": {
      "text/plain": [
       "Index(['Unnamed: 0', 'age', 'auto', 'business_trips', 'categories',\n",
       "       'citizenship', 'city', 'education', 'employment', 'experience',\n",
       "       'experience_length', 'family', 'gender', 'languages', 'metro_or_moving',\n",
       "       'name', 'photo_url', 'salary', 'skills', 'url'],\n",
       "      dtype='object')"
      ]
     },
     "execution_count": 6,
     "metadata": {},
     "output_type": "execute_result"
    }
   ],
   "source": [
    "df.columns"
   ]
  },
  {
   "cell_type": "code",
   "execution_count": 7,
   "metadata": {},
   "outputs": [],
   "source": [
    "df = df.drop('Unnamed: 0', axis=1)"
   ]
  },
  {
   "cell_type": "code",
   "execution_count": 8,
   "metadata": {},
   "outputs": [
    {
     "data": {
      "text/plain": [
       "['B — легковые авто']                                                                                 1171\n",
       "NaN                                                                                                    808\n",
       "['B — легковые авто', 'C — грузовые авто']                                                             220\n",
       "['A — мотоциклы', 'B — легковые авто']                                                                  74\n",
       "['A — мотоциклы', 'B — легковые авто', 'C — грузовые авто']                                             52\n",
       "['B — легковые авто', 'C — грузовые авто', 'D — автобусы']                                              11\n",
       "['C — грузовые авто']                                                                                   11\n",
       "['B — легковые авто', 'C — грузовые авто', 'D — автобусы', 'E — авто с прицепом']                        7\n",
       "['B — легковые авто', 'D — автобусы']                                                                    5\n",
       "['A — мотоциклы', 'B — легковые авто', 'C — грузовые авто', 'D — автобусы']                              3\n",
       "['A — мотоциклы']                                                                                        2\n",
       "['A — мотоциклы', 'B — легковые авто', 'C — грузовые авто', 'D — автобусы', 'E — авто с прицепом']       2\n",
       "['B — легковые авто', 'C — грузовые авто', 'E — авто с прицепом']                                        2\n",
       "['A — мотоциклы', 'C — грузовые авто']                                                                   1\n",
       "Name: auto, dtype: int64"
      ]
     },
     "execution_count": 8,
     "metadata": {},
     "output_type": "execute_result"
    }
   ],
   "source": [
    "df.auto.value_counts(dropna=False)"
   ]
  },
  {
   "cell_type": "code",
   "execution_count": 9,
   "metadata": {},
   "outputs": [],
   "source": [
    "df.auto=df.auto.fillna(\"['Нет прав']\")"
   ]
  },
  {
   "cell_type": "markdown",
   "metadata": {},
   "source": [
    "## Замена - не выкидываем"
   ]
  },
  {
   "cell_type": "code",
   "execution_count": 10,
   "metadata": {},
   "outputs": [
    {
     "data": {
      "text/plain": [
       "NaN                         1373\n",
       "не готов к командировкам     968\n",
       "на дому                       28\n",
       "Name: business_trips, dtype: int64"
      ]
     },
     "execution_count": 10,
     "metadata": {},
     "output_type": "execute_result"
    }
   ],
   "source": [
    "df.business_trips.value_counts(dropna=False)"
   ]
  },
  {
   "cell_type": "code",
   "execution_count": 11,
   "metadata": {},
   "outputs": [
    {
     "data": {
      "text/plain": [
       "'https://www.superjob.ru/resume/administrator-26936498.html'"
      ]
     },
     "execution_count": 11,
     "metadata": {},
     "output_type": "execute_result"
    }
   ],
   "source": [
    "df.url.iloc[1]"
   ]
  },
  {
   "cell_type": "markdown",
   "metadata": {},
   "source": [
    "## Замена, ничего не понятно, почему либо не готов, либо на дому, где вариант готов?"
   ]
  },
  {
   "cell_type": "code",
   "execution_count": 12,
   "metadata": {},
   "outputs": [],
   "source": [
    "#df = df.drop('business_trips', axis=1)"
   ]
  },
  {
   "cell_type": "code",
   "execution_count": 13,
   "metadata": {},
   "outputs": [
    {
     "data": {
      "text/plain": [
       "Системное администрирование                      552\n",
       "NaN                                              467\n",
       "Техническая поддержка                            358\n",
       "IT, Интернет, связь, телеком                     238\n",
       "Инжиниринг                                       184\n",
       "Администрирование баз данных                      80\n",
       "Административная работа, секретариат, АХО         64\n",
       "Сетевые технологии                                49\n",
       "Разработка, программирование                      41\n",
       "Передача данных и доступ в интернет               38\n",
       "Управление проектами                              34\n",
       "Аналитика                                         31\n",
       "Интернет, создание и поддержка сайтов             23\n",
       "Другое                                            18\n",
       "Электронный документооборот                       15\n",
       "Внедрение и сопровождение ПО                      12\n",
       "Делопроизводство, ввод данных, систематизация     11\n",
       "Компьютеры, оргтехника, ПО                         9\n",
       "Системная интеграция                               8\n",
       "Web-верстка                                        8\n",
       "Call Center                                        8\n",
       "Телекоммуникации и связь                           7\n",
       "Диспетчерская служба                               6\n",
       "Оптимизация, SEO                                   6\n",
       "Косметика, бытовая химия                           6\n",
       "Контент                                            6\n",
       "Строительно-монтажные и отделочные работы          5\n",
       "Высшее образование                                 5\n",
       "Игровое ПО / Геймдевелопмент                       4\n",
       "Имущественная безопасность                         3\n",
       "                                                ... \n",
       "Атомная энергетика                                 1\n",
       "Складское хозяйство                                1\n",
       "Эксплуатация зданий                                1\n",
       "Автомобили, запчасти                               1\n",
       "Архитектура                                        1\n",
       "Услуги для бизнеса                                 1\n",
       "Переводы                                           1\n",
       "Проектирование                                     1\n",
       "Видеонаблюдение                                    1\n",
       "Web, UI, UX дизайн                                 1\n",
       "Бытовая техника, электроника, фото, видео          1\n",
       "Компьютерная анимация и мультимедиа                1\n",
       "Стратегический консалтинг                          1\n",
       "Музыка, пение                                      1\n",
       "Рекрутмент, подбор персонала                       1\n",
       "Начало карьеры, мало опыта                         1\n",
       "Продажи                                            1\n",
       "Экономический анализ                               1\n",
       "Секретариат, ресепшн, офис-менеджмент              1\n",
       "Закупки, снабжение                                 1\n",
       "Консалтинг, стратегическое развитие                1\n",
       "Приборостроение                                    1\n",
       "Защита информации                                  1\n",
       "ЖКХ                                                1\n",
       "Машиностроение, станкостроение                     1\n",
       "IT-консалтинг                                      1\n",
       "Кассовые операции                                  1\n",
       "Рестораны, кафе, столовые, фастфуд                 1\n",
       "Слаботочные системы и сети                         1\n",
       "Алкоголь, напитки                                  1\n",
       "Name: categories, Length: 82, dtype: int64"
      ]
     },
     "execution_count": 13,
     "metadata": {},
     "output_type": "execute_result"
    }
   ],
   "source": [
    "df.categories.value_counts(dropna=False)"
   ]
  },
  {
   "cell_type": "code",
   "execution_count": 14,
   "metadata": {},
   "outputs": [],
   "source": [
    "df.categories=df.categories.fillna('Не указано')"
   ]
  },
  {
   "cell_type": "markdown",
   "metadata": {},
   "source": [
    "Выкинуть незаполненные (20 % данных) или весь признак? Неясно\n",
    "## Выкинуть всегда успеем, преобразовал в отдельную категорию."
   ]
  },
  {
   "cell_type": "markdown",
   "metadata": {},
   "source": [
    "Так как категории заполнялись сайтом автоматически, эту информацию можно извлечь из других полей (name), удаляем.\n",
    "## Хотя может ты и прав, короче потом подумаем."
   ]
  },
  {
   "cell_type": "code",
   "execution_count": 15,
   "metadata": {},
   "outputs": [
    {
     "data": {
      "text/plain": [
       "Россия               1615\n",
       "NaN                   727\n",
       "Украина                 8\n",
       "Казахстан               7\n",
       "Азербайджан             3\n",
       "Кыргызстан              3\n",
       "Беларусь                2\n",
       "Дальнее зарубежье       1\n",
       "Молдова                 1\n",
       "Литва                   1\n",
       "Таджикистан             1\n",
       "Name: citizenship, dtype: int64"
      ]
     },
     "execution_count": 15,
     "metadata": {},
     "output_type": "execute_result"
    }
   ],
   "source": [
    "df.citizenship.value_counts(dropna=False)"
   ]
  },
  {
   "cell_type": "markdown",
   "metadata": {},
   "source": [
    "Считаем, что гражданство не влияет на уровень зп."
   ]
  },
  {
   "cell_type": "code",
   "execution_count": 16,
   "metadata": {},
   "outputs": [],
   "source": [
    "#df = df[(df.citizenship == 'Россия')  | df.citizenship.isna()]\n",
    "df = df.drop('citizenship', axis=1)"
   ]
  },
  {
   "cell_type": "code",
   "execution_count": 17,
   "metadata": {},
   "outputs": [
    {
     "data": {
      "text/plain": [
       "Москва                                 720\n",
       "Санкт-Петербург                        293\n",
       "Хабаровск                               64\n",
       "Уфа                                     55\n",
       "Иркутск                                 51\n",
       "Ростов-на-Дону                          48\n",
       "Краснодар                               33\n",
       "Самара                                  32\n",
       "Саратов                                 27\n",
       "Казань                                  27\n",
       "Рязань                                  26\n",
       "Нижний Новгород                         24\n",
       "Ульяновск                               23\n",
       "Пенза                                   23\n",
       "Волгоград                               22\n",
       "Воронеж                                 20\n",
       "Оренбург                                19\n",
       "Тверь                                   17\n",
       "Сыктывкар                               17\n",
       "Екатеринбург                            16\n",
       "Владимир                                16\n",
       "Челябинск                               16\n",
       "Смоленск                                16\n",
       "Тюмень                                  15\n",
       "Астрахань                               15\n",
       "Тольятти                                15\n",
       "Курск                                   14\n",
       "Красноярск                              14\n",
       "Новосибирск                             14\n",
       "Химки                                   13\n",
       "                                      ... \n",
       "Благовещенка                             1\n",
       "Миллерово                                1\n",
       "Касимов                                  1\n",
       "Кировск (Ленинградская обл.)             1\n",
       "Первоуральск                             1\n",
       "Кировград                                1\n",
       "Дзержинский                              1\n",
       "Каневская                                1\n",
       "Московский                               1\n",
       "Таштагол                                 1\n",
       "Барда (Пермский край)                    1\n",
       "Туапсе                                   1\n",
       "Инта                                     1\n",
       "Надым                                    1\n",
       "Туймазы                                  1\n",
       "Шадринск                                 1\n",
       "Сибай                                    1\n",
       "Новоаннинский                            1\n",
       "Монино                                   1\n",
       "Бийск                                    1\n",
       "Димитровград                             1\n",
       "Краснознаменск (Московская область)      1\n",
       "Губкинский                               1\n",
       "Урюпинск                                 1\n",
       "Гурзуф                                   1\n",
       "Удомля                                   1\n",
       "Абакан                                   1\n",
       "Губкин                                   1\n",
       "Ачинск                                   1\n",
       "Радужный (Тюменская область)             1\n",
       "Name: city, Length: 263, dtype: int64"
      ]
     },
     "execution_count": 17,
     "metadata": {},
     "output_type": "execute_result"
    }
   ],
   "source": [
    "df.city.value_counts(dropna=False)"
   ]
  },
  {
   "cell_type": "markdown",
   "metadata": {},
   "source": [
    "Обучать модель для регионов отдельно не хочется, будет слишком мало объектов. Предложение: выделить категории в зависимости от уровня зарплат по региону. Для начала 3: Мск, Спб, остальные."
   ]
  },
  {
   "cell_type": "code",
   "execution_count": 18,
   "metadata": {},
   "outputs": [
    {
     "data": {
      "text/plain": [
       "(2369, 20)"
      ]
     },
     "execution_count": 18,
     "metadata": {},
     "output_type": "execute_result"
    }
   ],
   "source": [
    "ctgr = pd.get_dummies(df.city)\n",
    "city_Msk = ctgr['Москва']\n",
    "city_Spb = ctgr['Санкт-Петербург']\n",
    "ctgr = ctgr.drop(['Москва', 'Санкт-Петербург'], axis=1)\n",
    "city_oth = np.sum(ctgr.values, axis=1)\n",
    "df['city_Msk'] = city_Msk\n",
    "df['city_Spb'] = city_Spb\n",
    "df['city_oth'] = city_oth\n",
    "df = df.drop(['city'], axis=1)\n",
    "df.shape"
   ]
  },
  {
   "cell_type": "code",
   "execution_count": 19,
   "metadata": {},
   "outputs": [
    {
     "data": {
      "text/plain": [
       "полная занятость           1180\n",
       "NaN                        1107\n",
       "неполный рабочий день        33\n",
       "сменный график работы        25\n",
       "частичная занятость          13\n",
       "работа вахтовым методом      11\n",
       "Name: employment, dtype: int64"
      ]
     },
     "execution_count": 19,
     "metadata": {},
     "output_type": "execute_result"
    }
   ],
   "source": [
    "df.employment.value_counts(dropna=False)"
   ]
  },
  {
   "cell_type": "markdown",
   "metadata": {},
   "source": [
    "Много NaN, выкидываем.\n",
    "## Очень важная же инфа"
   ]
  },
  {
   "cell_type": "code",
   "execution_count": 20,
   "metadata": {},
   "outputs": [],
   "source": [
    "df.employment=df.employment.fillna(\"Не указано\")"
   ]
  },
  {
   "cell_type": "code",
   "execution_count": 21,
   "metadata": {},
   "outputs": [
    {
     "data": {
      "text/plain": [
       "cостоит в браке, есть дети       804\n",
       "NaN                              687\n",
       "не состоит в браке, детей нет    528\n",
       "cостоит в браке, детей нет       168\n",
       "не состоит в браке, есть дети    111\n",
       "cостоит в браке                   37\n",
       "не состоит в браке                29\n",
       "есть дети                          3\n",
       "детей нет                          2\n",
       "Name: family, dtype: int64"
      ]
     },
     "execution_count": 21,
     "metadata": {},
     "output_type": "execute_result"
    }
   ],
   "source": [
    "df.family.value_counts(dropna=False)"
   ]
  },
  {
   "cell_type": "code",
   "execution_count": 22,
   "metadata": {},
   "outputs": [],
   "source": [
    "df = df.drop('family', axis=1)"
   ]
  },
  {
   "cell_type": "code",
   "execution_count": 23,
   "metadata": {},
   "outputs": [],
   "source": [
    "gender = pd.get_dummies(df.gender)\n",
    "gender.f\n",
    "df['gender'] = gender.f"
   ]
  },
  {
   "cell_type": "markdown",
   "metadata": {},
   "source": [
    "Как вариант можно считать, что если иностранные языки не указаны, то человек ими не владеет. Логика в этом есть!!!"
   ]
  },
  {
   "cell_type": "code",
   "execution_count": 24,
   "metadata": {},
   "outputs": [
    {
     "data": {
      "text/plain": [
       "['Английский язык, Технический']                                                                                                    832\n",
       "NaN                                                                                                                                 547\n",
       "['Английский язык, Базовый']                                                                                                        463\n",
       "['Английский язык, Разговорный']                                                                                                    164\n",
       "['Английский язык, Технический', 'Немецкий язык, Базовый']                                                                           47\n",
       "['Английский язык, Базовый', 'Немецкий язык, Базовый']                                                                               42\n",
       "['Английский язык, Cвободное владение']                                                                                              40\n",
       "['Английский язык, Технический', 'Немецкий язык, Технический']                                                                       16\n",
       "['Английский язык, Технический', 'Русский язык, Cвободное владение']                                                                 16\n",
       "['Английский язык, Разговорный', 'Немецкий язык, Базовый']                                                                           11\n",
       "['Немецкий язык, Базовый']                                                                                                           11\n",
       "['Английский язык, Технический', 'Французский язык, Базовый']                                                                        10\n",
       "['Английский язык, Базовый', 'Русский язык, Cвободное владение']                                                                     10\n",
       "['Английский язык, Технический', 'Испанский язык, Базовый']                                                                           8\n",
       "['Английский язык, Разговорный', 'Русский язык, Cвободное владение']                                                                  8\n",
       "['Английский язык, Разговорный', 'Французский язык, Базовый']                                                                         7\n",
       "['Английский язык, Cвободное владение', 'Немецкий язык, Базовый']                                                                     6\n",
       "['Английский язык, Технический', 'Немецкий язык, Базовый', 'Русский язык, Cвободное владение']                                        6\n",
       "['Английский язык, Технический', 'Французский язык, Разговорный']                                                                     5\n",
       "['Английский язык, Технический', 'Немецкий язык, Разговорный']                                                                        5\n",
       "['Английский язык, Разговорный', 'Немецкий язык, Технический']                                                                        4\n",
       "['Английский язык, Базовый', 'Французский язык, Базовый']                                                                             4\n",
       "['Английский язык, Технический', 'Украинский язык, Разговорный']                                                                      4\n",
       "['Английский язык, Базовый', 'Немецкий язык, Базовый', 'Русский язык, Cвободное владение']                                            3\n",
       "['Английский язык, Технический', 'Казахский язык, Разговорный', 'Русский язык, Cвободное владение']                                   3\n",
       "['Английский язык, Cвободное владение', 'Немецкий язык, Cвободное владение']                                                          3\n",
       "['Английский язык, Технический', 'Украинский язык, Cвободное владение']                                                               3\n",
       "['Французский язык, Базовый']                                                                                                         2\n",
       "['Английский язык, Технический', 'Французский язык, Технический']                                                                     2\n",
       "['Английский язык, Базовый', 'Немецкий язык, Технический']                                                                            2\n",
       "                                                                                                                                   ... \n",
       "['Армянский язык, Cвободное владение']                                                                                                1\n",
       "['Английский язык, Технический', 'Немецкий язык, Базовый', 'Татарский язык, Разговорный']                                             1\n",
       "['Украинский язык, Cвободное владение']                                                                                               1\n",
       "['Английский язык, Технический', 'Иврит, Базовый', 'Турецкий язык, Разговорный']                                                      1\n",
       "['Английский язык, Технический', 'Французский язык, Cвободное владение']                                                              1\n",
       "['Английский язык, Технический', 'Китайский язык, Базовый']                                                                           1\n",
       "['Английский язык, Разговорный', 'Норвежский язык, Базовый']                                                                          1\n",
       "['Английский язык, Технический', 'Чешский язык, Базовый']                                                                             1\n",
       "['Английский язык, Разговорный', 'Немецкий язык, Базовый', 'Латышский язык, Cвободное владение']                                      1\n",
       "['Английский язык, Базовый', 'Немецкий язык, Технический', 'Башкирский язык, Разговорный', 'Татарский язык, Cвободное владение']      1\n",
       "['Английский язык, Технический', 'Белорусский язык, Разговорный']                                                                     1\n",
       "['Английский язык, Технический', 'Литовский язык, Cвободное владение', 'Русский язык, Cвободное владение']                            1\n",
       "['Английский язык, Cвободное владение', 'Французский язык, Разговорный']                                                              1\n",
       "['Английский язык, Разговорный', 'Китайский язык, Базовый']                                                                           1\n",
       "['Английский язык, Технический', 'Болгарский язык, Разговорный']                                                                      1\n",
       "['Английский язык, Технический', 'Португальский язык, Базовый']                                                                       1\n",
       "['Английский язык, Cвободное владение', 'Испанский язык, Базовый']                                                                    1\n",
       "['Английский язык, Базовый', 'Эсперанто, Разговорный']                                                                                1\n",
       "['Английский язык, Cвободное владение', 'Французский язык, Базовый', 'Португальский язык, Базовый']                                   1\n",
       "['Английский язык, Базовый', 'Турецкий язык, Базовый']                                                                                1\n",
       "['Английский язык, Разговорный', 'Украинский язык, Разговорный']                                                                      1\n",
       "['Английский язык, Технический', 'Татарский язык, Cвободное владение']                                                                1\n",
       "['Английский язык, Технический', 'Финский язык, Базовый']                                                                             1\n",
       "['Английский язык, Базовый', 'Немецкий язык, Базовый', 'Французский язык, Базовый']                                                   1\n",
       "['Английский язык, Технический', 'Азербайджанский язык, Cвободное владение', 'Русский язык, Разговорный']                             1\n",
       "['Английский язык, Технический', 'Венгерский язык, Cвободное владение', 'Украинский язык, Разговорный']                               1\n",
       "['Немецкий язык, Технический']                                                                                                        1\n",
       "['Английский язык, Технический', 'Татарский язык, Разговорный']                                                                       1\n",
       "['Английский язык, Cвободное владение', 'Французский язык, Cвободное владение']                                                       1\n",
       "['Английский язык, Разговорный', 'Турецкий язык, Cвободное владение']                                                                 1\n",
       "Name: languages, Length: 111, dtype: int64"
      ]
     },
     "execution_count": 24,
     "metadata": {},
     "output_type": "execute_result"
    }
   ],
   "source": [
    "df.languages.value_counts(dropna=False)"
   ]
  },
  {
   "cell_type": "code",
   "execution_count": 25,
   "metadata": {},
   "outputs": [],
   "source": [
    "#df = df.drop('languages', axis=1)\n",
    "df.languages=df.languages.fillna('')"
   ]
  },
  {
   "cell_type": "code",
   "execution_count": 26,
   "metadata": {},
   "outputs": [
    {
     "data": {
      "text/plain": [
       "str"
      ]
     },
     "execution_count": 26,
     "metadata": {},
     "output_type": "execute_result"
    }
   ],
   "source": [
    "type(df.languages.iloc[1])"
   ]
  },
  {
   "cell_type": "code",
   "execution_count": 28,
   "metadata": {},
   "outputs": [
    {
     "name": "stdout",
     "output_type": "stream",
     "text": [
      "['Немецкий язык, Базовый']\n",
      "\n"
     ]
    },
    {
     "ename": "SyntaxError",
     "evalue": "unexpected EOF while parsing (<string>, line 0)",
     "output_type": "error",
     "traceback": [
      "Traceback \u001b[0;36m(most recent call last)\u001b[0m:\n",
      "  File \u001b[1;32m\"/home/semen/anaconda3/lib/python3.7/site-packages/IPython/core/interactiveshell.py\"\u001b[0m, line \u001b[1;32m2961\u001b[0m, in \u001b[1;35mrun_code\u001b[0m\n    exec(code_obj, self.user_global_ns, self.user_ns)\n",
      "\u001b[0;36m  File \u001b[0;32m\"<ipython-input-28-1f418d7e0b74>\"\u001b[0;36m, line \u001b[0;32m6\u001b[0;36m, in \u001b[0;35m<module>\u001b[0;36m\u001b[0m\n\u001b[0;31m    for y in eval(x):\u001b[0m\n",
      "\u001b[0;36m  File \u001b[0;32m\"<string>\"\u001b[0;36m, line \u001b[0;32munknown\u001b[0m\n\u001b[0;31m    \u001b[0m\n\u001b[0m    ^\u001b[0m\n\u001b[0;31mSyntaxError\u001b[0m\u001b[0;31m:\u001b[0m unexpected EOF while parsing\n"
     ]
    }
   ],
   "source": [
    "Lang = set()\n",
    "for x in df.languages.values:\n",
    "    if type(x)==float:\n",
    "        Lang.add('С')\n",
    "    print (x)\n",
    "    for y in eval(x):\n",
    "        Lang.add(y)\n",
    "Lang"
   ]
  },
  {
   "cell_type": "code",
   "execution_count": 29,
   "metadata": {},
   "outputs": [
    {
     "data": {
      "text/plain": [
       "NaN                                 1357\n",
       "готов к переезду                     540\n",
       "Пражская                              12\n",
       "Улица Дыбенко                          9\n",
       "Комендантский проспект                 8\n",
       "Первомайская                           6\n",
       "Коломенская                            6\n",
       "Проспект Ветеранов                     6\n",
       "Ботанический садВДНХ                   6\n",
       "Выхино                                 6\n",
       "Ладожская                              6\n",
       "Новогиреево                            6\n",
       "Медведково                             6\n",
       "Академическая                          5\n",
       "Планерная                              5\n",
       "Новокосино                             5\n",
       "Проспект Большевиков                   5\n",
       "Щелковская                             5\n",
       "Бульвар Рокоссовского                  4\n",
       "Митино                                 4\n",
       "Девяткино                              4\n",
       "Бибирево                               4\n",
       "Саларьево                              4\n",
       "Люблино                                4\n",
       "Московская                             4\n",
       "Алтуфьево                              4\n",
       "Строгино                               4\n",
       "Войковская                             4\n",
       "Пионерская и ещё 2                     4\n",
       "Перово                                 4\n",
       "                                    ... \n",
       "АэропортНовогиреево                    1\n",
       "Коломенская и ещё 2                    1\n",
       "Новослободская                         1\n",
       "Октябрьское поле                       1\n",
       "НовогиреевоПланерная                   1\n",
       "Беговая                                1\n",
       "Марьино и ещё 2                        1\n",
       "Южная                                  1\n",
       "Кантемировская                         1\n",
       "Ботаническая                           1\n",
       "Ленинский проспектАвтово               1\n",
       "Преображенская площадь                 1\n",
       "Бульвар Дмитрия Донского и ещё 2       1\n",
       "Речной вокзалТимирязевская             1\n",
       "БабушкинскаяОтрадное                   1\n",
       "Марксистская                           1\n",
       "Юго-ЗападнаяМолодежная                 1\n",
       "Люблино и ещё 2                        1\n",
       "ВойковскаяПетровско-Разумовская        1\n",
       "Электрозаводская                       1\n",
       "Орехово                                1\n",
       "Чёрная РечкаЛадожская                  1\n",
       "Безымянка                              1\n",
       "Серпуховская                           1\n",
       "Проспект БольшевиковЛадожская          1\n",
       "Текстильщики и ещё 2                   1\n",
       "ЩукинскаяСтрогино                      1\n",
       "Студенческая                           1\n",
       "Новоясеневская                         1\n",
       "Семеновская                            1\n",
       "Name: metro_or_moving, Length: 243, dtype: int64"
      ]
     },
     "execution_count": 29,
     "metadata": {},
     "output_type": "execute_result"
    }
   ],
   "source": [
    "df.metro_or_moving.value_counts(dropna=False)"
   ]
  },
  {
   "cell_type": "markdown",
   "metadata": {},
   "source": [
    "## Не сделано, но может быть лучше рабить на готов-не готов к переезду?"
   ]
  },
  {
   "cell_type": "code",
   "execution_count": 30,
   "metadata": {},
   "outputs": [],
   "source": [
    "#df = df.drop('metro_or_moving', axis=1)"
   ]
  },
  {
   "cell_type": "code",
   "execution_count": 31,
   "metadata": {},
   "outputs": [
    {
     "data": {
      "text/plain": [
       "Системный администратор, IT-специалист                                                                                  416\n",
       "IT-специалист                                                                                                           207\n",
       "IT специалист                                                                                                            76\n",
       "ИТ-специалист                                                                                                            54\n",
       "Руководитель IT-отдела                                                                                                   37\n",
       "Инженер IT                                                                                                               29\n",
       "Руководитель отдела ИТ                                                                                                   27\n",
       "Руководитель IT отдела                                                                                                   24\n",
       "It-специалист                                                                                                            22\n",
       "Инженер ИТ                                                                                                               20\n",
       "Ведущий специалист ИТ                                                                                                    20\n",
       "Руководитель ИТ отдела                                                                                                   19\n",
       "Начальник отдела ИТ                                                                                                      18\n",
       "Специалист по IT                                                                                                         17\n",
       "Специалист ИТ                                                                                                            16\n",
       "Специалист IT                                                                                                            16\n",
       "Специалист IT-отдела                                                                                                     12\n",
       "Руководитель IT-проектов                                                                                                  9\n",
       "Руководитель ИТ                                                                                                           9\n",
       "Системный администратор / IT-специалист                                                                                   8\n",
       "Руководитель IT                                                                                                           8\n",
       "Менеджер IT-проектов                                                                                                      8\n",
       "IT директор                                                                                                               8\n",
       "IT-директор                                                                                                               8\n",
       "Директор ИТ                                                                                                               8\n",
       "Руководитель ИТ-отдела                                                                                                    7\n",
       "Начальник ИТ-отдела                                                                                                       7\n",
       "Руководитель ИТ-проектов                                                                                                  7\n",
       "IT-специалист, системный администратор                                                                                    7\n",
       "Начальник IT-отдела                                                                                                       7\n",
       "                                                                                                                       ... \n",
       "IT директор, руководитель департамента / управления / отдела информационных технологий                                    1\n",
       "Начальник отдела IT-Программист 1С 8                                                                                      1\n",
       "Руководитель отдела закупок (IT)                                                                                          1\n",
       "Начальник отдела ИТ, автоматизации, вычислительной техники                                                                1\n",
       "Руководитель ИТ-подразделения CIO, ITSM                                                                                   1\n",
       "Технический директор, Директор по IT, Руководитель                                                                        1\n",
       "Специалист по информационной безопасности, инженер IT, сетевой инженер, инженер связи                                     1\n",
       "Инженер / IT специалист                                                                                                   1\n",
       "Ведущий специалист ИТ, специалист отдела кадров, экономист                                                                1\n",
       "Системный администратор, IT-специалист, дизайнер                                                                          1\n",
       "Начальник ИТ, Технический директор                                                                                        1\n",
       "Стажер IT                                                                                                                 1\n",
       "Сервисный инженер / Системный администратор / Специалист отдела IT / Helpdesk                                             1\n",
       "ИТ-специалист, специалист ИТ-отдела                                                                                       1\n",
       "Заместитель директора, проректор, директор департамента ИТ, начальник IT-управления, руководитель проектов, менеджер      1\n",
       "IT Cпециалист, Специалист ЕМИАС                                                                                           1\n",
       "Начальник отдела ИТ, Специалист информационных систем, системный инженер, инженер по телефонии                            1\n",
       "Начальник отдела ИТ/системный администратор/сервисный инженер                                                             1\n",
       "Младший системный администратор IT-специалист, видеомонтажер                                                              1\n",
       "Руководитель проекта, Бизнес-аналитик, Системный аналитик, Руководитель ИТ                                                1\n",
       "Инженер-схемотехник, системный администратор, техник, специалист по ИТ                                                    1\n",
       "Сервис-инженер, IT-специалист, менеджер по продажам                                                                       1\n",
       "IT Manager, IT Specialist, Helpdesk                                                                                       1\n",
       "Руководитель управления, отдела, подразделения / Директор по ИТ / Руководитель проекта                                    1\n",
       "Помощник IT специалиста                                                                                                   1\n",
       "Специалист по IT-технологиям                                                                                              1\n",
       "Стажер IT-специалиста                                                                                                     1\n",
       "Руководитель отдела информационных технологий, ИТ-менеджер, старший специалист группы ИТ                                  1\n",
       "Системный администратор, IT-инженер, инженер технической поддержки                                                        1\n",
       "Старший системный администратор, системный администратор, IT-специалист                                                   1\n",
       "Name: name, Length: 1115, dtype: int64"
      ]
     },
     "execution_count": 31,
     "metadata": {},
     "output_type": "execute_result"
    }
   ],
   "source": [
    "df.name.value_counts(dropna=False)"
   ]
  },
  {
   "cell_type": "code",
   "execution_count": 32,
   "metadata": {},
   "outputs": [
    {
     "data": {
      "text/plain": [
       "(1115,)"
      ]
     },
     "execution_count": 32,
     "metadata": {},
     "output_type": "execute_result"
    }
   ],
   "source": [
    "df.name.unique().shape"
   ]
  },
  {
   "cell_type": "markdown",
   "metadata": {},
   "source": [
    "Нужно обрабатывать как текст. Очень много синонимов!"
   ]
  },
  {
   "cell_type": "code",
   "execution_count": 33,
   "metadata": {},
   "outputs": [],
   "source": [
    "df = df.drop('photo_url', axis=1)"
   ]
  },
  {
   "cell_type": "code",
   "execution_count": 34,
   "metadata": {
    "scrolled": false
   },
   "outputs": [
    {
     "data": {
      "text/plain": [
       "(1965,)"
      ]
     },
     "execution_count": 34,
     "metadata": {},
     "output_type": "execute_result"
    }
   ],
   "source": [
    "df.skills.value_counts(dropna=False).shape"
   ]
  },
  {
   "cell_type": "markdown",
   "metadata": {},
   "source": [
    "Часть - дубликаты. Но полных дубликатов не было. Видимо, люди хотят на разные должности по одинаковым резюме. Можно оставить как есть (логике задачи это не противоречит)"
   ]
  },
  {
   "cell_type": "code",
   "execution_count": 35,
   "metadata": {},
   "outputs": [
    {
     "data": {
      "text/plain": [
       "<pandas.core.groupby.groupby.DataFrameGroupBy object at 0x7f01d62c8b70>"
      ]
     },
     "execution_count": 35,
     "metadata": {},
     "output_type": "execute_result"
    }
   ],
   "source": [
    "df.groupby(by='skills')"
   ]
  },
  {
   "cell_type": "code",
   "execution_count": 36,
   "metadata": {},
   "outputs": [
    {
     "data": {
      "text/plain": [
       "(330, 18)"
      ]
     },
     "execution_count": 36,
     "metadata": {},
     "output_type": "execute_result"
    }
   ],
   "source": [
    "df[df.skills.isna()].shape"
   ]
  },
  {
   "cell_type": "code",
   "execution_count": 37,
   "metadata": {},
   "outputs": [],
   "source": [
    "df = df.dropna(subset=['skills'])"
   ]
  },
  {
   "cell_type": "markdown",
   "metadata": {},
   "source": [
    "## Я плох в панде, что здесь происходит?"
   ]
  },
  {
   "cell_type": "markdown",
   "metadata": {},
   "source": [
    "Видимо, придется выкинуть незаполненные, важная инфа :("
   ]
  },
  {
   "cell_type": "code",
   "execution_count": 38,
   "metadata": {},
   "outputs": [],
   "source": [
    "df = df.drop('url', axis = 1)"
   ]
  },
  {
   "cell_type": "code",
   "execution_count": 39,
   "metadata": {},
   "outputs": [
    {
     "data": {
      "text/plain": [
       "(2039, 17)"
      ]
     },
     "execution_count": 39,
     "metadata": {},
     "output_type": "execute_result"
    }
   ],
   "source": [
    "df.shape"
   ]
  },
  {
   "cell_type": "code",
   "execution_count": 40,
   "metadata": {},
   "outputs": [
    {
     "data": {
      "text/plain": [
       "NaN                                                                                                                                                                                                                                                                                                                                                                                                                                                                                                                                                                                                                                                                                                                                                                                                                                                                 43\n",
       "[{'kind': 'Среднее образование'}]                                                                                                                                                                                                                                                                                                                                                                                                                                                                                                                                                                                                                                                                                                                                                                                                                                   21\n",
       "[{'kind': 'Высшее образование', 'form': 'Дневная/Очная', 'period': '1985', 'university': 'Харьковское высшее военное авиационное училище радиоэлектроники', 'faculty': 'Командный', 'specialty': 'Командно-тактическая радиосвязь'}]                                                                                                                                                                                                                                                                                                                                                                                                                                                                                                                                                                                                                                 6\n",
       "[{'kind': 'Высшее образование', 'form': 'Дневная/Очная', 'period': '1994', 'university': 'Московский государственный технический университет имени Н.Э.Баумана', 'faculty': 'Информатика и управление', 'specialty': 'Инженер-системотехник'}]                                                                                                                                                                                                                                                                                                                                                                                                                                                                                                                                                                                                                       4\n",
       "[{'kind': 'Магистр', 'form': 'Заочная', 'period': '2018', 'university': 'Ростовский государственный экономический университет \"РИНХ\"', 'faculty': 'Факультет менеджмента и предпринимательства', 'specialty': 'Государственное и муниципальное управление'}, {'kind': 'Высшее образование', 'form': 'Заочная', 'period': '2009', 'university': 'Ростовский филиал Московского государственного университета технологий и управления', 'faculty': 'Технологический Менеджмент', 'specialty': 'Технолог инженер пивоваренной и безалкогольной промышленности'}]                                                                                                                                                                                                                                                                                                        4\n",
       "[{'kind': 'Среднее специальное образование'}]                                                                                                                                                                                                                                                                                                                                                                                                                                                                                                                                                                                                                                                                                                                                                                                                                        4\n",
       "[{'kind': 'Высшее образование', 'form': 'Заочная', 'period': '2005', 'university': 'Международная Академия Биржевой Торговли'}, {'kind': 'Высшее образование', 'period': '2003', 'university': 'Санкт-Петербургский государственный университет телекоммуникаций им.проф.М.А.Бонч-Бруевича', 'specialty': 'Автоматизация технологических процессов и производств.'}]                                                                                                                                                                                                                                                                                                                                                                                                                                                                                                 4\n",
       "[{'kind': 'Высшее образование', 'form': 'Очно-заочная', 'period': '2011', 'university': 'Российский университет кооперации', 'faculty': 'Финансы и кредит', 'specialty': 'Экономист'}, {'kind': 'Высшее образование', 'form': 'Дневная/Очная', 'period': '1998', 'university': 'Ульяновское высшее военное инженерное училище связи', 'faculty': 'Многоканальная электросвязь', 'specialty': 'Инженер'}]                                                                                                                                                                                                                                                                                                                                                                                                                                                             3\n",
       "[{'kind': 'Высшее образование', 'form': 'Вечерняя', 'period': '1989', 'university': 'Московский государственный университет им. М.В. Ломоносова', 'faculty': 'ВМиК Красный диплом', 'specialty': 'Прикладная математика; специализация АСУ'}, {'kind': 'Высшее образование', 'form': 'Дневная/Очная', 'period': '1985', 'university': 'Московский государственный технический университет имени Н.Э.Баумана', 'faculty': 'Автоматизация и механизация производства', 'specialty': 'Технология машиностроения'}]                                                                                                                                                                                                                                                                                                                                                      3\n",
       "[{'kind': 'Высшее образование', 'form': 'Дневная/Очная', 'period': '2000', 'university': 'Омский государственный технический университет', 'faculty': 'Аэро-Космический Факультет', 'specialty': 'Ракетостроение'}]                                                                                                                                                                                                                                                                                                                                                                                                                                                                                                                                                                                                                                                  3\n",
       "[{'kind': 'Высшее образование', 'form': 'Дневная/Очная', 'period': '1987', 'university': 'МИРЭА Московский институт радиотехники, электроники и автоматики', 'faculty': 'РТС факультет радиотехнических систем', 'specialty': 'Конструирование и производство радиоэлектронной аппаратуры'}]                                                                                                                                                                                                                                                                                                                                                                                                                                                                                                                                                                         3\n",
       "[{'kind': 'Высшее образование', 'form': 'Очно-заочная', 'period': '2010', 'university': 'Национальный исследовательский университет \"МИЭТ\"', 'faculty': 'Вычислительные комплексы системы и сети, Инженер', 'specialty': 'Инженер'}, {'kind': 'Высшее образование', 'form': 'Очно-заочная', 'period': '2008', 'university': 'Национальный исследовательский университет \"МИЭТ\"', 'faculty': 'Программное обеспечение информационных технологий', 'specialty': 'Инженер программист'}, {'kind': 'Среднее специальное образование', 'form': 'Дневная/Очная', 'period': '2001', 'university': 'Гомельский машиностроительный техникум', 'specialty': 'Техник программист'}]                                                                                                                                                                                             3\n",
       "[{'kind': 'Магистр', 'form': 'Дневная/Очная', 'period': '2018', 'university': 'Санкт-Петербургский государственный морской технический университет', 'faculty': 'Морского приборостроения', 'specialty': 'Информатика и вычислительная техника (магистр техники и технологии)'}, {'kind': 'Бакалавр', 'form': 'Дневная/Очная', 'period': '2016', 'university': 'Санкт-Петербургский государственный морской технический университет', 'faculty': 'Морского приборостроения', 'specialty': 'Информатика и вычислительная техника (бакалавр техники и технологии)'}]                                                                                                                                                                                                                                                                                                   3\n",
       "[{'kind': 'Бакалавр', 'form': 'Вечерняя', 'period': '2015', 'university': 'Московский инженерно-физический институт, Москва', 'faculty': 'Вечерний', 'specialty': 'Вечерний, Вычислительные машины, комплексы, системы и сети'}, {'kind': 'Среднее специальное образование', 'form': 'Дневная/Очная', 'period': '2012', 'university': 'ФГОУ СПО \"МТК\"', 'specialty': 'Вечерний, Вычислительные машины, комплексы, системы и сети'}]                                                                                                                                                                                                                                                                                                                                                                                                                                  3\n",
       "[{'kind': 'Высшее образование', 'form': 'Дневная/Очная', 'period': '2009', 'university': 'НИТУ Московский Институт Стали и Сплавов', 'faculty': 'Полупроводниковая электроника и физика полупроводников', 'specialty': 'Инженер по специальности \"Микроэлектроника и твердотельная электроника\"'}, {'kind': 'Среднее специальное образование', 'form': 'Дневная/Очная', 'period': '2004', 'university': 'Московский технический колледж', 'specialty': 'Радиоаппаратостроение'}]                                                                                                                                                                                                                                                                                                                                                                                     3\n",
       "[{'kind': 'Высшее образование', 'form': 'Дневная/Очная', 'period': '2004', 'university': 'Национальный исследовательский Иркутский государственный технический университет', 'faculty': 'Факультет кибернетики', 'specialty': 'Автоматизированные системы обработки информации и управления'}]                                                                                                                                                                                                                                                                                                                                                                                                                                                                                                                                                                       3\n",
       "[{'kind': 'Высшее образование', 'form': 'Заочная', 'period': '2005', 'university': 'Оренбургский государственный университет', 'faculty': 'Факультет информационных технологий', 'specialty': 'Инженер-программист'}, {'kind': 'Высшее образование', 'form': 'Дневная/Очная', 'period': '1996', 'university': 'Оренбургский государственный педагогический университет', 'faculty': 'Естественно-географический факультет', 'specialty': 'Учитель биологии и химии (диплом с отличием)'}, {'kind': 'Среднее специальное образование', 'form': 'Дневная/Очная', 'period': '1991', 'university': 'Средняя школа №57 (с серебряной медалью)', 'specialty': 'С серебряной медалью'}]                                                                                                                                                                                     3\n",
       "[{'kind': 'Высшее образование', 'form': 'Дневная/Очная', 'period': '2009', 'university': 'ТЭАКТ (Технико Экономическая Академия Кино и Телевидения)', 'faculty': 'Вычислительная техника и программное обеспечение', 'specialty': 'Инженер программист'}]                                                                                                                                                                                                                                                                                                                                                                                                                                                                                                                                                                                                            2\n",
       "[{'kind': 'Неполное высшее образование', 'period': '2008', 'university': 'Российский новый университет', 'faculty': 'ИСиКТ'}, {'kind': 'Среднее специальное образование', 'form': 'Дневная/Очная', 'period': '2004', 'university': 'МПТ', 'specialty': 'Техник-программист'}]                                                                                                                                                                                                                                                                                                                                                                                                                                                                                                                                                                                        2\n",
       "[{'kind': 'Высшее образование', 'period': '1998'}]                                                                                                                                                                                                                                                                                                                                                                                                                                                                                                                                                                                                                                                                                                                                                                                                                   2\n",
       "[{'kind': 'Высшее образование', 'form': 'Дневная/Очная', 'period': '2012', 'university': 'Башкирский государственный аграрный университет', 'faculty': 'Экономика и управления', 'specialty': 'Экономист'}]                                                                                                                                                                                                                                                                                                                                                                                                                                                                                                                                                                                                                                                          2\n",
       "[{'kind': 'Высшее образование', 'form': 'Вечерняя', 'period': '1995', 'university': 'Московский технологический университет', 'faculty': 'Проектирование и техноология радиоэлектронных средств', 'specialty': 'Инженер-электрик'}]                                                                                                                                                                                                                                                                                                                                                                                                                                                                                                                                                                                                                                  2\n",
       "[{'kind': 'Высшее образование', 'period': '2005', 'university': 'Московский технологический университет', 'faculty': 'Персональная электроника', 'specialty': 'Конструктор РЭС'}]                                                                                                                                                                                                                                                                                                                                                                                                                                                                                                                                                                                                                                                                                    2\n",
       "[{'kind': 'Высшее образование', 'form': 'Дневная/Очная', 'period': '2004', 'university': 'Московский государственный технический университет имени Н.Э.Баумана', 'faculty': 'Энергомашиностроение', 'specialty': 'Инженер по плазменному оборудованию'}]                                                                                                                                                                                                                                                                                                                                                                                                                                                                                                                                                                                                             2\n",
       "[{'kind': 'Высшее образование', 'form': 'Дневная/Очная', 'period': '1992', 'university': 'Кишиневский Политехнический институт им. С.Лазо', 'faculty': 'Электрофизический факультет, кафедра автоматики и телемеханики', 'specialty': 'Инженер системотехники'}]                                                                                                                                                                                                                                                                                                                                                                                                                                                                                                                                                                                                     2\n",
       "[{'kind': 'Высшее образование', 'period': '2015', 'university': 'Институт Менеджмента, Экономики и Инноваций', 'faculty': 'Прикладной информатики', 'specialty': 'Прикладная информатика (в экономике)'}, {'kind': 'Среднее специальное образование', 'period': '1995', 'university': 'СПТУ №22', 'specialty': 'Электромонтер широкого профиля'}]                                                                                                                                                                                                                                                                                                                                                                                                                                                                                                                    2\n",
       "[{'kind': 'Высшее образование', 'form': 'Дневная/Очная', 'period': '2001', 'university': 'военный инженерно-космический университет', 'specialty': 'Математическое и программное обеспечение систем автоматизированного управления'}, {'kind': 'Среднее специальное образование', 'form': 'Дневная/Очная', 'period': '1996', 'university': 'Ухтинский горно-нефтяной колледж', 'specialty': 'Монтаж, эксплуатация и ремонт электрооборудования промышленных предприятий и гражданских зданий'}]                                                                                                                                                                                                                                                                                                                                                                      2\n",
       "[{'kind': 'Высшее образование', 'period': '1999', 'university': 'Московский государственный индустриальный университет', 'faculty': 'Автоматика и вычислительная техника', 'specialty': 'Инженер по автоматизации технологических процессов'}]                                                                                                                                                                                                                                                                                                                                                                                                                                                                                                                                                                                                                       2\n",
       "[{'kind': 'Высшее образование', 'form': 'Дневная/Очная', 'period': '1991', 'university': 'Ленинградский Политехнический Институт,  факультет  радиофизики', 'faculty': 'Радиофизический', 'specialty': 'Радиофизик'}]                                                                                                                                                                                                                                                                                                                                                                                                                                                                                                                                                                                                                                                2\n",
       "[{'kind': 'Высшее образование', 'form': 'Дневная/Очная', 'period': '1978', 'university': 'Ленинградский Технологический Институт', 'faculty': 'Автоматизация Технологических Процессов', 'specialty': 'Технолог по автоматизации технологических процессов'}]                                                                                                                                                                                                                                                                                                                                                                                                                                                                                                                                                                                                        2\n",
       "                                                                                                                                                                                                                                                                                                                                                                                                                                                                                                                                                                                                                                                                                                                                                                                                                                                                    ..\n",
       "[{'kind': 'Высшее образование', 'form': 'Заочная', 'period': '2016', 'university': 'Оренбургский государственный университет', 'faculty': 'Информационных технологий', 'specialty': 'Программная инженерия'}, {'kind': 'Среднее специальное образование', 'form': 'Дневная/Очная', 'period': '2011', 'university': 'Салаватский индустриальные колледж', 'specialty': 'Техник-программист'}]                                                                                                                                                                                                                                                                                                                                                                                                                                                                         1\n",
       "[{'kind': 'Высшее образование', 'form': 'Очно-заочная', 'period': '2020', 'university': 'ФГУП \"ЦНИИчермет им. И.П.Бардина\"', 'faculty': 'Металлургия черных, цветных и редких металлов', 'specialty': 'Кандидат технических наук'}, {'kind': 'Магистр', 'form': 'Дневная/Очная', 'period': '2007', 'university': '(ЛГТУ) Липецкий государственный технический университет', 'faculty': 'Металлургический институт', 'specialty': 'Информатика и предпринимательство в металлургии'}, {'kind': 'Бакалавр', 'form': 'Дневная/Очная', 'period': '2005', 'university': '(ЛГТУ) Липецкий государственный технический университет', 'faculty': 'Металлургический институт', 'specialty': 'Техники и технологии по направлению металлургия'}]                                                                                                                               1\n",
       "[{'kind': 'Высшее образование', 'form': 'Очно-заочная', 'period': '2016', 'university': 'Негосударственное образовательное учреждение дополнительного профессионального образования \"Центр повышения квалификации специалистов по технической защите информации\" при ФАУ \"Государственный научно-исследовательский испытательный институт проблем технич', 'faculty': 'Информационная безопасность', 'specialty': 'Информационная безопасность, Комплексная защита объектов информатизации (530 часов)'}, {'kind': 'Высшее образование', 'form': 'Дневная/Очная', 'period': '1990', 'university': 'Петрозаводский государственный университет, Петрозаводск', 'faculty': 'Физический факультет', 'specialty': 'Инженер Физик'}]                                                                                                                                      1\n",
       "[{'kind': 'Высшее образование', 'form': 'Очно-заочная', 'period': '2001', 'university': 'Аспирантура при Институте Проблем Информатики РАН', 'faculty': 'Вычислительные машины, системы и сети', 'specialty': 'Вычислительные машины, системы и сети'}, {'kind': 'Высшее образование', 'form': 'Вечерняя', 'period': '1991', 'university': 'Московский авиационный институт (Национальный исследовательский университет)', 'faculty': 'Радиотехника', 'specialty': 'Радиоинженер'}]                                                                                                                                                                                                                                                                                                                                                                                  1\n",
       "[{'kind': 'Высшее образование', 'form': 'Заочная', 'period': '2012', 'university': 'Региональный финансово-экономический институт, Курск', 'faculty': 'Экономический', 'specialty': 'Менеджмент организации'}]                                                                                                                                                                                                                                                                                                                                                                                                                                                                                                                                                                                                                                                       1\n",
       "[{'kind': 'Высшее образование', 'form': 'Дневная/Очная', 'period': '2006', 'university': 'Алтайский государственный университет', 'faculty': 'Физико-технический', 'specialty': 'Экспериментальная Физика'}]                                                                                                                                                                                                                                                                                                                                                                                                                                                                                                                                                                                                                                                         1\n",
       "[{'kind': 'Высшее образование', 'form': 'Дневная/Очная', 'period': '1996', 'university': 'Московский технологический университет', 'faculty': 'Кибернетики', 'specialty': 'Инженер-системотехник'}]                                                                                                                                                                                                                                                                                                                                                                                                                                                                                                                                                                                                                                                                  1\n",
       "[{'kind': 'Высшее образование', 'form': 'Заочная', 'period': '2008', 'university': 'Воронежский экономико-правовой институт', 'faculty': 'Юридический', 'specialty': 'Юрист'}, {'kind': 'Высшее образование', 'form': 'Дневная/Очная', 'period': '2001', 'university': 'Воронежский кооперативный институт (Филиал) Белгородского университета потребительской кооперации', 'faculty': 'Юридический', 'specialty': 'Юрист'}]                                                                                                                                                                                                                                                                                                                                                                                                                                         1\n",
       "[{'kind': 'Среднее специальное образование', 'form': 'Дневная/Очная', 'period': '2014', 'university': 'Институт береговой охраны Федеральной службы безопасности Российской Федерации', 'specialty': 'Информационные системы по отраслям'}]                                                                                                                                                                                                                                                                                                                                                                                                                                                                                                                                                                                                                          1\n",
       "[{'kind': 'Высшее образование', 'form': 'Дневная/Очная', 'period': '1973', 'university': 'Днепропетровский национальный университет имени Олеся Гончара', 'faculty': 'Механико-математический', 'specialty': 'Гидроаэромеханика'}]                                                                                                                                                                                                                                                                                                                                                                                                                                                                                                                                                                                                                                   1\n",
       "[{'kind': 'Высшее образование', 'form': 'Дневная/Очная', 'period': '1983', 'university': 'Пятигорский государственный лингвистический университет', 'faculty': 'Немецкого языка', 'specialty': 'Немецкий Английский языки'}]                                                                                                                                                                                                                                                                                                                                                                                                                                                                                                                                                                                                                                         1\n",
       "[{'kind': 'Магистр', 'form': 'Дневная/Очная', 'period': '2018', 'university': '(КубГУ) Кубанский государственный университет', 'faculty': 'Математики и компьютерных наук', 'specialty': 'Математическое моделирование'}, {'kind': 'Бакалавр', 'form': 'Дневная/Очная', 'period': '2016', 'university': 'Кубанский государственный университет', 'faculty': 'Математики и компьютерных наук', 'specialty': 'Математика и компьютерные науки'}, {'kind': 'Среднее образование'}]                                                                                                                                                                                                                                                                                                                                                                                      1\n",
       "[{'kind': 'Высшее образование', 'form': 'Заочная', 'period': '2018', 'university': 'Ангарская государственная техническая академия', 'faculty': 'Технической кибернетики', 'specialty': 'ИНФОРМАТИКА И ВЫЧИСЛИТЕЛЬНАЯ ТЕХНИКА'}, {'kind': 'Среднее специальное образование', 'form': 'Очно-заочная', 'period': '2011', 'university': 'Иркутский энергетический колледж', 'specialty': 'Техническое обслуживание средств вычислительной техники и компьютерных сетей'}]                                                                                                                                                                                                                                                                                                                                                                                               1\n",
       "[{'kind': 'Высшее образование', 'form': 'Дневная/Очная', 'period': '2005', 'university': 'Тульский государственный университет', 'faculty': 'Механико-математический', 'specialty': 'Математика'}]                                                                                                                                                                                                                                                                                                                                                                                                                                                                                                                                                                                                                                                                   1\n",
       "[{'kind': 'Магистр', 'form': 'Дневная/Очная', 'period': '2014', 'university': 'Сибирский государственный аэрокосмический университет имени академика М. Ф. Решетнёва г. Красноярск', 'faculty': 'Институт информатики и телекоммуникаций', 'specialty': 'Информационные системы и технологии'}, {'kind': 'Высшее образование', 'form': 'Дневная/Очная', 'period': '1988', 'university': 'Красноярский политехнический институт г. Красноярск', 'faculty': 'Теплоэнергетический факультет', 'specialty': 'Инженер-промтеплоэнергетик'}]                                                                                                                                                                                                                                                                                                                               1\n",
       "[{'kind': 'Высшее образование', 'form': 'Вечерняя', 'period': '2008', 'university': 'Северо-Западный институт печати СПБ Государственного Университета Технологии и дизайна', 'faculty': 'Издательского дела, рекламы и книжной торговли', 'specialty': 'Реклама'}]                                                                                                                                                                                                                                                                                                                                                                                                                                                                                                                                                                                                  1\n",
       "[{'kind': 'Бакалавр', 'period': '2000', 'university': 'Казанский национальный исследовательский технический университет им. А.Н. Туполева (КАИ).', 'faculty': 'Бизнеса и инновационных технологий.', 'specialty': 'Экономика и управление на предприятиях.'}, {'kind': 'Высшее образование', 'period': '1999', 'university': 'Казанский национальный исследовательский технический университет им. А.Н. Туполева (КАИ).', 'faculty': 'Технической кибернетики и информатики.', 'specialty': 'Вычислительные машины, комплексы, системы и сети.'}]                                                                                                                                                                                                                                                                                                                    1\n",
       "[{'kind': 'Высшее образование', 'form': 'Дневная/Очная', 'period': '2005', 'university': 'Калмыцкий государственный университет', 'faculty': 'Математики и физики', 'specialty': 'Математика'}]                                                                                                                                                                                                                                                                                                                                                                                                                                                                                                                                                                                                                                                                      1\n",
       "[{'kind': 'Высшее образование', 'form': 'Дневная/Очная', 'period': '2012', 'university': 'ШФ ЮРГИ', 'faculty': 'Экономики и управления', 'specialty': 'Прикладная информатика в экономике'}]                                                                                                                                                                                                                                                                                                                                                                                                                                                                                                                                                                                                                                                                         1\n",
       "[{'kind': 'Среднее специальное образование', 'form': 'Дневная/Очная', 'period': '2001', 'university': 'Лианозовский радио-технический техникум', 'specialty': 'Техник радиоаппарата строения'}]                                                                                                                                                                                                                                                                                                                                                                                                                                                                                                                                                                                                                                                                      1\n",
       "[{'kind': 'Высшее образование', 'form': 'Дневная/Очная', 'period': '2009', 'university': 'Московский городской институт менеджмента', 'faculty': 'Управления', 'specialty': 'Менеджмент организации'}, {'kind': 'Среднее специальное образование', 'form': 'Дневная/Очная', 'period': '2006', 'university': 'ЕАТК ГА им. В.П.Чкалова', 'specialty': 'Техник'}]                                                                                                                                                                                                                                                                                                                                                                                                                                                                                                       1\n",
       "[{'kind': 'Бакалавр', 'form': 'Дневная/Очная', 'period': '1999', 'university': 'Повышении квалификации Школа Менеджеров Арсенал', 'faculty': 'Курс менеджер по продажам', 'specialty': 'Менеджер'}, {'kind': 'Среднее специальное образование', 'form': 'Дневная/Очная', 'period': '1999', 'university': 'Центр компьютерного обучения УНЦ НПФ Мастак при МГТУ Н Э Баумана', 'specialty': 'Техническое обслуживание и ремонт персональных ЭВМ типа IBM PC'}, {'kind': 'Среднее специальное образование', 'form': 'Дневная/Очная', 'period': '1992', 'university': 'Московская Школа Радиоэлектроники  1991-1992', 'specialty': 'Радимеханик'}, {'kind': 'Неполное высшее образование', 'form': 'Дневная/Очная', 'period': '1986', 'university': 'Карагандинский горный институт специальность СПСИШ 1982-1986', 'faculty': 'Горное дело', 'specialty': 'СПСИШ'}]     1\n",
       "[{'kind': 'Высшее образование', 'form': 'Дистанционная', 'period': '2019', 'university': 'Тюменский государственный нефтегазовый университет', 'faculty': 'Управление в технических системах', 'specialty': 'Инженер'}, {'kind': 'Высшее образование', 'form': 'Дневная/Очная', 'period': '2002', 'university': 'Омский государственный университет имени Ф.М.Достоевского', 'faculty': 'Исторический', 'specialty': 'Историк-преподаватель'}]                                                                                                                                                                                                                                                                                                                                                                                                                       1\n",
       "[{'kind': 'Высшее образование', 'form': 'Очно-заочная', 'period': '2009', 'university': 'Тобольская государственная социально-педагогическая академия им. Д.И. Менделеева', 'faculty': 'Информатика', 'specialty': 'Информационные системы в бухгалтерии и аудите'}, {'kind': 'Среднее специальное образование', 'form': 'Очно-заочная', 'period': '2005', 'university': 'Тюменский государственный колледж профессионально-педагогических технологий', 'faculty': 'Вычислительной техники и информационных технологий', 'specialty': 'Автоматизированные системы обработки информации и управления (промышленность)'}]                                                                                                                                                                                                                                              1\n",
       "[{'kind': 'Среднее специальное образование', 'form': 'Дневная/Очная', 'period': '2014', 'university': 'ГАОУ СПО Ишимбайский нефтяной колледж', 'specialty': 'Автоматизированная система управления и обработки информации'}]                                                                                                                                                                                                                                                                                                                                                                                                                                                                                                                                                                                                                                         1\n",
       "[{'kind': 'Неполное высшее образование', 'form': 'Дистанционная', 'period': '2018', 'university': 'Московский технологический институт «ВТУ»', 'faculty': 'Гражданское строительство', 'specialty': 'Гражданское строительство'}]                                                                                                                                                                                                                                                                                                                                                                                                                                                                                                                                                                                                                                    1\n",
       "[{'kind': 'Среднее специальное образование', 'form': 'Очно-заочная', 'period': '2016', 'university': 'АНО ДПО \"Центр профессионального образования\"', 'specialty': 'Устройство и безопасная эксплуатация паровых и водогрейных котлов, Оператор котельной 4 разряд'}, {'kind': 'Среднее специальное образование', 'form': 'Очно-заочная', 'period': '2008', 'university': 'ГОУ СПО \"Забайкальский горный колледж имени М.И. Агошкова\"', 'specialty': 'Программное обеспечение вычислительной техники и автоматизированных систем, Техник'}]                                                                                                                                                                                                                                                                                                                          1\n",
       "[{'kind': 'Неполное высшее образование', 'form': 'Дневная/Очная', 'period': '2014', 'university': '(СПб ГУАП) Санкт-Петербургский государственный университет аэрокосмического приборостроения', 'faculty': 'Вычислительной техники и программирования', 'specialty': 'Вычислительные машины и информационные технологии'}]                                                                                                                                                                                                                                                                                                                                                                                                                                                                                                                                          1\n",
       "[{'kind': 'Среднее специальное образование', 'form': 'Дневная/Очная', 'university': 'Орский политехнический колледж Оренбургского государственного университета', 'specialty': 'Техник-электромеханик (наладка станков с ЧПУ)'}]                                                                                                                                                                                                                                                                                                                                                                                                                                                                                                                                                                                                                                     1\n",
       "[{'kind': 'Высшее образование', 'form': 'Дневная/Очная', 'period': '1997', 'university': 'Поволжский Институт Информатики Радио и Связи', 'faculty': 'Автоматическая ЭлектроСвязь', 'specialty': 'Инженер Систем Связи и Систем Коммутации'}]                                                                                                                                                                                                                                                                                                                                                                                                                                                                                                                                                                                                                        1\n",
       "Name: education, Length: 1878, dtype: int64"
      ]
     },
     "execution_count": 40,
     "metadata": {},
     "output_type": "execute_result"
    }
   ],
   "source": [
    "df.education.value_counts(dropna=False)"
   ]
  },
  {
   "cell_type": "markdown",
   "metadata": {},
   "source": [
    "## Тяжело\n",
    "нашлись уникумумы с 4 образованиями"
   ]
  },
  {
   "cell_type": "code",
   "execution_count": 41,
   "metadata": {},
   "outputs": [],
   "source": [
    "A=set()"
   ]
  },
  {
   "cell_type": "code",
   "execution_count": 42,
   "metadata": {
    "scrolled": false
   },
   "outputs": [
    {
     "name": "stdout",
     "output_type": "stream",
     "text": [
      "[{'kind': 'Высшее образование', 'form': 'Очно-заочная', 'period': '2008', 'university': 'Международная промышленная академия', 'faculty': 'Промышленная безопасность и охрана труда на предприятиях агропромышленного комплекса', 'specialty': 'Инженер по промышленной безопасности и охране труда'}, {'kind': 'Среднее специальное образование', 'form': 'Дневная/Очная', 'period': '1989', 'university': 'Вооружённые силы СССР', 'specialty': 'Сержант, командир отделения'}, {'kind': 'Среднее специальное образование', 'form': 'Дневная/Очная', 'period': '1987', 'university': 'Московский Политехникум Министерства Заготовок РСФСР', 'specialty': 'Техник-механик'}, {'kind': 'Учащийся школы'}]\n",
      "[{'kind': 'Бакалавр', 'form': 'Заочная', 'period': '2020', 'university': 'Международный Университет в Москве', 'faculty': 'Предпринимательство в Культуре', 'specialty': 'Связи с общественностью и реклама'}, {'kind': 'Неполное высшее образование', 'form': 'Заочная', 'period': '2007', 'university': 'Международный Университет в Москве', 'faculty': 'Предпринимательство в Культуре', 'specialty': 'Менеджмент организации'}, {'kind': 'Среднее специальное образование', 'form': 'Дневная/Очная', 'period': '1999', 'university': 'ПУ№64', 'specialty': 'Мастер столярно-плотничных и паркетных работ, 3 разряд'}, {'kind': 'Учащийся школы'}]\n",
      "[{'kind': 'Высшее образование', 'form': 'Дневная/Очная', 'period': '2010', 'university': 'Московский государственный технический университет гражданской авиации', 'faculty': 'Прикладной математики и вычислительной техники', 'specialty': 'Инженер системотехник'}, {'kind': 'Учащийся школы', 'university': 'Московский государственный технический университет гражданской авиации'}]\n",
      "[{'kind': 'Высшее образование', 'form': 'Заочная', 'period': '2011', 'university': 'Академия маркетинга и социально-информационных технологий', 'faculty': 'Программное Обеспечение Вычислительной Техники и Автоматизированных Систем', 'specialty': 'Инженер'}, {'kind': 'Среднее специальное образование', 'form': 'Дневная/Очная', 'period': '2007', 'university': 'Колледж «Бизнес и Право»', 'specialty': 'Программист-техник'}, {'kind': 'Учащийся школы'}]\n"
     ]
    }
   ],
   "source": [
    "A=set()\n",
    "for x in df.education.values:\n",
    "    if type(x)==float:\n",
    "        A.add(\"Пусто\")\n",
    "    else:\n",
    "        for ed in eval(x):\n",
    "            if ed['kind']=='Учащийся школы':\n",
    "                print(x)\n",
    "            A.add(ed['kind'])"
   ]
  },
  {
   "cell_type": "code",
   "execution_count": 43,
   "metadata": {},
   "outputs": [
    {
     "data": {
      "text/plain": [
       "{'Бакалавр',\n",
       " 'Высшее образование',\n",
       " 'Кандидат наук',\n",
       " 'Магистр',\n",
       " 'Неполное высшее образование',\n",
       " 'Пусто',\n",
       " 'Среднее образование',\n",
       " 'Среднее специальное образование',\n",
       " 'Учащийся школы'}"
      ]
     },
     "execution_count": 43,
     "metadata": {},
     "output_type": "execute_result"
    }
   ],
   "source": [
    "A"
   ]
  },
  {
   "cell_type": "code",
   "execution_count": 44,
   "metadata": {},
   "outputs": [
    {
     "data": {
      "text/plain": [
       "NaN                                                                                                                                                                                                                                                                                                                                                                                                                                                                                                                                                                                                                                                                                                                                                                                                                                                                 43\n",
       "[{'kind': 'Среднее образование'}]                                                                                                                                                                                                                                                                                                                                                                                                                                                                                                                                                                                                                                                                                                                                                                                                                                   21\n",
       "[{'kind': 'Высшее образование', 'form': 'Дневная/Очная', 'period': '1985', 'university': 'Харьковское высшее военное авиационное училище радиоэлектроники', 'faculty': 'Командный', 'specialty': 'Командно-тактическая радиосвязь'}]                                                                                                                                                                                                                                                                                                                                                                                                                                                                                                                                                                                                                                 6\n",
       "[{'kind': 'Высшее образование', 'form': 'Дневная/Очная', 'period': '1994', 'university': 'Московский государственный технический университет имени Н.Э.Баумана', 'faculty': 'Информатика и управление', 'specialty': 'Инженер-системотехник'}]                                                                                                                                                                                                                                                                                                                                                                                                                                                                                                                                                                                                                       4\n",
       "[{'kind': 'Магистр', 'form': 'Заочная', 'period': '2018', 'university': 'Ростовский государственный экономический университет \"РИНХ\"', 'faculty': 'Факультет менеджмента и предпринимательства', 'specialty': 'Государственное и муниципальное управление'}, {'kind': 'Высшее образование', 'form': 'Заочная', 'period': '2009', 'university': 'Ростовский филиал Московского государственного университета технологий и управления', 'faculty': 'Технологический Менеджмент', 'specialty': 'Технолог инженер пивоваренной и безалкогольной промышленности'}]                                                                                                                                                                                                                                                                                                        4\n",
       "[{'kind': 'Среднее специальное образование'}]                                                                                                                                                                                                                                                                                                                                                                                                                                                                                                                                                                                                                                                                                                                                                                                                                        4\n",
       "[{'kind': 'Высшее образование', 'form': 'Заочная', 'period': '2005', 'university': 'Международная Академия Биржевой Торговли'}, {'kind': 'Высшее образование', 'period': '2003', 'university': 'Санкт-Петербургский государственный университет телекоммуникаций им.проф.М.А.Бонч-Бруевича', 'specialty': 'Автоматизация технологических процессов и производств.'}]                                                                                                                                                                                                                                                                                                                                                                                                                                                                                                 4\n",
       "[{'kind': 'Высшее образование', 'form': 'Очно-заочная', 'period': '2011', 'university': 'Российский университет кооперации', 'faculty': 'Финансы и кредит', 'specialty': 'Экономист'}, {'kind': 'Высшее образование', 'form': 'Дневная/Очная', 'period': '1998', 'university': 'Ульяновское высшее военное инженерное училище связи', 'faculty': 'Многоканальная электросвязь', 'specialty': 'Инженер'}]                                                                                                                                                                                                                                                                                                                                                                                                                                                             3\n",
       "[{'kind': 'Высшее образование', 'form': 'Вечерняя', 'period': '1989', 'university': 'Московский государственный университет им. М.В. Ломоносова', 'faculty': 'ВМиК Красный диплом', 'specialty': 'Прикладная математика; специализация АСУ'}, {'kind': 'Высшее образование', 'form': 'Дневная/Очная', 'period': '1985', 'university': 'Московский государственный технический университет имени Н.Э.Баумана', 'faculty': 'Автоматизация и механизация производства', 'specialty': 'Технология машиностроения'}]                                                                                                                                                                                                                                                                                                                                                      3\n",
       "[{'kind': 'Высшее образование', 'form': 'Дневная/Очная', 'period': '2000', 'university': 'Омский государственный технический университет', 'faculty': 'Аэро-Космический Факультет', 'specialty': 'Ракетостроение'}]                                                                                                                                                                                                                                                                                                                                                                                                                                                                                                                                                                                                                                                  3\n",
       "[{'kind': 'Высшее образование', 'form': 'Дневная/Очная', 'period': '1987', 'university': 'МИРЭА Московский институт радиотехники, электроники и автоматики', 'faculty': 'РТС факультет радиотехнических систем', 'specialty': 'Конструирование и производство радиоэлектронной аппаратуры'}]                                                                                                                                                                                                                                                                                                                                                                                                                                                                                                                                                                         3\n",
       "[{'kind': 'Высшее образование', 'form': 'Очно-заочная', 'period': '2010', 'university': 'Национальный исследовательский университет \"МИЭТ\"', 'faculty': 'Вычислительные комплексы системы и сети, Инженер', 'specialty': 'Инженер'}, {'kind': 'Высшее образование', 'form': 'Очно-заочная', 'period': '2008', 'university': 'Национальный исследовательский университет \"МИЭТ\"', 'faculty': 'Программное обеспечение информационных технологий', 'specialty': 'Инженер программист'}, {'kind': 'Среднее специальное образование', 'form': 'Дневная/Очная', 'period': '2001', 'university': 'Гомельский машиностроительный техникум', 'specialty': 'Техник программист'}]                                                                                                                                                                                             3\n",
       "[{'kind': 'Магистр', 'form': 'Дневная/Очная', 'period': '2018', 'university': 'Санкт-Петербургский государственный морской технический университет', 'faculty': 'Морского приборостроения', 'specialty': 'Информатика и вычислительная техника (магистр техники и технологии)'}, {'kind': 'Бакалавр', 'form': 'Дневная/Очная', 'period': '2016', 'university': 'Санкт-Петербургский государственный морской технический университет', 'faculty': 'Морского приборостроения', 'specialty': 'Информатика и вычислительная техника (бакалавр техники и технологии)'}]                                                                                                                                                                                                                                                                                                   3\n",
       "[{'kind': 'Бакалавр', 'form': 'Вечерняя', 'period': '2015', 'university': 'Московский инженерно-физический институт, Москва', 'faculty': 'Вечерний', 'specialty': 'Вечерний, Вычислительные машины, комплексы, системы и сети'}, {'kind': 'Среднее специальное образование', 'form': 'Дневная/Очная', 'period': '2012', 'university': 'ФГОУ СПО \"МТК\"', 'specialty': 'Вечерний, Вычислительные машины, комплексы, системы и сети'}]                                                                                                                                                                                                                                                                                                                                                                                                                                  3\n",
       "[{'kind': 'Высшее образование', 'form': 'Дневная/Очная', 'period': '2009', 'university': 'НИТУ Московский Институт Стали и Сплавов', 'faculty': 'Полупроводниковая электроника и физика полупроводников', 'specialty': 'Инженер по специальности \"Микроэлектроника и твердотельная электроника\"'}, {'kind': 'Среднее специальное образование', 'form': 'Дневная/Очная', 'period': '2004', 'university': 'Московский технический колледж', 'specialty': 'Радиоаппаратостроение'}]                                                                                                                                                                                                                                                                                                                                                                                     3\n",
       "[{'kind': 'Высшее образование', 'form': 'Дневная/Очная', 'period': '2004', 'university': 'Национальный исследовательский Иркутский государственный технический университет', 'faculty': 'Факультет кибернетики', 'specialty': 'Автоматизированные системы обработки информации и управления'}]                                                                                                                                                                                                                                                                                                                                                                                                                                                                                                                                                                       3\n",
       "[{'kind': 'Высшее образование', 'form': 'Заочная', 'period': '2005', 'university': 'Оренбургский государственный университет', 'faculty': 'Факультет информационных технологий', 'specialty': 'Инженер-программист'}, {'kind': 'Высшее образование', 'form': 'Дневная/Очная', 'period': '1996', 'university': 'Оренбургский государственный педагогический университет', 'faculty': 'Естественно-географический факультет', 'specialty': 'Учитель биологии и химии (диплом с отличием)'}, {'kind': 'Среднее специальное образование', 'form': 'Дневная/Очная', 'period': '1991', 'university': 'Средняя школа №57 (с серебряной медалью)', 'specialty': 'С серебряной медалью'}]                                                                                                                                                                                     3\n",
       "[{'kind': 'Высшее образование', 'form': 'Дневная/Очная', 'period': '2009', 'university': 'ТЭАКТ (Технико Экономическая Академия Кино и Телевидения)', 'faculty': 'Вычислительная техника и программное обеспечение', 'specialty': 'Инженер программист'}]                                                                                                                                                                                                                                                                                                                                                                                                                                                                                                                                                                                                            2\n",
       "[{'kind': 'Неполное высшее образование', 'period': '2008', 'university': 'Российский новый университет', 'faculty': 'ИСиКТ'}, {'kind': 'Среднее специальное образование', 'form': 'Дневная/Очная', 'period': '2004', 'university': 'МПТ', 'specialty': 'Техник-программист'}]                                                                                                                                                                                                                                                                                                                                                                                                                                                                                                                                                                                        2\n",
       "[{'kind': 'Высшее образование', 'period': '1998'}]                                                                                                                                                                                                                                                                                                                                                                                                                                                                                                                                                                                                                                                                                                                                                                                                                   2\n",
       "[{'kind': 'Высшее образование', 'form': 'Дневная/Очная', 'period': '2012', 'university': 'Башкирский государственный аграрный университет', 'faculty': 'Экономика и управления', 'specialty': 'Экономист'}]                                                                                                                                                                                                                                                                                                                                                                                                                                                                                                                                                                                                                                                          2\n",
       "[{'kind': 'Высшее образование', 'form': 'Вечерняя', 'period': '1995', 'university': 'Московский технологический университет', 'faculty': 'Проектирование и техноология радиоэлектронных средств', 'specialty': 'Инженер-электрик'}]                                                                                                                                                                                                                                                                                                                                                                                                                                                                                                                                                                                                                                  2\n",
       "[{'kind': 'Высшее образование', 'period': '2005', 'university': 'Московский технологический университет', 'faculty': 'Персональная электроника', 'specialty': 'Конструктор РЭС'}]                                                                                                                                                                                                                                                                                                                                                                                                                                                                                                                                                                                                                                                                                    2\n",
       "[{'kind': 'Высшее образование', 'form': 'Дневная/Очная', 'period': '2004', 'university': 'Московский государственный технический университет имени Н.Э.Баумана', 'faculty': 'Энергомашиностроение', 'specialty': 'Инженер по плазменному оборудованию'}]                                                                                                                                                                                                                                                                                                                                                                                                                                                                                                                                                                                                             2\n",
       "[{'kind': 'Высшее образование', 'form': 'Дневная/Очная', 'period': '1992', 'university': 'Кишиневский Политехнический институт им. С.Лазо', 'faculty': 'Электрофизический факультет, кафедра автоматики и телемеханики', 'specialty': 'Инженер системотехники'}]                                                                                                                                                                                                                                                                                                                                                                                                                                                                                                                                                                                                     2\n",
       "[{'kind': 'Высшее образование', 'period': '2015', 'university': 'Институт Менеджмента, Экономики и Инноваций', 'faculty': 'Прикладной информатики', 'specialty': 'Прикладная информатика (в экономике)'}, {'kind': 'Среднее специальное образование', 'period': '1995', 'university': 'СПТУ №22', 'specialty': 'Электромонтер широкого профиля'}]                                                                                                                                                                                                                                                                                                                                                                                                                                                                                                                    2\n",
       "[{'kind': 'Высшее образование', 'form': 'Дневная/Очная', 'period': '2001', 'university': 'военный инженерно-космический университет', 'specialty': 'Математическое и программное обеспечение систем автоматизированного управления'}, {'kind': 'Среднее специальное образование', 'form': 'Дневная/Очная', 'period': '1996', 'university': 'Ухтинский горно-нефтяной колледж', 'specialty': 'Монтаж, эксплуатация и ремонт электрооборудования промышленных предприятий и гражданских зданий'}]                                                                                                                                                                                                                                                                                                                                                                      2\n",
       "[{'kind': 'Высшее образование', 'period': '1999', 'university': 'Московский государственный индустриальный университет', 'faculty': 'Автоматика и вычислительная техника', 'specialty': 'Инженер по автоматизации технологических процессов'}]                                                                                                                                                                                                                                                                                                                                                                                                                                                                                                                                                                                                                       2\n",
       "[{'kind': 'Высшее образование', 'form': 'Дневная/Очная', 'period': '1991', 'university': 'Ленинградский Политехнический Институт,  факультет  радиофизики', 'faculty': 'Радиофизический', 'specialty': 'Радиофизик'}]                                                                                                                                                                                                                                                                                                                                                                                                                                                                                                                                                                                                                                                2\n",
       "[{'kind': 'Высшее образование', 'form': 'Дневная/Очная', 'period': '1978', 'university': 'Ленинградский Технологический Институт', 'faculty': 'Автоматизация Технологических Процессов', 'specialty': 'Технолог по автоматизации технологических процессов'}]                                                                                                                                                                                                                                                                                                                                                                                                                                                                                                                                                                                                        2\n",
       "                                                                                                                                                                                                                                                                                                                                                                                                                                                                                                                                                                                                                                                                                                                                                                                                                                                                    ..\n",
       "[{'kind': 'Высшее образование', 'form': 'Заочная', 'period': '2016', 'university': 'Оренбургский государственный университет', 'faculty': 'Информационных технологий', 'specialty': 'Программная инженерия'}, {'kind': 'Среднее специальное образование', 'form': 'Дневная/Очная', 'period': '2011', 'university': 'Салаватский индустриальные колледж', 'specialty': 'Техник-программист'}]                                                                                                                                                                                                                                                                                                                                                                                                                                                                         1\n",
       "[{'kind': 'Высшее образование', 'form': 'Очно-заочная', 'period': '2020', 'university': 'ФГУП \"ЦНИИчермет им. И.П.Бардина\"', 'faculty': 'Металлургия черных, цветных и редких металлов', 'specialty': 'Кандидат технических наук'}, {'kind': 'Магистр', 'form': 'Дневная/Очная', 'period': '2007', 'university': '(ЛГТУ) Липецкий государственный технический университет', 'faculty': 'Металлургический институт', 'specialty': 'Информатика и предпринимательство в металлургии'}, {'kind': 'Бакалавр', 'form': 'Дневная/Очная', 'period': '2005', 'university': '(ЛГТУ) Липецкий государственный технический университет', 'faculty': 'Металлургический институт', 'specialty': 'Техники и технологии по направлению металлургия'}]                                                                                                                               1\n",
       "[{'kind': 'Высшее образование', 'form': 'Очно-заочная', 'period': '2016', 'university': 'Негосударственное образовательное учреждение дополнительного профессионального образования \"Центр повышения квалификации специалистов по технической защите информации\" при ФАУ \"Государственный научно-исследовательский испытательный институт проблем технич', 'faculty': 'Информационная безопасность', 'specialty': 'Информационная безопасность, Комплексная защита объектов информатизации (530 часов)'}, {'kind': 'Высшее образование', 'form': 'Дневная/Очная', 'period': '1990', 'university': 'Петрозаводский государственный университет, Петрозаводск', 'faculty': 'Физический факультет', 'specialty': 'Инженер Физик'}]                                                                                                                                      1\n",
       "[{'kind': 'Высшее образование', 'form': 'Очно-заочная', 'period': '2001', 'university': 'Аспирантура при Институте Проблем Информатики РАН', 'faculty': 'Вычислительные машины, системы и сети', 'specialty': 'Вычислительные машины, системы и сети'}, {'kind': 'Высшее образование', 'form': 'Вечерняя', 'period': '1991', 'university': 'Московский авиационный институт (Национальный исследовательский университет)', 'faculty': 'Радиотехника', 'specialty': 'Радиоинженер'}]                                                                                                                                                                                                                                                                                                                                                                                  1\n",
       "[{'kind': 'Высшее образование', 'form': 'Заочная', 'period': '2012', 'university': 'Региональный финансово-экономический институт, Курск', 'faculty': 'Экономический', 'specialty': 'Менеджмент организации'}]                                                                                                                                                                                                                                                                                                                                                                                                                                                                                                                                                                                                                                                       1\n",
       "[{'kind': 'Высшее образование', 'form': 'Дневная/Очная', 'period': '2006', 'university': 'Алтайский государственный университет', 'faculty': 'Физико-технический', 'specialty': 'Экспериментальная Физика'}]                                                                                                                                                                                                                                                                                                                                                                                                                                                                                                                                                                                                                                                         1\n",
       "[{'kind': 'Высшее образование', 'form': 'Дневная/Очная', 'period': '1996', 'university': 'Московский технологический университет', 'faculty': 'Кибернетики', 'specialty': 'Инженер-системотехник'}]                                                                                                                                                                                                                                                                                                                                                                                                                                                                                                                                                                                                                                                                  1\n",
       "[{'kind': 'Высшее образование', 'form': 'Заочная', 'period': '2008', 'university': 'Воронежский экономико-правовой институт', 'faculty': 'Юридический', 'specialty': 'Юрист'}, {'kind': 'Высшее образование', 'form': 'Дневная/Очная', 'period': '2001', 'university': 'Воронежский кооперативный институт (Филиал) Белгородского университета потребительской кооперации', 'faculty': 'Юридический', 'specialty': 'Юрист'}]                                                                                                                                                                                                                                                                                                                                                                                                                                         1\n",
       "[{'kind': 'Среднее специальное образование', 'form': 'Дневная/Очная', 'period': '2014', 'university': 'Институт береговой охраны Федеральной службы безопасности Российской Федерации', 'specialty': 'Информационные системы по отраслям'}]                                                                                                                                                                                                                                                                                                                                                                                                                                                                                                                                                                                                                          1\n",
       "[{'kind': 'Высшее образование', 'form': 'Дневная/Очная', 'period': '1973', 'university': 'Днепропетровский национальный университет имени Олеся Гончара', 'faculty': 'Механико-математический', 'specialty': 'Гидроаэромеханика'}]                                                                                                                                                                                                                                                                                                                                                                                                                                                                                                                                                                                                                                   1\n",
       "[{'kind': 'Высшее образование', 'form': 'Дневная/Очная', 'period': '1983', 'university': 'Пятигорский государственный лингвистический университет', 'faculty': 'Немецкого языка', 'specialty': 'Немецкий Английский языки'}]                                                                                                                                                                                                                                                                                                                                                                                                                                                                                                                                                                                                                                         1\n",
       "[{'kind': 'Магистр', 'form': 'Дневная/Очная', 'period': '2018', 'university': '(КубГУ) Кубанский государственный университет', 'faculty': 'Математики и компьютерных наук', 'specialty': 'Математическое моделирование'}, {'kind': 'Бакалавр', 'form': 'Дневная/Очная', 'period': '2016', 'university': 'Кубанский государственный университет', 'faculty': 'Математики и компьютерных наук', 'specialty': 'Математика и компьютерные науки'}, {'kind': 'Среднее образование'}]                                                                                                                                                                                                                                                                                                                                                                                      1\n",
       "[{'kind': 'Высшее образование', 'form': 'Заочная', 'period': '2018', 'university': 'Ангарская государственная техническая академия', 'faculty': 'Технической кибернетики', 'specialty': 'ИНФОРМАТИКА И ВЫЧИСЛИТЕЛЬНАЯ ТЕХНИКА'}, {'kind': 'Среднее специальное образование', 'form': 'Очно-заочная', 'period': '2011', 'university': 'Иркутский энергетический колледж', 'specialty': 'Техническое обслуживание средств вычислительной техники и компьютерных сетей'}]                                                                                                                                                                                                                                                                                                                                                                                               1\n",
       "[{'kind': 'Высшее образование', 'form': 'Дневная/Очная', 'period': '2005', 'university': 'Тульский государственный университет', 'faculty': 'Механико-математический', 'specialty': 'Математика'}]                                                                                                                                                                                                                                                                                                                                                                                                                                                                                                                                                                                                                                                                   1\n",
       "[{'kind': 'Магистр', 'form': 'Дневная/Очная', 'period': '2014', 'university': 'Сибирский государственный аэрокосмический университет имени академика М. Ф. Решетнёва г. Красноярск', 'faculty': 'Институт информатики и телекоммуникаций', 'specialty': 'Информационные системы и технологии'}, {'kind': 'Высшее образование', 'form': 'Дневная/Очная', 'period': '1988', 'university': 'Красноярский политехнический институт г. Красноярск', 'faculty': 'Теплоэнергетический факультет', 'specialty': 'Инженер-промтеплоэнергетик'}]                                                                                                                                                                                                                                                                                                                               1\n",
       "[{'kind': 'Высшее образование', 'form': 'Вечерняя', 'period': '2008', 'university': 'Северо-Западный институт печати СПБ Государственного Университета Технологии и дизайна', 'faculty': 'Издательского дела, рекламы и книжной торговли', 'specialty': 'Реклама'}]                                                                                                                                                                                                                                                                                                                                                                                                                                                                                                                                                                                                  1\n",
       "[{'kind': 'Бакалавр', 'period': '2000', 'university': 'Казанский национальный исследовательский технический университет им. А.Н. Туполева (КАИ).', 'faculty': 'Бизнеса и инновационных технологий.', 'specialty': 'Экономика и управление на предприятиях.'}, {'kind': 'Высшее образование', 'period': '1999', 'university': 'Казанский национальный исследовательский технический университет им. А.Н. Туполева (КАИ).', 'faculty': 'Технической кибернетики и информатики.', 'specialty': 'Вычислительные машины, комплексы, системы и сети.'}]                                                                                                                                                                                                                                                                                                                    1\n",
       "[{'kind': 'Высшее образование', 'form': 'Дневная/Очная', 'period': '2005', 'university': 'Калмыцкий государственный университет', 'faculty': 'Математики и физики', 'specialty': 'Математика'}]                                                                                                                                                                                                                                                                                                                                                                                                                                                                                                                                                                                                                                                                      1\n",
       "[{'kind': 'Высшее образование', 'form': 'Дневная/Очная', 'period': '2012', 'university': 'ШФ ЮРГИ', 'faculty': 'Экономики и управления', 'specialty': 'Прикладная информатика в экономике'}]                                                                                                                                                                                                                                                                                                                                                                                                                                                                                                                                                                                                                                                                         1\n",
       "[{'kind': 'Среднее специальное образование', 'form': 'Дневная/Очная', 'period': '2001', 'university': 'Лианозовский радио-технический техникум', 'specialty': 'Техник радиоаппарата строения'}]                                                                                                                                                                                                                                                                                                                                                                                                                                                                                                                                                                                                                                                                      1\n",
       "[{'kind': 'Высшее образование', 'form': 'Дневная/Очная', 'period': '2009', 'university': 'Московский городской институт менеджмента', 'faculty': 'Управления', 'specialty': 'Менеджмент организации'}, {'kind': 'Среднее специальное образование', 'form': 'Дневная/Очная', 'period': '2006', 'university': 'ЕАТК ГА им. В.П.Чкалова', 'specialty': 'Техник'}]                                                                                                                                                                                                                                                                                                                                                                                                                                                                                                       1\n",
       "[{'kind': 'Бакалавр', 'form': 'Дневная/Очная', 'period': '1999', 'university': 'Повышении квалификации Школа Менеджеров Арсенал', 'faculty': 'Курс менеджер по продажам', 'specialty': 'Менеджер'}, {'kind': 'Среднее специальное образование', 'form': 'Дневная/Очная', 'period': '1999', 'university': 'Центр компьютерного обучения УНЦ НПФ Мастак при МГТУ Н Э Баумана', 'specialty': 'Техническое обслуживание и ремонт персональных ЭВМ типа IBM PC'}, {'kind': 'Среднее специальное образование', 'form': 'Дневная/Очная', 'period': '1992', 'university': 'Московская Школа Радиоэлектроники  1991-1992', 'specialty': 'Радимеханик'}, {'kind': 'Неполное высшее образование', 'form': 'Дневная/Очная', 'period': '1986', 'university': 'Карагандинский горный институт специальность СПСИШ 1982-1986', 'faculty': 'Горное дело', 'specialty': 'СПСИШ'}]     1\n",
       "[{'kind': 'Высшее образование', 'form': 'Дистанционная', 'period': '2019', 'university': 'Тюменский государственный нефтегазовый университет', 'faculty': 'Управление в технических системах', 'specialty': 'Инженер'}, {'kind': 'Высшее образование', 'form': 'Дневная/Очная', 'period': '2002', 'university': 'Омский государственный университет имени Ф.М.Достоевского', 'faculty': 'Исторический', 'specialty': 'Историк-преподаватель'}]                                                                                                                                                                                                                                                                                                                                                                                                                       1\n",
       "[{'kind': 'Высшее образование', 'form': 'Очно-заочная', 'period': '2009', 'university': 'Тобольская государственная социально-педагогическая академия им. Д.И. Менделеева', 'faculty': 'Информатика', 'specialty': 'Информационные системы в бухгалтерии и аудите'}, {'kind': 'Среднее специальное образование', 'form': 'Очно-заочная', 'period': '2005', 'university': 'Тюменский государственный колледж профессионально-педагогических технологий', 'faculty': 'Вычислительной техники и информационных технологий', 'specialty': 'Автоматизированные системы обработки информации и управления (промышленность)'}]                                                                                                                                                                                                                                              1\n",
       "[{'kind': 'Среднее специальное образование', 'form': 'Дневная/Очная', 'period': '2014', 'university': 'ГАОУ СПО Ишимбайский нефтяной колледж', 'specialty': 'Автоматизированная система управления и обработки информации'}]                                                                                                                                                                                                                                                                                                                                                                                                                                                                                                                                                                                                                                         1\n",
       "[{'kind': 'Неполное высшее образование', 'form': 'Дистанционная', 'period': '2018', 'university': 'Московский технологический институт «ВТУ»', 'faculty': 'Гражданское строительство', 'specialty': 'Гражданское строительство'}]                                                                                                                                                                                                                                                                                                                                                                                                                                                                                                                                                                                                                                    1\n",
       "[{'kind': 'Среднее специальное образование', 'form': 'Очно-заочная', 'period': '2016', 'university': 'АНО ДПО \"Центр профессионального образования\"', 'specialty': 'Устройство и безопасная эксплуатация паровых и водогрейных котлов, Оператор котельной 4 разряд'}, {'kind': 'Среднее специальное образование', 'form': 'Очно-заочная', 'period': '2008', 'university': 'ГОУ СПО \"Забайкальский горный колледж имени М.И. Агошкова\"', 'specialty': 'Программное обеспечение вычислительной техники и автоматизированных систем, Техник'}]                                                                                                                                                                                                                                                                                                                          1\n",
       "[{'kind': 'Неполное высшее образование', 'form': 'Дневная/Очная', 'period': '2014', 'university': '(СПб ГУАП) Санкт-Петербургский государственный университет аэрокосмического приборостроения', 'faculty': 'Вычислительной техники и программирования', 'specialty': 'Вычислительные машины и информационные технологии'}]                                                                                                                                                                                                                                                                                                                                                                                                                                                                                                                                          1\n",
       "[{'kind': 'Среднее специальное образование', 'form': 'Дневная/Очная', 'university': 'Орский политехнический колледж Оренбургского государственного университета', 'specialty': 'Техник-электромеханик (наладка станков с ЧПУ)'}]                                                                                                                                                                                                                                                                                                                                                                                                                                                                                                                                                                                                                                     1\n",
       "[{'kind': 'Высшее образование', 'form': 'Дневная/Очная', 'period': '1997', 'university': 'Поволжский Институт Информатики Радио и Связи', 'faculty': 'Автоматическая ЭлектроСвязь', 'specialty': 'Инженер Систем Связи и Систем Коммутации'}]                                                                                                                                                                                                                                                                                                                                                                                                                                                                                                                                                                                                                        1\n",
       "Name: education, Length: 1878, dtype: int64"
      ]
     },
     "execution_count": 44,
     "metadata": {},
     "output_type": "execute_result"
    }
   ],
   "source": [
    "df.education.value_counts(dropna=False)"
   ]
  },
  {
   "cell_type": "markdown",
   "metadata": {},
   "source": [
    "Просто интересно."
   ]
  },
  {
   "cell_type": "markdown",
   "metadata": {},
   "source": [
    "def returner_because_i_am_not_clever(x):\n",
    "    if type(x)==float:\n",
    "        return \"пусто\"\n",
    "    if len(eval(x))==4:\n",
    "        #print (x)\n",
    "        print (\"^^^^^^^^^^\n",
    "    \n",
    "    return eval()\n",
    "set([returner_because_i_am_not_clever(x) for x in df.education.values])"
   ]
  },
  {
   "cell_type": "code",
   "execution_count": 45,
   "metadata": {},
   "outputs": [],
   "source": [
    "#df = df[df.education.isna() == False]\n",
    "df = df.dropna(subset=['education'])"
   ]
  },
  {
   "cell_type": "markdown",
   "metadata": {},
   "source": [
    "Выкидываем незаполненные. Че дальше - непонятно"
   ]
  },
  {
   "cell_type": "code",
   "execution_count": 46,
   "metadata": {},
   "outputs": [
    {
     "data": {
      "text/plain": [
       "NaN                     78\n",
       "14 лет и 4 месяца       17\n",
       "7 лет и 3 месяца        17\n",
       "10 лет и 6 месяцев      14\n",
       "11 лет и 11 месяцев     13\n",
       "9 лет и 7 месяцев       13\n",
       "3 года и 6 месяцев      13\n",
       "11 лет и 4 месяца       13\n",
       "12 лет и 8 месяцев      13\n",
       "10 лет и 2 месяца       13\n",
       "13 лет и 11 месяцев     12\n",
       "7 лет и 2 месяца        12\n",
       "10 лет и 3 месяца       11\n",
       "9 лет и 6 месяцев       11\n",
       "8 лет и 6 месяцев       11\n",
       "7 лет и 9 месяцев       11\n",
       "7 лет и 8 месяцев       11\n",
       "13 лет и 2 месяца       11\n",
       "12 лет и 11 месяцев     11\n",
       "15 лет и 2 месяца       11\n",
       "5 лет и 10 месяцев      11\n",
       "12 лет и 5 месяцев      11\n",
       "16 лет и 5 месяцев      11\n",
       "9 лет и 5 месяцев       11\n",
       "6 лет и 6 месяцев       11\n",
       "13 лет и 4 месяца       11\n",
       "15 лет и 5 месяцев      11\n",
       "8 лет и 7 месяцев       10\n",
       "6 лет и 3 месяца        10\n",
       "11 лет и 8 месяцев      10\n",
       "                        ..\n",
       "34 года и 11 месяцев     1\n",
       "26 лет и 10 месяцев      1\n",
       "39 лет и 3 месяца        1\n",
       "35 лет и 5 месяцев       1\n",
       "26 лет и 5 месяцев       1\n",
       "26 лет и 11 месяцев      1\n",
       "33 года и 7 месяцев      1\n",
       "32 года и 2 месяца       1\n",
       "26 лет и 6 месяцев       1\n",
       "43 года и 5 месяцев      1\n",
       "26 лет и 8 месяцев       1\n",
       "39 лет и 10 месяцев      1\n",
       "37 лет и 2 месяца        1\n",
       "41 год и 3 месяца        1\n",
       "28 лет и 9 месяцев       1\n",
       "25 лет и 1 месяц         1\n",
       "20 лет и 1 месяц         1\n",
       "30 лет и 11 месяцев      1\n",
       "1 месяц                  1\n",
       "37 лет и 10 месяцев      1\n",
       "41 год и 11 месяцев      1\n",
       "43 года и 3 месяца       1\n",
       "36 лет                   1\n",
       "29 лет и 9 месяцев       1\n",
       "42 года и 4 месяца       1\n",
       "25 лет и 7 месяцев       1\n",
       "25 лет и 4 месяца        1\n",
       "26 лет и 7 месяцев       1\n",
       "25 лет и 9 месяцев       1\n",
       "23 года и 6 месяцев      1\n",
       "Name: experience_length, Length: 375, dtype: int64"
      ]
     },
     "execution_count": 46,
     "metadata": {},
     "output_type": "execute_result"
    }
   ],
   "source": [
    "df.experience_length.value_counts(dropna=False)"
   ]
  },
  {
   "cell_type": "markdown",
   "metadata": {},
   "source": [
    "Наны, видимо, - нет опыта работы"
   ]
  },
  {
   "cell_type": "code",
   "execution_count": 43,
   "metadata": {},
   "outputs": [],
   "source": [
    "df.experience_length=df.experience_length.fillna(\"0 лет и 0 месяцев\")"
   ]
  },
  {
   "cell_type": "code",
   "execution_count": 44,
   "metadata": {},
   "outputs": [],
   "source": [
    "#df = df.dropna(subset=['experience_length'])"
   ]
  },
  {
   "cell_type": "code",
   "execution_count": 45,
   "metadata": {},
   "outputs": [
    {
     "data": {
      "text/plain": [
       "(1996, 17)"
      ]
     },
     "execution_count": 45,
     "metadata": {},
     "output_type": "execute_result"
    }
   ],
   "source": [
    "df.shape"
   ]
  },
  {
   "cell_type": "code",
   "execution_count": 46,
   "metadata": {},
   "outputs": [],
   "source": [
    "df.index = np.arange(df.shape[0])"
   ]
  },
  {
   "cell_type": "code",
   "execution_count": 47,
   "metadata": {},
   "outputs": [
    {
     "data": {
      "text/plain": [
       "Index(['age', 'auto', 'business_trips', 'categories', 'education',\n",
       "       'employment', 'experience', 'experience_length', 'gender', 'languages',\n",
       "       'metro_or_moving', 'name', 'salary', 'skills', 'city_Msk', 'city_Spb',\n",
       "       'city_oth'],\n",
       "      dtype='object')"
      ]
     },
     "execution_count": 47,
     "metadata": {},
     "output_type": "execute_result"
    }
   ],
   "source": [
    "df.columns"
   ]
  },
  {
   "cell_type": "markdown",
   "metadata": {},
   "source": [
    "### Промежуточный итог: ###\n",
    "\n",
    "Остались пропуски в 'languages', нужно решить, что с ними делать. Идея в том, что NaN можно интерпретировать как незнание языков. \n",
    "\n",
    "В остальных фичах пропусков нет. \n",
    "\n",
    "Город и пол one-hot.\n",
    "\n",
    "Что с образованием - неясно, очень много категорий.\n",
    "\n",
    "Для 'experience' и 'skills' нужно посмотреть распределения N-грамм и выбрать хорошие, информативные фичи по вхождениям ключевых слов.\n",
    "\n",
    "Так же необходимо все числовые признаки нормализовать."
   ]
  },
  {
   "cell_type": "code",
   "execution_count": 48,
   "metadata": {},
   "outputs": [],
   "source": [
    "def period_to_month(string):\n",
    "    s = string.split()\n",
    "    if len(s) == 2:\n",
    "        if (s[1] == 'год') or (s[1] == 'года') or (s[1] == 'лет'):\n",
    "            return int(s[0]) * 12\n",
    "        return int(s[0])\n",
    "    return int(s[0]) * 12 + int(s[3])"
   ]
  },
  {
   "cell_type": "code",
   "execution_count": 49,
   "metadata": {},
   "outputs": [],
   "source": [
    "pers = df.experience_length.copy()"
   ]
  },
  {
   "cell_type": "code",
   "execution_count": 50,
   "metadata": {},
   "outputs": [
    {
     "data": {
      "text/plain": [
       "False"
      ]
     },
     "execution_count": 50,
     "metadata": {},
     "output_type": "execute_result"
    }
   ],
   "source": [
    "pers is df.experience_length"
   ]
  },
  {
   "cell_type": "code",
   "execution_count": 51,
   "metadata": {},
   "outputs": [],
   "source": [
    "for i in pers.index:\n",
    "    pers.values[i] = period_to_month(pers.values[i])"
   ]
  },
  {
   "cell_type": "code",
   "execution_count": 52,
   "metadata": {},
   "outputs": [
    {
     "data": {
      "text/plain": [
       "0       216\n",
       "1       154\n",
       "2        51\n",
       "3        14\n",
       "4        28\n",
       "5        55\n",
       "6        51\n",
       "7        59\n",
       "8       224\n",
       "9         3\n",
       "10       78\n",
       "11      172\n",
       "12      361\n",
       "13      411\n",
       "14      111\n",
       "15      250\n",
       "16        0\n",
       "17      183\n",
       "18      284\n",
       "19      216\n",
       "20      280\n",
       "21      381\n",
       "22      186\n",
       "23      126\n",
       "24      128\n",
       "25       42\n",
       "26      268\n",
       "27      167\n",
       "28      334\n",
       "29      330\n",
       "       ... \n",
       "1966    136\n",
       "1967    121\n",
       "1968    283\n",
       "1969    283\n",
       "1970    207\n",
       "1971    244\n",
       "1972    167\n",
       "1973    121\n",
       "1974    179\n",
       "1975    165\n",
       "1976    389\n",
       "1977    334\n",
       "1978    245\n",
       "1979     97\n",
       "1980    194\n",
       "1981    211\n",
       "1982    154\n",
       "1983    268\n",
       "1984     75\n",
       "1985    298\n",
       "1986    156\n",
       "1987    194\n",
       "1988    339\n",
       "1989    156\n",
       "1990    146\n",
       "1991     66\n",
       "1992    180\n",
       "1993    347\n",
       "1994     34\n",
       "1995     72\n",
       "Name: experience_length, Length: 1996, dtype: object"
      ]
     },
     "execution_count": 52,
     "metadata": {},
     "output_type": "execute_result"
    }
   ],
   "source": [
    "df.experience_length = pers\n",
    "df.experience_length"
   ]
  },
  {
   "cell_type": "markdown",
   "metadata": {},
   "source": [
    "Перевели стаж работы в месяцы."
   ]
  },
  {
   "cell_type": "code",
   "execution_count": 53,
   "metadata": {},
   "outputs": [],
   "source": [
    "for x in df.salary.values:\n",
    "    if (x[-1]!='₽'):\n",
    "        print (x)"
   ]
  },
  {
   "cell_type": "markdown",
   "metadata": {},
   "source": [
    "ЗП только в рублях, что очень странно"
   ]
  },
  {
   "cell_type": "code",
   "execution_count": 54,
   "metadata": {},
   "outputs": [],
   "source": [
    "df.salary=df.salary.apply(lambda x: int(x[:-1].replace(\" \", '')))"
   ]
  },
  {
   "cell_type": "code",
   "execution_count": 55,
   "metadata": {},
   "outputs": [
    {
     "data": {
      "text/html": [
       "<div>\n",
       "<style scoped>\n",
       "    .dataframe tbody tr th:only-of-type {\n",
       "        vertical-align: middle;\n",
       "    }\n",
       "\n",
       "    .dataframe tbody tr th {\n",
       "        vertical-align: top;\n",
       "    }\n",
       "\n",
       "    .dataframe thead th {\n",
       "        text-align: right;\n",
       "    }\n",
       "</style>\n",
       "<table border=\"1\" class=\"dataframe\">\n",
       "  <thead>\n",
       "    <tr style=\"text-align: right;\">\n",
       "      <th></th>\n",
       "      <th>age</th>\n",
       "      <th>auto</th>\n",
       "      <th>business_trips</th>\n",
       "      <th>categories</th>\n",
       "      <th>education</th>\n",
       "      <th>employment</th>\n",
       "      <th>experience</th>\n",
       "      <th>experience_length</th>\n",
       "      <th>gender</th>\n",
       "      <th>languages</th>\n",
       "      <th>metro_or_moving</th>\n",
       "      <th>name</th>\n",
       "      <th>salary</th>\n",
       "      <th>skills</th>\n",
       "      <th>city_Msk</th>\n",
       "      <th>city_Spb</th>\n",
       "      <th>city_oth</th>\n",
       "    </tr>\n",
       "  </thead>\n",
       "  <tbody>\n",
       "    <tr>\n",
       "      <th>0</th>\n",
       "      <td>39</td>\n",
       "      <td>['B — легковые авто']</td>\n",
       "      <td>NaN</td>\n",
       "      <td>Техническая поддержка</td>\n",
       "      <td>[{'kind': 'Высшее образование', 'form': 'Дневн...</td>\n",
       "      <td>полная занятость</td>\n",
       "      <td>[{'period': 'октябрь 2017 – работает сейчас', ...</td>\n",
       "      <td>216</td>\n",
       "      <td>0</td>\n",
       "      <td></td>\n",
       "      <td>NaN</td>\n",
       "      <td>Администратор, управляющий, IT специалист</td>\n",
       "      <td>50000</td>\n",
       "      <td>[{'professional': '• 1С: Предприятие • 1С: Роз...</td>\n",
       "      <td>1</td>\n",
       "      <td>0</td>\n",
       "      <td>0</td>\n",
       "    </tr>\n",
       "    <tr>\n",
       "      <th>1</th>\n",
       "      <td>47</td>\n",
       "      <td>['Нет прав']</td>\n",
       "      <td>NaN</td>\n",
       "      <td>Передача данных и доступ в интернет</td>\n",
       "      <td>[{'kind': 'Высшее образование', 'form': 'Вечер...</td>\n",
       "      <td>полная занятость</td>\n",
       "      <td>[{'period': 'февраль 2008 – работает сейчас', ...</td>\n",
       "      <td>154</td>\n",
       "      <td>0</td>\n",
       "      <td>['Английский язык, Технический']</td>\n",
       "      <td>Берёзовая роща</td>\n",
       "      <td>Администратор / Инженер технической поддержки IT</td>\n",
       "      <td>30000</td>\n",
       "      <td>[{'professional': 'Английский язык уровень. Pr...</td>\n",
       "      <td>0</td>\n",
       "      <td>0</td>\n",
       "      <td>1</td>\n",
       "    </tr>\n",
       "    <tr>\n",
       "      <th>2</th>\n",
       "      <td>23</td>\n",
       "      <td>['Нет прав']</td>\n",
       "      <td>NaN</td>\n",
       "      <td>Техническая поддержка</td>\n",
       "      <td>[{'kind': 'Высшее образование', 'form': 'Дневн...</td>\n",
       "      <td>сменный график работы</td>\n",
       "      <td>[{'period': 'июль 2015 – работает сейчас', 'le...</td>\n",
       "      <td>51</td>\n",
       "      <td>1</td>\n",
       "      <td></td>\n",
       "      <td>NaN</td>\n",
       "      <td>Администратор, IT-специалист, бизнес-аналитик,...</td>\n",
       "      <td>25000</td>\n",
       "      <td>[{'professional': 'Веб-дизайн, photoshop, MS O...</td>\n",
       "      <td>0</td>\n",
       "      <td>0</td>\n",
       "      <td>1</td>\n",
       "    </tr>\n",
       "  </tbody>\n",
       "</table>\n",
       "</div>"
      ],
      "text/plain": [
       "   age                   auto business_trips  \\\n",
       "0   39  ['B — легковые авто']            NaN   \n",
       "1   47           ['Нет прав']            NaN   \n",
       "2   23           ['Нет прав']            NaN   \n",
       "\n",
       "                            categories  \\\n",
       "0                Техническая поддержка   \n",
       "1  Передача данных и доступ в интернет   \n",
       "2                Техническая поддержка   \n",
       "\n",
       "                                           education             employment  \\\n",
       "0  [{'kind': 'Высшее образование', 'form': 'Дневн...       полная занятость   \n",
       "1  [{'kind': 'Высшее образование', 'form': 'Вечер...       полная занятость   \n",
       "2  [{'kind': 'Высшее образование', 'form': 'Дневн...  сменный график работы   \n",
       "\n",
       "                                          experience experience_length  \\\n",
       "0  [{'period': 'октябрь 2017 – работает сейчас', ...               216   \n",
       "1  [{'period': 'февраль 2008 – работает сейчас', ...               154   \n",
       "2  [{'period': 'июль 2015 – работает сейчас', 'le...                51   \n",
       "\n",
       "   gender                         languages metro_or_moving  \\\n",
       "0       0                                               NaN   \n",
       "1       0  ['Английский язык, Технический']  Берёзовая роща   \n",
       "2       1                                               NaN   \n",
       "\n",
       "                                                name  salary  \\\n",
       "0          Администратор, управляющий, IT специалист   50000   \n",
       "1   Администратор / Инженер технической поддержки IT   30000   \n",
       "2  Администратор, IT-специалист, бизнес-аналитик,...   25000   \n",
       "\n",
       "                                              skills  city_Msk  city_Spb  \\\n",
       "0  [{'professional': '• 1С: Предприятие • 1С: Роз...         1         0   \n",
       "1  [{'professional': 'Английский язык уровень. Pr...         0         0   \n",
       "2  [{'professional': 'Веб-дизайн, photoshop, MS O...         0         0   \n",
       "\n",
       "   city_oth  \n",
       "0         0  \n",
       "1         1  \n",
       "2         1  "
      ]
     },
     "execution_count": 55,
     "metadata": {},
     "output_type": "execute_result"
    }
   ],
   "source": [
    "df.head(3)"
   ]
  },
  {
   "cell_type": "code",
   "execution_count": 56,
   "metadata": {},
   "outputs": [
    {
     "data": {
      "text/plain": [
       "<bound method IndexOpsMixin.value_counts of 0        50000\n",
       "1        30000\n",
       "2        25000\n",
       "3        45000\n",
       "4        20000\n",
       "5        45000\n",
       "6        30000\n",
       "7        20000\n",
       "8        30000\n",
       "9        35000\n",
       "10       60000\n",
       "11       30000\n",
       "12       75000\n",
       "13       75000\n",
       "14       20000\n",
       "15      150000\n",
       "16       25000\n",
       "17      150000\n",
       "18       70000\n",
       "19      280000\n",
       "20      240000\n",
       "21       90000\n",
       "22       80000\n",
       "23       20000\n",
       "24       50000\n",
       "25       50000\n",
       "26      100000\n",
       "27      150000\n",
       "28      110000\n",
       "29      150000\n",
       "         ...  \n",
       "1966     40000\n",
       "1967    175000\n",
       "1968     80000\n",
       "1969     80000\n",
       "1970    150000\n",
       "1971    200000\n",
       "1972     50000\n",
       "1973    120000\n",
       "1974     70000\n",
       "1975    130000\n",
       "1976     50000\n",
       "1977    120000\n",
       "1978     55000\n",
       "1979     50000\n",
       "1980    100000\n",
       "1981    150000\n",
       "1982    120000\n",
       "1983     50000\n",
       "1984     25000\n",
       "1985     60000\n",
       "1986    100000\n",
       "1987     50000\n",
       "1988     50000\n",
       "1989     60000\n",
       "1990    110000\n",
       "1991     30000\n",
       "1992    150000\n",
       "1993    150000\n",
       "1994     45000\n",
       "1995     80000\n",
       "Name: salary, Length: 1996, dtype: int64>"
      ]
     },
     "execution_count": 56,
     "metadata": {},
     "output_type": "execute_result"
    }
   ],
   "source": [
    "df.salary.value_counts"
   ]
  },
  {
   "cell_type": "code",
   "execution_count": null,
   "metadata": {},
   "outputs": [],
   "source": []
  }
 ],
 "metadata": {
  "kernelspec": {
   "display_name": "Python 3",
   "language": "python",
   "name": "python3"
  },
  "language_info": {
   "codemirror_mode": {
    "name": "ipython",
    "version": 3
   },
   "file_extension": ".py",
   "mimetype": "text/x-python",
   "name": "python",
   "nbconvert_exporter": "python",
   "pygments_lexer": "ipython3",
   "version": "3.7.0"
  }
 },
 "nbformat": 4,
 "nbformat_minor": 2
}
