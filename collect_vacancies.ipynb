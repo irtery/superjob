{
 "cells": [
  {
   "cell_type": "code",
   "execution_count": 9,
   "metadata": {},
   "outputs": [],
   "source": [
    "import requests\n",
    "import re\n",
    "import string\n",
    "import pandas as pd\n",
    "import numpy as np\n",
    "from bs4 import BeautifulSoup"
   ]
  },
  {
   "cell_type": "markdown",
   "metadata": {},
   "source": [
    "### Вакансии"
   ]
  },
  {
   "cell_type": "markdown",
   "metadata": {},
   "source": [
    "Ищем ссылки на вакансии с ключевым словом IT, геолокацией -- Россия (по умолчанию отдается Москва), пока страница с указанным номером существует"
   ]
  },
  {
   "cell_type": "code",
   "execution_count": 19,
   "metadata": {},
   "outputs": [
    {
     "name": "stdout",
     "output_type": "stream",
     "text": [
      "page: 0 collected: 30\n",
      "page: 10 collected: 330\n",
      "page: 20 collected: 630\n",
      "page: 30 collected: 929\n",
      "page_count: 31\n"
     ]
    }
   ],
   "source": [
    "main_url = \"https://www.superjob.ru\"\n",
    "search_url = main_url + \"/vacancy/search/\"\n",
    "\n",
    "vacancies_urls = []\n",
    "i = 0\n",
    "while True:\n",
    "    url_params = {'keywords': 'IT', 'geo[c][0]': '1', 'page': i}\n",
    "    vacancies_html = requests.get(search_url, params=url_params).text\n",
    "    soup = BeautifulSoup(vacancies_html, 'html.parser')\n",
    "    not_found_div = soup.find('div', class_='_3OLv-')\n",
    "    if not_found_div:\n",
    "        break\n",
    "    vacancies_div = soup.find('div', class_='_1ID8B')\n",
    "    vacancies_div = vacancies_div.find('div', class_='_3VcZr')\n",
    "    vacancies_links = vacancies_div.find_all('a', class_='_2JivQ')\n",
    "    urls = list(map(lambda link: main_url + link.attrs['href'], vacancies_links))\n",
    "    vacancies_urls += urls\n",
    "    if (i % 10) == 0:\n",
    "        print(\"page:\", i, \"collected:\", len(vacancies_urls))\n",
    "    i += 1\n",
    "print(\"page_count:\", i)"
   ]
  },
  {
   "cell_type": "code",
   "execution_count": 20,
   "metadata": {},
   "outputs": [
    {
     "name": "stdout",
     "output_type": "stream",
     "text": [
      "929\n"
     ]
    },
    {
     "data": {
      "text/plain": [
       "['https://www.superjob.ru/vakansii/menedzher-it-proektov-31595397.html',\n",
       " 'https://www.superjob.ru/vakansii/it-specialist-31654573.html',\n",
       " 'https://www.superjob.ru/vakansii/it-menedzher-po-upravleniyu-relizami-31604972.html',\n",
       " 'https://www.superjob.ru/vakansii/veduschij-it-analitik-31604896.html',\n",
       " 'https://www.superjob.ru/vakansii/starshij-it-menedzher-po-upravleniyu-relizami-31604850.html',\n",
       " 'https://www.superjob.ru/vakansii/analitik-v-otdel-avtomatizacii-kreditno-depozitnyh-produktov-31604865.html',\n",
       " 'https://www.superjob.ru/vakansii/glavnyj-it-analitik-31604884.html',\n",
       " 'https://www.superjob.ru/vakansii/it-specialist-31595180.html',\n",
       " 'https://www.superjob.ru/vakansii/it-arhitektor-31604739.html',\n",
       " 'https://www.superjob.ru/vakansii/menedzher-it-riskov-31604699.html']"
      ]
     },
     "execution_count": 20,
     "metadata": {},
     "output_type": "execute_result"
    }
   ],
   "source": [
    "print(len(vacancies_urls))\n",
    "vacancies_urls[:10]"
   ]
  },
  {
   "cell_type": "markdown",
   "metadata": {},
   "source": [
    "Удалим дубликаты"
   ]
  },
  {
   "cell_type": "code",
   "execution_count": 21,
   "metadata": {},
   "outputs": [
    {
     "name": "stdout",
     "output_type": "stream",
     "text": [
      "848\n"
     ]
    },
    {
     "data": {
      "text/plain": [
       "array(['https://www.superjob.ru/vakansii/administrative-specialist-31675371.html',\n",
       "       'https://www.superjob.ru/vakansii/administrativnyj-assistent-31673685.html',\n",
       "       'https://www.superjob.ru/vakansii/administrativnyj-direktor-31663053.html',\n",
       "       'https://www.superjob.ru/vakansii/administrator-31611832.html',\n",
       "       'https://www.superjob.ru/vakansii/administrator-31682464.html',\n",
       "       'https://www.superjob.ru/vakansii/administrator-baz-dannyh-31601600.html',\n",
       "       'https://www.superjob.ru/vakansii/administrator-kassir-31684759.html',\n",
       "       'https://www.superjob.ru/vakansii/administrator-proektov-31614556.html',\n",
       "       'https://www.superjob.ru/vakansii/administrator-seti-31670845.html',\n",
       "       'https://www.superjob.ru/vakansii/administrator-sistemy-monitoringa-31477488.html'],\n",
       "      dtype='<U159')"
      ]
     },
     "execution_count": 21,
     "metadata": {},
     "output_type": "execute_result"
    }
   ],
   "source": [
    "uniq = np.array(vacancies_urls)\n",
    "vacancies_urls = np.unique(uniq)\n",
    "print(len(vacancies_urls))\n",
    "vacancies_urls[:10]"
   ]
  },
  {
   "cell_type": "markdown",
   "metadata": {},
   "source": [
    "Соберу те вакансии, у которых указана зарплата"
   ]
  },
  {
   "cell_type": "code",
   "execution_count": 24,
   "metadata": {},
   "outputs": [
    {
     "name": "stdout",
     "output_type": "stream",
     "text": [
      "url: 0 processed\n",
      "url: 10 processed\n",
      "url: 20 processed\n",
      "url: 30 processed\n",
      "url: 40 processed\n",
      "url: 50 processed\n",
      "url: 60 processed\n",
      "url: 70 processed\n",
      "url: 80 processed\n",
      "url: 90 processed\n",
      "url: 100 processed\n",
      "url: 110 processed\n",
      "url: 120 processed\n",
      "url: 130 processed\n",
      "url: 140 processed\n",
      "url: 150 processed\n",
      "url: 160 processed\n",
      "url: 170 processed\n",
      "url: 180 processed\n",
      "url: 190 processed\n",
      "url: 200 processed\n",
      "url: 210 processed\n",
      "url: 220 processed\n",
      "url: 230 processed\n",
      "url: 240 processed\n",
      "url: 250 processed\n",
      "url: 260 processed\n",
      "url: 270 processed\n",
      "url: 280 processed\n",
      "url: 290 processed\n",
      "url: 300 processed\n",
      "url: 310 processed\n",
      "url: 320 processed\n",
      "url: 330 processed\n",
      "url: 340 processed\n",
      "url: 350 processed\n",
      "url: 360 processed\n",
      "url: 370 processed\n",
      "url: 380 processed\n",
      "url: 390 processed\n",
      "url: 400 processed\n",
      "url: 410 processed\n",
      "url: 420 processed\n",
      "url: 430 processed\n",
      "url: 440 processed\n",
      "url: 450 processed\n",
      "url: 460 processed\n",
      "url: 470 processed\n",
      "url: 480 processed\n",
      "url: 490 processed\n",
      "url: 500 processed\n",
      "url: 510 processed\n",
      "url: 520 processed\n",
      "url: 530 processed\n",
      "url: 540 processed\n",
      "url: 550 processed\n",
      "url: 560 processed\n",
      "url: 570 processed\n",
      "url: 580 processed\n",
      "url: 590 processed\n",
      "url: 600 processed\n",
      "url: 610 processed\n",
      "url: 620 processed\n",
      "url: 630 processed\n",
      "url: 640 processed\n",
      "url: 650 processed\n",
      "url: 660 processed\n",
      "url: 670 processed\n",
      "url: 680 processed\n",
      "url: 690 processed\n",
      "url: 700 processed\n",
      "url: 710 processed\n",
      "url: 720 processed\n",
      "url: 730 processed\n",
      "url: 740 processed\n",
      "url: 750 processed\n",
      "url: 760 processed\n",
      "url: 770 processed\n",
      "url: 780 processed\n",
      "url: 790 processed\n",
      "url: 800 processed\n",
      "url: 810 processed\n",
      "url: 820 processed\n",
      "url: 830 processed\n",
      "url: 840 processed\n"
     ]
    }
   ],
   "source": [
    "def collect_vacancy(soup):\n",
    "    result = {}\n",
    "    div = soup.find('div', class_='iJCa5')\n",
    "    result['name'] = div.find('h1').text\n",
    "    \n",
    "    text_spans = soup.find_all('span', class_='_1h3Zg _1K0Mf ADNB4')\n",
    "    if len(text_spans) > 0:\n",
    "        result['address'] = text_spans[0].text\n",
    "        if len(text_spans) > 1:\n",
    "            result['employment'] = text_spans[1].text\n",
    "\n",
    "    salary = soup.find('span', class_='_1h3Zg _2Wp8I _1fqdH ADNB4 _1BoTZ').\\\n",
    "        find_all('span')\n",
    "    salary = [str(s) for s in salary]\n",
    "    result['salary'] = re.sub('[<span/\\xa0>\\s]', '', ''.join(salary))\n",
    "    if not result['salary']:\n",
    "#         print(\"no salary determined\")\n",
    "        return\n",
    "\n",
    "    exp_span = soup.find('span', class_='_1h3Zg _1K0Mf ADNB4 _37Ti9')\n",
    "    if exp_span:\n",
    "        result['experience'] = exp_span.text\n",
    "    \n",
    "    category = soup.find('span', class_='_1h3Zg z15vz _1xK5K').\\\n",
    "        find_all('span')\n",
    "    category = set([s.find('a').text for s in category])\n",
    "    category.remove('Вакансии')\n",
    "    category.remove('Работа в Москве')\n",
    "    result['categories'] = ', '.join(category)\n",
    "\n",
    "    text_spans = soup.find_all('span', class_='_1h3Zg sI2a4 ADNB4')\n",
    "    if len(text_spans) > 0:\n",
    "        result['duties'] = re.sub('\\n', '', text_spans[0].text)\n",
    "        if len(text_spans) > 1:\n",
    "            result['requirements'] = re.sub('\\n', '', text_spans[1].text)\n",
    "            if len(text_spans) > 2:\n",
    "                result['conditions'] = re.sub('\\n', '', text_spans[2].text)\n",
    "    return result\n",
    "\n",
    "result = []\n",
    "for url_id, url in enumerate(vacancies_urls):\n",
    "    #print(url_id, url)\n",
    "    vacancy_html = requests.get(url).text\n",
    "    soup = BeautifulSoup(vacancy_html, 'html.parser')\n",
    "    soup = soup.find('div', class_='_3Qutk')\n",
    "    vacancy = collect_vacancy(soup)\n",
    "    if vacancy:\n",
    "        vacancy['url'] = url\n",
    "#         for k, v in vacancy.items():\n",
    "#             print(k, \":\", v)\n",
    "        result.append(vacancy)\n",
    "    if (url_id % 10) == 0:\n",
    "        print(\"url:\", url_id, \"processed\")"
   ]
  },
  {
   "cell_type": "code",
   "execution_count": 25,
   "metadata": {},
   "outputs": [
    {
     "data": {
      "text/plain": [
       "530"
      ]
     },
     "execution_count": 25,
     "metadata": {},
     "output_type": "execute_result"
    }
   ],
   "source": [
    "len(result)"
   ]
  },
  {
   "cell_type": "code",
   "execution_count": 26,
   "metadata": {},
   "outputs": [
    {
     "name": "stdout",
     "output_type": "stream",
     "text": [
      "(530, 10)\n"
     ]
    },
    {
     "data": {
      "text/html": [
       "<div>\n",
       "<style scoped>\n",
       "    .dataframe tbody tr th:only-of-type {\n",
       "        vertical-align: middle;\n",
       "    }\n",
       "\n",
       "    .dataframe tbody tr th {\n",
       "        vertical-align: top;\n",
       "    }\n",
       "\n",
       "    .dataframe thead th {\n",
       "        text-align: right;\n",
       "    }\n",
       "</style>\n",
       "<table border=\"1\" class=\"dataframe\">\n",
       "  <thead>\n",
       "    <tr style=\"text-align: right;\">\n",
       "      <th></th>\n",
       "      <th>address</th>\n",
       "      <th>categories</th>\n",
       "      <th>conditions</th>\n",
       "      <th>duties</th>\n",
       "      <th>employment</th>\n",
       "      <th>experience</th>\n",
       "      <th>name</th>\n",
       "      <th>requirements</th>\n",
       "      <th>salary</th>\n",
       "      <th>url</th>\n",
       "    </tr>\n",
       "  </thead>\n",
       "  <tbody>\n",
       "    <tr>\n",
       "      <th>0</th>\n",
       "      <td>Крылатское, Москва, Осенний бульвар, 12к1</td>\n",
       "      <td>Администратор-кассир, Продажи</td>\n",
       "      <td>Плавающий гибкий график работы 2/2;Оформление ...</td>\n",
       "      <td>Lamoda – одна из наиболее успешных и динамично...</td>\n",
       "      <td>NaN</td>\n",
       "      <td>сменный график работы</td>\n",
       "      <td>Администратор-кассир</td>\n",
       "      <td>Доброжелательность и коммуникабельность - в пр...</td>\n",
       "      <td>25000—40000₽</td>\n",
       "      <td>https://www.superjob.ru/vakansii/administrator...</td>\n",
       "    </tr>\n",
       "    <tr>\n",
       "      <th>1</th>\n",
       "      <td>Москва, Походный пр-д, д. 3 к. 2</td>\n",
       "      <td>Администратор сети, IT, Интернет, связь, телеком</td>\n",
       "      <td>Оформление в соответствии с ТК РФ с первого ра...</td>\n",
       "      <td>Администрирование текущей системы мониторинга ...</td>\n",
       "      <td>NaN</td>\n",
       "      <td>сменный график работы</td>\n",
       "      <td>Администратор системы мониторинга (Zabbix)</td>\n",
       "      <td>Образование незаконченное высшее/ высшее.Поним...</td>\n",
       "      <td>40000—50000₽</td>\n",
       "      <td>https://www.superjob.ru/vakansii/administrator...</td>\n",
       "    </tr>\n",
       "    <tr>\n",
       "      <th>2</th>\n",
       "      <td>Уфа, ул. Карла Маркса, д. 46</td>\n",
       "      <td>Строительство, проектирование, недвижимость, А...</td>\n",
       "      <td>Добрый день, уважаемый кандидат!Если Вы сейчас...</td>\n",
       "      <td>• сопровождать сделки с недвижимостью;• анализ...</td>\n",
       "      <td>NaN</td>\n",
       "      <td>полная занятость</td>\n",
       "      <td>Агент по недвижимости</td>\n",
       "      <td>• желание много зарабатывать и готовность вкла...</td>\n",
       "      <td>50000₽</td>\n",
       "      <td>https://www.superjob.ru/vakansii/agent-po-nedv...</td>\n",
       "    </tr>\n",
       "    <tr>\n",
       "      <th>3</th>\n",
       "      <td>Воронеж, ул. Революции 1905 года, д. 31г</td>\n",
       "      <td>Агент по недвижимости, Продажи</td>\n",
       "      <td>Центр недвижимости \"36-я Авеню\" в связи с расш...</td>\n",
       "      <td>Что делать:успешное прохождение обучения;презе...</td>\n",
       "      <td>NaN</td>\n",
       "      <td>полная занятость</td>\n",
       "      <td>Агент по продаже жилой недвижимости (Центр нед...</td>\n",
       "      <td>От Вас:нацеленность на достижение материальног...</td>\n",
       "      <td>35000—100000₽</td>\n",
       "      <td>https://www.superjob.ru/vakansii/agent-po-prod...</td>\n",
       "    </tr>\n",
       "    <tr>\n",
       "      <th>4</th>\n",
       "      <td>Московская обл., Ногинский р-н, тер Ногинск-Те...</td>\n",
       "      <td>IT, Интернет, связь, телеком, Аналитик</td>\n",
       "      <td>Стабильная крупная производственная компания с...</td>\n",
       "      <td>Принимать участие в сборе, проверке и анализе ...</td>\n",
       "      <td>полная занятость</td>\n",
       "      <td>опыт работы от 1 года</td>\n",
       "      <td>Аналитик</td>\n",
       "      <td>Высшее техническое образование,Опыт работы в а...</td>\n",
       "      <td>43000₽</td>\n",
       "      <td>https://www.superjob.ru/vakansii/analitik-3163...</td>\n",
       "    </tr>\n",
       "  </tbody>\n",
       "</table>\n",
       "</div>"
      ],
      "text/plain": [
       "                                             address  \\\n",
       "0          Крылатское, Москва, Осенний бульвар, 12к1   \n",
       "1                   Москва, Походный пр-д, д. 3 к. 2   \n",
       "2                       Уфа, ул. Карла Маркса, д. 46   \n",
       "3           Воронеж, ул. Революции 1905 года, д. 31г   \n",
       "4  Московская обл., Ногинский р-н, тер Ногинск-Те...   \n",
       "\n",
       "                                          categories  \\\n",
       "0                      Администратор-кассир, Продажи   \n",
       "1   Администратор сети, IT, Интернет, связь, телеком   \n",
       "2  Строительство, проектирование, недвижимость, А...   \n",
       "3                     Агент по недвижимости, Продажи   \n",
       "4             IT, Интернет, связь, телеком, Аналитик   \n",
       "\n",
       "                                          conditions  \\\n",
       "0  Плавающий гибкий график работы 2/2;Оформление ...   \n",
       "1  Оформление в соответствии с ТК РФ с первого ра...   \n",
       "2  Добрый день, уважаемый кандидат!Если Вы сейчас...   \n",
       "3  Центр недвижимости \"36-я Авеню\" в связи с расш...   \n",
       "4  Стабильная крупная производственная компания с...   \n",
       "\n",
       "                                              duties        employment  \\\n",
       "0  Lamoda – одна из наиболее успешных и динамично...               NaN   \n",
       "1  Администрирование текущей системы мониторинга ...               NaN   \n",
       "2  • сопровождать сделки с недвижимостью;• анализ...               NaN   \n",
       "3  Что делать:успешное прохождение обучения;презе...               NaN   \n",
       "4  Принимать участие в сборе, проверке и анализе ...  полная занятость   \n",
       "\n",
       "              experience                                               name  \\\n",
       "0  сменный график работы                               Администратор-кассир   \n",
       "1  сменный график работы         Администратор системы мониторинга (Zabbix)   \n",
       "2       полная занятость                              Агент по недвижимости   \n",
       "3       полная занятость  Агент по продаже жилой недвижимости (Центр нед...   \n",
       "4  опыт работы от 1 года                                           Аналитик   \n",
       "\n",
       "                                        requirements         salary  \\\n",
       "0  Доброжелательность и коммуникабельность - в пр...   25000—40000₽   \n",
       "1  Образование незаконченное высшее/ высшее.Поним...   40000—50000₽   \n",
       "2  • желание много зарабатывать и готовность вкла...         50000₽   \n",
       "3  От Вас:нацеленность на достижение материальног...  35000—100000₽   \n",
       "4  Высшее техническое образование,Опыт работы в а...         43000₽   \n",
       "\n",
       "                                                 url  \n",
       "0  https://www.superjob.ru/vakansii/administrator...  \n",
       "1  https://www.superjob.ru/vakansii/administrator...  \n",
       "2  https://www.superjob.ru/vakansii/agent-po-nedv...  \n",
       "3  https://www.superjob.ru/vakansii/agent-po-prod...  \n",
       "4  https://www.superjob.ru/vakansii/analitik-3163...  "
      ]
     },
     "execution_count": 26,
     "metadata": {},
     "output_type": "execute_result"
    }
   ],
   "source": [
    "df = pd.DataFrame(result)\n",
    "print(df.shape)\n",
    "df.head()"
   ]
  },
  {
   "cell_type": "code",
   "execution_count": 27,
   "metadata": {},
   "outputs": [],
   "source": [
    "with open('data/vacancies.csv', mode='w', encoding='utf-8') as f_csv:\n",
    "    df.to_csv(f_csv)"
   ]
  },
  {
   "cell_type": "markdown",
   "metadata": {},
   "source": [
    "\\t(sdf)"
   ]
  },
  {
   "cell_type": "code",
   "execution_count": null,
   "metadata": {},
   "outputs": [],
   "source": []
  }
 ],
 "metadata": {
  "kernelspec": {
   "display_name": "Python 3",
   "language": "python",
   "name": "python3"
  },
  "language_info": {
   "codemirror_mode": {
    "name": "ipython",
    "version": 3
   },
   "file_extension": ".py",
   "mimetype": "text/x-python",
   "name": "python",
   "nbconvert_exporter": "python",
   "pygments_lexer": "ipython3",
   "version": "3.7.0"
  }
 },
 "nbformat": 4,
 "nbformat_minor": 2
}
