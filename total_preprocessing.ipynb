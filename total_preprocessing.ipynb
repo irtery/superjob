{
 "cells": [
  {
   "cell_type": "markdown",
   "metadata": {},
   "source": [
    "## Весь препроцессинг вместе"
   ]
  },
  {
   "cell_type": "code",
   "execution_count": 174,
   "metadata": {},
   "outputs": [],
   "source": [
    "import pandas as pd\n",
    "import numpy as np\n",
    "import sklearn as sk\n",
    "import json as js\n",
    "import csv"
   ]
  },
  {
   "cell_type": "code",
   "execution_count": 175,
   "metadata": {},
   "outputs": [],
   "source": [
    "df = pd.read_csv('data/resume.csv', index_col=0)"
   ]
  },
  {
   "cell_type": "code",
   "execution_count": 176,
   "metadata": {},
   "outputs": [
    {
     "data": {
      "text/plain": [
       "(2369, 19)"
      ]
     },
     "execution_count": 176,
     "metadata": {},
     "output_type": "execute_result"
    }
   ],
   "source": [
    "df.shape"
   ]
  },
  {
   "cell_type": "code",
   "execution_count": 177,
   "metadata": {},
   "outputs": [
    {
     "data": {
      "text/html": [
       "<div>\n",
       "<style scoped>\n",
       "    .dataframe tbody tr th:only-of-type {\n",
       "        vertical-align: middle;\n",
       "    }\n",
       "\n",
       "    .dataframe tbody tr th {\n",
       "        vertical-align: top;\n",
       "    }\n",
       "\n",
       "    .dataframe thead th {\n",
       "        text-align: right;\n",
       "    }\n",
       "</style>\n",
       "<table border=\"1\" class=\"dataframe\">\n",
       "  <thead>\n",
       "    <tr style=\"text-align: right;\">\n",
       "      <th></th>\n",
       "      <th>age</th>\n",
       "      <th>auto</th>\n",
       "      <th>business_trips</th>\n",
       "      <th>categories</th>\n",
       "      <th>citizenship</th>\n",
       "      <th>city</th>\n",
       "      <th>education</th>\n",
       "      <th>employment</th>\n",
       "      <th>experience</th>\n",
       "      <th>experience_length</th>\n",
       "      <th>family</th>\n",
       "      <th>gender</th>\n",
       "      <th>languages</th>\n",
       "      <th>metro_or_moving</th>\n",
       "      <th>name</th>\n",
       "      <th>photo_url</th>\n",
       "      <th>salary</th>\n",
       "      <th>skills</th>\n",
       "      <th>url</th>\n",
       "    </tr>\n",
       "  </thead>\n",
       "  <tbody>\n",
       "    <tr>\n",
       "      <th>0</th>\n",
       "      <td>20</td>\n",
       "      <td>NaN</td>\n",
       "      <td>не готов к командировкам</td>\n",
       "      <td>Архитектура</td>\n",
       "      <td>Россия</td>\n",
       "      <td>Ковров</td>\n",
       "      <td>[{'kind': 'Неполное высшее образование', 'form...</td>\n",
       "      <td>неполный рабочий день</td>\n",
       "      <td>[{'period': 'сентябрь 2017 – март 2018', 'leng...</td>\n",
       "      <td>7 месяцев</td>\n",
       "      <td>NaN</td>\n",
       "      <td>f</td>\n",
       "      <td>['Немецкий язык, Базовый']</td>\n",
       "      <td>NaN</td>\n",
       "      <td>3D-моделлер, IT стажёр, консультант</td>\n",
       "      <td>NaN</td>\n",
       "      <td>30 000₽</td>\n",
       "      <td>NaN</td>\n",
       "      <td>https://www.superjob.ru/resume/3d-modeller-436...</td>\n",
       "    </tr>\n",
       "    <tr>\n",
       "      <th>1</th>\n",
       "      <td>39</td>\n",
       "      <td>['B — легковые авто']</td>\n",
       "      <td>NaN</td>\n",
       "      <td>Техническая поддержка</td>\n",
       "      <td>Россия</td>\n",
       "      <td>Москва</td>\n",
       "      <td>[{'kind': 'Высшее образование', 'form': 'Дневн...</td>\n",
       "      <td>полная занятость</td>\n",
       "      <td>[{'period': 'октябрь 2017 – работает сейчас', ...</td>\n",
       "      <td>18 лет</td>\n",
       "      <td>cостоит в браке</td>\n",
       "      <td>m</td>\n",
       "      <td>NaN</td>\n",
       "      <td>NaN</td>\n",
       "      <td>Администратор, управляющий, IT специалист</td>\n",
       "      <td>https://public.superjob.ru/images/resume_fotos...</td>\n",
       "      <td>50 000₽</td>\n",
       "      <td>[{'professional': '• 1С: Предприятие • 1С: Роз...</td>\n",
       "      <td>https://www.superjob.ru/resume/administrator-2...</td>\n",
       "    </tr>\n",
       "    <tr>\n",
       "      <th>2</th>\n",
       "      <td>47</td>\n",
       "      <td>NaN</td>\n",
       "      <td>NaN</td>\n",
       "      <td>Передача данных и доступ в интернет</td>\n",
       "      <td>NaN</td>\n",
       "      <td>Новосибирск</td>\n",
       "      <td>[{'kind': 'Высшее образование', 'form': 'Вечер...</td>\n",
       "      <td>полная занятость</td>\n",
       "      <td>[{'period': 'февраль 2008 – работает сейчас', ...</td>\n",
       "      <td>12 лет и 10 месяцев</td>\n",
       "      <td>cостоит в браке, есть дети</td>\n",
       "      <td>m</td>\n",
       "      <td>['Английский язык, Технический']</td>\n",
       "      <td>Берёзовая роща</td>\n",
       "      <td>Администратор / Инженер технической поддержки IT</td>\n",
       "      <td>NaN</td>\n",
       "      <td>30 000₽</td>\n",
       "      <td>[{'professional': 'Английский язык уровень. Pr...</td>\n",
       "      <td>https://www.superjob.ru/resume/administrator-2...</td>\n",
       "    </tr>\n",
       "    <tr>\n",
       "      <th>3</th>\n",
       "      <td>23</td>\n",
       "      <td>NaN</td>\n",
       "      <td>NaN</td>\n",
       "      <td>Техническая поддержка</td>\n",
       "      <td>NaN</td>\n",
       "      <td>Самара</td>\n",
       "      <td>[{'kind': 'Высшее образование', 'form': 'Дневн...</td>\n",
       "      <td>сменный график работы</td>\n",
       "      <td>[{'period': 'июль 2015 – работает сейчас', 'le...</td>\n",
       "      <td>4 года и 3 месяца</td>\n",
       "      <td>NaN</td>\n",
       "      <td>f</td>\n",
       "      <td>NaN</td>\n",
       "      <td>NaN</td>\n",
       "      <td>Администратор, IT-специалист, бизнес-аналитик,...</td>\n",
       "      <td>https://public.superjob.ru/images/resume_fotos...</td>\n",
       "      <td>25 000₽</td>\n",
       "      <td>[{'professional': 'Веб-дизайн, photoshop, MS O...</td>\n",
       "      <td>https://www.superjob.ru/resume/administrator-3...</td>\n",
       "    </tr>\n",
       "    <tr>\n",
       "      <th>4</th>\n",
       "      <td>52</td>\n",
       "      <td>NaN</td>\n",
       "      <td>не готов к командировкам</td>\n",
       "      <td>АХО</td>\n",
       "      <td>Россия</td>\n",
       "      <td>Ангарск</td>\n",
       "      <td>[{'kind': 'Высшее образование', 'form': 'Дневн...</td>\n",
       "      <td>NaN</td>\n",
       "      <td>[{'period': 'июнь 1993 – март 2015', 'length':...</td>\n",
       "      <td>21 год и 10 месяцев</td>\n",
       "      <td>не состоит в браке, есть дети</td>\n",
       "      <td>f</td>\n",
       "      <td>NaN</td>\n",
       "      <td>NaN</td>\n",
       "      <td>Администратор, IT-специалист, диспетчер</td>\n",
       "      <td>NaN</td>\n",
       "      <td>20 000₽</td>\n",
       "      <td>NaN</td>\n",
       "      <td>https://www.superjob.ru/resume/administrator-3...</td>\n",
       "    </tr>\n",
       "    <tr>\n",
       "      <th>5</th>\n",
       "      <td>22</td>\n",
       "      <td>NaN</td>\n",
       "      <td>NaN</td>\n",
       "      <td>Системное администрирование</td>\n",
       "      <td>Россия</td>\n",
       "      <td>Москва</td>\n",
       "      <td>[{'kind': 'Неполное высшее образование', 'form...</td>\n",
       "      <td>NaN</td>\n",
       "      <td>[{'period': 'сентябрь 2017 – декабрь 2017', 'l...</td>\n",
       "      <td>1 год и 2 месяца</td>\n",
       "      <td>NaN</td>\n",
       "      <td>m</td>\n",
       "      <td>NaN</td>\n",
       "      <td>готов к переезду</td>\n",
       "      <td>Администратор, менеджер, IT сфера</td>\n",
       "      <td>https://public.superjob.ru/images/resume_fotos...</td>\n",
       "      <td>45 000₽</td>\n",
       "      <td>[{'professional': 'Отличное знание ПК (Exel, 1...</td>\n",
       "      <td>https://www.superjob.ru/resume/administrator-4...</td>\n",
       "    </tr>\n",
       "    <tr>\n",
       "      <th>6</th>\n",
       "      <td>23</td>\n",
       "      <td>NaN</td>\n",
       "      <td>NaN</td>\n",
       "      <td>Техническая поддержка</td>\n",
       "      <td>Россия</td>\n",
       "      <td>Миллерово</td>\n",
       "      <td>[{'kind': 'Среднее специальное образование', '...</td>\n",
       "      <td>полная занятость</td>\n",
       "      <td>[{'period': 'август 2015 – ноябрь 2017', 'leng...</td>\n",
       "      <td>2 года и 4 месяца</td>\n",
       "      <td>не состоит в браке, детей нет</td>\n",
       "      <td>m</td>\n",
       "      <td>['Английский язык, Базовый']</td>\n",
       "      <td>готов к переезду</td>\n",
       "      <td>Администратор, IT-специалист</td>\n",
       "      <td>https://public.superjob.ru/images/resume_fotos...</td>\n",
       "      <td>20 000₽</td>\n",
       "      <td>[{'professional': 'Поверхностное знание програ...</td>\n",
       "      <td>https://www.superjob.ru/resume/administrator-4...</td>\n",
       "    </tr>\n",
       "    <tr>\n",
       "      <th>7</th>\n",
       "      <td>24</td>\n",
       "      <td>['A — мотоциклы', 'B — легковые авто']</td>\n",
       "      <td>NaN</td>\n",
       "      <td>Сетевые технологии</td>\n",
       "      <td>Россия</td>\n",
       "      <td>Санкт-Петербург</td>\n",
       "      <td>[{'kind': 'Бакалавр', 'form': 'Дистанционная',...</td>\n",
       "      <td>полная занятость</td>\n",
       "      <td>[{'period': 'декабрь 2017 – работает сейчас', ...</td>\n",
       "      <td>4 года и 7 месяцев</td>\n",
       "      <td>NaN</td>\n",
       "      <td>m</td>\n",
       "      <td>['Английский язык, Базовый', 'Эстонский язык, ...</td>\n",
       "      <td>NaN</td>\n",
       "      <td>Администратор компьютерных сетей, техник IT</td>\n",
       "      <td>NaN</td>\n",
       "      <td>45 000₽</td>\n",
       "      <td>[{'professional': 'Диагностика, ремонт неиспра...</td>\n",
       "      <td>https://www.superjob.ru/resume/administrator-k...</td>\n",
       "    </tr>\n",
       "    <tr>\n",
       "      <th>8</th>\n",
       "      <td>30</td>\n",
       "      <td>NaN</td>\n",
       "      <td>не готов к командировкам</td>\n",
       "      <td>Складское хозяйство</td>\n",
       "      <td>Россия</td>\n",
       "      <td>Железнодорожный</td>\n",
       "      <td>[{'kind': 'Высшее образование', 'form': 'Очно-...</td>\n",
       "      <td>полная занятость</td>\n",
       "      <td>[{'period': 'август 2017 – сентябрь 2018', 'le...</td>\n",
       "      <td>6 лет и 2 месяца</td>\n",
       "      <td>cостоит в браке</td>\n",
       "      <td>m</td>\n",
       "      <td>['Английский язык, Базовый']</td>\n",
       "      <td>NaN</td>\n",
       "      <td>Администратор магазина, кладовщик, старший кла...</td>\n",
       "      <td>NaN</td>\n",
       "      <td>50 000₽</td>\n",
       "      <td>NaN</td>\n",
       "      <td>https://www.superjob.ru/resume/administrator-m...</td>\n",
       "    </tr>\n",
       "    <tr>\n",
       "      <th>9</th>\n",
       "      <td>22</td>\n",
       "      <td>NaN</td>\n",
       "      <td>NaN</td>\n",
       "      <td>NaN</td>\n",
       "      <td>Россия</td>\n",
       "      <td>Рязань</td>\n",
       "      <td>[{'kind': 'Высшее образование', 'form': 'Очно-...</td>\n",
       "      <td>полная занятость</td>\n",
       "      <td>[{'period': 'июнь 2014 – август 2018', 'length...</td>\n",
       "      <td>4 года и 3 месяца</td>\n",
       "      <td>NaN</td>\n",
       "      <td>m</td>\n",
       "      <td>['Английский язык, Технический']</td>\n",
       "      <td>NaN</td>\n",
       "      <td>Администратор отдела ГС и ИТ</td>\n",
       "      <td>https://public.superjob.ru/images/resume_fotos...</td>\n",
       "      <td>30 000₽</td>\n",
       "      <td>[{'professional': 'Установка и обслуживание ко...</td>\n",
       "      <td>https://www.superjob.ru/resume/administrator-o...</td>\n",
       "    </tr>\n",
       "  </tbody>\n",
       "</table>\n",
       "</div>"
      ],
      "text/plain": [
       "   age                                    auto            business_trips  \\\n",
       "0   20                                     NaN  не готов к командировкам   \n",
       "1   39                   ['B — легковые авто']                       NaN   \n",
       "2   47                                     NaN                       NaN   \n",
       "3   23                                     NaN                       NaN   \n",
       "4   52                                     NaN  не готов к командировкам   \n",
       "5   22                                     NaN                       NaN   \n",
       "6   23                                     NaN                       NaN   \n",
       "7   24  ['A — мотоциклы', 'B — легковые авто']                       NaN   \n",
       "8   30                                     NaN  не готов к командировкам   \n",
       "9   22                                     NaN                       NaN   \n",
       "\n",
       "                            categories citizenship             city  \\\n",
       "0                          Архитектура      Россия           Ковров   \n",
       "1                Техническая поддержка      Россия           Москва   \n",
       "2  Передача данных и доступ в интернет         NaN      Новосибирск   \n",
       "3                Техническая поддержка         NaN           Самара   \n",
       "4                                  АХО      Россия          Ангарск   \n",
       "5          Системное администрирование      Россия           Москва   \n",
       "6                Техническая поддержка      Россия        Миллерово   \n",
       "7                   Сетевые технологии      Россия  Санкт-Петербург   \n",
       "8                  Складское хозяйство      Россия  Железнодорожный   \n",
       "9                                  NaN      Россия           Рязань   \n",
       "\n",
       "                                           education             employment  \\\n",
       "0  [{'kind': 'Неполное высшее образование', 'form...  неполный рабочий день   \n",
       "1  [{'kind': 'Высшее образование', 'form': 'Дневн...       полная занятость   \n",
       "2  [{'kind': 'Высшее образование', 'form': 'Вечер...       полная занятость   \n",
       "3  [{'kind': 'Высшее образование', 'form': 'Дневн...  сменный график работы   \n",
       "4  [{'kind': 'Высшее образование', 'form': 'Дневн...                    NaN   \n",
       "5  [{'kind': 'Неполное высшее образование', 'form...                    NaN   \n",
       "6  [{'kind': 'Среднее специальное образование', '...       полная занятость   \n",
       "7  [{'kind': 'Бакалавр', 'form': 'Дистанционная',...       полная занятость   \n",
       "8  [{'kind': 'Высшее образование', 'form': 'Очно-...       полная занятость   \n",
       "9  [{'kind': 'Высшее образование', 'form': 'Очно-...       полная занятость   \n",
       "\n",
       "                                          experience    experience_length  \\\n",
       "0  [{'period': 'сентябрь 2017 – март 2018', 'leng...            7 месяцев   \n",
       "1  [{'period': 'октябрь 2017 – работает сейчас', ...               18 лет   \n",
       "2  [{'period': 'февраль 2008 – работает сейчас', ...  12 лет и 10 месяцев   \n",
       "3  [{'period': 'июль 2015 – работает сейчас', 'le...    4 года и 3 месяца   \n",
       "4  [{'period': 'июнь 1993 – март 2015', 'length':...  21 год и 10 месяцев   \n",
       "5  [{'period': 'сентябрь 2017 – декабрь 2017', 'l...     1 год и 2 месяца   \n",
       "6  [{'period': 'август 2015 – ноябрь 2017', 'leng...    2 года и 4 месяца   \n",
       "7  [{'period': 'декабрь 2017 – работает сейчас', ...   4 года и 7 месяцев   \n",
       "8  [{'period': 'август 2017 – сентябрь 2018', 'le...     6 лет и 2 месяца   \n",
       "9  [{'period': 'июнь 2014 – август 2018', 'length...    4 года и 3 месяца   \n",
       "\n",
       "                          family gender  \\\n",
       "0                            NaN      f   \n",
       "1                cостоит в браке      m   \n",
       "2     cостоит в браке, есть дети      m   \n",
       "3                            NaN      f   \n",
       "4  не состоит в браке, есть дети      f   \n",
       "5                            NaN      m   \n",
       "6  не состоит в браке, детей нет      m   \n",
       "7                            NaN      m   \n",
       "8                cостоит в браке      m   \n",
       "9                            NaN      m   \n",
       "\n",
       "                                           languages   metro_or_moving  \\\n",
       "0                         ['Немецкий язык, Базовый']               NaN   \n",
       "1                                                NaN               NaN   \n",
       "2                   ['Английский язык, Технический']    Берёзовая роща   \n",
       "3                                                NaN               NaN   \n",
       "4                                                NaN               NaN   \n",
       "5                                                NaN  готов к переезду   \n",
       "6                       ['Английский язык, Базовый']  готов к переезду   \n",
       "7  ['Английский язык, Базовый', 'Эстонский язык, ...               NaN   \n",
       "8                       ['Английский язык, Базовый']               NaN   \n",
       "9                   ['Английский язык, Технический']               NaN   \n",
       "\n",
       "                                                name  \\\n",
       "0                3D-моделлер, IT стажёр, консультант   \n",
       "1          Администратор, управляющий, IT специалист   \n",
       "2   Администратор / Инженер технической поддержки IT   \n",
       "3  Администратор, IT-специалист, бизнес-аналитик,...   \n",
       "4            Администратор, IT-специалист, диспетчер   \n",
       "5                  Администратор, менеджер, IT сфера   \n",
       "6                       Администратор, IT-специалист   \n",
       "7        Администратор компьютерных сетей, техник IT   \n",
       "8  Администратор магазина, кладовщик, старший кла...   \n",
       "9                       Администратор отдела ГС и ИТ   \n",
       "\n",
       "                                           photo_url   salary  \\\n",
       "0                                                NaN  30 000₽   \n",
       "1  https://public.superjob.ru/images/resume_fotos...  50 000₽   \n",
       "2                                                NaN  30 000₽   \n",
       "3  https://public.superjob.ru/images/resume_fotos...  25 000₽   \n",
       "4                                                NaN  20 000₽   \n",
       "5  https://public.superjob.ru/images/resume_fotos...  45 000₽   \n",
       "6  https://public.superjob.ru/images/resume_fotos...  20 000₽   \n",
       "7                                                NaN  45 000₽   \n",
       "8                                                NaN  50 000₽   \n",
       "9  https://public.superjob.ru/images/resume_fotos...  30 000₽   \n",
       "\n",
       "                                              skills  \\\n",
       "0                                                NaN   \n",
       "1  [{'professional': '• 1С: Предприятие • 1С: Роз...   \n",
       "2  [{'professional': 'Английский язык уровень. Pr...   \n",
       "3  [{'professional': 'Веб-дизайн, photoshop, MS O...   \n",
       "4                                                NaN   \n",
       "5  [{'professional': 'Отличное знание ПК (Exel, 1...   \n",
       "6  [{'professional': 'Поверхностное знание програ...   \n",
       "7  [{'professional': 'Диагностика, ремонт неиспра...   \n",
       "8                                                NaN   \n",
       "9  [{'professional': 'Установка и обслуживание ко...   \n",
       "\n",
       "                                                 url  \n",
       "0  https://www.superjob.ru/resume/3d-modeller-436...  \n",
       "1  https://www.superjob.ru/resume/administrator-2...  \n",
       "2  https://www.superjob.ru/resume/administrator-2...  \n",
       "3  https://www.superjob.ru/resume/administrator-3...  \n",
       "4  https://www.superjob.ru/resume/administrator-3...  \n",
       "5  https://www.superjob.ru/resume/administrator-4...  \n",
       "6  https://www.superjob.ru/resume/administrator-4...  \n",
       "7  https://www.superjob.ru/resume/administrator-k...  \n",
       "8  https://www.superjob.ru/resume/administrator-m...  \n",
       "9  https://www.superjob.ru/resume/administrator-o...  "
      ]
     },
     "execution_count": 177,
     "metadata": {},
     "output_type": "execute_result"
    }
   ],
   "source": [
    "df.head(10)"
   ]
  },
  {
   "cell_type": "code",
   "execution_count": 178,
   "metadata": {},
   "outputs": [
    {
     "data": {
      "text/plain": [
       "Index(['age', 'auto', 'business_trips', 'categories', 'citizenship', 'city',\n",
       "       'education', 'employment', 'experience', 'experience_length', 'family',\n",
       "       'gender', 'languages', 'metro_or_moving', 'name', 'photo_url', 'salary',\n",
       "       'skills', 'url'],\n",
       "      dtype='object')"
      ]
     },
     "execution_count": 178,
     "metadata": {},
     "output_type": "execute_result"
    }
   ],
   "source": [
    "df.columns"
   ]
  },
  {
   "cell_type": "markdown",
   "metadata": {},
   "source": [
    "## Обработка колонок:\n",
    "\n",
    "1. `age` - Возраст\n",
    "2. `auto` - Наличие прав\n",
    "3. `business_trips` - Готовность к командировкам $\\longrightarrow$ **удалили**\n",
    "4. `categories` - Категории сайта \n",
    "5. `citizenship` - Гражданство \n",
    "6. `city` - Город - дало 3 новых признака $\\longrightarrow$ `city_msk`, `city_spb`, `city_other`\n",
    "7. `education` - Образование \n",
    "8. `employment` - Желаемая занятость\n",
    "9. `experience` - Опыт работы\n",
    "10. `experience_length` - Продолжительность опыта работы\n",
    "11. `family` - Семейное положение\n",
    "12. `gender` - Пол\n",
    "13. `languages` - Владение языками\n",
    "14. `metro_or_moving` - Станция метро или готовность к переезду\n",
    "15. `name` - Название вакансии\n",
    "16. `photo_url` - Ссылка на фотографию  $\\longrightarrow$ **удалили**\n",
    "17. `salary`  - Зарплата\n",
    "18. `skills` - Ключевые навыки\n",
    "19. `url` - Ссылка на резюме  $\\longrightarrow$ **удалили**"
   ]
  },
  {
   "cell_type": "markdown",
   "metadata": {},
   "source": [
    "## 1. `age`"
   ]
  },
  {
   "cell_type": "code",
   "execution_count": 179,
   "metadata": {},
   "outputs": [
    {
     "data": {
      "text/plain": [
       "34    99\n",
       "35    99\n",
       "33    98\n",
       "32    96\n",
       "31    95\n",
       "29    93\n",
       "30    92\n",
       "41    85\n",
       "28    85\n",
       "36    83\n",
       "27    82\n",
       "39    75\n",
       "24    74\n",
       "37    74\n",
       "38    73\n",
       "23    72\n",
       "26    68\n",
       "25    67\n",
       "40    63\n",
       "22    62\n",
       "21    61\n",
       "45    59\n",
       "43    58\n",
       "42    56\n",
       "46    51\n",
       "44    51\n",
       "48    45\n",
       "47    34\n",
       "49    33\n",
       "20    31\n",
       "54    30\n",
       "52    30\n",
       "51    27\n",
       "56    27\n",
       "55    26\n",
       "53    26\n",
       "50    22\n",
       "58    13\n",
       "19     9\n",
       "57     9\n",
       "59     7\n",
       "62     5\n",
       "64     5\n",
       "60     3\n",
       "61     3\n",
       "63     3\n",
       "18     3\n",
       "72     2\n",
       "67     1\n",
       "66     1\n",
       "68     1\n",
       "65     1\n",
       "70     1\n",
       "Name: age, dtype: int64"
      ]
     },
     "execution_count": 179,
     "metadata": {},
     "output_type": "execute_result"
    }
   ],
   "source": [
    " df.age.value_counts(dropna=False)"
   ]
  },
  {
   "cell_type": "markdown",
   "metadata": {},
   "source": [
    "## 2. `auto`"
   ]
  },
  {
   "cell_type": "code",
   "execution_count": 180,
   "metadata": {},
   "outputs": [
    {
     "data": {
      "text/plain": [
       "['B — легковые авто']                                                                                 1171\n",
       "NaN                                                                                                    808\n",
       "['B — легковые авто', 'C — грузовые авто']                                                             220\n",
       "['A — мотоциклы', 'B — легковые авто']                                                                  74\n",
       "['A — мотоциклы', 'B — легковые авто', 'C — грузовые авто']                                             52\n",
       "['C — грузовые авто']                                                                                   11\n",
       "['B — легковые авто', 'C — грузовые авто', 'D — автобусы']                                              11\n",
       "['B — легковые авто', 'C — грузовые авто', 'D — автобусы', 'E — авто с прицепом']                        7\n",
       "['B — легковые авто', 'D — автобусы']                                                                    5\n",
       "['A — мотоциклы', 'B — легковые авто', 'C — грузовые авто', 'D — автобусы']                              3\n",
       "['A — мотоциклы', 'B — легковые авто', 'C — грузовые авто', 'D — автобусы', 'E — авто с прицепом']       2\n",
       "['B — легковые авто', 'C — грузовые авто', 'E — авто с прицепом']                                        2\n",
       "['A — мотоциклы']                                                                                        2\n",
       "['A — мотоциклы', 'C — грузовые авто']                                                                   1\n",
       "Name: auto, dtype: int64"
      ]
     },
     "execution_count": 180,
     "metadata": {},
     "output_type": "execute_result"
    }
   ],
   "source": [
    "df.auto.value_counts(dropna=False)"
   ]
  },
  {
   "cell_type": "code",
   "execution_count": 181,
   "metadata": {},
   "outputs": [],
   "source": [
    "df.auto=df.auto.fillna(\"['Нет прав']\")"
   ]
  },
  {
   "cell_type": "markdown",
   "metadata": {},
   "source": [
    "## 3. `business_trips`"
   ]
  },
  {
   "cell_type": "code",
   "execution_count": 182,
   "metadata": {},
   "outputs": [
    {
     "data": {
      "text/plain": [
       "NaN                         1373\n",
       "не готов к командировкам     968\n",
       "на дому                       28\n",
       "Name: business_trips, dtype: int64"
      ]
     },
     "execution_count": 182,
     "metadata": {},
     "output_type": "execute_result"
    }
   ],
   "source": [
    "df.business_trips.value_counts(dropna=False)"
   ]
  },
  {
   "cell_type": "markdown",
   "metadata": {},
   "source": [
    "Много NaN, выкидываем."
   ]
  },
  {
   "cell_type": "code",
   "execution_count": 183,
   "metadata": {},
   "outputs": [],
   "source": [
    "df = df.drop('business_trips', axis=1)"
   ]
  },
  {
   "cell_type": "markdown",
   "metadata": {},
   "source": [
    "## 4. `categories`"
   ]
  },
  {
   "cell_type": "code",
   "execution_count": 184,
   "metadata": {},
   "outputs": [
    {
     "data": {
      "text/plain": [
       "Системное администрирование                      552\n",
       "NaN                                              467\n",
       "Техническая поддержка                            358\n",
       "IT, Интернет, связь, телеком                     238\n",
       "Инжиниринг                                       184\n",
       "Администрирование баз данных                      80\n",
       "Административная работа, секретариат, АХО         64\n",
       "Сетевые технологии                                49\n",
       "Разработка, программирование                      41\n",
       "Передача данных и доступ в интернет               38\n",
       "Управление проектами                              34\n",
       "Аналитика                                         31\n",
       "Интернет, создание и поддержка сайтов             23\n",
       "Другое                                            18\n",
       "Электронный документооборот                       15\n",
       "Внедрение и сопровождение ПО                      12\n",
       "Делопроизводство, ввод данных, систематизация     11\n",
       "Компьютеры, оргтехника, ПО                         9\n",
       "Call Center                                        8\n",
       "Системная интеграция                               8\n",
       "Web-верстка                                        8\n",
       "Телекоммуникации и связь                           7\n",
       "Косметика, бытовая химия                           6\n",
       "Оптимизация, SEO                                   6\n",
       "Контент                                            6\n",
       "Диспетчерская служба                               6\n",
       "Строительно-монтажные и отделочные работы          5\n",
       "Высшее образование                                 5\n",
       "Игровое ПО / Геймдевелопмент                       4\n",
       "Государственная гражданская служба                 3\n",
       "                                                ... \n",
       "Архитектура                                        1\n",
       "ВЭД                                                1\n",
       "Компьютерная анимация и мультимедиа                1\n",
       "Кассовые операции                                  1\n",
       "Web, UI, UX дизайн                                 1\n",
       "Закупки, снабжение                                 1\n",
       "Автосервис                                         1\n",
       "Эксплуатация зданий                                1\n",
       "Атомная энергетика                                 1\n",
       "ЖКХ                                                1\n",
       "Защита информации                                  1\n",
       "Стратегический консалтинг                          1\n",
       "Услуги для бизнеса                                 1\n",
       "Сотовые, беспроводные технологии                   1\n",
       "IT-консалтинг                                      1\n",
       "Продажи                                            1\n",
       "Консалтинг, стратегическое развитие                1\n",
       "Бытовая техника, электроника, фото, видео          1\n",
       "Переводы                                           1\n",
       "Слаботочные системы и сети                         1\n",
       "Проектирование                                     1\n",
       "Видеонаблюдение                                    1\n",
       "Рекрутмент, подбор персонала                       1\n",
       "Секретариат, ресепшн, офис-менеджмент              1\n",
       "Машиностроение, станкостроение                     1\n",
       "Автомобили, запчасти                               1\n",
       "Складское хозяйство                                1\n",
       "Начало карьеры, мало опыта                         1\n",
       "Музыка, пение                                      1\n",
       "Бренд-менеджмент, продакт-менеджмент               1\n",
       "Name: categories, Length: 82, dtype: int64"
      ]
     },
     "execution_count": 184,
     "metadata": {},
     "output_type": "execute_result"
    }
   ],
   "source": [
    "df.categories.value_counts(dropna=False)"
   ]
  },
  {
   "cell_type": "code",
   "execution_count": 185,
   "metadata": {},
   "outputs": [],
   "source": [
    "df.categories=df.categories.fillna('Не указано')"
   ]
  },
  {
   "cell_type": "markdown",
   "metadata": {},
   "source": [
    "## 5. `citizenship`"
   ]
  },
  {
   "cell_type": "code",
   "execution_count": 186,
   "metadata": {},
   "outputs": [
    {
     "data": {
      "text/plain": [
       "Россия               1615\n",
       "NaN                   727\n",
       "Украина                 8\n",
       "Казахстан               7\n",
       "Кыргызстан              3\n",
       "Азербайджан             3\n",
       "Беларусь                2\n",
       "Таджикистан             1\n",
       "Литва                   1\n",
       "Дальнее зарубежье       1\n",
       "Молдова                 1\n",
       "Name: citizenship, dtype: int64"
      ]
     },
     "execution_count": 186,
     "metadata": {},
     "output_type": "execute_result"
    }
   ],
   "source": [
    "df.citizenship.value_counts(dropna=False)"
   ]
  },
  {
   "cell_type": "markdown",
   "metadata": {},
   "source": [
    "## 6. `city`"
   ]
  },
  {
   "cell_type": "code",
   "execution_count": 187,
   "metadata": {},
   "outputs": [
    {
     "data": {
      "text/plain": [
       "Москва                                 720\n",
       "Санкт-Петербург                        293\n",
       "Хабаровск                               64\n",
       "Уфа                                     55\n",
       "Иркутск                                 51\n",
       "Ростов-на-Дону                          48\n",
       "Краснодар                               33\n",
       "Самара                                  32\n",
       "Казань                                  27\n",
       "Саратов                                 27\n",
       "Рязань                                  26\n",
       "Нижний Новгород                         24\n",
       "Пенза                                   23\n",
       "Ульяновск                               23\n",
       "Волгоград                               22\n",
       "Воронеж                                 20\n",
       "Оренбург                                19\n",
       "Тверь                                   17\n",
       "Сыктывкар                               17\n",
       "Владимир                                16\n",
       "Смоленск                                16\n",
       "Екатеринбург                            16\n",
       "Челябинск                               16\n",
       "Астрахань                               15\n",
       "Тюмень                                  15\n",
       "Тольятти                                15\n",
       "Красноярск                              14\n",
       "Курск                                   14\n",
       "Новосибирск                             14\n",
       "Омск                                    13\n",
       "                                      ... \n",
       "Железногорск (Курская область)           1\n",
       "Гусь-Хрустальный                         1\n",
       "Удомля                                   1\n",
       "Бийск                                    1\n",
       "Керчь                                    1\n",
       "Гурзуф                                   1\n",
       "Зеленокумск                              1\n",
       "Шадринск                                 1\n",
       "Чайковский                               1\n",
       "Новоаннинский                            1\n",
       "Краснознаменск (Московская область)      1\n",
       "Московский                               1\n",
       "Мишкино (Республика Башкортостан)        1\n",
       "Урюпинск                                 1\n",
       "Можга                                    1\n",
       "Усинск                                   1\n",
       "Лазаревское                              1\n",
       "Тосно                                    1\n",
       "Касимов                                  1\n",
       "Первоуральск                             1\n",
       "Тында                                    1\n",
       "Абакан                                   1\n",
       "Магадан                                  1\n",
       "Заполярный                               1\n",
       "Междуреченск                             1\n",
       "Кировск (Ленинградская обл.)             1\n",
       "Жигулевск                                1\n",
       "Радужный (Тюменская область)             1\n",
       "Щелково                                  1\n",
       "Бодайбо                                  1\n",
       "Name: city, Length: 263, dtype: int64"
      ]
     },
     "execution_count": 187,
     "metadata": {},
     "output_type": "execute_result"
    }
   ],
   "source": [
    "df.city.value_counts(dropna=False)"
   ]
  },
  {
   "cell_type": "markdown",
   "metadata": {},
   "source": [
    "Оставим 3 признака: Москва, Санкт-Петербург, другие регионы"
   ]
  },
  {
   "cell_type": "code",
   "execution_count": 188,
   "metadata": {},
   "outputs": [
    {
     "data": {
      "text/plain": [
       "(2369, 20)"
      ]
     },
     "execution_count": 188,
     "metadata": {},
     "output_type": "execute_result"
    }
   ],
   "source": [
    "ctgr = pd.get_dummies(df.city)\n",
    "ctgr\n",
    "city_msk = ctgr['Москва']\n",
    "city_spb = ctgr['Санкт-Петербург']\n",
    "ctgr = ctgr.drop(['Москва', 'Санкт-Петербург'], axis=1)\n",
    "city_other = np.sum(ctgr.values, axis=1)\n",
    "df['city_msk'] = city_Msk\n",
    "df['city_spb'] = city_Spb\n",
    "df['city_other'] = city_oth\n",
    "df = df.drop(['city'], axis=1)\n",
    "df.shape"
   ]
  },
  {
   "cell_type": "markdown",
   "metadata": {},
   "source": [
    "## 7. `education`"
   ]
  },
  {
   "cell_type": "markdown",
   "metadata": {},
   "source": [
    "## 8. `employment`"
   ]
  },
  {
   "cell_type": "code",
   "execution_count": 189,
   "metadata": {},
   "outputs": [
    {
     "data": {
      "text/plain": [
       "полная занятость           1180\n",
       "NaN                        1107\n",
       "неполный рабочий день        33\n",
       "сменный график работы        25\n",
       "частичная занятость          13\n",
       "работа вахтовым методом      11\n",
       "Name: employment, dtype: int64"
      ]
     },
     "execution_count": 189,
     "metadata": {},
     "output_type": "execute_result"
    }
   ],
   "source": [
    "df.employment.value_counts(dropna=False)"
   ]
  },
  {
   "cell_type": "code",
   "execution_count": 190,
   "metadata": {},
   "outputs": [],
   "source": [
    "df.employment=df.employment.fillna(\"Не указано\")"
   ]
  },
  {
   "cell_type": "markdown",
   "metadata": {},
   "source": [
    "## 9. `experience`"
   ]
  },
  {
   "cell_type": "markdown",
   "metadata": {},
   "source": [
    "## 10. `experience_length`"
   ]
  },
  {
   "cell_type": "code",
   "execution_count": 191,
   "metadata": {},
   "outputs": [
    {
     "data": {
      "text/plain": [
       "NaN                    126\n",
       "7 лет и 3 месяца        19\n",
       "14 лет и 4 месяца       18\n",
       "5 лет и 10 месяцев      15\n",
       "10 лет и 6 месяцев      15\n",
       "11 лет и 4 месяца       15\n",
       "9 лет и 7 месяцев       15\n",
       "11 лет и 11 месяцев     15\n",
       "12 лет и 8 месяцев      15\n",
       "7 лет и 2 месяца        14\n",
       "6 лет                   14\n",
       "13 лет и 11 месяцев     14\n",
       "10 лет и 2 месяца       14\n",
       "7 лет и 8 месяцев       14\n",
       "3 года и 6 месяцев      14\n",
       "2 года и 5 месяцев      13\n",
       "16 лет и 2 месяца       13\n",
       "10 лет и 3 месяца       13\n",
       "9 лет и 6 месяцев       13\n",
       "1 год и 4 месяца        13\n",
       "6 лет и 6 месяцев       13\n",
       "7 лет и 9 месяцев       12\n",
       "6 лет и 11 месяцев      12\n",
       "13 лет и 2 месяца       12\n",
       "16 лет и 5 месяцев      12\n",
       "9 лет и 11 месяцев      12\n",
       "12 лет и 5 месяцев      12\n",
       "18 лет и 5 месяцев      12\n",
       "8 лет и 6 месяцев       12\n",
       "2 года и 10 месяцев     12\n",
       "                      ... \n",
       "19 лет и 10 месяцев      1\n",
       "25 лет и 4 месяца        1\n",
       "26 лет и 8 месяцев       1\n",
       "32 года и 2 месяца       1\n",
       "38 лет                   1\n",
       "41 год и 3 месяца        1\n",
       "25 лет и 1 месяц         1\n",
       "30 лет и 11 месяцев      1\n",
       "25 лет и 6 месяцев       1\n",
       "25 лет и 2 месяца        1\n",
       "33 года и 7 месяцев      1\n",
       "26 лет и 6 месяцев       1\n",
       "26 лет и 7 месяцев       1\n",
       "30 лет и 6 месяцев       1\n",
       "25 лет и 11 месяцев      1\n",
       "27 лет и 5 месяцев       1\n",
       "32 года и 6 месяцев      1\n",
       "28 лет и 5 месяцев       1\n",
       "31 год и 7 месяцев       1\n",
       "35 лет и 5 месяцев       1\n",
       "26 лет и 10 месяцев      1\n",
       "27 лет и 9 месяцев       1\n",
       "25 лет и 9 месяцев       1\n",
       "23 года и 6 месяцев      1\n",
       "26 лет и 2 месяца        1\n",
       "39 лет и 10 месяцев      1\n",
       "31 год и 6 месяцев       1\n",
       "43 года и 3 месяца       1\n",
       "32 года и 9 месяцев      1\n",
       "1 месяц                  1\n",
       "Name: experience_length, Length: 380, dtype: int64"
      ]
     },
     "execution_count": 191,
     "metadata": {},
     "output_type": "execute_result"
    }
   ],
   "source": [
    "df.experience_length.value_counts(dropna=False)"
   ]
  },
  {
   "cell_type": "code",
   "execution_count": 192,
   "metadata": {},
   "outputs": [],
   "source": [
    "df = df.dropna(subset=['experience_length'])"
   ]
  },
  {
   "cell_type": "code",
   "execution_count": 193,
   "metadata": {},
   "outputs": [
    {
     "data": {
      "text/plain": [
       "(2243, 20)"
      ]
     },
     "execution_count": 193,
     "metadata": {},
     "output_type": "execute_result"
    }
   ],
   "source": [
    "df.shape"
   ]
  },
  {
   "cell_type": "code",
   "execution_count": 194,
   "metadata": {},
   "outputs": [],
   "source": [
    "df.index = np.arange(df.shape[0])"
   ]
  },
  {
   "cell_type": "code",
   "execution_count": 195,
   "metadata": {},
   "outputs": [],
   "source": [
    "def period_to_month(string):\n",
    "    s = string.split()\n",
    "    if len(s) == 2:\n",
    "        if (s[1] == 'год') or (s[1] == 'года') or (s[1] == 'лет'):\n",
    "            return int(s[0]) * 12\n",
    "        return int(s[0])\n",
    "    return int(s[0]) * 12 + int(s[3])"
   ]
  },
  {
   "cell_type": "code",
   "execution_count": 196,
   "metadata": {},
   "outputs": [],
   "source": [
    "pers = df.experience_length.copy()"
   ]
  },
  {
   "cell_type": "code",
   "execution_count": 197,
   "metadata": {},
   "outputs": [
    {
     "data": {
      "text/plain": [
       "False"
      ]
     },
     "execution_count": 197,
     "metadata": {},
     "output_type": "execute_result"
    }
   ],
   "source": [
    "pers is df.experience_length"
   ]
  },
  {
   "cell_type": "code",
   "execution_count": 198,
   "metadata": {},
   "outputs": [],
   "source": [
    "for i in pers.index:\n",
    "    pers.values[i] = period_to_month(pers.values[i])"
   ]
  },
  {
   "cell_type": "code",
   "execution_count": 199,
   "metadata": {},
   "outputs": [
    {
     "data": {
      "text/plain": [
       "0         7\n",
       "1       216\n",
       "2       154\n",
       "3        51\n",
       "4       262\n",
       "5        14\n",
       "6        28\n",
       "7        55\n",
       "8        74\n",
       "9        51\n",
       "10       59\n",
       "11      224\n",
       "12        3\n",
       "13       78\n",
       "14      172\n",
       "15      361\n",
       "16      411\n",
       "17      111\n",
       "18      250\n",
       "19      183\n",
       "20      284\n",
       "21      216\n",
       "22      280\n",
       "23      381\n",
       "24      186\n",
       "25      126\n",
       "26      128\n",
       "27       42\n",
       "28      268\n",
       "29      167\n",
       "       ... \n",
       "2213    121\n",
       "2214    283\n",
       "2215    283\n",
       "2216    207\n",
       "2217    244\n",
       "2218    167\n",
       "2219    121\n",
       "2220    179\n",
       "2221    165\n",
       "2222    389\n",
       "2223    334\n",
       "2224    245\n",
       "2225     97\n",
       "2226    194\n",
       "2227    211\n",
       "2228    154\n",
       "2229    268\n",
       "2230     75\n",
       "2231    298\n",
       "2232    156\n",
       "2233    194\n",
       "2234    339\n",
       "2235    156\n",
       "2236    146\n",
       "2237     66\n",
       "2238    180\n",
       "2239    347\n",
       "2240    229\n",
       "2241     34\n",
       "2242     72\n",
       "Name: experience_length, Length: 2243, dtype: object"
      ]
     },
     "execution_count": 199,
     "metadata": {},
     "output_type": "execute_result"
    }
   ],
   "source": [
    "df.experience_length = pers\n",
    "df.experience_length"
   ]
  },
  {
   "cell_type": "markdown",
   "metadata": {},
   "source": [
    "## 11. `family`"
   ]
  },
  {
   "cell_type": "code",
   "execution_count": 200,
   "metadata": {},
   "outputs": [
    {
     "data": {
      "text/plain": [
       "cостоит в браке, есть дети       799\n",
       "NaN                              621\n",
       "не состоит в браке, детей нет    487\n",
       "cостоит в браке, детей нет       163\n",
       "не состоит в браке, есть дети    109\n",
       "cостоит в браке                   36\n",
       "не состоит в браке                24\n",
       "есть дети                          3\n",
       "детей нет                          1\n",
       "Name: family, dtype: int64"
      ]
     },
     "execution_count": 200,
     "metadata": {},
     "output_type": "execute_result"
    }
   ],
   "source": [
    "df.family.value_counts(dropna=False)"
   ]
  },
  {
   "cell_type": "markdown",
   "metadata": {},
   "source": [
    "## 12. `gender`"
   ]
  },
  {
   "cell_type": "code",
   "execution_count": 201,
   "metadata": {},
   "outputs": [],
   "source": [
    "gender = pd.get_dummies(df.gender)\n",
    "df['gender'] = gender.f"
   ]
  },
  {
   "cell_type": "markdown",
   "metadata": {},
   "source": [
    "## 13. `languages`"
   ]
  },
  {
   "cell_type": "code",
   "execution_count": 202,
   "metadata": {},
   "outputs": [
    {
     "data": {
      "text/plain": [
       "['Английский язык, Технический']                                                                                                                               804\n",
       "NaN                                                                                                                                                            496\n",
       "['Английский язык, Базовый']                                                                                                                                   435\n",
       "['Английский язык, Разговорный']                                                                                                                               157\n",
       "['Английский язык, Технический', 'Немецкий язык, Базовый']                                                                                                      47\n",
       "['Английский язык, Базовый', 'Немецкий язык, Базовый']                                                                                                          42\n",
       "['Английский язык, Cвободное владение']                                                                                                                         39\n",
       "['Английский язык, Технический', 'Русский язык, Cвободное владение']                                                                                            16\n",
       "['Английский язык, Технический', 'Немецкий язык, Технический']                                                                                                  16\n",
       "['Английский язык, Разговорный', 'Немецкий язык, Базовый']                                                                                                      11\n",
       "['Немецкий язык, Базовый']                                                                                                                                      10\n",
       "['Английский язык, Технический', 'Французский язык, Базовый']                                                                                                   10\n",
       "['Английский язык, Базовый', 'Русский язык, Cвободное владение']                                                                                                 9\n",
       "['Английский язык, Разговорный', 'Русский язык, Cвободное владение']                                                                                             8\n",
       "['Английский язык, Технический', 'Испанский язык, Базовый']                                                                                                      7\n",
       "['Английский язык, Разговорный', 'Французский язык, Базовый']                                                                                                    6\n",
       "['Английский язык, Технический', 'Немецкий язык, Базовый', 'Русский язык, Cвободное владение']                                                                   6\n",
       "['Английский язык, Технический', 'Французский язык, Разговорный']                                                                                                5\n",
       "['Английский язык, Технический', 'Немецкий язык, Разговорный']                                                                                                   5\n",
       "['Английский язык, Cвободное владение', 'Немецкий язык, Базовый']                                                                                                5\n",
       "['Английский язык, Разговорный', 'Немецкий язык, Технический']                                                                                                   4\n",
       "['Английский язык, Базовый', 'Французский язык, Базовый']                                                                                                        4\n",
       "['Английский язык, Технический', 'Украинский язык, Разговорный']                                                                                                 4\n",
       "['Английский язык, Базовый', 'Немецкий язык, Базовый', 'Русский язык, Cвободное владение']                                                                       3\n",
       "['Английский язык, Технический', 'Украинский язык, Cвободное владение']                                                                                          3\n",
       "['Английский язык, Технический', 'Казахский язык, Разговорный', 'Русский язык, Cвободное владение']                                                              3\n",
       "['Английский язык, Cвободное владение', 'Немецкий язык, Cвободное владение']                                                                                     3\n",
       "['Английский язык, Базовый', 'Немецкий язык, Технический']                                                                                                       2\n",
       "['Английский язык, Технический', 'Французский язык, Технический']                                                                                                2\n",
       "['Английский язык, Cвободное владение', 'Немецкий язык, Разговорный']                                                                                            2\n",
       "                                                                                                                                                              ... \n",
       "['Английский язык, Базовый', 'Молдавский язык, Cвободное владение']                                                                                              1\n",
       "['Турецкий язык, Cвободное владение', 'Азербайджанский язык, Cвободное владение', 'Русский язык, Cвободное владение', 'Талышский язык, Cвободное владение']      1\n",
       "['Английский язык, Базовый', 'Украинский язык, Разговорный', 'Русский язык, Cвободное владение']                                                                 1\n",
       "['Английский язык, Базовый', 'Турецкий язык, Базовый']                                                                                                           1\n",
       "['Болгарский язык, Разговорный']                                                                                                                                 1\n",
       "['Английский язык, Разговорный', 'Русский язык, Разговорный']                                                                                                    1\n",
       "['Английский язык, Базовый', 'Французский язык, Технический']                                                                                                    1\n",
       "['Английский язык, Технический', 'Башкирский язык, Базовый', 'Татарский язык, Базовый']                                                                          1\n",
       "['Английский язык, Технический', 'Литовский язык, Cвободное владение', 'Русский язык, Cвободное владение']                                                       1\n",
       "['Английский язык, Cвободное владение', 'Французский язык, Cвободное владение']                                                                                  1\n",
       "['Английский язык, Cвободное владение', 'Французский язык, Базовый', 'Испанский язык, Базовый']                                                                  1\n",
       "['Английский язык, Разговорный', 'Украинский язык, Разговорный']                                                                                                 1\n",
       "['Английский язык, Технический', 'Иврит, Базовый', 'Турецкий язык, Разговорный']                                                                                 1\n",
       "['Английский язык, Технический', 'Белорусский язык, Разговорный']                                                                                                1\n",
       "['Английский язык, Cвободное владение', 'Французский язык, Cвободное владение', 'Арабский язык, Cвободное владение']                                             1\n",
       "['Английский язык, Разговорный', 'Чешский язык, Разговорный']                                                                                                    1\n",
       "['Английский язык, Разговорный', 'Испанский язык, Базовый']                                                                                                      1\n",
       "['Английский язык, Разговорный', 'Немецкий язык, Базовый', 'Чешский язык, Базовый']                                                                              1\n",
       "['Английский язык, Разговорный', 'Французский язык, Разговорный', 'Итальянский язык, Базовый']                                                                   1\n",
       "['Английский язык, Базовый', 'Эстонский язык, Базовый']                                                                                                          1\n",
       "['Немецкий язык, Разговорный']                                                                                                                                   1\n",
       "['Английский язык, Базовый', 'Эсперанто, Разговорный']                                                                                                           1\n",
       "['Английский язык, Технический', 'Китайский язык, Базовый']                                                                                                      1\n",
       "['Английский язык, Разговорный', 'Арабский язык, Базовый', 'Китайский язык, Базовый', 'Русский язык, Cвободное владение']                                        1\n",
       "['Английский язык, Разговорный', 'Немецкий язык, Базовый', 'Латышский язык, Cвободное владение']                                                                 1\n",
       "['Английский язык, Технический', 'Тайский язык, Разговорный']                                                                                                    1\n",
       "['Английский язык, Разговорный', 'Турецкий язык, Cвободное владение']                                                                                            1\n",
       "['Английский язык, Технический', 'Чешский язык, Базовый']                                                                                                        1\n",
       "['Английский язык, Технический', 'Татарский язык, Cвободное владение']                                                                                           1\n",
       "['Английский язык, Cвободное владение', 'Турецкий язык, Базовый']                                                                                                1\n",
       "Name: languages, Length: 105, dtype: int64"
      ]
     },
     "execution_count": 202,
     "metadata": {},
     "output_type": "execute_result"
    }
   ],
   "source": [
    "df.languages.value_counts(dropna=False)"
   ]
  },
  {
   "cell_type": "markdown",
   "metadata": {},
   "source": [
    "## 14. `metro_or_moving`"
   ]
  },
  {
   "cell_type": "code",
   "execution_count": 203,
   "metadata": {},
   "outputs": [
    {
     "data": {
      "text/plain": [
       "NaN                                            1267\n",
       "готов к переезду                                518\n",
       "Пражская                                         11\n",
       "Улица Дыбенко                                     8\n",
       "Комендантский проспект                            8\n",
       "Новогиреево                                       6\n",
       "Ладожская                                         6\n",
       "Ботанический садВДНХ                              6\n",
       "Медведково                                        6\n",
       "Выхино                                            6\n",
       "Проспект Ветеранов                                6\n",
       "Планерная                                         5\n",
       "Коломенская                                       5\n",
       "Новокосино                                        5\n",
       "Проспект Большевиков                              5\n",
       "Академическая                                     5\n",
       "Щелковская                                        5\n",
       "Первомайская                                      5\n",
       "Люблино                                           4\n",
       "Перово                                            4\n",
       "Саларьево                                         4\n",
       "Строгино                                          4\n",
       "Бибирево                                          4\n",
       "Домодедовская                                     4\n",
       "Войковская                                        4\n",
       "Бульвар Рокоссовского                             4\n",
       "Московская                                        4\n",
       "Бабушкинская                                      4\n",
       "Пионерская и ещё 2                                4\n",
       "Девяткино                                         4\n",
       "                                               ... \n",
       "Коньково                                          1\n",
       "ПрофсоюзнаяНахимовский проспект                   1\n",
       "ПрофсоюзнаяНовые Черемушки                        1\n",
       "Площадь Мужества                                  1\n",
       "Электрозаводская                                  1\n",
       "Орехово                                           1\n",
       "ТаганскаяВыхино                                   1\n",
       "АэропортНовогиреево                               1\n",
       "Сенная площадь                                    1\n",
       "Новослободская                                    1\n",
       "Удельная и ещё 2                                  1\n",
       "Речной вокзалАлтуфьево                            1\n",
       "Кантемировская                                    1\n",
       "Новоясеневская                                    1\n",
       "БелорусскаяДинамо                                 1\n",
       "Преображенская площадь                            1\n",
       "Площадь ЛенинаГорьковская                         1\n",
       "Канавинская                                       1\n",
       "Речной вокзалХоврино                              1\n",
       "ЩукинскаяСтрогино                                 1\n",
       "Бунинская аллея                                   1\n",
       "Обводный канал                                    1\n",
       "Бульвар Дмитрия ДонскогоУлица Скобелевская        1\n",
       "Улица 1905 года                                   1\n",
       "Красногвардейская и ещё 2                         1\n",
       "ХовриноСелигерская                                1\n",
       "Площадь Мужества и ещё 2                          1\n",
       "Бульвар РокоссовскогоПреображенская площадь       1\n",
       "ВыхиноНовокосино                                  1\n",
       "Безымянка                                         1\n",
       "Name: metro_or_moving, Length: 240, dtype: int64"
      ]
     },
     "execution_count": 203,
     "metadata": {},
     "output_type": "execute_result"
    }
   ],
   "source": [
    "df.metro_or_moving.value_counts(dropna=False)"
   ]
  },
  {
   "cell_type": "markdown",
   "metadata": {},
   "source": [
    "## 15. `name`"
   ]
  },
  {
   "cell_type": "code",
   "execution_count": 204,
   "metadata": {},
   "outputs": [
    {
     "data": {
      "text/plain": [
       "Системный администратор, IT-специалист                                                                                                 394\n",
       "IT-специалист                                                                                                                          178\n",
       "IT специалист                                                                                                                           67\n",
       "ИТ-специалист                                                                                                                           48\n",
       "Руководитель IT-отдела                                                                                                                  37\n",
       "Инженер IT                                                                                                                              29\n",
       "Руководитель отдела ИТ                                                                                                                  27\n",
       "Руководитель IT отдела                                                                                                                  23\n",
       "It-специалист                                                                                                                           21\n",
       "Ведущий специалист ИТ                                                                                                                   20\n",
       "Инженер ИТ                                                                                                                              19\n",
       "Руководитель ИТ отдела                                                                                                                  19\n",
       "Начальник отдела ИТ                                                                                                                     18\n",
       "Специалист ИТ                                                                                                                           16\n",
       "Специалист по IT                                                                                                                        16\n",
       "Специалист IT                                                                                                                           15\n",
       "Специалист IT-отдела                                                                                                                    10\n",
       "Руководитель ИТ                                                                                                                          9\n",
       "Руководитель IT-проектов                                                                                                                 9\n",
       "IT директор                                                                                                                              8\n",
       "Руководитель IT                                                                                                                          8\n",
       "Менеджер IT-проектов                                                                                                                     8\n",
       "IT-директор                                                                                                                              8\n",
       "Директор ИТ                                                                                                                              8\n",
       "Системный администратор / IT-специалист                                                                                                  8\n",
       "Руководитель ИТ-отдела                                                                                                                   7\n",
       "Начальник IT-отдела                                                                                                                      7\n",
       "Специалист IT отдела                                                                                                                     7\n",
       "Начальник IT отдела                                                                                                                      7\n",
       "Руководитель ИТ-проектов                                                                                                                 7\n",
       "                                                                                                                                      ... \n",
       "Руководитель IT, заместитель директора по IT                                                                                             1\n",
       "Системный администратор, специалист ИТ                                                                                                   1\n",
       "Инженер, инженер IT, инженер-электроник, инженер-электрик, инженер по медицинскому оборудованию                                          1\n",
       "Директор департамента IT                                                                                                                 1\n",
       "Сервис-инженер в отдел ИТ                                                                                                                1\n",
       "Руководитель IT-службы, Заместитель директора по ИТ, Project Manager, Старший системный администратор, Ведущий специалист ИТ-систем      1\n",
       "IT-специалист, Графический дизайнер, Графика                                                                                             1\n",
       "Руководитель ИТ инфраструктуры                                                                                                           1\n",
       "IT-инженер, системный администратор                                                                                                      1\n",
       "Инженер связи / Инженер IT-технологий                                                                                                    1\n",
       "IT-специалист, Специалист АСУ ТП                                                                                                         1\n",
       "Специалист ИТ, руководитель проекта по автоматизации управления бизнесом / ERP                                                           1\n",
       "Руководитель IT-подразделения, службы АСУТП, КИПиА                                                                                       1\n",
       "Системный администратор, IT-специалист,1с программист                                                                                    1\n",
       "Ведущий системный администратор, ИТ специалист                                                                                           1\n",
       "Руководитель / специалист подразделения ИТ                                                                                               1\n",
       "Инженер-программист, IT-специалист, инженер-проектировщик                                                                                1\n",
       "Начальник IT-отдела, системный администратор, инженер связи, специалист технической поддержки, сервис-инженер                            1\n",
       "Руководитель IT отдела / Системный администратор                                                                                         1\n",
       "Инженер IT и AV оборудования / Звукорежиссер / Инженер Catalyst PM HD                                                                    1\n",
       "Ведущий специалист ИТ, Программист 1С                                                                                                    1\n",
       "Младший специалист информационной безопасности, программист, it                                                                          1\n",
       "Технический директор (начальник отдела IT, ВЭД, логист)                                                                                  1\n",
       "Cпециалист по IT, HelpDesk                                                                                                               1\n",
       "Cпециалист ИТ                                                                                                                            1\n",
       "Системный администратор, инженер IT, инженер по КИПиА                                                                                    1\n",
       "ИТ-инженер                                                                                                                               1\n",
       "Системный администратор, Помощник системного администратора, Сервисный инженер, IT-специалист                                            1\n",
       "Специалист IT, программист, электронщик                                                                                                  1\n",
       "Системный администратор / заместитель начальника ИТ отдела / начальник ИТ отдела                                                         1\n",
       "Name: name, Length: 1074, dtype: int64"
      ]
     },
     "execution_count": 204,
     "metadata": {},
     "output_type": "execute_result"
    }
   ],
   "source": [
    "df.name.value_counts(dropna=False)"
   ]
  },
  {
   "cell_type": "code",
   "execution_count": 205,
   "metadata": {},
   "outputs": [
    {
     "data": {
      "text/plain": [
       "(1074,)"
      ]
     },
     "execution_count": 205,
     "metadata": {},
     "output_type": "execute_result"
    }
   ],
   "source": [
    "df.name.unique().shape"
   ]
  },
  {
   "cell_type": "markdown",
   "metadata": {},
   "source": [
    "## 16. `photo_url`"
   ]
  },
  {
   "cell_type": "code",
   "execution_count": 206,
   "metadata": {},
   "outputs": [],
   "source": [
    "df = df.drop('photo_url', axis=1)"
   ]
  },
  {
   "cell_type": "markdown",
   "metadata": {},
   "source": [
    "## 17. `salary`"
   ]
  },
  {
   "cell_type": "code",
   "execution_count": 207,
   "metadata": {},
   "outputs": [],
   "source": [
    "df.salary=df.salary.apply(lambda x: int(x[:-1].replace(\" \", '')))"
   ]
  },
  {
   "cell_type": "code",
   "execution_count": 208,
   "metadata": {},
   "outputs": [
    {
     "data": {
      "text/plain": [
       "<bound method IndexOpsMixin.value_counts of 0        30000\n",
       "1        50000\n",
       "2        30000\n",
       "3        25000\n",
       "4        20000\n",
       "5        45000\n",
       "6        20000\n",
       "7        45000\n",
       "8        50000\n",
       "9        30000\n",
       "10       20000\n",
       "11       30000\n",
       "12       35000\n",
       "13       60000\n",
       "14       30000\n",
       "15       75000\n",
       "16       75000\n",
       "17       20000\n",
       "18      150000\n",
       "19      150000\n",
       "20       70000\n",
       "21      280000\n",
       "22      240000\n",
       "23       90000\n",
       "24       80000\n",
       "25       20000\n",
       "26       50000\n",
       "27       50000\n",
       "28      100000\n",
       "29      150000\n",
       "         ...  \n",
       "2213    175000\n",
       "2214     80000\n",
       "2215     80000\n",
       "2216    150000\n",
       "2217    200000\n",
       "2218     50000\n",
       "2219    120000\n",
       "2220     70000\n",
       "2221    130000\n",
       "2222     50000\n",
       "2223    120000\n",
       "2224     55000\n",
       "2225     50000\n",
       "2226    100000\n",
       "2227    150000\n",
       "2228    120000\n",
       "2229     50000\n",
       "2230     25000\n",
       "2231     60000\n",
       "2232    100000\n",
       "2233     50000\n",
       "2234     50000\n",
       "2235     60000\n",
       "2236    110000\n",
       "2237     30000\n",
       "2238    150000\n",
       "2239    150000\n",
       "2240     40000\n",
       "2241     45000\n",
       "2242     80000\n",
       "Name: salary, Length: 2243, dtype: int64>"
      ]
     },
     "execution_count": 208,
     "metadata": {},
     "output_type": "execute_result"
    }
   ],
   "source": [
    "df.salary.value_counts"
   ]
  },
  {
   "cell_type": "markdown",
   "metadata": {},
   "source": [
    "## 18. `skills`"
   ]
  },
  {
   "cell_type": "code",
   "execution_count": 209,
   "metadata": {},
   "outputs": [
    {
     "data": {
      "text/plain": [
       "(1882,)"
      ]
     },
     "execution_count": 209,
     "metadata": {},
     "output_type": "execute_result"
    }
   ],
   "source": [
    "df.skills.value_counts(dropna=False).shape"
   ]
  },
  {
   "cell_type": "markdown",
   "metadata": {},
   "source": [
    "Часть - дубликаты. Но полных дубликатов не было. Видимо, люди хотят на разные должности по одинаковым резюме. Можно оставить как есть (логике задачи это не противоречит)"
   ]
  },
  {
   "cell_type": "code",
   "execution_count": 210,
   "metadata": {},
   "outputs": [
    {
     "data": {
      "text/plain": [
       "<pandas.core.groupby.groupby.DataFrameGroupBy object at 0x1142733c8>"
      ]
     },
     "execution_count": 210,
     "metadata": {},
     "output_type": "execute_result"
    }
   ],
   "source": [
    "df.groupby(by='skills')"
   ]
  },
  {
   "cell_type": "code",
   "execution_count": 211,
   "metadata": {},
   "outputs": [
    {
     "data": {
      "text/plain": [
       "(287, 19)"
      ]
     },
     "execution_count": 211,
     "metadata": {},
     "output_type": "execute_result"
    }
   ],
   "source": [
    "df[df.skills.isna()].shape"
   ]
  },
  {
   "cell_type": "code",
   "execution_count": 212,
   "metadata": {},
   "outputs": [],
   "source": [
    "df = df.dropna(subset=['skills'])"
   ]
  },
  {
   "cell_type": "code",
   "execution_count": 213,
   "metadata": {},
   "outputs": [
    {
     "data": {
      "text/plain": [
       "(1956, 19)"
      ]
     },
     "execution_count": 213,
     "metadata": {},
     "output_type": "execute_result"
    }
   ],
   "source": [
    "df.shape"
   ]
  },
  {
   "cell_type": "markdown",
   "metadata": {},
   "source": [
    "## 19. `url`"
   ]
  },
  {
   "cell_type": "code",
   "execution_count": 214,
   "metadata": {},
   "outputs": [],
   "source": [
    "df = df.drop('url', axis = 1)"
   ]
  },
  {
   "cell_type": "markdown",
   "metadata": {},
   "source": [
    "## Результат:"
   ]
  },
  {
   "cell_type": "code",
   "execution_count": 215,
   "metadata": {},
   "outputs": [
    {
     "data": {
      "text/html": [
       "<div>\n",
       "<style scoped>\n",
       "    .dataframe tbody tr th:only-of-type {\n",
       "        vertical-align: middle;\n",
       "    }\n",
       "\n",
       "    .dataframe tbody tr th {\n",
       "        vertical-align: top;\n",
       "    }\n",
       "\n",
       "    .dataframe thead th {\n",
       "        text-align: right;\n",
       "    }\n",
       "</style>\n",
       "<table border=\"1\" class=\"dataframe\">\n",
       "  <thead>\n",
       "    <tr style=\"text-align: right;\">\n",
       "      <th></th>\n",
       "      <th>age</th>\n",
       "      <th>auto</th>\n",
       "      <th>categories</th>\n",
       "      <th>citizenship</th>\n",
       "      <th>education</th>\n",
       "      <th>employment</th>\n",
       "      <th>experience</th>\n",
       "      <th>experience_length</th>\n",
       "      <th>family</th>\n",
       "      <th>gender</th>\n",
       "      <th>languages</th>\n",
       "      <th>metro_or_moving</th>\n",
       "      <th>name</th>\n",
       "      <th>salary</th>\n",
       "      <th>skills</th>\n",
       "      <th>city_msk</th>\n",
       "      <th>city_spb</th>\n",
       "      <th>city_other</th>\n",
       "    </tr>\n",
       "  </thead>\n",
       "  <tbody>\n",
       "    <tr>\n",
       "      <th>1</th>\n",
       "      <td>39</td>\n",
       "      <td>['B — легковые авто']</td>\n",
       "      <td>Техническая поддержка</td>\n",
       "      <td>Россия</td>\n",
       "      <td>[{'kind': 'Высшее образование', 'form': 'Дневн...</td>\n",
       "      <td>полная занятость</td>\n",
       "      <td>[{'period': 'октябрь 2017 – работает сейчас', ...</td>\n",
       "      <td>216</td>\n",
       "      <td>cостоит в браке</td>\n",
       "      <td>0</td>\n",
       "      <td>NaN</td>\n",
       "      <td>NaN</td>\n",
       "      <td>Администратор, управляющий, IT специалист</td>\n",
       "      <td>50000</td>\n",
       "      <td>[{'professional': '• 1С: Предприятие • 1С: Роз...</td>\n",
       "      <td>1</td>\n",
       "      <td>0</td>\n",
       "      <td>0</td>\n",
       "    </tr>\n",
       "    <tr>\n",
       "      <th>2</th>\n",
       "      <td>47</td>\n",
       "      <td>['Нет прав']</td>\n",
       "      <td>Передача данных и доступ в интернет</td>\n",
       "      <td>NaN</td>\n",
       "      <td>[{'kind': 'Высшее образование', 'form': 'Вечер...</td>\n",
       "      <td>полная занятость</td>\n",
       "      <td>[{'period': 'февраль 2008 – работает сейчас', ...</td>\n",
       "      <td>154</td>\n",
       "      <td>cостоит в браке, есть дети</td>\n",
       "      <td>0</td>\n",
       "      <td>['Английский язык, Технический']</td>\n",
       "      <td>Берёзовая роща</td>\n",
       "      <td>Администратор / Инженер технической поддержки IT</td>\n",
       "      <td>30000</td>\n",
       "      <td>[{'professional': 'Английский язык уровень. Pr...</td>\n",
       "      <td>0</td>\n",
       "      <td>0</td>\n",
       "      <td>1</td>\n",
       "    </tr>\n",
       "    <tr>\n",
       "      <th>3</th>\n",
       "      <td>23</td>\n",
       "      <td>['Нет прав']</td>\n",
       "      <td>Техническая поддержка</td>\n",
       "      <td>NaN</td>\n",
       "      <td>[{'kind': 'Высшее образование', 'form': 'Дневн...</td>\n",
       "      <td>сменный график работы</td>\n",
       "      <td>[{'period': 'июль 2015 – работает сейчас', 'le...</td>\n",
       "      <td>51</td>\n",
       "      <td>NaN</td>\n",
       "      <td>1</td>\n",
       "      <td>NaN</td>\n",
       "      <td>NaN</td>\n",
       "      <td>Администратор, IT-специалист, бизнес-аналитик,...</td>\n",
       "      <td>25000</td>\n",
       "      <td>[{'professional': 'Веб-дизайн, photoshop, MS O...</td>\n",
       "      <td>0</td>\n",
       "      <td>0</td>\n",
       "      <td>1</td>\n",
       "    </tr>\n",
       "    <tr>\n",
       "      <th>5</th>\n",
       "      <td>22</td>\n",
       "      <td>['Нет прав']</td>\n",
       "      <td>Системное администрирование</td>\n",
       "      <td>Россия</td>\n",
       "      <td>[{'kind': 'Неполное высшее образование', 'form...</td>\n",
       "      <td>Не указано</td>\n",
       "      <td>[{'period': 'сентябрь 2017 – декабрь 2017', 'l...</td>\n",
       "      <td>14</td>\n",
       "      <td>NaN</td>\n",
       "      <td>0</td>\n",
       "      <td>NaN</td>\n",
       "      <td>готов к переезду</td>\n",
       "      <td>Администратор, менеджер, IT сфера</td>\n",
       "      <td>45000</td>\n",
       "      <td>[{'professional': 'Отличное знание ПК (Exel, 1...</td>\n",
       "      <td>1</td>\n",
       "      <td>0</td>\n",
       "      <td>0</td>\n",
       "    </tr>\n",
       "    <tr>\n",
       "      <th>6</th>\n",
       "      <td>23</td>\n",
       "      <td>['Нет прав']</td>\n",
       "      <td>Техническая поддержка</td>\n",
       "      <td>Россия</td>\n",
       "      <td>[{'kind': 'Среднее специальное образование', '...</td>\n",
       "      <td>полная занятость</td>\n",
       "      <td>[{'period': 'август 2015 – ноябрь 2017', 'leng...</td>\n",
       "      <td>28</td>\n",
       "      <td>не состоит в браке, детей нет</td>\n",
       "      <td>0</td>\n",
       "      <td>['Английский язык, Базовый']</td>\n",
       "      <td>готов к переезду</td>\n",
       "      <td>Администратор, IT-специалист</td>\n",
       "      <td>20000</td>\n",
       "      <td>[{'professional': 'Поверхностное знание програ...</td>\n",
       "      <td>0</td>\n",
       "      <td>0</td>\n",
       "      <td>1</td>\n",
       "    </tr>\n",
       "    <tr>\n",
       "      <th>7</th>\n",
       "      <td>24</td>\n",
       "      <td>['A — мотоциклы', 'B — легковые авто']</td>\n",
       "      <td>Сетевые технологии</td>\n",
       "      <td>Россия</td>\n",
       "      <td>[{'kind': 'Бакалавр', 'form': 'Дистанционная',...</td>\n",
       "      <td>полная занятость</td>\n",
       "      <td>[{'period': 'декабрь 2017 – работает сейчас', ...</td>\n",
       "      <td>55</td>\n",
       "      <td>NaN</td>\n",
       "      <td>0</td>\n",
       "      <td>['Английский язык, Базовый', 'Эстонский язык, ...</td>\n",
       "      <td>NaN</td>\n",
       "      <td>Администратор компьютерных сетей, техник IT</td>\n",
       "      <td>45000</td>\n",
       "      <td>[{'professional': 'Диагностика, ремонт неиспра...</td>\n",
       "      <td>0</td>\n",
       "      <td>1</td>\n",
       "      <td>0</td>\n",
       "    </tr>\n",
       "    <tr>\n",
       "      <th>9</th>\n",
       "      <td>22</td>\n",
       "      <td>['Нет прав']</td>\n",
       "      <td>Не указано</td>\n",
       "      <td>Россия</td>\n",
       "      <td>[{'kind': 'Высшее образование', 'form': 'Очно-...</td>\n",
       "      <td>полная занятость</td>\n",
       "      <td>[{'period': 'июнь 2014 – август 2018', 'length...</td>\n",
       "      <td>51</td>\n",
       "      <td>NaN</td>\n",
       "      <td>0</td>\n",
       "      <td>['Английский язык, Технический']</td>\n",
       "      <td>NaN</td>\n",
       "      <td>Администратор отдела ГС и ИТ</td>\n",
       "      <td>30000</td>\n",
       "      <td>[{'professional': 'Установка и обслуживание ко...</td>\n",
       "      <td>0</td>\n",
       "      <td>0</td>\n",
       "      <td>1</td>\n",
       "    </tr>\n",
       "    <tr>\n",
       "      <th>10</th>\n",
       "      <td>31</td>\n",
       "      <td>['B — легковые авто', 'C — грузовые авто']</td>\n",
       "      <td>Web-верстка</td>\n",
       "      <td>Россия</td>\n",
       "      <td>[{'kind': 'Высшее образование', 'form': 'Дневн...</td>\n",
       "      <td>Не указано</td>\n",
       "      <td>[{'period': 'ноябрь 2018 – работает сейчас', '...</td>\n",
       "      <td>59</td>\n",
       "      <td>не состоит в браке</td>\n",
       "      <td>0</td>\n",
       "      <td>['Английский язык, Базовый', 'Немецкий язык, Б...</td>\n",
       "      <td>готов к переезду</td>\n",
       "      <td>Администратор сайта, it специалист</td>\n",
       "      <td>20000</td>\n",
       "      <td>[{'professional': 'Уверенный пользователь. Опы...</td>\n",
       "      <td>0</td>\n",
       "      <td>0</td>\n",
       "      <td>1</td>\n",
       "    </tr>\n",
       "    <tr>\n",
       "      <th>11</th>\n",
       "      <td>48</td>\n",
       "      <td>['Нет прав']</td>\n",
       "      <td>Сетевые технологии</td>\n",
       "      <td>Россия</td>\n",
       "      <td>[{'kind': 'Высшее образование', 'form': 'Дневн...</td>\n",
       "      <td>полная занятость</td>\n",
       "      <td>[{'period': 'февраль 2014 – апрель 2014', 'len...</td>\n",
       "      <td>224</td>\n",
       "      <td>cостоит в браке, есть дети</td>\n",
       "      <td>0</td>\n",
       "      <td>['Английский язык, Технический', 'Русский язык...</td>\n",
       "      <td>NaN</td>\n",
       "      <td>Администратор в области IT</td>\n",
       "      <td>30000</td>\n",
       "      <td>[{'professional': 'Ответственность, коммуникаб...</td>\n",
       "      <td>0</td>\n",
       "      <td>0</td>\n",
       "      <td>1</td>\n",
       "    </tr>\n",
       "    <tr>\n",
       "      <th>12</th>\n",
       "      <td>23</td>\n",
       "      <td>['B — легковые авто']</td>\n",
       "      <td>Техническая поддержка</td>\n",
       "      <td>NaN</td>\n",
       "      <td>[{'kind': 'Бакалавр', 'form': 'Дневная/Очная',...</td>\n",
       "      <td>полная занятость</td>\n",
       "      <td>[{'period': 'сентябрь 2018 – работает сейчас',...</td>\n",
       "      <td>3</td>\n",
       "      <td>не состоит в браке, детей нет</td>\n",
       "      <td>0</td>\n",
       "      <td>['Английский язык, Базовый']</td>\n",
       "      <td>NaN</td>\n",
       "      <td>Аналитик, IT специалист</td>\n",
       "      <td>35000</td>\n",
       "      <td>[{'professional': 'Аналитический склад ума, ув...</td>\n",
       "      <td>1</td>\n",
       "      <td>0</td>\n",
       "      <td>0</td>\n",
       "    </tr>\n",
       "  </tbody>\n",
       "</table>\n",
       "</div>"
      ],
      "text/plain": [
       "    age                                        auto  \\\n",
       "1    39                       ['B — легковые авто']   \n",
       "2    47                                ['Нет прав']   \n",
       "3    23                                ['Нет прав']   \n",
       "5    22                                ['Нет прав']   \n",
       "6    23                                ['Нет прав']   \n",
       "7    24      ['A — мотоциклы', 'B — легковые авто']   \n",
       "9    22                                ['Нет прав']   \n",
       "10   31  ['B — легковые авто', 'C — грузовые авто']   \n",
       "11   48                                ['Нет прав']   \n",
       "12   23                       ['B — легковые авто']   \n",
       "\n",
       "                             categories citizenship  \\\n",
       "1                 Техническая поддержка      Россия   \n",
       "2   Передача данных и доступ в интернет         NaN   \n",
       "3                 Техническая поддержка         NaN   \n",
       "5           Системное администрирование      Россия   \n",
       "6                 Техническая поддержка      Россия   \n",
       "7                    Сетевые технологии      Россия   \n",
       "9                            Не указано      Россия   \n",
       "10                          Web-верстка      Россия   \n",
       "11                   Сетевые технологии      Россия   \n",
       "12                Техническая поддержка         NaN   \n",
       "\n",
       "                                            education             employment  \\\n",
       "1   [{'kind': 'Высшее образование', 'form': 'Дневн...       полная занятость   \n",
       "2   [{'kind': 'Высшее образование', 'form': 'Вечер...       полная занятость   \n",
       "3   [{'kind': 'Высшее образование', 'form': 'Дневн...  сменный график работы   \n",
       "5   [{'kind': 'Неполное высшее образование', 'form...             Не указано   \n",
       "6   [{'kind': 'Среднее специальное образование', '...       полная занятость   \n",
       "7   [{'kind': 'Бакалавр', 'form': 'Дистанционная',...       полная занятость   \n",
       "9   [{'kind': 'Высшее образование', 'form': 'Очно-...       полная занятость   \n",
       "10  [{'kind': 'Высшее образование', 'form': 'Дневн...             Не указано   \n",
       "11  [{'kind': 'Высшее образование', 'form': 'Дневн...       полная занятость   \n",
       "12  [{'kind': 'Бакалавр', 'form': 'Дневная/Очная',...       полная занятость   \n",
       "\n",
       "                                           experience experience_length  \\\n",
       "1   [{'period': 'октябрь 2017 – работает сейчас', ...               216   \n",
       "2   [{'period': 'февраль 2008 – работает сейчас', ...               154   \n",
       "3   [{'period': 'июль 2015 – работает сейчас', 'le...                51   \n",
       "5   [{'period': 'сентябрь 2017 – декабрь 2017', 'l...                14   \n",
       "6   [{'period': 'август 2015 – ноябрь 2017', 'leng...                28   \n",
       "7   [{'period': 'декабрь 2017 – работает сейчас', ...                55   \n",
       "9   [{'period': 'июнь 2014 – август 2018', 'length...                51   \n",
       "10  [{'period': 'ноябрь 2018 – работает сейчас', '...                59   \n",
       "11  [{'period': 'февраль 2014 – апрель 2014', 'len...               224   \n",
       "12  [{'period': 'сентябрь 2018 – работает сейчас',...                 3   \n",
       "\n",
       "                           family  gender  \\\n",
       "1                 cостоит в браке       0   \n",
       "2      cостоит в браке, есть дети       0   \n",
       "3                             NaN       1   \n",
       "5                             NaN       0   \n",
       "6   не состоит в браке, детей нет       0   \n",
       "7                             NaN       0   \n",
       "9                             NaN       0   \n",
       "10             не состоит в браке       0   \n",
       "11     cостоит в браке, есть дети       0   \n",
       "12  не состоит в браке, детей нет       0   \n",
       "\n",
       "                                            languages   metro_or_moving  \\\n",
       "1                                                 NaN               NaN   \n",
       "2                    ['Английский язык, Технический']    Берёзовая роща   \n",
       "3                                                 NaN               NaN   \n",
       "5                                                 NaN  готов к переезду   \n",
       "6                        ['Английский язык, Базовый']  готов к переезду   \n",
       "7   ['Английский язык, Базовый', 'Эстонский язык, ...               NaN   \n",
       "9                    ['Английский язык, Технический']               NaN   \n",
       "10  ['Английский язык, Базовый', 'Немецкий язык, Б...  готов к переезду   \n",
       "11  ['Английский язык, Технический', 'Русский язык...               NaN   \n",
       "12                       ['Английский язык, Базовый']               NaN   \n",
       "\n",
       "                                                 name  salary  \\\n",
       "1           Администратор, управляющий, IT специалист   50000   \n",
       "2    Администратор / Инженер технической поддержки IT   30000   \n",
       "3   Администратор, IT-специалист, бизнес-аналитик,...   25000   \n",
       "5                   Администратор, менеджер, IT сфера   45000   \n",
       "6                        Администратор, IT-специалист   20000   \n",
       "7         Администратор компьютерных сетей, техник IT   45000   \n",
       "9                        Администратор отдела ГС и ИТ   30000   \n",
       "10                 Администратор сайта, it специалист   20000   \n",
       "11                         Администратор в области IT   30000   \n",
       "12                            Аналитик, IT специалист   35000   \n",
       "\n",
       "                                               skills  city_msk  city_spb  \\\n",
       "1   [{'professional': '• 1С: Предприятие • 1С: Роз...         1         0   \n",
       "2   [{'professional': 'Английский язык уровень. Pr...         0         0   \n",
       "3   [{'professional': 'Веб-дизайн, photoshop, MS O...         0         0   \n",
       "5   [{'professional': 'Отличное знание ПК (Exel, 1...         1         0   \n",
       "6   [{'professional': 'Поверхностное знание програ...         0         0   \n",
       "7   [{'professional': 'Диагностика, ремонт неиспра...         0         1   \n",
       "9   [{'professional': 'Установка и обслуживание ко...         0         0   \n",
       "10  [{'professional': 'Уверенный пользователь. Опы...         0         0   \n",
       "11  [{'professional': 'Ответственность, коммуникаб...         0         0   \n",
       "12  [{'professional': 'Аналитический склад ума, ув...         1         0   \n",
       "\n",
       "    city_other  \n",
       "1            0  \n",
       "2            1  \n",
       "3            1  \n",
       "5            0  \n",
       "6            1  \n",
       "7            0  \n",
       "9            1  \n",
       "10           1  \n",
       "11           1  \n",
       "12           0  "
      ]
     },
     "execution_count": 215,
     "metadata": {},
     "output_type": "execute_result"
    }
   ],
   "source": [
    "df.head(10)"
   ]
  },
  {
   "cell_type": "code",
   "execution_count": null,
   "metadata": {},
   "outputs": [],
   "source": []
  }
 ],
 "metadata": {
  "kernelspec": {
   "display_name": "Python 3",
   "language": "python",
   "name": "python3"
  },
  "language_info": {
   "codemirror_mode": {
    "name": "ipython",
    "version": 3
   },
   "file_extension": ".py",
   "mimetype": "text/x-python",
   "name": "python",
   "nbconvert_exporter": "python",
   "pygments_lexer": "ipython3",
   "version": "3.7.0"
  }
 },
 "nbformat": 4,
 "nbformat_minor": 2
}
