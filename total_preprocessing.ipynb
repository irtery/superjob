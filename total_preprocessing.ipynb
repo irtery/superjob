{
 "cells": [
  {
   "cell_type": "markdown",
   "metadata": {},
   "source": [
    "## Весь препроцессинг вместе"
   ]
  },
  {
   "cell_type": "code",
   "execution_count": 222,
   "metadata": {},
   "outputs": [],
   "source": [
    "import pandas as pd\n",
    "import numpy as np\n",
    "import sklearn as sk\n",
    "import json as js\n",
    "import csv"
   ]
  },
  {
   "cell_type": "code",
   "execution_count": 223,
   "metadata": {},
   "outputs": [],
   "source": [
    "df = pd.read_csv('data/resume.csv', index_col=0)"
   ]
  },
  {
   "cell_type": "code",
   "execution_count": 224,
   "metadata": {},
   "outputs": [
    {
     "data": {
      "text/plain": [
       "(2369, 19)"
      ]
     },
     "execution_count": 224,
     "metadata": {},
     "output_type": "execute_result"
    }
   ],
   "source": [
    "df.shape"
   ]
  },
  {
   "cell_type": "code",
   "execution_count": 225,
   "metadata": {},
   "outputs": [
    {
     "data": {
      "text/html": [
       "<div>\n",
       "<style scoped>\n",
       "    .dataframe tbody tr th:only-of-type {\n",
       "        vertical-align: middle;\n",
       "    }\n",
       "\n",
       "    .dataframe tbody tr th {\n",
       "        vertical-align: top;\n",
       "    }\n",
       "\n",
       "    .dataframe thead th {\n",
       "        text-align: right;\n",
       "    }\n",
       "</style>\n",
       "<table border=\"1\" class=\"dataframe\">\n",
       "  <thead>\n",
       "    <tr style=\"text-align: right;\">\n",
       "      <th></th>\n",
       "      <th>age</th>\n",
       "      <th>auto</th>\n",
       "      <th>business_trips</th>\n",
       "      <th>categories</th>\n",
       "      <th>citizenship</th>\n",
       "      <th>city</th>\n",
       "      <th>education</th>\n",
       "      <th>employment</th>\n",
       "      <th>experience</th>\n",
       "      <th>experience_length</th>\n",
       "      <th>family</th>\n",
       "      <th>gender</th>\n",
       "      <th>languages</th>\n",
       "      <th>metro_or_moving</th>\n",
       "      <th>name</th>\n",
       "      <th>photo_url</th>\n",
       "      <th>salary</th>\n",
       "      <th>skills</th>\n",
       "      <th>url</th>\n",
       "    </tr>\n",
       "  </thead>\n",
       "  <tbody>\n",
       "    <tr>\n",
       "      <th>0</th>\n",
       "      <td>20</td>\n",
       "      <td>NaN</td>\n",
       "      <td>не готов к командировкам</td>\n",
       "      <td>Архитектура</td>\n",
       "      <td>Россия</td>\n",
       "      <td>Ковров</td>\n",
       "      <td>[{'kind': 'Неполное высшее образование', 'form...</td>\n",
       "      <td>неполный рабочий день</td>\n",
       "      <td>[{'period': 'сентябрь 2017 – март 2018', 'leng...</td>\n",
       "      <td>7 месяцев</td>\n",
       "      <td>NaN</td>\n",
       "      <td>f</td>\n",
       "      <td>['Немецкий язык, Базовый']</td>\n",
       "      <td>NaN</td>\n",
       "      <td>3D-моделлер, IT стажёр, консультант</td>\n",
       "      <td>NaN</td>\n",
       "      <td>30 000₽</td>\n",
       "      <td>NaN</td>\n",
       "      <td>https://www.superjob.ru/resume/3d-modeller-436...</td>\n",
       "    </tr>\n",
       "    <tr>\n",
       "      <th>1</th>\n",
       "      <td>39</td>\n",
       "      <td>['B — легковые авто']</td>\n",
       "      <td>NaN</td>\n",
       "      <td>Техническая поддержка</td>\n",
       "      <td>Россия</td>\n",
       "      <td>Москва</td>\n",
       "      <td>[{'kind': 'Высшее образование', 'form': 'Дневн...</td>\n",
       "      <td>полная занятость</td>\n",
       "      <td>[{'period': 'октябрь 2017 – работает сейчас', ...</td>\n",
       "      <td>18 лет</td>\n",
       "      <td>cостоит в браке</td>\n",
       "      <td>m</td>\n",
       "      <td>NaN</td>\n",
       "      <td>NaN</td>\n",
       "      <td>Администратор, управляющий, IT специалист</td>\n",
       "      <td>https://public.superjob.ru/images/resume_fotos...</td>\n",
       "      <td>50 000₽</td>\n",
       "      <td>[{'professional': '• 1С: Предприятие • 1С: Роз...</td>\n",
       "      <td>https://www.superjob.ru/resume/administrator-2...</td>\n",
       "    </tr>\n",
       "    <tr>\n",
       "      <th>2</th>\n",
       "      <td>47</td>\n",
       "      <td>NaN</td>\n",
       "      <td>NaN</td>\n",
       "      <td>Передача данных и доступ в интернет</td>\n",
       "      <td>NaN</td>\n",
       "      <td>Новосибирск</td>\n",
       "      <td>[{'kind': 'Высшее образование', 'form': 'Вечер...</td>\n",
       "      <td>полная занятость</td>\n",
       "      <td>[{'period': 'февраль 2008 – работает сейчас', ...</td>\n",
       "      <td>12 лет и 10 месяцев</td>\n",
       "      <td>cостоит в браке, есть дети</td>\n",
       "      <td>m</td>\n",
       "      <td>['Английский язык, Технический']</td>\n",
       "      <td>Берёзовая роща</td>\n",
       "      <td>Администратор / Инженер технической поддержки IT</td>\n",
       "      <td>NaN</td>\n",
       "      <td>30 000₽</td>\n",
       "      <td>[{'professional': 'Английский язык уровень. Pr...</td>\n",
       "      <td>https://www.superjob.ru/resume/administrator-2...</td>\n",
       "    </tr>\n",
       "    <tr>\n",
       "      <th>3</th>\n",
       "      <td>23</td>\n",
       "      <td>NaN</td>\n",
       "      <td>NaN</td>\n",
       "      <td>Техническая поддержка</td>\n",
       "      <td>NaN</td>\n",
       "      <td>Самара</td>\n",
       "      <td>[{'kind': 'Высшее образование', 'form': 'Дневн...</td>\n",
       "      <td>сменный график работы</td>\n",
       "      <td>[{'period': 'июль 2015 – работает сейчас', 'le...</td>\n",
       "      <td>4 года и 3 месяца</td>\n",
       "      <td>NaN</td>\n",
       "      <td>f</td>\n",
       "      <td>NaN</td>\n",
       "      <td>NaN</td>\n",
       "      <td>Администратор, IT-специалист, бизнес-аналитик,...</td>\n",
       "      <td>https://public.superjob.ru/images/resume_fotos...</td>\n",
       "      <td>25 000₽</td>\n",
       "      <td>[{'professional': 'Веб-дизайн, photoshop, MS O...</td>\n",
       "      <td>https://www.superjob.ru/resume/administrator-3...</td>\n",
       "    </tr>\n",
       "    <tr>\n",
       "      <th>4</th>\n",
       "      <td>52</td>\n",
       "      <td>NaN</td>\n",
       "      <td>не готов к командировкам</td>\n",
       "      <td>АХО</td>\n",
       "      <td>Россия</td>\n",
       "      <td>Ангарск</td>\n",
       "      <td>[{'kind': 'Высшее образование', 'form': 'Дневн...</td>\n",
       "      <td>NaN</td>\n",
       "      <td>[{'period': 'июнь 1993 – март 2015', 'length':...</td>\n",
       "      <td>21 год и 10 месяцев</td>\n",
       "      <td>не состоит в браке, есть дети</td>\n",
       "      <td>f</td>\n",
       "      <td>NaN</td>\n",
       "      <td>NaN</td>\n",
       "      <td>Администратор, IT-специалист, диспетчер</td>\n",
       "      <td>NaN</td>\n",
       "      <td>20 000₽</td>\n",
       "      <td>NaN</td>\n",
       "      <td>https://www.superjob.ru/resume/administrator-3...</td>\n",
       "    </tr>\n",
       "    <tr>\n",
       "      <th>5</th>\n",
       "      <td>22</td>\n",
       "      <td>NaN</td>\n",
       "      <td>NaN</td>\n",
       "      <td>Системное администрирование</td>\n",
       "      <td>Россия</td>\n",
       "      <td>Москва</td>\n",
       "      <td>[{'kind': 'Неполное высшее образование', 'form...</td>\n",
       "      <td>NaN</td>\n",
       "      <td>[{'period': 'сентябрь 2017 – декабрь 2017', 'l...</td>\n",
       "      <td>1 год и 2 месяца</td>\n",
       "      <td>NaN</td>\n",
       "      <td>m</td>\n",
       "      <td>NaN</td>\n",
       "      <td>готов к переезду</td>\n",
       "      <td>Администратор, менеджер, IT сфера</td>\n",
       "      <td>https://public.superjob.ru/images/resume_fotos...</td>\n",
       "      <td>45 000₽</td>\n",
       "      <td>[{'professional': 'Отличное знание ПК (Exel, 1...</td>\n",
       "      <td>https://www.superjob.ru/resume/administrator-4...</td>\n",
       "    </tr>\n",
       "    <tr>\n",
       "      <th>6</th>\n",
       "      <td>23</td>\n",
       "      <td>NaN</td>\n",
       "      <td>NaN</td>\n",
       "      <td>Техническая поддержка</td>\n",
       "      <td>Россия</td>\n",
       "      <td>Миллерово</td>\n",
       "      <td>[{'kind': 'Среднее специальное образование', '...</td>\n",
       "      <td>полная занятость</td>\n",
       "      <td>[{'period': 'август 2015 – ноябрь 2017', 'leng...</td>\n",
       "      <td>2 года и 4 месяца</td>\n",
       "      <td>не состоит в браке, детей нет</td>\n",
       "      <td>m</td>\n",
       "      <td>['Английский язык, Базовый']</td>\n",
       "      <td>готов к переезду</td>\n",
       "      <td>Администратор, IT-специалист</td>\n",
       "      <td>https://public.superjob.ru/images/resume_fotos...</td>\n",
       "      <td>20 000₽</td>\n",
       "      <td>[{'professional': 'Поверхностное знание програ...</td>\n",
       "      <td>https://www.superjob.ru/resume/administrator-4...</td>\n",
       "    </tr>\n",
       "    <tr>\n",
       "      <th>7</th>\n",
       "      <td>24</td>\n",
       "      <td>['A — мотоциклы', 'B — легковые авто']</td>\n",
       "      <td>NaN</td>\n",
       "      <td>Сетевые технологии</td>\n",
       "      <td>Россия</td>\n",
       "      <td>Санкт-Петербург</td>\n",
       "      <td>[{'kind': 'Бакалавр', 'form': 'Дистанционная',...</td>\n",
       "      <td>полная занятость</td>\n",
       "      <td>[{'period': 'декабрь 2017 – работает сейчас', ...</td>\n",
       "      <td>4 года и 7 месяцев</td>\n",
       "      <td>NaN</td>\n",
       "      <td>m</td>\n",
       "      <td>['Английский язык, Базовый', 'Эстонский язык, ...</td>\n",
       "      <td>NaN</td>\n",
       "      <td>Администратор компьютерных сетей, техник IT</td>\n",
       "      <td>NaN</td>\n",
       "      <td>45 000₽</td>\n",
       "      <td>[{'professional': 'Диагностика, ремонт неиспра...</td>\n",
       "      <td>https://www.superjob.ru/resume/administrator-k...</td>\n",
       "    </tr>\n",
       "    <tr>\n",
       "      <th>8</th>\n",
       "      <td>30</td>\n",
       "      <td>NaN</td>\n",
       "      <td>не готов к командировкам</td>\n",
       "      <td>Складское хозяйство</td>\n",
       "      <td>Россия</td>\n",
       "      <td>Железнодорожный</td>\n",
       "      <td>[{'kind': 'Высшее образование', 'form': 'Очно-...</td>\n",
       "      <td>полная занятость</td>\n",
       "      <td>[{'period': 'август 2017 – сентябрь 2018', 'le...</td>\n",
       "      <td>6 лет и 2 месяца</td>\n",
       "      <td>cостоит в браке</td>\n",
       "      <td>m</td>\n",
       "      <td>['Английский язык, Базовый']</td>\n",
       "      <td>NaN</td>\n",
       "      <td>Администратор магазина, кладовщик, старший кла...</td>\n",
       "      <td>NaN</td>\n",
       "      <td>50 000₽</td>\n",
       "      <td>NaN</td>\n",
       "      <td>https://www.superjob.ru/resume/administrator-m...</td>\n",
       "    </tr>\n",
       "    <tr>\n",
       "      <th>9</th>\n",
       "      <td>22</td>\n",
       "      <td>NaN</td>\n",
       "      <td>NaN</td>\n",
       "      <td>NaN</td>\n",
       "      <td>Россия</td>\n",
       "      <td>Рязань</td>\n",
       "      <td>[{'kind': 'Высшее образование', 'form': 'Очно-...</td>\n",
       "      <td>полная занятость</td>\n",
       "      <td>[{'period': 'июнь 2014 – август 2018', 'length...</td>\n",
       "      <td>4 года и 3 месяца</td>\n",
       "      <td>NaN</td>\n",
       "      <td>m</td>\n",
       "      <td>['Английский язык, Технический']</td>\n",
       "      <td>NaN</td>\n",
       "      <td>Администратор отдела ГС и ИТ</td>\n",
       "      <td>https://public.superjob.ru/images/resume_fotos...</td>\n",
       "      <td>30 000₽</td>\n",
       "      <td>[{'professional': 'Установка и обслуживание ко...</td>\n",
       "      <td>https://www.superjob.ru/resume/administrator-o...</td>\n",
       "    </tr>\n",
       "  </tbody>\n",
       "</table>\n",
       "</div>"
      ],
      "text/plain": [
       "   age                                    auto            business_trips  \\\n",
       "0   20                                     NaN  не готов к командировкам   \n",
       "1   39                   ['B — легковые авто']                       NaN   \n",
       "2   47                                     NaN                       NaN   \n",
       "3   23                                     NaN                       NaN   \n",
       "4   52                                     NaN  не готов к командировкам   \n",
       "5   22                                     NaN                       NaN   \n",
       "6   23                                     NaN                       NaN   \n",
       "7   24  ['A — мотоциклы', 'B — легковые авто']                       NaN   \n",
       "8   30                                     NaN  не готов к командировкам   \n",
       "9   22                                     NaN                       NaN   \n",
       "\n",
       "                            categories citizenship             city  \\\n",
       "0                          Архитектура      Россия           Ковров   \n",
       "1                Техническая поддержка      Россия           Москва   \n",
       "2  Передача данных и доступ в интернет         NaN      Новосибирск   \n",
       "3                Техническая поддержка         NaN           Самара   \n",
       "4                                  АХО      Россия          Ангарск   \n",
       "5          Системное администрирование      Россия           Москва   \n",
       "6                Техническая поддержка      Россия        Миллерово   \n",
       "7                   Сетевые технологии      Россия  Санкт-Петербург   \n",
       "8                  Складское хозяйство      Россия  Железнодорожный   \n",
       "9                                  NaN      Россия           Рязань   \n",
       "\n",
       "                                           education             employment  \\\n",
       "0  [{'kind': 'Неполное высшее образование', 'form...  неполный рабочий день   \n",
       "1  [{'kind': 'Высшее образование', 'form': 'Дневн...       полная занятость   \n",
       "2  [{'kind': 'Высшее образование', 'form': 'Вечер...       полная занятость   \n",
       "3  [{'kind': 'Высшее образование', 'form': 'Дневн...  сменный график работы   \n",
       "4  [{'kind': 'Высшее образование', 'form': 'Дневн...                    NaN   \n",
       "5  [{'kind': 'Неполное высшее образование', 'form...                    NaN   \n",
       "6  [{'kind': 'Среднее специальное образование', '...       полная занятость   \n",
       "7  [{'kind': 'Бакалавр', 'form': 'Дистанционная',...       полная занятость   \n",
       "8  [{'kind': 'Высшее образование', 'form': 'Очно-...       полная занятость   \n",
       "9  [{'kind': 'Высшее образование', 'form': 'Очно-...       полная занятость   \n",
       "\n",
       "                                          experience    experience_length  \\\n",
       "0  [{'period': 'сентябрь 2017 – март 2018', 'leng...            7 месяцев   \n",
       "1  [{'period': 'октябрь 2017 – работает сейчас', ...               18 лет   \n",
       "2  [{'period': 'февраль 2008 – работает сейчас', ...  12 лет и 10 месяцев   \n",
       "3  [{'period': 'июль 2015 – работает сейчас', 'le...    4 года и 3 месяца   \n",
       "4  [{'period': 'июнь 1993 – март 2015', 'length':...  21 год и 10 месяцев   \n",
       "5  [{'period': 'сентябрь 2017 – декабрь 2017', 'l...     1 год и 2 месяца   \n",
       "6  [{'period': 'август 2015 – ноябрь 2017', 'leng...    2 года и 4 месяца   \n",
       "7  [{'period': 'декабрь 2017 – работает сейчас', ...   4 года и 7 месяцев   \n",
       "8  [{'period': 'август 2017 – сентябрь 2018', 'le...     6 лет и 2 месяца   \n",
       "9  [{'period': 'июнь 2014 – август 2018', 'length...    4 года и 3 месяца   \n",
       "\n",
       "                          family gender  \\\n",
       "0                            NaN      f   \n",
       "1                cостоит в браке      m   \n",
       "2     cостоит в браке, есть дети      m   \n",
       "3                            NaN      f   \n",
       "4  не состоит в браке, есть дети      f   \n",
       "5                            NaN      m   \n",
       "6  не состоит в браке, детей нет      m   \n",
       "7                            NaN      m   \n",
       "8                cостоит в браке      m   \n",
       "9                            NaN      m   \n",
       "\n",
       "                                           languages   metro_or_moving  \\\n",
       "0                         ['Немецкий язык, Базовый']               NaN   \n",
       "1                                                NaN               NaN   \n",
       "2                   ['Английский язык, Технический']    Берёзовая роща   \n",
       "3                                                NaN               NaN   \n",
       "4                                                NaN               NaN   \n",
       "5                                                NaN  готов к переезду   \n",
       "6                       ['Английский язык, Базовый']  готов к переезду   \n",
       "7  ['Английский язык, Базовый', 'Эстонский язык, ...               NaN   \n",
       "8                       ['Английский язык, Базовый']               NaN   \n",
       "9                   ['Английский язык, Технический']               NaN   \n",
       "\n",
       "                                                name  \\\n",
       "0                3D-моделлер, IT стажёр, консультант   \n",
       "1          Администратор, управляющий, IT специалист   \n",
       "2   Администратор / Инженер технической поддержки IT   \n",
       "3  Администратор, IT-специалист, бизнес-аналитик,...   \n",
       "4            Администратор, IT-специалист, диспетчер   \n",
       "5                  Администратор, менеджер, IT сфера   \n",
       "6                       Администратор, IT-специалист   \n",
       "7        Администратор компьютерных сетей, техник IT   \n",
       "8  Администратор магазина, кладовщик, старший кла...   \n",
       "9                       Администратор отдела ГС и ИТ   \n",
       "\n",
       "                                           photo_url   salary  \\\n",
       "0                                                NaN  30 000₽   \n",
       "1  https://public.superjob.ru/images/resume_fotos...  50 000₽   \n",
       "2                                                NaN  30 000₽   \n",
       "3  https://public.superjob.ru/images/resume_fotos...  25 000₽   \n",
       "4                                                NaN  20 000₽   \n",
       "5  https://public.superjob.ru/images/resume_fotos...  45 000₽   \n",
       "6  https://public.superjob.ru/images/resume_fotos...  20 000₽   \n",
       "7                                                NaN  45 000₽   \n",
       "8                                                NaN  50 000₽   \n",
       "9  https://public.superjob.ru/images/resume_fotos...  30 000₽   \n",
       "\n",
       "                                              skills  \\\n",
       "0                                                NaN   \n",
       "1  [{'professional': '• 1С: Предприятие • 1С: Роз...   \n",
       "2  [{'professional': 'Английский язык уровень. Pr...   \n",
       "3  [{'professional': 'Веб-дизайн, photoshop, MS O...   \n",
       "4                                                NaN   \n",
       "5  [{'professional': 'Отличное знание ПК (Exel, 1...   \n",
       "6  [{'professional': 'Поверхностное знание програ...   \n",
       "7  [{'professional': 'Диагностика, ремонт неиспра...   \n",
       "8                                                NaN   \n",
       "9  [{'professional': 'Установка и обслуживание ко...   \n",
       "\n",
       "                                                 url  \n",
       "0  https://www.superjob.ru/resume/3d-modeller-436...  \n",
       "1  https://www.superjob.ru/resume/administrator-2...  \n",
       "2  https://www.superjob.ru/resume/administrator-2...  \n",
       "3  https://www.superjob.ru/resume/administrator-3...  \n",
       "4  https://www.superjob.ru/resume/administrator-3...  \n",
       "5  https://www.superjob.ru/resume/administrator-4...  \n",
       "6  https://www.superjob.ru/resume/administrator-4...  \n",
       "7  https://www.superjob.ru/resume/administrator-k...  \n",
       "8  https://www.superjob.ru/resume/administrator-m...  \n",
       "9  https://www.superjob.ru/resume/administrator-o...  "
      ]
     },
     "execution_count": 225,
     "metadata": {},
     "output_type": "execute_result"
    }
   ],
   "source": [
    "df.head(10)"
   ]
  },
  {
   "cell_type": "code",
   "execution_count": 226,
   "metadata": {},
   "outputs": [
    {
     "data": {
      "text/plain": [
       "Index(['age', 'auto', 'business_trips', 'categories', 'citizenship', 'city',\n",
       "       'education', 'employment', 'experience', 'experience_length', 'family',\n",
       "       'gender', 'languages', 'metro_or_moving', 'name', 'photo_url', 'salary',\n",
       "       'skills', 'url'],\n",
       "      dtype='object')"
      ]
     },
     "execution_count": 226,
     "metadata": {},
     "output_type": "execute_result"
    }
   ],
   "source": [
    "df.columns"
   ]
  },
  {
   "cell_type": "markdown",
   "metadata": {},
   "source": [
    "## Обработка колонок:\n",
    "\n",
    "1. `age` - Возраст\n",
    "2. `auto` - Наличие прав\n",
    "3. `business_trips` - Готовность к командировкам $\\longrightarrow$ **удалили**\n",
    "4. `categories` - Категории сайта \n",
    "5. `citizenship` - Гражданство $\\longrightarrow$ `rus_citizenship`\n",
    "6. `city` - Город - дало 3 новых признака $\\longrightarrow$ `city_msk`, `city_spb`, `city_other`\n",
    "7. `education` - Образование \n",
    "8. `employment` - Желаемая занятость $\\longrightarrow$ `full_employment`\n",
    "9. `experience` - Опыт работы\n",
    "10. `experience_length` - Продолжительность опыта работы\n",
    "11. `family` - Семейное положение $\\longrightarrow$ **удалили**\n",
    "12. `gender` - Пол\n",
    "13. `languages` - Владение языками\n",
    "14. `metro_or_moving` - Станция метро или готовность к переезду\n",
    "15. `name` - Название вакансии\n",
    "16. `photo_url` - Ссылка на фотографию  $\\longrightarrow$ **удалили**\n",
    "17. `salary`  - Зарплата\n",
    "18. `skills` - Ключевые навыки\n",
    "19. `url` - Ссылка на резюме  $\\longrightarrow$ **удалили**"
   ]
  },
  {
   "cell_type": "markdown",
   "metadata": {},
   "source": [
    "## 1. `age`"
   ]
  },
  {
   "cell_type": "code",
   "execution_count": 227,
   "metadata": {},
   "outputs": [
    {
     "data": {
      "text/plain": [
       "34    99\n",
       "35    99\n",
       "33    98\n",
       "32    96\n",
       "31    95\n",
       "29    93\n",
       "30    92\n",
       "41    85\n",
       "28    85\n",
       "36    83\n",
       "27    82\n",
       "39    75\n",
       "24    74\n",
       "37    74\n",
       "38    73\n",
       "23    72\n",
       "26    68\n",
       "25    67\n",
       "40    63\n",
       "22    62\n",
       "21    61\n",
       "45    59\n",
       "43    58\n",
       "42    56\n",
       "46    51\n",
       "44    51\n",
       "48    45\n",
       "47    34\n",
       "49    33\n",
       "20    31\n",
       "54    30\n",
       "52    30\n",
       "51    27\n",
       "56    27\n",
       "55    26\n",
       "53    26\n",
       "50    22\n",
       "58    13\n",
       "19     9\n",
       "57     9\n",
       "59     7\n",
       "62     5\n",
       "64     5\n",
       "60     3\n",
       "61     3\n",
       "63     3\n",
       "18     3\n",
       "72     2\n",
       "67     1\n",
       "66     1\n",
       "68     1\n",
       "65     1\n",
       "70     1\n",
       "Name: age, dtype: int64"
      ]
     },
     "execution_count": 227,
     "metadata": {},
     "output_type": "execute_result"
    }
   ],
   "source": [
    " df.age.value_counts(dropna=False)"
   ]
  },
  {
   "cell_type": "markdown",
   "metadata": {},
   "source": [
    "## 2. `auto`"
   ]
  },
  {
   "cell_type": "code",
   "execution_count": 228,
   "metadata": {},
   "outputs": [
    {
     "data": {
      "text/plain": [
       "['B — легковые авто']                                                                                 1171\n",
       "NaN                                                                                                    808\n",
       "['B — легковые авто', 'C — грузовые авто']                                                             220\n",
       "['A — мотоциклы', 'B — легковые авто']                                                                  74\n",
       "['A — мотоциклы', 'B — легковые авто', 'C — грузовые авто']                                             52\n",
       "['B — легковые авто', 'C — грузовые авто', 'D — автобусы']                                              11\n",
       "['C — грузовые авто']                                                                                   11\n",
       "['B — легковые авто', 'C — грузовые авто', 'D — автобусы', 'E — авто с прицепом']                        7\n",
       "['B — легковые авто', 'D — автобусы']                                                                    5\n",
       "['A — мотоциклы', 'B — легковые авто', 'C — грузовые авто', 'D — автобусы']                              3\n",
       "['B — легковые авто', 'C — грузовые авто', 'E — авто с прицепом']                                        2\n",
       "['A — мотоциклы', 'B — легковые авто', 'C — грузовые авто', 'D — автобусы', 'E — авто с прицепом']       2\n",
       "['A — мотоциклы']                                                                                        2\n",
       "['A — мотоциклы', 'C — грузовые авто']                                                                   1\n",
       "Name: auto, dtype: int64"
      ]
     },
     "execution_count": 228,
     "metadata": {},
     "output_type": "execute_result"
    }
   ],
   "source": [
    "df.auto.value_counts(dropna=False)"
   ]
  },
  {
   "cell_type": "code",
   "execution_count": 229,
   "metadata": {},
   "outputs": [],
   "source": [
    "df.auto=df.auto.fillna(\"['Нет прав']\")"
   ]
  },
  {
   "cell_type": "markdown",
   "metadata": {},
   "source": [
    "## 3. `business_trips`"
   ]
  },
  {
   "cell_type": "code",
   "execution_count": 230,
   "metadata": {},
   "outputs": [
    {
     "data": {
      "text/plain": [
       "NaN                         1373\n",
       "не готов к командировкам     968\n",
       "на дому                       28\n",
       "Name: business_trips, dtype: int64"
      ]
     },
     "execution_count": 230,
     "metadata": {},
     "output_type": "execute_result"
    }
   ],
   "source": [
    "df.business_trips.value_counts(dropna=False)"
   ]
  },
  {
   "cell_type": "markdown",
   "metadata": {},
   "source": [
    "Много NaN, выкидываем."
   ]
  },
  {
   "cell_type": "code",
   "execution_count": 231,
   "metadata": {},
   "outputs": [],
   "source": [
    "df = df.drop('business_trips', axis=1)"
   ]
  },
  {
   "cell_type": "markdown",
   "metadata": {},
   "source": [
    "## 4. `categories`"
   ]
  },
  {
   "cell_type": "code",
   "execution_count": 232,
   "metadata": {},
   "outputs": [
    {
     "data": {
      "text/plain": [
       "Системное администрирование                      552\n",
       "NaN                                              467\n",
       "Техническая поддержка                            358\n",
       "IT, Интернет, связь, телеком                     238\n",
       "Инжиниринг                                       184\n",
       "Администрирование баз данных                      80\n",
       "Административная работа, секретариат, АХО         64\n",
       "Сетевые технологии                                49\n",
       "Разработка, программирование                      41\n",
       "Передача данных и доступ в интернет               38\n",
       "Управление проектами                              34\n",
       "Аналитика                                         31\n",
       "Интернет, создание и поддержка сайтов             23\n",
       "Другое                                            18\n",
       "Электронный документооборот                       15\n",
       "Внедрение и сопровождение ПО                      12\n",
       "Делопроизводство, ввод данных, систематизация     11\n",
       "Компьютеры, оргтехника, ПО                         9\n",
       "Web-верстка                                        8\n",
       "Call Center                                        8\n",
       "Системная интеграция                               8\n",
       "Телекоммуникации и связь                           7\n",
       "Диспетчерская служба                               6\n",
       "Контент                                            6\n",
       "Косметика, бытовая химия                           6\n",
       "Оптимизация, SEO                                   6\n",
       "Высшее образование                                 5\n",
       "Строительно-монтажные и отделочные работы          5\n",
       "Игровое ПО / Геймдевелопмент                       4\n",
       "Информационная безопасность                        3\n",
       "                                                ... \n",
       "Консалтинг, стратегическое развитие                1\n",
       "ЖКХ                                                1\n",
       "Переводы                                           1\n",
       "Рекрутмент, подбор персонала                       1\n",
       "Бытовая техника, электроника, фото, видео          1\n",
       "Услуги для бизнеса                                 1\n",
       "Стратегический консалтинг                          1\n",
       "Машиностроение, станкостроение                     1\n",
       "Web, UI, UX дизайн                                 1\n",
       "Проектирование                                     1\n",
       "Дизайн интерьера                                   1\n",
       "Контроль качества, сертификация, экспертиза        1\n",
       "Музыка, пение                                      1\n",
       "Защита информации                                  1\n",
       "IT-консалтинг                                      1\n",
       "Секретариат, ресепшн, офис-менеджмент              1\n",
       "Бренд-менеджмент, продакт-менеджмент               1\n",
       "ВЭД                                                1\n",
       "Алкоголь, напитки                                  1\n",
       "Продажи                                            1\n",
       "Приборостроение                                    1\n",
       "Закупки, снабжение                                 1\n",
       "Начало карьеры, мало опыта                         1\n",
       "Складское хозяйство                                1\n",
       "Архитектура                                        1\n",
       "Слаботочные системы и сети                         1\n",
       "Атомная энергетика                                 1\n",
       "Эксплуатация зданий                                1\n",
       "Автомобили, запчасти                               1\n",
       "Компьютерная анимация и мультимедиа                1\n",
       "Name: categories, Length: 82, dtype: int64"
      ]
     },
     "execution_count": 232,
     "metadata": {},
     "output_type": "execute_result"
    }
   ],
   "source": [
    "df.categories.value_counts(dropna=False)"
   ]
  },
  {
   "cell_type": "code",
   "execution_count": 233,
   "metadata": {},
   "outputs": [],
   "source": [
    "df.categories=df.categories.fillna('Не указано')"
   ]
  },
  {
   "cell_type": "markdown",
   "metadata": {},
   "source": [
    "## 5. `citizenship`"
   ]
  },
  {
   "cell_type": "code",
   "execution_count": 234,
   "metadata": {},
   "outputs": [
    {
     "data": {
      "text/plain": [
       "Россия               1615\n",
       "NaN                   727\n",
       "Украина                 8\n",
       "Казахстан               7\n",
       "Азербайджан             3\n",
       "Кыргызстан              3\n",
       "Беларусь                2\n",
       "Дальнее зарубежье       1\n",
       "Литва                   1\n",
       "Молдова                 1\n",
       "Таджикистан             1\n",
       "Name: citizenship, dtype: int64"
      ]
     },
     "execution_count": 234,
     "metadata": {},
     "output_type": "execute_result"
    }
   ],
   "source": [
    "df.citizenship.value_counts(dropna=False)"
   ]
  },
  {
   "cell_type": "markdown",
   "metadata": {},
   "source": [
    "Будем полагать, что те, кто не указал гражданство имеют гражданство России."
   ]
  },
  {
   "cell_type": "code",
   "execution_count": 235,
   "metadata": {},
   "outputs": [],
   "source": [
    "df.citizenship = df.citizenship.fillna('Россия')\n",
    "citizenship = pd.get_dummies(df.citizenship)\n",
    "df['rus_citizenship'] = citizenship['Россия']\n",
    "df = df.drop('citizenship', axis=1)"
   ]
  },
  {
   "cell_type": "code",
   "execution_count": 236,
   "metadata": {},
   "outputs": [
    {
     "data": {
      "text/plain": [
       "1    2342\n",
       "0      27\n",
       "Name: rus_citizenship, dtype: int64"
      ]
     },
     "execution_count": 236,
     "metadata": {},
     "output_type": "execute_result"
    }
   ],
   "source": [
    "df.rus_citizenship.value_counts(dropna=False)"
   ]
  },
  {
   "cell_type": "markdown",
   "metadata": {},
   "source": [
    "## 6. `city`"
   ]
  },
  {
   "cell_type": "code",
   "execution_count": 237,
   "metadata": {},
   "outputs": [
    {
     "data": {
      "text/plain": [
       "Москва                          720\n",
       "Санкт-Петербург                 293\n",
       "Хабаровск                        64\n",
       "Уфа                              55\n",
       "Иркутск                          51\n",
       "Ростов-на-Дону                   48\n",
       "Краснодар                        33\n",
       "Самара                           32\n",
       "Казань                           27\n",
       "Саратов                          27\n",
       "Рязань                           26\n",
       "Нижний Новгород                  24\n",
       "Пенза                            23\n",
       "Ульяновск                        23\n",
       "Волгоград                        22\n",
       "Воронеж                          20\n",
       "Оренбург                         19\n",
       "Тверь                            17\n",
       "Сыктывкар                        17\n",
       "Екатеринбург                     16\n",
       "Владимир                         16\n",
       "Челябинск                        16\n",
       "Смоленск                         16\n",
       "Тольятти                         15\n",
       "Тюмень                           15\n",
       "Астрахань                        15\n",
       "Курск                            14\n",
       "Красноярск                       14\n",
       "Новосибирск                      14\n",
       "Вологда                          13\n",
       "                               ... \n",
       "Александров                       1\n",
       "Югорск                            1\n",
       "Первоуральск                      1\n",
       "Радужный (Тюменская область)      1\n",
       "Поселок имени Морозова            1\n",
       "Кумертау                          1\n",
       "Ишимбай                           1\n",
       "Сарапул                           1\n",
       "Реж                               1\n",
       "Щелково                           1\n",
       "Инта                              1\n",
       "Новотитаровская                   1\n",
       "Кудрово                           1\n",
       "Черноголовка                      1\n",
       "Гусь-Хрустальный                  1\n",
       "Гуково                            1\n",
       "Обнинск                           1\n",
       "Урюпинск                          1\n",
       "Лазаревское                       1\n",
       "Шахты                             1\n",
       "Славянск-на-Кубани                1\n",
       "Саяногорск                        1\n",
       "Ейск                              1\n",
       "Кировград                         1\n",
       "Ступино                           1\n",
       "Можга                             1\n",
       "Алексин                           1\n",
       "Абакан                            1\n",
       "Удомля                            1\n",
       "Тейково                           1\n",
       "Name: city, Length: 263, dtype: int64"
      ]
     },
     "execution_count": 237,
     "metadata": {},
     "output_type": "execute_result"
    }
   ],
   "source": [
    "df.city.value_counts(dropna=False)"
   ]
  },
  {
   "cell_type": "markdown",
   "metadata": {},
   "source": [
    "Оставим 3 признака: Москва, Санкт-Петербург, другие регионы"
   ]
  },
  {
   "cell_type": "code",
   "execution_count": 238,
   "metadata": {},
   "outputs": [
    {
     "data": {
      "text/plain": [
       "(2369, 20)"
      ]
     },
     "execution_count": 238,
     "metadata": {},
     "output_type": "execute_result"
    }
   ],
   "source": [
    "ctgr = pd.get_dummies(df.city)\n",
    "ctgr\n",
    "city_msk = ctgr['Москва']\n",
    "city_spb = ctgr['Санкт-Петербург']\n",
    "ctgr = ctgr.drop(['Москва', 'Санкт-Петербург'], axis=1)\n",
    "city_other = np.sum(ctgr.values, axis=1)\n",
    "df['city_msk'] = city_msk\n",
    "df['city_spb'] = city_spb\n",
    "df['city_other'] = city_other\n",
    "df = df.drop(['city'], axis=1)\n",
    "df.shape"
   ]
  },
  {
   "cell_type": "markdown",
   "metadata": {},
   "source": [
    "## 7. `education`"
   ]
  },
  {
   "cell_type": "markdown",
   "metadata": {},
   "source": [
    "## 8. `employment`"
   ]
  },
  {
   "cell_type": "code",
   "execution_count": 239,
   "metadata": {},
   "outputs": [
    {
     "data": {
      "text/plain": [
       "полная занятость           1180\n",
       "NaN                        1107\n",
       "неполный рабочий день        33\n",
       "сменный график работы        25\n",
       "частичная занятость          13\n",
       "работа вахтовым методом      11\n",
       "Name: employment, dtype: int64"
      ]
     },
     "execution_count": 239,
     "metadata": {},
     "output_type": "execute_result"
    }
   ],
   "source": [
    "df.employment.value_counts(dropna=False)"
   ]
  },
  {
   "cell_type": "code",
   "execution_count": 240,
   "metadata": {},
   "outputs": [],
   "source": [
    "ctgr = pd.get_dummies(df.employment)\n",
    "fn = lambda row: 1 if(row['полная занятость'] == 1 or row['сменный график работы'] == 1)else 0\n",
    "full_empl = ctgr.apply(fn, axis=1)\n",
    "df['full_employment'] = full_empl\n",
    "df = df.drop('employment', axis=1)"
   ]
  },
  {
   "cell_type": "markdown",
   "metadata": {},
   "source": [
    "## 9. `experience`"
   ]
  },
  {
   "cell_type": "markdown",
   "metadata": {},
   "source": [
    "## 10. `experience_length`"
   ]
  },
  {
   "cell_type": "code",
   "execution_count": 241,
   "metadata": {},
   "outputs": [
    {
     "data": {
      "text/plain": [
       "0 лет и 0 месяцев      126\n",
       "7 лет и 3 месяца        19\n",
       "14 лет и 4 месяца       18\n",
       "11 лет и 11 месяцев     15\n",
       "9 лет и 7 месяцев       15\n",
       "10 лет и 6 месяцев      15\n",
       "12 лет и 8 месяцев      15\n",
       "11 лет и 4 месяца       15\n",
       "5 лет и 10 месяцев      15\n",
       "3 года и 6 месяцев      14\n",
       "13 лет и 11 месяцев     14\n",
       "7 лет и 2 месяца        14\n",
       "7 лет и 8 месяцев       14\n",
       "10 лет и 2 месяца       14\n",
       "6 лет                   14\n",
       "1 год и 4 месяца        13\n",
       "2 года и 5 месяцев      13\n",
       "10 лет и 3 месяца       13\n",
       "9 лет и 6 месяцев       13\n",
       "6 лет и 6 месяцев       13\n",
       "16 лет и 2 месяца       13\n",
       "18 лет и 5 месяцев      12\n",
       "6 лет и 11 месяцев      12\n",
       "16 лет и 5 месяцев      12\n",
       "9 лет и 11 месяцев      12\n",
       "7 лет и 9 месяцев       12\n",
       "8 лет и 6 месяцев       12\n",
       "1 год и 3 месяца        12\n",
       "13 лет и 2 месяца       12\n",
       "2 года и 10 месяцев     12\n",
       "                      ... \n",
       "38 лет                   1\n",
       "26 лет и 8 месяцев       1\n",
       "30 лет и 11 месяцев      1\n",
       "33 года и 5 месяцев      1\n",
       "26 лет и 6 месяцев       1\n",
       "35 лет и 4 месяца        1\n",
       "34 года и 7 месяцев      1\n",
       "25 лет и 6 месяцев       1\n",
       "33 года и 7 месяцев      1\n",
       "1 месяц                  1\n",
       "28 лет и 8 месяцев       1\n",
       "35 лет и 5 месяцев       1\n",
       "32 года и 9 месяцев      1\n",
       "43 года и 3 месяца       1\n",
       "24 года и 5 месяцев      1\n",
       "34 года и 4 месяца       1\n",
       "30 лет и 6 месяцев       1\n",
       "24 года и 9 месяцев      1\n",
       "25 лет и 3 месяца        1\n",
       "25 лет и 2 месяца        1\n",
       "37 лет и 2 месяца        1\n",
       "26 лет и 7 месяцев       1\n",
       "26 лет и 5 месяцев       1\n",
       "22 года и 6 месяцев      1\n",
       "42 года и 4 месяца       1\n",
       "26 лет и 10 месяцев      1\n",
       "29 лет и 3 месяца        1\n",
       "31 год и 7 месяцев       1\n",
       "31 год и 1 месяц         1\n",
       "28 лет и 11 месяцев      1\n",
       "Name: experience_length, Length: 380, dtype: int64"
      ]
     },
     "execution_count": 241,
     "metadata": {},
     "output_type": "execute_result"
    }
   ],
   "source": [
    "df.experience_length = df.experience_length.fillna('0 лет и 0 месяцев')\n",
    "df.experience_length.value_counts(dropna=False)"
   ]
  },
  {
   "cell_type": "code",
   "execution_count": 242,
   "metadata": {},
   "outputs": [
    {
     "data": {
      "text/plain": [
       "(2369, 20)"
      ]
     },
     "execution_count": 242,
     "metadata": {},
     "output_type": "execute_result"
    }
   ],
   "source": [
    "df.shape"
   ]
  },
  {
   "cell_type": "code",
   "execution_count": 243,
   "metadata": {},
   "outputs": [],
   "source": [
    "df.index = np.arange(df.shape[0])"
   ]
  },
  {
   "cell_type": "code",
   "execution_count": 244,
   "metadata": {},
   "outputs": [],
   "source": [
    "def period_to_month(string):\n",
    "    s = string.split()\n",
    "    if len(s) == 2:\n",
    "        if (s[1] == 'год') or (s[1] == 'года') or (s[1] == 'лет'):\n",
    "            return int(s[0]) * 12\n",
    "        return int(s[0])\n",
    "    return int(s[0]) * 12 + int(s[3])"
   ]
  },
  {
   "cell_type": "code",
   "execution_count": 245,
   "metadata": {},
   "outputs": [],
   "source": [
    "pers = df.experience_length.copy()"
   ]
  },
  {
   "cell_type": "code",
   "execution_count": 246,
   "metadata": {},
   "outputs": [
    {
     "data": {
      "text/plain": [
       "False"
      ]
     },
     "execution_count": 246,
     "metadata": {},
     "output_type": "execute_result"
    }
   ],
   "source": [
    "pers is df.experience_length"
   ]
  },
  {
   "cell_type": "code",
   "execution_count": 247,
   "metadata": {},
   "outputs": [],
   "source": [
    "for i in pers.index:\n",
    "    pers.values[i] = period_to_month(pers.values[i])"
   ]
  },
  {
   "cell_type": "code",
   "execution_count": 248,
   "metadata": {},
   "outputs": [
    {
     "data": {
      "text/plain": [
       "0         7\n",
       "1       216\n",
       "2       154\n",
       "3        51\n",
       "4       262\n",
       "5        14\n",
       "6        28\n",
       "7        55\n",
       "8        74\n",
       "9        51\n",
       "10       59\n",
       "11      224\n",
       "12        3\n",
       "13       78\n",
       "14      172\n",
       "15      361\n",
       "16      411\n",
       "17      111\n",
       "18      250\n",
       "19        0\n",
       "20      183\n",
       "21      284\n",
       "22      216\n",
       "23      280\n",
       "24      381\n",
       "25      186\n",
       "26      126\n",
       "27      128\n",
       "28       42\n",
       "29      268\n",
       "       ... \n",
       "2339    121\n",
       "2340    283\n",
       "2341    283\n",
       "2342    207\n",
       "2343    244\n",
       "2344    167\n",
       "2345    121\n",
       "2346    179\n",
       "2347    165\n",
       "2348    389\n",
       "2349    334\n",
       "2350    245\n",
       "2351     97\n",
       "2352    194\n",
       "2353    211\n",
       "2354    154\n",
       "2355    268\n",
       "2356     75\n",
       "2357    298\n",
       "2358    156\n",
       "2359    194\n",
       "2360    339\n",
       "2361    156\n",
       "2362    146\n",
       "2363     66\n",
       "2364    180\n",
       "2365    347\n",
       "2366    229\n",
       "2367     34\n",
       "2368     72\n",
       "Name: experience_length, Length: 2369, dtype: object"
      ]
     },
     "execution_count": 248,
     "metadata": {},
     "output_type": "execute_result"
    }
   ],
   "source": [
    "df.experience_length = pers\n",
    "df.experience_length"
   ]
  },
  {
   "cell_type": "markdown",
   "metadata": {},
   "source": [
    "## 11. `family`"
   ]
  },
  {
   "cell_type": "code",
   "execution_count": 249,
   "metadata": {},
   "outputs": [
    {
     "data": {
      "text/plain": [
       "cостоит в браке, есть дети       804\n",
       "NaN                              687\n",
       "не состоит в браке, детей нет    528\n",
       "cостоит в браке, детей нет       168\n",
       "не состоит в браке, есть дети    111\n",
       "cостоит в браке                   37\n",
       "не состоит в браке                29\n",
       "есть дети                          3\n",
       "детей нет                          2\n",
       "Name: family, dtype: int64"
      ]
     },
     "execution_count": 249,
     "metadata": {},
     "output_type": "execute_result"
    }
   ],
   "source": [
    "df.family.value_counts(dropna=False)"
   ]
  },
  {
   "cell_type": "code",
   "execution_count": 250,
   "metadata": {},
   "outputs": [],
   "source": [
    "df = df.drop('family', axis=1)"
   ]
  },
  {
   "cell_type": "markdown",
   "metadata": {},
   "source": [
    "## 12. `gender`"
   ]
  },
  {
   "cell_type": "code",
   "execution_count": 251,
   "metadata": {},
   "outputs": [],
   "source": [
    "gender = pd.get_dummies(df.gender)\n",
    "df['gender'] = gender.f"
   ]
  },
  {
   "cell_type": "markdown",
   "metadata": {},
   "source": [
    "## 13. `languages`"
   ]
  },
  {
   "cell_type": "code",
   "execution_count": 252,
   "metadata": {},
   "outputs": [
    {
     "data": {
      "text/plain": [
       "['Английский язык, Технический']                                                                                                                               832\n",
       "NaN                                                                                                                                                            547\n",
       "['Английский язык, Базовый']                                                                                                                                   463\n",
       "['Английский язык, Разговорный']                                                                                                                               164\n",
       "['Английский язык, Технический', 'Немецкий язык, Базовый']                                                                                                      47\n",
       "['Английский язык, Базовый', 'Немецкий язык, Базовый']                                                                                                          42\n",
       "['Английский язык, Cвободное владение']                                                                                                                         40\n",
       "['Английский язык, Технический', 'Немецкий язык, Технический']                                                                                                  16\n",
       "['Английский язык, Технический', 'Русский язык, Cвободное владение']                                                                                            16\n",
       "['Немецкий язык, Базовый']                                                                                                                                      11\n",
       "['Английский язык, Разговорный', 'Немецкий язык, Базовый']                                                                                                      11\n",
       "['Английский язык, Технический', 'Французский язык, Базовый']                                                                                                   10\n",
       "['Английский язык, Базовый', 'Русский язык, Cвободное владение']                                                                                                10\n",
       "['Английский язык, Разговорный', 'Русский язык, Cвободное владение']                                                                                             8\n",
       "['Английский язык, Технический', 'Испанский язык, Базовый']                                                                                                      8\n",
       "['Английский язык, Разговорный', 'Французский язык, Базовый']                                                                                                    7\n",
       "['Английский язык, Технический', 'Немецкий язык, Базовый', 'Русский язык, Cвободное владение']                                                                   6\n",
       "['Английский язык, Cвободное владение', 'Немецкий язык, Базовый']                                                                                                6\n",
       "['Английский язык, Технический', 'Немецкий язык, Разговорный']                                                                                                   5\n",
       "['Английский язык, Технический', 'Французский язык, Разговорный']                                                                                                5\n",
       "['Английский язык, Базовый', 'Французский язык, Базовый']                                                                                                        4\n",
       "['Английский язык, Разговорный', 'Немецкий язык, Технический']                                                                                                   4\n",
       "['Английский язык, Технический', 'Украинский язык, Разговорный']                                                                                                 4\n",
       "['Английский язык, Cвободное владение', 'Немецкий язык, Cвободное владение']                                                                                     3\n",
       "['Английский язык, Базовый', 'Немецкий язык, Базовый', 'Русский язык, Cвободное владение']                                                                       3\n",
       "['Английский язык, Технический', 'Украинский язык, Cвободное владение']                                                                                          3\n",
       "['Английский язык, Технический', 'Казахский язык, Разговорный', 'Русский язык, Cвободное владение']                                                              3\n",
       "['Английский язык, Cвободное владение', 'Немецкий язык, Разговорный']                                                                                            2\n",
       "['Английский язык, Базовый', 'Немецкий язык, Технический']                                                                                                       2\n",
       "['Английский язык, Разговорный', 'Немецкий язык, Базовый', 'Французский язык, Базовый']                                                                          2\n",
       "                                                                                                                                                              ... \n",
       "['Английский язык, Разговорный', 'Турецкий язык, Базовый']                                                                                                       1\n",
       "['Английский язык, Cвободное владение', 'Французский язык, Разговорный']                                                                                         1\n",
       "['Английский язык, Базовый', 'Латынь, Базовый', 'Русский язык, Cвободное владение']                                                                              1\n",
       "['Болгарский язык, Разговорный']                                                                                                                                 1\n",
       "['Русский язык, Cвободное владение']                                                                                                                             1\n",
       "['Английский язык, Cвободное владение', 'Украинский язык, Cвободное владение', 'Русский язык, Cвободное владение']                                               1\n",
       "['Английский язык, Технический', 'Белорусский язык, Разговорный']                                                                                                1\n",
       "['Английский язык, Базовый', 'Эстонский язык, Базовый']                                                                                                          1\n",
       "['Английский язык, Cвободное владение', 'Чешский язык, Базовый']                                                                                                 1\n",
       "['Английский язык, Cвободное владение', 'Турецкий язык, Базовый']                                                                                                1\n",
       "['Английский язык, Cвободное владение', 'Французский язык, Cвободное владение', 'Арабский язык, Cвободное владение']                                             1\n",
       "['Английский язык, Технический', 'Болгарский язык, Разговорный']                                                                                                 1\n",
       "['Английский язык, Разговорный', 'Чешский язык, Разговорный']                                                                                                    1\n",
       "['Украинский язык, Cвободное владение']                                                                                                                          1\n",
       "['Английский язык, Разговорный', 'Французский язык, Технический']                                                                                                1\n",
       "['Английский язык, Технический', 'Литовский язык, Cвободное владение', 'Русский язык, Cвободное владение']                                                       1\n",
       "['Английский язык, Технический', 'Молдавский язык, Cвободное владение', 'Румынский язык, Cвободное владение', 'Русский язык, Cвободное владение']                1\n",
       "['Английский язык, Технический', 'Армянский язык, Cвободное владение']                                                                                           1\n",
       "['Английский язык, Базовый', 'Немецкий язык, Базовый', 'Французский язык, Базовый']                                                                              1\n",
       "['Немецкий язык, Разговорный']                                                                                                                                   1\n",
       "['Английский язык, Технический', 'Башкирский язык, Базовый', 'Татарский язык, Базовый']                                                                          1\n",
       "['Английский язык, Технический', 'Немецкий язык, Технический', 'Французский язык, Базовый']                                                                      1\n",
       "['Английский язык, Cвободное владение', 'Немецкий язык, Разговорный', 'Французский язык, Базовый']                                                               1\n",
       "['Английский язык, Разговорный', 'Турецкий язык, Cвободное владение']                                                                                            1\n",
       "['Английский язык, Разговорный', 'Норвежский язык, Базовый']                                                                                                     1\n",
       "['Английский язык, Технический', 'Португальский язык, Базовый']                                                                                                  1\n",
       "['Английский язык, Технический', 'Немецкий язык, Базовый', 'Татарский язык, Разговорный']                                                                        1\n",
       "['Английский язык, Базовый', 'Испанский язык, Базовый']                                                                                                          1\n",
       "['Турецкий язык, Cвободное владение', 'Азербайджанский язык, Cвободное владение', 'Русский язык, Cвободное владение', 'Талышский язык, Cвободное владение']      1\n",
       "['Английский язык, Cвободное владение', 'Французский язык, Базовый', 'Испанский язык, Базовый']                                                                  1\n",
       "Name: languages, Length: 111, dtype: int64"
      ]
     },
     "execution_count": 252,
     "metadata": {},
     "output_type": "execute_result"
    }
   ],
   "source": [
    "df.languages.value_counts(dropna=False)"
   ]
  },
  {
   "cell_type": "code",
   "execution_count": 253,
   "metadata": {},
   "outputs": [],
   "source": [
    "df.languages=df.languages.fillna(\"[]\")"
   ]
  },
  {
   "cell_type": "code",
   "execution_count": 254,
   "metadata": {},
   "outputs": [],
   "source": [
    "def i_am_cruel(x):\n",
    "    #print (eval(x))\n",
    "    for z in eval(x):\n",
    "        y = z.split(', ')\n",
    "        if y[0] == 'Английский язык':\n",
    "            if y[1] == 'Базовый':\n",
    "                return 1\n",
    "            if y[1] == 'Технический':\n",
    "                return 2\n",
    "            if y[1] == 'Разговорный':\n",
    "                return 3\n",
    "            if y[1] == 'Cвободное владение':\n",
    "                return 4\n",
    "            print (y[1])\n",
    "    return 0\n",
    "for i in df.languages.values:\n",
    "    i_am_cruel(i)\n",
    "df['english_level']=df.languages.apply(i_am_cruel)"
   ]
  },
  {
   "cell_type": "code",
   "execution_count": 255,
   "metadata": {},
   "outputs": [],
   "source": [
    "df.drop('languages', axis=1, inplace=True)"
   ]
  },
  {
   "cell_type": "markdown",
   "metadata": {},
   "source": [
    "## 14. `metro_or_moving`"
   ]
  },
  {
   "cell_type": "code",
   "execution_count": 256,
   "metadata": {},
   "outputs": [
    {
     "data": {
      "text/plain": [
       "NaN                                           1357\n",
       "готов к переезду                               540\n",
       "Пражская                                        12\n",
       "Улица Дыбенко                                    9\n",
       "Комендантский проспект                           8\n",
       "Медведково                                       6\n",
       "Выхино                                           6\n",
       "Новогиреево                                      6\n",
       "Коломенская                                      6\n",
       "Первомайская                                     6\n",
       "Ботанический садВДНХ                             6\n",
       "Ладожская                                        6\n",
       "Проспект Ветеранов                               6\n",
       "Щелковская                                       5\n",
       "Академическая                                    5\n",
       "Планерная                                        5\n",
       "Новокосино                                       5\n",
       "Проспект Большевиков                             5\n",
       "Саларьево                                        4\n",
       "Бибирево                                         4\n",
       "Алтуфьево                                        4\n",
       "Бульвар Рокоссовского                            4\n",
       "Бабушкинская                                     4\n",
       "Московская                                       4\n",
       "Митино                                           4\n",
       "Пионерская и ещё 2                               4\n",
       "Домодедовская                                    4\n",
       "Люблино                                          4\n",
       "Войковская                                       4\n",
       "Перово                                           4\n",
       "                                              ... \n",
       "Речной вокзалАлтуфьево                           1\n",
       "Удельная и ещё 2                                 1\n",
       "Рыбацкое и ещё 2                                 1\n",
       "ПрофсоюзнаяНахимовский проспект                  1\n",
       "Преображенская площадь                           1\n",
       "Каховская                                        1\n",
       "Щукинская                                        1\n",
       "Южная                                            1\n",
       "Сенная площадь                                   1\n",
       "Измайловская                                     1\n",
       "Бульвар Дмитрия ДонскогоУлица Скобелевская       1\n",
       "ТекстильщикиПечатники                            1\n",
       "ЛомоносовскаяЕлизаровская                        1\n",
       "БорисовоАлма-Атинская                            1\n",
       "Лесная                                           1\n",
       "Речной вокзал                                    1\n",
       "Марьино и ещё 2                                  1\n",
       "НовогиреевоПланерная                             1\n",
       "Багратионовская                                  1\n",
       "Авиастроительная                                 1\n",
       "Текстильщики                                     1\n",
       "Беляево                                          1\n",
       "КурскаяБабушкинская                              1\n",
       "Василеостровская                                 1\n",
       "Улица ДыбенкоПроспект Большевиков                1\n",
       "Октябрьское поле и ещё 2                         1\n",
       "БабушкинскаяОтрадное                             1\n",
       "БелорусскаяДинамо                                1\n",
       "Коньково                                         1\n",
       "ВыборгскаяЛесная                                 1\n",
       "Name: metro_or_moving, Length: 243, dtype: int64"
      ]
     },
     "execution_count": 256,
     "metadata": {},
     "output_type": "execute_result"
    }
   ],
   "source": [
    "df.metro_or_moving.value_counts(dropna=False)"
   ]
  },
  {
   "cell_type": "markdown",
   "metadata": {},
   "source": [
    "Половина Nan-ов, удаляем."
   ]
  },
  {
   "cell_type": "code",
   "execution_count": 257,
   "metadata": {},
   "outputs": [],
   "source": [
    "df.drop('metro_or_moving', axis=1, inplace=True)"
   ]
  },
  {
   "cell_type": "markdown",
   "metadata": {},
   "source": [
    "## 15. `name`"
   ]
  },
  {
   "cell_type": "code",
   "execution_count": 258,
   "metadata": {},
   "outputs": [
    {
     "data": {
      "text/plain": [
       "Системный администратор, IT-специалист                                                                              416\n",
       "IT-специалист                                                                                                       207\n",
       "IT специалист                                                                                                        76\n",
       "ИТ-специалист                                                                                                        54\n",
       "Руководитель IT-отдела                                                                                               37\n",
       "Инженер IT                                                                                                           29\n",
       "Руководитель отдела ИТ                                                                                               27\n",
       "Руководитель IT отдела                                                                                               24\n",
       "It-специалист                                                                                                        22\n",
       "Ведущий специалист ИТ                                                                                                20\n",
       "Инженер ИТ                                                                                                           20\n",
       "Руководитель ИТ отдела                                                                                               19\n",
       "Начальник отдела ИТ                                                                                                  18\n",
       "Специалист по IT                                                                                                     17\n",
       "Специалист ИТ                                                                                                        16\n",
       "Специалист IT                                                                                                        16\n",
       "Специалист IT-отдела                                                                                                 12\n",
       "Руководитель ИТ                                                                                                       9\n",
       "Руководитель IT-проектов                                                                                              9\n",
       "IT-директор                                                                                                           8\n",
       "Менеджер IT-проектов                                                                                                  8\n",
       "Системный администратор / IT-специалист                                                                               8\n",
       "IT директор                                                                                                           8\n",
       "Руководитель IT                                                                                                       8\n",
       "Директор ИТ                                                                                                           8\n",
       "Руководитель IT-подразделения                                                                                         7\n",
       "IT-специалист, системный администратор                                                                                7\n",
       "Специалист IT отдела                                                                                                  7\n",
       "Начальник ИТ-отдела                                                                                                   7\n",
       "Руководитель ИТ-отдела                                                                                                7\n",
       "                                                                                                                   ... \n",
       "Директор департамента информационных технологий / Руководитель IT департамента / Начальник департамента ИТ / CIO      1\n",
       "Начальник отдела ИТ, ИТ-директор                                                                                      1\n",
       "Системный администратор Linux, руководитель Отдела ИТ                                                                 1\n",
       "Программист, аналитик, IT-специалист                                                                                  1\n",
       "Системный администратор, IT-специалист, Программист                                                                   1\n",
       "Руководитель подразделения IT / Директор IT                                                                           1\n",
       "Инженер / Tехнический специалист IT                                                                                   1\n",
       "IT специалист / Ремонт банкоматов                                                                                     1\n",
       "Руководитель IT, заместитель директора по IT                                                                          1\n",
       "ИТ инженер / инженер-микроэлектроник / программист / инженер-оптик                                                    1\n",
       "CIO / CTO / IT-директор                                                                                               1\n",
       "IT-директор, руководитель отдела                                                                                      1\n",
       "Директор по развитию ИТ-бизнеса                                                                                       1\n",
       "Младший системный администратор, IT-специалист                                                                        1\n",
       "IT-специалист / Специалист 1С / Помощник системного администратора                                                    1\n",
       "Системный администратор, руководитель ИТ-отдела                                                                       1\n",
       "Специалист IT-отдела, системный администратор                                                                         1\n",
       "Инженер связи / Инженер IT-технологий                                                                                 1\n",
       "Звукорежиссер, Системный администратор, IT-специалист                                                                 1\n",
       "Стажер в IT отдел                                                                                                     1\n",
       "Специалист по IT-технологиям                                                                                          1\n",
       "Начальник IT-подразделения, руководитель проекта в сфере IT, CIO                                                      1\n",
       "Менеджер, it специалист, ведущий, вокалист                                                                            1\n",
       "IT специалист, Системный администратор                                                                                1\n",
       "Специалист ИТ / Системный администратор                                                                               1\n",
       "Руководитель, заместитель руководителя, ведущий специалист IT-подразделения, программист                              1\n",
       "Начальник отдела / Начальник отдела ИТ / Системный администратор                                                      1\n",
       "Руководитель отдела ИТ / Системный администратор                                                                      1\n",
       "Системный администратор, Системотехник, it специалист                                                                 1\n",
       "Директор департамента IT                                                                                              1\n",
       "Name: name, Length: 1115, dtype: int64"
      ]
     },
     "execution_count": 258,
     "metadata": {},
     "output_type": "execute_result"
    }
   ],
   "source": [
    "df.name.value_counts(dropna=False)"
   ]
  },
  {
   "cell_type": "code",
   "execution_count": 259,
   "metadata": {},
   "outputs": [
    {
     "data": {
      "text/plain": [
       "(1115,)"
      ]
     },
     "execution_count": 259,
     "metadata": {},
     "output_type": "execute_result"
    }
   ],
   "source": [
    "df.name.unique().shape"
   ]
  },
  {
   "cell_type": "markdown",
   "metadata": {},
   "source": [
    "## 16. `photo_url`"
   ]
  },
  {
   "cell_type": "code",
   "execution_count": 260,
   "metadata": {},
   "outputs": [],
   "source": [
    "df = df.drop('photo_url', axis=1)"
   ]
  },
  {
   "cell_type": "markdown",
   "metadata": {},
   "source": [
    "## 17. `salary`"
   ]
  },
  {
   "cell_type": "code",
   "execution_count": 261,
   "metadata": {},
   "outputs": [],
   "source": [
    "df.salary=df.salary.apply(lambda x: int(x[:-1].replace(\" \", '')))"
   ]
  },
  {
   "cell_type": "code",
   "execution_count": 262,
   "metadata": {},
   "outputs": [
    {
     "data": {
      "text/plain": [
       "<bound method IndexOpsMixin.value_counts of 0        30000\n",
       "1        50000\n",
       "2        30000\n",
       "3        25000\n",
       "4        20000\n",
       "5        45000\n",
       "6        20000\n",
       "7        45000\n",
       "8        50000\n",
       "9        30000\n",
       "10       20000\n",
       "11       30000\n",
       "12       35000\n",
       "13       60000\n",
       "14       30000\n",
       "15       75000\n",
       "16       75000\n",
       "17       20000\n",
       "18      150000\n",
       "19       25000\n",
       "20      150000\n",
       "21       70000\n",
       "22      280000\n",
       "23      240000\n",
       "24       90000\n",
       "25       80000\n",
       "26       20000\n",
       "27       50000\n",
       "28       50000\n",
       "29      100000\n",
       "         ...  \n",
       "2339    175000\n",
       "2340     80000\n",
       "2341     80000\n",
       "2342    150000\n",
       "2343    200000\n",
       "2344     50000\n",
       "2345    120000\n",
       "2346     70000\n",
       "2347    130000\n",
       "2348     50000\n",
       "2349    120000\n",
       "2350     55000\n",
       "2351     50000\n",
       "2352    100000\n",
       "2353    150000\n",
       "2354    120000\n",
       "2355     50000\n",
       "2356     25000\n",
       "2357     60000\n",
       "2358    100000\n",
       "2359     50000\n",
       "2360     50000\n",
       "2361     60000\n",
       "2362    110000\n",
       "2363     30000\n",
       "2364    150000\n",
       "2365    150000\n",
       "2366     40000\n",
       "2367     45000\n",
       "2368     80000\n",
       "Name: salary, Length: 2369, dtype: int64>"
      ]
     },
     "execution_count": 262,
     "metadata": {},
     "output_type": "execute_result"
    }
   ],
   "source": [
    "df.salary.value_counts"
   ]
  },
  {
   "cell_type": "markdown",
   "metadata": {},
   "source": [
    "## 18. `skills`"
   ]
  },
  {
   "cell_type": "code",
   "execution_count": 263,
   "metadata": {},
   "outputs": [
    {
     "data": {
      "text/plain": [
       "(1965,)"
      ]
     },
     "execution_count": 263,
     "metadata": {},
     "output_type": "execute_result"
    }
   ],
   "source": [
    "df.skills.value_counts(dropna=False).shape"
   ]
  },
  {
   "cell_type": "markdown",
   "metadata": {},
   "source": [
    "Часть - дубликаты. Но полных дубликатов не было. Видимо, люди хотят на разные должности по одинаковым резюме. Можно оставить как есть (логике задачи это не противоречит)"
   ]
  },
  {
   "cell_type": "code",
   "execution_count": 264,
   "metadata": {},
   "outputs": [
    {
     "data": {
      "text/plain": [
       "<pandas.core.groupby.groupby.DataFrameGroupBy object at 0x1092d9438>"
      ]
     },
     "execution_count": 264,
     "metadata": {},
     "output_type": "execute_result"
    }
   ],
   "source": [
    "df.groupby(by='skills')"
   ]
  },
  {
   "cell_type": "code",
   "execution_count": 265,
   "metadata": {},
   "outputs": [
    {
     "data": {
      "text/plain": [
       "(330, 17)"
      ]
     },
     "execution_count": 265,
     "metadata": {},
     "output_type": "execute_result"
    }
   ],
   "source": [
    "df[df.skills.isna()].shape"
   ]
  },
  {
   "cell_type": "code",
   "execution_count": 266,
   "metadata": {},
   "outputs": [],
   "source": [
    "df = df.dropna(subset=['skills'])"
   ]
  },
  {
   "cell_type": "code",
   "execution_count": 267,
   "metadata": {},
   "outputs": [
    {
     "data": {
      "text/plain": [
       "(2039, 17)"
      ]
     },
     "execution_count": 267,
     "metadata": {},
     "output_type": "execute_result"
    }
   ],
   "source": [
    "df.shape"
   ]
  },
  {
   "cell_type": "markdown",
   "metadata": {},
   "source": [
    "## 19. `url`"
   ]
  },
  {
   "cell_type": "code",
   "execution_count": 268,
   "metadata": {},
   "outputs": [],
   "source": [
    "df = df.drop('url', axis = 1)"
   ]
  },
  {
   "cell_type": "markdown",
   "metadata": {},
   "source": [
    "## Результат:"
   ]
  },
  {
   "cell_type": "code",
   "execution_count": 269,
   "metadata": {},
   "outputs": [
    {
     "name": "stdout",
     "output_type": "stream",
     "text": [
      "(2039, 16)\n"
     ]
    },
    {
     "data": {
      "text/html": [
       "<div>\n",
       "<style scoped>\n",
       "    .dataframe tbody tr th:only-of-type {\n",
       "        vertical-align: middle;\n",
       "    }\n",
       "\n",
       "    .dataframe tbody tr th {\n",
       "        vertical-align: top;\n",
       "    }\n",
       "\n",
       "    .dataframe thead th {\n",
       "        text-align: right;\n",
       "    }\n",
       "</style>\n",
       "<table border=\"1\" class=\"dataframe\">\n",
       "  <thead>\n",
       "    <tr style=\"text-align: right;\">\n",
       "      <th></th>\n",
       "      <th>age</th>\n",
       "      <th>auto</th>\n",
       "      <th>categories</th>\n",
       "      <th>education</th>\n",
       "      <th>experience</th>\n",
       "      <th>experience_length</th>\n",
       "      <th>gender</th>\n",
       "      <th>name</th>\n",
       "      <th>salary</th>\n",
       "      <th>skills</th>\n",
       "      <th>rus_citizenship</th>\n",
       "      <th>city_msk</th>\n",
       "      <th>city_spb</th>\n",
       "      <th>city_other</th>\n",
       "      <th>full_employment</th>\n",
       "      <th>english_level</th>\n",
       "    </tr>\n",
       "  </thead>\n",
       "  <tbody>\n",
       "    <tr>\n",
       "      <th>1</th>\n",
       "      <td>39</td>\n",
       "      <td>['B — легковые авто']</td>\n",
       "      <td>Техническая поддержка</td>\n",
       "      <td>[{'kind': 'Высшее образование', 'form': 'Дневн...</td>\n",
       "      <td>[{'period': 'октябрь 2017 – работает сейчас', ...</td>\n",
       "      <td>216</td>\n",
       "      <td>0</td>\n",
       "      <td>Администратор, управляющий, IT специалист</td>\n",
       "      <td>50000</td>\n",
       "      <td>[{'professional': '• 1С: Предприятие • 1С: Роз...</td>\n",
       "      <td>1</td>\n",
       "      <td>1</td>\n",
       "      <td>0</td>\n",
       "      <td>0</td>\n",
       "      <td>1</td>\n",
       "      <td>0</td>\n",
       "    </tr>\n",
       "    <tr>\n",
       "      <th>2</th>\n",
       "      <td>47</td>\n",
       "      <td>['Нет прав']</td>\n",
       "      <td>Передача данных и доступ в интернет</td>\n",
       "      <td>[{'kind': 'Высшее образование', 'form': 'Вечер...</td>\n",
       "      <td>[{'period': 'февраль 2008 – работает сейчас', ...</td>\n",
       "      <td>154</td>\n",
       "      <td>0</td>\n",
       "      <td>Администратор / Инженер технической поддержки IT</td>\n",
       "      <td>30000</td>\n",
       "      <td>[{'professional': 'Английский язык уровень. Pr...</td>\n",
       "      <td>1</td>\n",
       "      <td>0</td>\n",
       "      <td>0</td>\n",
       "      <td>1</td>\n",
       "      <td>1</td>\n",
       "      <td>2</td>\n",
       "    </tr>\n",
       "    <tr>\n",
       "      <th>3</th>\n",
       "      <td>23</td>\n",
       "      <td>['Нет прав']</td>\n",
       "      <td>Техническая поддержка</td>\n",
       "      <td>[{'kind': 'Высшее образование', 'form': 'Дневн...</td>\n",
       "      <td>[{'period': 'июль 2015 – работает сейчас', 'le...</td>\n",
       "      <td>51</td>\n",
       "      <td>1</td>\n",
       "      <td>Администратор, IT-специалист, бизнес-аналитик,...</td>\n",
       "      <td>25000</td>\n",
       "      <td>[{'professional': 'Веб-дизайн, photoshop, MS O...</td>\n",
       "      <td>1</td>\n",
       "      <td>0</td>\n",
       "      <td>0</td>\n",
       "      <td>1</td>\n",
       "      <td>1</td>\n",
       "      <td>0</td>\n",
       "    </tr>\n",
       "    <tr>\n",
       "      <th>5</th>\n",
       "      <td>22</td>\n",
       "      <td>['Нет прав']</td>\n",
       "      <td>Системное администрирование</td>\n",
       "      <td>[{'kind': 'Неполное высшее образование', 'form...</td>\n",
       "      <td>[{'period': 'сентябрь 2017 – декабрь 2017', 'l...</td>\n",
       "      <td>14</td>\n",
       "      <td>0</td>\n",
       "      <td>Администратор, менеджер, IT сфера</td>\n",
       "      <td>45000</td>\n",
       "      <td>[{'professional': 'Отличное знание ПК (Exel, 1...</td>\n",
       "      <td>1</td>\n",
       "      <td>1</td>\n",
       "      <td>0</td>\n",
       "      <td>0</td>\n",
       "      <td>0</td>\n",
       "      <td>0</td>\n",
       "    </tr>\n",
       "    <tr>\n",
       "      <th>6</th>\n",
       "      <td>23</td>\n",
       "      <td>['Нет прав']</td>\n",
       "      <td>Техническая поддержка</td>\n",
       "      <td>[{'kind': 'Среднее специальное образование', '...</td>\n",
       "      <td>[{'period': 'август 2015 – ноябрь 2017', 'leng...</td>\n",
       "      <td>28</td>\n",
       "      <td>0</td>\n",
       "      <td>Администратор, IT-специалист</td>\n",
       "      <td>20000</td>\n",
       "      <td>[{'professional': 'Поверхностное знание програ...</td>\n",
       "      <td>1</td>\n",
       "      <td>0</td>\n",
       "      <td>0</td>\n",
       "      <td>1</td>\n",
       "      <td>1</td>\n",
       "      <td>1</td>\n",
       "    </tr>\n",
       "    <tr>\n",
       "      <th>7</th>\n",
       "      <td>24</td>\n",
       "      <td>['A — мотоциклы', 'B — легковые авто']</td>\n",
       "      <td>Сетевые технологии</td>\n",
       "      <td>[{'kind': 'Бакалавр', 'form': 'Дистанционная',...</td>\n",
       "      <td>[{'period': 'декабрь 2017 – работает сейчас', ...</td>\n",
       "      <td>55</td>\n",
       "      <td>0</td>\n",
       "      <td>Администратор компьютерных сетей, техник IT</td>\n",
       "      <td>45000</td>\n",
       "      <td>[{'professional': 'Диагностика, ремонт неиспра...</td>\n",
       "      <td>1</td>\n",
       "      <td>0</td>\n",
       "      <td>1</td>\n",
       "      <td>0</td>\n",
       "      <td>1</td>\n",
       "      <td>1</td>\n",
       "    </tr>\n",
       "    <tr>\n",
       "      <th>9</th>\n",
       "      <td>22</td>\n",
       "      <td>['Нет прав']</td>\n",
       "      <td>Не указано</td>\n",
       "      <td>[{'kind': 'Высшее образование', 'form': 'Очно-...</td>\n",
       "      <td>[{'period': 'июнь 2014 – август 2018', 'length...</td>\n",
       "      <td>51</td>\n",
       "      <td>0</td>\n",
       "      <td>Администратор отдела ГС и ИТ</td>\n",
       "      <td>30000</td>\n",
       "      <td>[{'professional': 'Установка и обслуживание ко...</td>\n",
       "      <td>1</td>\n",
       "      <td>0</td>\n",
       "      <td>0</td>\n",
       "      <td>1</td>\n",
       "      <td>1</td>\n",
       "      <td>2</td>\n",
       "    </tr>\n",
       "    <tr>\n",
       "      <th>10</th>\n",
       "      <td>31</td>\n",
       "      <td>['B — легковые авто', 'C — грузовые авто']</td>\n",
       "      <td>Web-верстка</td>\n",
       "      <td>[{'kind': 'Высшее образование', 'form': 'Дневн...</td>\n",
       "      <td>[{'period': 'ноябрь 2018 – работает сейчас', '...</td>\n",
       "      <td>59</td>\n",
       "      <td>0</td>\n",
       "      <td>Администратор сайта, it специалист</td>\n",
       "      <td>20000</td>\n",
       "      <td>[{'professional': 'Уверенный пользователь. Опы...</td>\n",
       "      <td>1</td>\n",
       "      <td>0</td>\n",
       "      <td>0</td>\n",
       "      <td>1</td>\n",
       "      <td>0</td>\n",
       "      <td>1</td>\n",
       "    </tr>\n",
       "    <tr>\n",
       "      <th>11</th>\n",
       "      <td>48</td>\n",
       "      <td>['Нет прав']</td>\n",
       "      <td>Сетевые технологии</td>\n",
       "      <td>[{'kind': 'Высшее образование', 'form': 'Дневн...</td>\n",
       "      <td>[{'period': 'февраль 2014 – апрель 2014', 'len...</td>\n",
       "      <td>224</td>\n",
       "      <td>0</td>\n",
       "      <td>Администратор в области IT</td>\n",
       "      <td>30000</td>\n",
       "      <td>[{'professional': 'Ответственность, коммуникаб...</td>\n",
       "      <td>1</td>\n",
       "      <td>0</td>\n",
       "      <td>0</td>\n",
       "      <td>1</td>\n",
       "      <td>1</td>\n",
       "      <td>2</td>\n",
       "    </tr>\n",
       "    <tr>\n",
       "      <th>12</th>\n",
       "      <td>23</td>\n",
       "      <td>['B — легковые авто']</td>\n",
       "      <td>Техническая поддержка</td>\n",
       "      <td>[{'kind': 'Бакалавр', 'form': 'Дневная/Очная',...</td>\n",
       "      <td>[{'period': 'сентябрь 2018 – работает сейчас',...</td>\n",
       "      <td>3</td>\n",
       "      <td>0</td>\n",
       "      <td>Аналитик, IT специалист</td>\n",
       "      <td>35000</td>\n",
       "      <td>[{'professional': 'Аналитический склад ума, ув...</td>\n",
       "      <td>1</td>\n",
       "      <td>1</td>\n",
       "      <td>0</td>\n",
       "      <td>0</td>\n",
       "      <td>1</td>\n",
       "      <td>1</td>\n",
       "    </tr>\n",
       "  </tbody>\n",
       "</table>\n",
       "</div>"
      ],
      "text/plain": [
       "    age                                        auto  \\\n",
       "1    39                       ['B — легковые авто']   \n",
       "2    47                                ['Нет прав']   \n",
       "3    23                                ['Нет прав']   \n",
       "5    22                                ['Нет прав']   \n",
       "6    23                                ['Нет прав']   \n",
       "7    24      ['A — мотоциклы', 'B — легковые авто']   \n",
       "9    22                                ['Нет прав']   \n",
       "10   31  ['B — легковые авто', 'C — грузовые авто']   \n",
       "11   48                                ['Нет прав']   \n",
       "12   23                       ['B — легковые авто']   \n",
       "\n",
       "                             categories  \\\n",
       "1                 Техническая поддержка   \n",
       "2   Передача данных и доступ в интернет   \n",
       "3                 Техническая поддержка   \n",
       "5           Системное администрирование   \n",
       "6                 Техническая поддержка   \n",
       "7                    Сетевые технологии   \n",
       "9                            Не указано   \n",
       "10                          Web-верстка   \n",
       "11                   Сетевые технологии   \n",
       "12                Техническая поддержка   \n",
       "\n",
       "                                            education  \\\n",
       "1   [{'kind': 'Высшее образование', 'form': 'Дневн...   \n",
       "2   [{'kind': 'Высшее образование', 'form': 'Вечер...   \n",
       "3   [{'kind': 'Высшее образование', 'form': 'Дневн...   \n",
       "5   [{'kind': 'Неполное высшее образование', 'form...   \n",
       "6   [{'kind': 'Среднее специальное образование', '...   \n",
       "7   [{'kind': 'Бакалавр', 'form': 'Дистанционная',...   \n",
       "9   [{'kind': 'Высшее образование', 'form': 'Очно-...   \n",
       "10  [{'kind': 'Высшее образование', 'form': 'Дневн...   \n",
       "11  [{'kind': 'Высшее образование', 'form': 'Дневн...   \n",
       "12  [{'kind': 'Бакалавр', 'form': 'Дневная/Очная',...   \n",
       "\n",
       "                                           experience experience_length  \\\n",
       "1   [{'period': 'октябрь 2017 – работает сейчас', ...               216   \n",
       "2   [{'period': 'февраль 2008 – работает сейчас', ...               154   \n",
       "3   [{'period': 'июль 2015 – работает сейчас', 'le...                51   \n",
       "5   [{'period': 'сентябрь 2017 – декабрь 2017', 'l...                14   \n",
       "6   [{'period': 'август 2015 – ноябрь 2017', 'leng...                28   \n",
       "7   [{'period': 'декабрь 2017 – работает сейчас', ...                55   \n",
       "9   [{'period': 'июнь 2014 – август 2018', 'length...                51   \n",
       "10  [{'period': 'ноябрь 2018 – работает сейчас', '...                59   \n",
       "11  [{'period': 'февраль 2014 – апрель 2014', 'len...               224   \n",
       "12  [{'period': 'сентябрь 2018 – работает сейчас',...                 3   \n",
       "\n",
       "    gender                                               name  salary  \\\n",
       "1        0          Администратор, управляющий, IT специалист   50000   \n",
       "2        0   Администратор / Инженер технической поддержки IT   30000   \n",
       "3        1  Администратор, IT-специалист, бизнес-аналитик,...   25000   \n",
       "5        0                  Администратор, менеджер, IT сфера   45000   \n",
       "6        0                       Администратор, IT-специалист   20000   \n",
       "7        0        Администратор компьютерных сетей, техник IT   45000   \n",
       "9        0                       Администратор отдела ГС и ИТ   30000   \n",
       "10       0                 Администратор сайта, it специалист   20000   \n",
       "11       0                         Администратор в области IT   30000   \n",
       "12       0                            Аналитик, IT специалист   35000   \n",
       "\n",
       "                                               skills  rus_citizenship  \\\n",
       "1   [{'professional': '• 1С: Предприятие • 1С: Роз...                1   \n",
       "2   [{'professional': 'Английский язык уровень. Pr...                1   \n",
       "3   [{'professional': 'Веб-дизайн, photoshop, MS O...                1   \n",
       "5   [{'professional': 'Отличное знание ПК (Exel, 1...                1   \n",
       "6   [{'professional': 'Поверхностное знание програ...                1   \n",
       "7   [{'professional': 'Диагностика, ремонт неиспра...                1   \n",
       "9   [{'professional': 'Установка и обслуживание ко...                1   \n",
       "10  [{'professional': 'Уверенный пользователь. Опы...                1   \n",
       "11  [{'professional': 'Ответственность, коммуникаб...                1   \n",
       "12  [{'professional': 'Аналитический склад ума, ув...                1   \n",
       "\n",
       "    city_msk  city_spb  city_other  full_employment  english_level  \n",
       "1          1         0           0                1              0  \n",
       "2          0         0           1                1              2  \n",
       "3          0         0           1                1              0  \n",
       "5          1         0           0                0              0  \n",
       "6          0         0           1                1              1  \n",
       "7          0         1           0                1              1  \n",
       "9          0         0           1                1              2  \n",
       "10         0         0           1                0              1  \n",
       "11         0         0           1                1              2  \n",
       "12         1         0           0                1              1  "
      ]
     },
     "execution_count": 269,
     "metadata": {},
     "output_type": "execute_result"
    }
   ],
   "source": [
    "print(df.shape)\n",
    "df.head(10)"
   ]
  },
  {
   "cell_type": "code",
   "execution_count": 270,
   "metadata": {},
   "outputs": [
    {
     "data": {
      "text/plain": [
       "Index(['age', 'auto', 'categories', 'education', 'experience',\n",
       "       'experience_length', 'gender', 'name', 'salary', 'skills',\n",
       "       'rus_citizenship', 'city_msk', 'city_spb', 'city_other',\n",
       "       'full_employment', 'english_level'],\n",
       "      dtype='object')"
      ]
     },
     "execution_count": 270,
     "metadata": {},
     "output_type": "execute_result"
    }
   ],
   "source": [
    "df.columns"
   ]
  },
  {
   "cell_type": "markdown",
   "metadata": {},
   "source": [
    "## Имеем фичи:\n",
    "\n",
    "1. `age` - Возраст - *нужно нормализовать*\n",
    "2. `auto` - Наличие прав\n",
    "3. `categories` - Категории сайта \n",
    "4. `education` - Образование \n",
    "5. `experience` - Опыт работы\n",
    "6. `experience_length` - Продолжительность опыта работы - *нужно нормализовать*\n",
    "7. `gender` - Пол\n",
    "8. `name` - Название вакансии\n",
    "9. `salary`  - Зарплата\n",
    "10. `skills` - Ключевые навыки\n",
    "11. `rus_citizenship` - Наличие российского гражданства\n",
    "12. `city_msk` - Живет в Москве\n",
    "13. `city_spb` - Живет в Санкт-Петербурге\n",
    "14. `city_other` - Живет не в Москве и не в Санкт-Петербурге\n",
    "15. `full_employment` - Готов работать на полную ставку\n",
    "16. `english_level` - Уровень владения английским"
   ]
  },
  {
   "cell_type": "code",
   "execution_count": null,
   "metadata": {},
   "outputs": [],
   "source": []
  }
 ],
 "metadata": {
  "kernelspec": {
   "display_name": "Python 3",
   "language": "python",
   "name": "python3"
  },
  "language_info": {
   "codemirror_mode": {
    "name": "ipython",
    "version": 3
   },
   "file_extension": ".py",
   "mimetype": "text/x-python",
   "name": "python",
   "nbconvert_exporter": "python",
   "pygments_lexer": "ipython3",
   "version": "3.7.0"
  }
 },
 "nbformat": 4,
 "nbformat_minor": 2
}
