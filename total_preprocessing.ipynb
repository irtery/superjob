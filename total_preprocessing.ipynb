{
 "cells": [
  {
   "cell_type": "markdown",
   "metadata": {},
   "source": [
    "## Весь препроцессинг вместе"
   ]
  },
  {
   "cell_type": "code",
   "execution_count": 1,
   "metadata": {},
   "outputs": [],
   "source": [
    "import pandas as pd\n",
    "import numpy as np\n",
    "import sklearn as sk\n",
    "import json as js\n",
    "import csv"
   ]
  },
  {
   "cell_type": "code",
   "execution_count": 2,
   "metadata": {},
   "outputs": [],
   "source": [
    "df = pd.read_csv('data/resume.csv', index_col=0)"
   ]
  },
  {
   "cell_type": "code",
   "execution_count": 3,
   "metadata": {},
   "outputs": [
    {
     "data": {
      "text/plain": [
       "(2369, 19)"
      ]
     },
     "execution_count": 3,
     "metadata": {},
     "output_type": "execute_result"
    }
   ],
   "source": [
    "df.shape"
   ]
  },
  {
   "cell_type": "code",
   "execution_count": 4,
   "metadata": {},
   "outputs": [
    {
     "data": {
      "text/html": [
       "<div>\n",
       "<style scoped>\n",
       "    .dataframe tbody tr th:only-of-type {\n",
       "        vertical-align: middle;\n",
       "    }\n",
       "\n",
       "    .dataframe tbody tr th {\n",
       "        vertical-align: top;\n",
       "    }\n",
       "\n",
       "    .dataframe thead th {\n",
       "        text-align: right;\n",
       "    }\n",
       "</style>\n",
       "<table border=\"1\" class=\"dataframe\">\n",
       "  <thead>\n",
       "    <tr style=\"text-align: right;\">\n",
       "      <th></th>\n",
       "      <th>age</th>\n",
       "      <th>auto</th>\n",
       "      <th>business_trips</th>\n",
       "      <th>categories</th>\n",
       "      <th>citizenship</th>\n",
       "      <th>city</th>\n",
       "      <th>education</th>\n",
       "      <th>employment</th>\n",
       "      <th>experience</th>\n",
       "      <th>experience_length</th>\n",
       "      <th>family</th>\n",
       "      <th>gender</th>\n",
       "      <th>languages</th>\n",
       "      <th>metro_or_moving</th>\n",
       "      <th>name</th>\n",
       "      <th>photo_url</th>\n",
       "      <th>salary</th>\n",
       "      <th>skills</th>\n",
       "      <th>url</th>\n",
       "    </tr>\n",
       "  </thead>\n",
       "  <tbody>\n",
       "    <tr>\n",
       "      <th>0</th>\n",
       "      <td>20</td>\n",
       "      <td>NaN</td>\n",
       "      <td>не готов к командировкам</td>\n",
       "      <td>Архитектура</td>\n",
       "      <td>Россия</td>\n",
       "      <td>Ковров</td>\n",
       "      <td>[{'kind': 'Неполное высшее образование', 'form...</td>\n",
       "      <td>неполный рабочий день</td>\n",
       "      <td>[{'period': 'сентябрь 2017 – март 2018', 'leng...</td>\n",
       "      <td>7 месяцев</td>\n",
       "      <td>NaN</td>\n",
       "      <td>f</td>\n",
       "      <td>['Немецкий язык, Базовый']</td>\n",
       "      <td>NaN</td>\n",
       "      <td>3D-моделлер, IT стажёр, консультант</td>\n",
       "      <td>NaN</td>\n",
       "      <td>30 000₽</td>\n",
       "      <td>NaN</td>\n",
       "      <td>https://www.superjob.ru/resume/3d-modeller-436...</td>\n",
       "    </tr>\n",
       "    <tr>\n",
       "      <th>1</th>\n",
       "      <td>39</td>\n",
       "      <td>['B — легковые авто']</td>\n",
       "      <td>NaN</td>\n",
       "      <td>Техническая поддержка</td>\n",
       "      <td>Россия</td>\n",
       "      <td>Москва</td>\n",
       "      <td>[{'kind': 'Высшее образование', 'form': 'Дневн...</td>\n",
       "      <td>полная занятость</td>\n",
       "      <td>[{'period': 'октябрь 2017 – работает сейчас', ...</td>\n",
       "      <td>18 лет</td>\n",
       "      <td>cостоит в браке</td>\n",
       "      <td>m</td>\n",
       "      <td>NaN</td>\n",
       "      <td>NaN</td>\n",
       "      <td>Администратор, управляющий, IT специалист</td>\n",
       "      <td>https://public.superjob.ru/images/resume_fotos...</td>\n",
       "      <td>50 000₽</td>\n",
       "      <td>[{'professional': '• 1С: Предприятие • 1С: Роз...</td>\n",
       "      <td>https://www.superjob.ru/resume/administrator-2...</td>\n",
       "    </tr>\n",
       "    <tr>\n",
       "      <th>2</th>\n",
       "      <td>47</td>\n",
       "      <td>NaN</td>\n",
       "      <td>NaN</td>\n",
       "      <td>Передача данных и доступ в интернет</td>\n",
       "      <td>NaN</td>\n",
       "      <td>Новосибирск</td>\n",
       "      <td>[{'kind': 'Высшее образование', 'form': 'Вечер...</td>\n",
       "      <td>полная занятость</td>\n",
       "      <td>[{'period': 'февраль 2008 – работает сейчас', ...</td>\n",
       "      <td>12 лет и 10 месяцев</td>\n",
       "      <td>cостоит в браке, есть дети</td>\n",
       "      <td>m</td>\n",
       "      <td>['Английский язык, Технический']</td>\n",
       "      <td>Берёзовая роща</td>\n",
       "      <td>Администратор / Инженер технической поддержки IT</td>\n",
       "      <td>NaN</td>\n",
       "      <td>30 000₽</td>\n",
       "      <td>[{'professional': 'Английский язык уровень. Pr...</td>\n",
       "      <td>https://www.superjob.ru/resume/administrator-2...</td>\n",
       "    </tr>\n",
       "    <tr>\n",
       "      <th>3</th>\n",
       "      <td>23</td>\n",
       "      <td>NaN</td>\n",
       "      <td>NaN</td>\n",
       "      <td>Техническая поддержка</td>\n",
       "      <td>NaN</td>\n",
       "      <td>Самара</td>\n",
       "      <td>[{'kind': 'Высшее образование', 'form': 'Дневн...</td>\n",
       "      <td>сменный график работы</td>\n",
       "      <td>[{'period': 'июль 2015 – работает сейчас', 'le...</td>\n",
       "      <td>4 года и 3 месяца</td>\n",
       "      <td>NaN</td>\n",
       "      <td>f</td>\n",
       "      <td>NaN</td>\n",
       "      <td>NaN</td>\n",
       "      <td>Администратор, IT-специалист, бизнес-аналитик,...</td>\n",
       "      <td>https://public.superjob.ru/images/resume_fotos...</td>\n",
       "      <td>25 000₽</td>\n",
       "      <td>[{'professional': 'Веб-дизайн, photoshop, MS O...</td>\n",
       "      <td>https://www.superjob.ru/resume/administrator-3...</td>\n",
       "    </tr>\n",
       "    <tr>\n",
       "      <th>4</th>\n",
       "      <td>52</td>\n",
       "      <td>NaN</td>\n",
       "      <td>не готов к командировкам</td>\n",
       "      <td>АХО</td>\n",
       "      <td>Россия</td>\n",
       "      <td>Ангарск</td>\n",
       "      <td>[{'kind': 'Высшее образование', 'form': 'Дневн...</td>\n",
       "      <td>NaN</td>\n",
       "      <td>[{'period': 'июнь 1993 – март 2015', 'length':...</td>\n",
       "      <td>21 год и 10 месяцев</td>\n",
       "      <td>не состоит в браке, есть дети</td>\n",
       "      <td>f</td>\n",
       "      <td>NaN</td>\n",
       "      <td>NaN</td>\n",
       "      <td>Администратор, IT-специалист, диспетчер</td>\n",
       "      <td>NaN</td>\n",
       "      <td>20 000₽</td>\n",
       "      <td>NaN</td>\n",
       "      <td>https://www.superjob.ru/resume/administrator-3...</td>\n",
       "    </tr>\n",
       "    <tr>\n",
       "      <th>5</th>\n",
       "      <td>22</td>\n",
       "      <td>NaN</td>\n",
       "      <td>NaN</td>\n",
       "      <td>Системное администрирование</td>\n",
       "      <td>Россия</td>\n",
       "      <td>Москва</td>\n",
       "      <td>[{'kind': 'Неполное высшее образование', 'form...</td>\n",
       "      <td>NaN</td>\n",
       "      <td>[{'period': 'сентябрь 2017 – декабрь 2017', 'l...</td>\n",
       "      <td>1 год и 2 месяца</td>\n",
       "      <td>NaN</td>\n",
       "      <td>m</td>\n",
       "      <td>NaN</td>\n",
       "      <td>готов к переезду</td>\n",
       "      <td>Администратор, менеджер, IT сфера</td>\n",
       "      <td>https://public.superjob.ru/images/resume_fotos...</td>\n",
       "      <td>45 000₽</td>\n",
       "      <td>[{'professional': 'Отличное знание ПК (Exel, 1...</td>\n",
       "      <td>https://www.superjob.ru/resume/administrator-4...</td>\n",
       "    </tr>\n",
       "    <tr>\n",
       "      <th>6</th>\n",
       "      <td>23</td>\n",
       "      <td>NaN</td>\n",
       "      <td>NaN</td>\n",
       "      <td>Техническая поддержка</td>\n",
       "      <td>Россия</td>\n",
       "      <td>Миллерово</td>\n",
       "      <td>[{'kind': 'Среднее специальное образование', '...</td>\n",
       "      <td>полная занятость</td>\n",
       "      <td>[{'period': 'август 2015 – ноябрь 2017', 'leng...</td>\n",
       "      <td>2 года и 4 месяца</td>\n",
       "      <td>не состоит в браке, детей нет</td>\n",
       "      <td>m</td>\n",
       "      <td>['Английский язык, Базовый']</td>\n",
       "      <td>готов к переезду</td>\n",
       "      <td>Администратор, IT-специалист</td>\n",
       "      <td>https://public.superjob.ru/images/resume_fotos...</td>\n",
       "      <td>20 000₽</td>\n",
       "      <td>[{'professional': 'Поверхностное знание програ...</td>\n",
       "      <td>https://www.superjob.ru/resume/administrator-4...</td>\n",
       "    </tr>\n",
       "    <tr>\n",
       "      <th>7</th>\n",
       "      <td>24</td>\n",
       "      <td>['A — мотоциклы', 'B — легковые авто']</td>\n",
       "      <td>NaN</td>\n",
       "      <td>Сетевые технологии</td>\n",
       "      <td>Россия</td>\n",
       "      <td>Санкт-Петербург</td>\n",
       "      <td>[{'kind': 'Бакалавр', 'form': 'Дистанционная',...</td>\n",
       "      <td>полная занятость</td>\n",
       "      <td>[{'period': 'декабрь 2017 – работает сейчас', ...</td>\n",
       "      <td>4 года и 7 месяцев</td>\n",
       "      <td>NaN</td>\n",
       "      <td>m</td>\n",
       "      <td>['Английский язык, Базовый', 'Эстонский язык, ...</td>\n",
       "      <td>NaN</td>\n",
       "      <td>Администратор компьютерных сетей, техник IT</td>\n",
       "      <td>NaN</td>\n",
       "      <td>45 000₽</td>\n",
       "      <td>[{'professional': 'Диагностика, ремонт неиспра...</td>\n",
       "      <td>https://www.superjob.ru/resume/administrator-k...</td>\n",
       "    </tr>\n",
       "    <tr>\n",
       "      <th>8</th>\n",
       "      <td>30</td>\n",
       "      <td>NaN</td>\n",
       "      <td>не готов к командировкам</td>\n",
       "      <td>Складское хозяйство</td>\n",
       "      <td>Россия</td>\n",
       "      <td>Железнодорожный</td>\n",
       "      <td>[{'kind': 'Высшее образование', 'form': 'Очно-...</td>\n",
       "      <td>полная занятость</td>\n",
       "      <td>[{'period': 'август 2017 – сентябрь 2018', 'le...</td>\n",
       "      <td>6 лет и 2 месяца</td>\n",
       "      <td>cостоит в браке</td>\n",
       "      <td>m</td>\n",
       "      <td>['Английский язык, Базовый']</td>\n",
       "      <td>NaN</td>\n",
       "      <td>Администратор магазина, кладовщик, старший кла...</td>\n",
       "      <td>NaN</td>\n",
       "      <td>50 000₽</td>\n",
       "      <td>NaN</td>\n",
       "      <td>https://www.superjob.ru/resume/administrator-m...</td>\n",
       "    </tr>\n",
       "    <tr>\n",
       "      <th>9</th>\n",
       "      <td>22</td>\n",
       "      <td>NaN</td>\n",
       "      <td>NaN</td>\n",
       "      <td>NaN</td>\n",
       "      <td>Россия</td>\n",
       "      <td>Рязань</td>\n",
       "      <td>[{'kind': 'Высшее образование', 'form': 'Очно-...</td>\n",
       "      <td>полная занятость</td>\n",
       "      <td>[{'period': 'июнь 2014 – август 2018', 'length...</td>\n",
       "      <td>4 года и 3 месяца</td>\n",
       "      <td>NaN</td>\n",
       "      <td>m</td>\n",
       "      <td>['Английский язык, Технический']</td>\n",
       "      <td>NaN</td>\n",
       "      <td>Администратор отдела ГС и ИТ</td>\n",
       "      <td>https://public.superjob.ru/images/resume_fotos...</td>\n",
       "      <td>30 000₽</td>\n",
       "      <td>[{'professional': 'Установка и обслуживание ко...</td>\n",
       "      <td>https://www.superjob.ru/resume/administrator-o...</td>\n",
       "    </tr>\n",
       "  </tbody>\n",
       "</table>\n",
       "</div>"
      ],
      "text/plain": [
       "   age                                    auto            business_trips  \\\n",
       "0   20                                     NaN  не готов к командировкам   \n",
       "1   39                   ['B — легковые авто']                       NaN   \n",
       "2   47                                     NaN                       NaN   \n",
       "3   23                                     NaN                       NaN   \n",
       "4   52                                     NaN  не готов к командировкам   \n",
       "5   22                                     NaN                       NaN   \n",
       "6   23                                     NaN                       NaN   \n",
       "7   24  ['A — мотоциклы', 'B — легковые авто']                       NaN   \n",
       "8   30                                     NaN  не готов к командировкам   \n",
       "9   22                                     NaN                       NaN   \n",
       "\n",
       "                            categories citizenship             city  \\\n",
       "0                          Архитектура      Россия           Ковров   \n",
       "1                Техническая поддержка      Россия           Москва   \n",
       "2  Передача данных и доступ в интернет         NaN      Новосибирск   \n",
       "3                Техническая поддержка         NaN           Самара   \n",
       "4                                  АХО      Россия          Ангарск   \n",
       "5          Системное администрирование      Россия           Москва   \n",
       "6                Техническая поддержка      Россия        Миллерово   \n",
       "7                   Сетевые технологии      Россия  Санкт-Петербург   \n",
       "8                  Складское хозяйство      Россия  Железнодорожный   \n",
       "9                                  NaN      Россия           Рязань   \n",
       "\n",
       "                                           education             employment  \\\n",
       "0  [{'kind': 'Неполное высшее образование', 'form...  неполный рабочий день   \n",
       "1  [{'kind': 'Высшее образование', 'form': 'Дневн...       полная занятость   \n",
       "2  [{'kind': 'Высшее образование', 'form': 'Вечер...       полная занятость   \n",
       "3  [{'kind': 'Высшее образование', 'form': 'Дневн...  сменный график работы   \n",
       "4  [{'kind': 'Высшее образование', 'form': 'Дневн...                    NaN   \n",
       "5  [{'kind': 'Неполное высшее образование', 'form...                    NaN   \n",
       "6  [{'kind': 'Среднее специальное образование', '...       полная занятость   \n",
       "7  [{'kind': 'Бакалавр', 'form': 'Дистанционная',...       полная занятость   \n",
       "8  [{'kind': 'Высшее образование', 'form': 'Очно-...       полная занятость   \n",
       "9  [{'kind': 'Высшее образование', 'form': 'Очно-...       полная занятость   \n",
       "\n",
       "                                          experience    experience_length  \\\n",
       "0  [{'period': 'сентябрь 2017 – март 2018', 'leng...            7 месяцев   \n",
       "1  [{'period': 'октябрь 2017 – работает сейчас', ...               18 лет   \n",
       "2  [{'period': 'февраль 2008 – работает сейчас', ...  12 лет и 10 месяцев   \n",
       "3  [{'period': 'июль 2015 – работает сейчас', 'le...    4 года и 3 месяца   \n",
       "4  [{'period': 'июнь 1993 – март 2015', 'length':...  21 год и 10 месяцев   \n",
       "5  [{'period': 'сентябрь 2017 – декабрь 2017', 'l...     1 год и 2 месяца   \n",
       "6  [{'period': 'август 2015 – ноябрь 2017', 'leng...    2 года и 4 месяца   \n",
       "7  [{'period': 'декабрь 2017 – работает сейчас', ...   4 года и 7 месяцев   \n",
       "8  [{'period': 'август 2017 – сентябрь 2018', 'le...     6 лет и 2 месяца   \n",
       "9  [{'period': 'июнь 2014 – август 2018', 'length...    4 года и 3 месяца   \n",
       "\n",
       "                          family gender  \\\n",
       "0                            NaN      f   \n",
       "1                cостоит в браке      m   \n",
       "2     cостоит в браке, есть дети      m   \n",
       "3                            NaN      f   \n",
       "4  не состоит в браке, есть дети      f   \n",
       "5                            NaN      m   \n",
       "6  не состоит в браке, детей нет      m   \n",
       "7                            NaN      m   \n",
       "8                cостоит в браке      m   \n",
       "9                            NaN      m   \n",
       "\n",
       "                                           languages   metro_or_moving  \\\n",
       "0                         ['Немецкий язык, Базовый']               NaN   \n",
       "1                                                NaN               NaN   \n",
       "2                   ['Английский язык, Технический']    Берёзовая роща   \n",
       "3                                                NaN               NaN   \n",
       "4                                                NaN               NaN   \n",
       "5                                                NaN  готов к переезду   \n",
       "6                       ['Английский язык, Базовый']  готов к переезду   \n",
       "7  ['Английский язык, Базовый', 'Эстонский язык, ...               NaN   \n",
       "8                       ['Английский язык, Базовый']               NaN   \n",
       "9                   ['Английский язык, Технический']               NaN   \n",
       "\n",
       "                                                name  \\\n",
       "0                3D-моделлер, IT стажёр, консультант   \n",
       "1          Администратор, управляющий, IT специалист   \n",
       "2   Администратор / Инженер технической поддержки IT   \n",
       "3  Администратор, IT-специалист, бизнес-аналитик,...   \n",
       "4            Администратор, IT-специалист, диспетчер   \n",
       "5                  Администратор, менеджер, IT сфера   \n",
       "6                       Администратор, IT-специалист   \n",
       "7        Администратор компьютерных сетей, техник IT   \n",
       "8  Администратор магазина, кладовщик, старший кла...   \n",
       "9                       Администратор отдела ГС и ИТ   \n",
       "\n",
       "                                           photo_url   salary  \\\n",
       "0                                                NaN  30 000₽   \n",
       "1  https://public.superjob.ru/images/resume_fotos...  50 000₽   \n",
       "2                                                NaN  30 000₽   \n",
       "3  https://public.superjob.ru/images/resume_fotos...  25 000₽   \n",
       "4                                                NaN  20 000₽   \n",
       "5  https://public.superjob.ru/images/resume_fotos...  45 000₽   \n",
       "6  https://public.superjob.ru/images/resume_fotos...  20 000₽   \n",
       "7                                                NaN  45 000₽   \n",
       "8                                                NaN  50 000₽   \n",
       "9  https://public.superjob.ru/images/resume_fotos...  30 000₽   \n",
       "\n",
       "                                              skills  \\\n",
       "0                                                NaN   \n",
       "1  [{'professional': '• 1С: Предприятие • 1С: Роз...   \n",
       "2  [{'professional': 'Английский язык уровень. Pr...   \n",
       "3  [{'professional': 'Веб-дизайн, photoshop, MS O...   \n",
       "4                                                NaN   \n",
       "5  [{'professional': 'Отличное знание ПК (Exel, 1...   \n",
       "6  [{'professional': 'Поверхностное знание програ...   \n",
       "7  [{'professional': 'Диагностика, ремонт неиспра...   \n",
       "8                                                NaN   \n",
       "9  [{'professional': 'Установка и обслуживание ко...   \n",
       "\n",
       "                                                 url  \n",
       "0  https://www.superjob.ru/resume/3d-modeller-436...  \n",
       "1  https://www.superjob.ru/resume/administrator-2...  \n",
       "2  https://www.superjob.ru/resume/administrator-2...  \n",
       "3  https://www.superjob.ru/resume/administrator-3...  \n",
       "4  https://www.superjob.ru/resume/administrator-3...  \n",
       "5  https://www.superjob.ru/resume/administrator-4...  \n",
       "6  https://www.superjob.ru/resume/administrator-4...  \n",
       "7  https://www.superjob.ru/resume/administrator-k...  \n",
       "8  https://www.superjob.ru/resume/administrator-m...  \n",
       "9  https://www.superjob.ru/resume/administrator-o...  "
      ]
     },
     "execution_count": 4,
     "metadata": {},
     "output_type": "execute_result"
    }
   ],
   "source": [
    "df.head(10)"
   ]
  },
  {
   "cell_type": "code",
   "execution_count": 5,
   "metadata": {},
   "outputs": [
    {
     "data": {
      "text/plain": [
       "Index(['age', 'auto', 'business_trips', 'categories', 'citizenship', 'city',\n",
       "       'education', 'employment', 'experience', 'experience_length', 'family',\n",
       "       'gender', 'languages', 'metro_or_moving', 'name', 'photo_url', 'salary',\n",
       "       'skills', 'url'],\n",
       "      dtype='object')"
      ]
     },
     "execution_count": 5,
     "metadata": {},
     "output_type": "execute_result"
    }
   ],
   "source": [
    "df.columns"
   ]
  },
  {
   "cell_type": "markdown",
   "metadata": {},
   "source": [
    "## Обработка колонок:\n",
    "\n",
    "1. `age` - Возраст\n",
    "2. `auto` - Наличие прав\n",
    "3. `business_trips` - Готовность к командировкам $\\longrightarrow$ **удалили**\n",
    "4. `categories` - Категории сайта $\\longrightarrow$ `categories_text`\n",
    "5. `citizenship` - Гражданство $\\longrightarrow$ `rus_citizenship`\n",
    "6. `city` - Город - дало 3 новых признака $\\longrightarrow$ `city_msk`, `city_spb`, `city_other`\n",
    "7. `education` - Образование $\\longrightarrow$ `education_degree`\n",
    "8. `employment` - Желаемая занятость $\\longrightarrow$ `full_employment`\n",
    "9. `experience` - Опыт работы $\\longrightarrow$ `experience_text`\n",
    "10. `experience_length` - Продолжительность опыта работы\n",
    "11. `family` - Семейное положение $\\longrightarrow$ **удалили**\n",
    "12. `gender` - Пол\n",
    "13. `languages` - Владение языками $\\longrightarrow$ `english_level`\n",
    "14. `metro_or_moving` - Станция метро или готовность к переезду\n",
    "15. `name` - Название вакансии $\\longrightarrow$ `name_text`\n",
    "16. `photo_url` - Ссылка на фотографию  $\\longrightarrow$ **удалили**\n",
    "17. `salary`  - Зарплата\n",
    "18. `skills` - Ключевые навыки $\\longrightarrow$ `skills_text`\n",
    "19. `url` - Ссылка на резюме  $\\longrightarrow$ **удалили**"
   ]
  },
  {
   "cell_type": "markdown",
   "metadata": {},
   "source": [
    "## 1. `age`"
   ]
  },
  {
   "cell_type": "code",
   "execution_count": 6,
   "metadata": {},
   "outputs": [
    {
     "data": {
      "text/plain": [
       "34    99\n",
       "35    99\n",
       "33    98\n",
       "32    96\n",
       "31    95\n",
       "29    93\n",
       "30    92\n",
       "41    85\n",
       "28    85\n",
       "36    83\n",
       "27    82\n",
       "39    75\n",
       "24    74\n",
       "37    74\n",
       "38    73\n",
       "23    72\n",
       "26    68\n",
       "25    67\n",
       "40    63\n",
       "22    62\n",
       "21    61\n",
       "45    59\n",
       "43    58\n",
       "42    56\n",
       "46    51\n",
       "44    51\n",
       "48    45\n",
       "47    34\n",
       "49    33\n",
       "20    31\n",
       "54    30\n",
       "52    30\n",
       "51    27\n",
       "56    27\n",
       "55    26\n",
       "53    26\n",
       "50    22\n",
       "58    13\n",
       "19     9\n",
       "57     9\n",
       "59     7\n",
       "62     5\n",
       "64     5\n",
       "60     3\n",
       "61     3\n",
       "63     3\n",
       "18     3\n",
       "72     2\n",
       "67     1\n",
       "66     1\n",
       "68     1\n",
       "65     1\n",
       "70     1\n",
       "Name: age, dtype: int64"
      ]
     },
     "execution_count": 6,
     "metadata": {},
     "output_type": "execute_result"
    }
   ],
   "source": [
    " df.age.value_counts(dropna=False)"
   ]
  },
  {
   "cell_type": "markdown",
   "metadata": {},
   "source": [
    "## 2. `auto`"
   ]
  },
  {
   "cell_type": "code",
   "execution_count": 7,
   "metadata": {},
   "outputs": [
    {
     "data": {
      "text/plain": [
       "['B — легковые авто']                                                                                 1171\n",
       "NaN                                                                                                    808\n",
       "['B — легковые авто', 'C — грузовые авто']                                                             220\n",
       "['A — мотоциклы', 'B — легковые авто']                                                                  74\n",
       "['A — мотоциклы', 'B — легковые авто', 'C — грузовые авто']                                             52\n",
       "['C — грузовые авто']                                                                                   11\n",
       "['B — легковые авто', 'C — грузовые авто', 'D — автобусы']                                              11\n",
       "['B — легковые авто', 'C — грузовые авто', 'D — автобусы', 'E — авто с прицепом']                        7\n",
       "['B — легковые авто', 'D — автобусы']                                                                    5\n",
       "['A — мотоциклы', 'B — легковые авто', 'C — грузовые авто', 'D — автобусы']                              3\n",
       "['B — легковые авто', 'C — грузовые авто', 'E — авто с прицепом']                                        2\n",
       "['A — мотоциклы']                                                                                        2\n",
       "['A — мотоциклы', 'B — легковые авто', 'C — грузовые авто', 'D — автобусы', 'E — авто с прицепом']       2\n",
       "['A — мотоциклы', 'C — грузовые авто']                                                                   1\n",
       "Name: auto, dtype: int64"
      ]
     },
     "execution_count": 7,
     "metadata": {},
     "output_type": "execute_result"
    }
   ],
   "source": [
    "df.auto.value_counts(dropna=False)"
   ]
  },
  {
   "cell_type": "code",
   "execution_count": 8,
   "metadata": {},
   "outputs": [
    {
     "name": "stderr",
     "output_type": "stream",
     "text": [
      "/home/semen/anaconda3/lib/python3.7/site-packages/pandas/core/indexing.py:189: SettingWithCopyWarning: \n",
      "A value is trying to be set on a copy of a slice from a DataFrame\n",
      "\n",
      "See the caveats in the documentation: http://pandas.pydata.org/pandas-docs/stable/indexing.html#indexing-view-versus-copy\n",
      "  self._setitem_with_indexer(indexer, value)\n"
     ]
    }
   ],
   "source": [
    "df.auto.loc[~df.auto.isnull()] = 1\n",
    "df.auto.loc[df.auto.isnull()] = 0"
   ]
  },
  {
   "cell_type": "markdown",
   "metadata": {},
   "source": [
    "## 3. `business_trips`"
   ]
  },
  {
   "cell_type": "code",
   "execution_count": 9,
   "metadata": {},
   "outputs": [
    {
     "data": {
      "text/plain": [
       "NaN                         1373\n",
       "не готов к командировкам     968\n",
       "на дому                       28\n",
       "Name: business_trips, dtype: int64"
      ]
     },
     "execution_count": 9,
     "metadata": {},
     "output_type": "execute_result"
    }
   ],
   "source": [
    "df.business_trips.value_counts(dropna=False)"
   ]
  },
  {
   "cell_type": "markdown",
   "metadata": {},
   "source": [
    "Много NaN, выкидываем."
   ]
  },
  {
   "cell_type": "code",
   "execution_count": 10,
   "metadata": {},
   "outputs": [],
   "source": [
    "df = df.drop('business_trips', axis=1)"
   ]
  },
  {
   "cell_type": "markdown",
   "metadata": {},
   "source": [
    "## 4. `categories`"
   ]
  },
  {
   "cell_type": "code",
   "execution_count": 11,
   "metadata": {},
   "outputs": [
    {
     "data": {
      "text/plain": [
       "Системное администрирование                      552\n",
       "NaN                                              467\n",
       "Техническая поддержка                            358\n",
       "IT, Интернет, связь, телеком                     238\n",
       "Инжиниринг                                       184\n",
       "Администрирование баз данных                      80\n",
       "Административная работа, секретариат, АХО         64\n",
       "Сетевые технологии                                49\n",
       "Разработка, программирование                      41\n",
       "Передача данных и доступ в интернет               38\n",
       "Управление проектами                              34\n",
       "Аналитика                                         31\n",
       "Интернет, создание и поддержка сайтов             23\n",
       "Другое                                            18\n",
       "Электронный документооборот                       15\n",
       "Внедрение и сопровождение ПО                      12\n",
       "Делопроизводство, ввод данных, систематизация     11\n",
       "Компьютеры, оргтехника, ПО                         9\n",
       "Системная интеграция                               8\n",
       "Call Center                                        8\n",
       "Web-верстка                                        8\n",
       "Телекоммуникации и связь                           7\n",
       "Косметика, бытовая химия                           6\n",
       "Оптимизация, SEO                                   6\n",
       "Контент                                            6\n",
       "Диспетчерская служба                               6\n",
       "Высшее образование                                 5\n",
       "Строительно-монтажные и отделочные работы          5\n",
       "Игровое ПО / Геймдевелопмент                       4\n",
       "Имущественная безопасность                         3\n",
       "                                                ... \n",
       "Контроль качества, сертификация, экспертиза        1\n",
       "Консалтинг, стратегическое развитие                1\n",
       "Автомобили, запчасти                               1\n",
       "Секретариат, ресепшн, офис-менеджмент              1\n",
       "Машиностроение, станкостроение                     1\n",
       "Приборостроение                                    1\n",
       "Защита информации                                  1\n",
       "Услуги для бизнеса                                 1\n",
       "Складское хозяйство                                1\n",
       "Переводы                                           1\n",
       "Web, UI, UX дизайн                                 1\n",
       "Рекрутмент, подбор персонала                       1\n",
       "Компьютерная анимация и мультимедиа                1\n",
       "Алкоголь, напитки                                  1\n",
       "Эксплуатация зданий                                1\n",
       "Экономический анализ                               1\n",
       "Атомная энергетика                                 1\n",
       "Бренд-менеджмент, продакт-менеджмент               1\n",
       "Бытовая техника, электроника, фото, видео          1\n",
       "ВЭД                                                1\n",
       "Дизайн интерьера                                   1\n",
       "IT-консалтинг                                      1\n",
       "Продажи                                            1\n",
       "Видеонаблюдение                                    1\n",
       "Сотовые, беспроводные технологии                   1\n",
       "ЖКХ                                                1\n",
       "Стратегический консалтинг                          1\n",
       "Кассовые операции                                  1\n",
       "Начало карьеры, мало опыта                         1\n",
       "Музыка, пение                                      1\n",
       "Name: categories, Length: 82, dtype: int64"
      ]
     },
     "execution_count": 11,
     "metadata": {},
     "output_type": "execute_result"
    }
   ],
   "source": [
    "df.categories.value_counts(dropna=False)"
   ]
  },
  {
   "cell_type": "code",
   "execution_count": 12,
   "metadata": {},
   "outputs": [],
   "source": [
    "df['categories_text'] = df.categories\n",
    "df.categories_text = df.categories_text.fillna('')\n",
    "df = df.drop('categories', axis=1)"
   ]
  },
  {
   "cell_type": "markdown",
   "metadata": {},
   "source": [
    "## 5. `citizenship`"
   ]
  },
  {
   "cell_type": "code",
   "execution_count": 13,
   "metadata": {},
   "outputs": [
    {
     "data": {
      "text/plain": [
       "Россия               1615\n",
       "NaN                   727\n",
       "Украина                 8\n",
       "Казахстан               7\n",
       "Азербайджан             3\n",
       "Кыргызстан              3\n",
       "Беларусь                2\n",
       "Литва                   1\n",
       "Дальнее зарубежье       1\n",
       "Молдова                 1\n",
       "Таджикистан             1\n",
       "Name: citizenship, dtype: int64"
      ]
     },
     "execution_count": 13,
     "metadata": {},
     "output_type": "execute_result"
    }
   ],
   "source": [
    "df.citizenship.value_counts(dropna=False)"
   ]
  },
  {
   "cell_type": "markdown",
   "metadata": {},
   "source": [
    "Будем полагать, что те, кто не указал гражданство имеют гражданство России."
   ]
  },
  {
   "cell_type": "code",
   "execution_count": 14,
   "metadata": {},
   "outputs": [],
   "source": [
    "df.citizenship = df.citizenship.fillna('Россия')\n",
    "citizenship = pd.get_dummies(df.citizenship)\n",
    "df['rus_citizenship'] = citizenship['Россия']\n",
    "df = df.drop('citizenship', axis=1)"
   ]
  },
  {
   "cell_type": "code",
   "execution_count": 15,
   "metadata": {},
   "outputs": [
    {
     "data": {
      "text/plain": [
       "1    2342\n",
       "0      27\n",
       "Name: rus_citizenship, dtype: int64"
      ]
     },
     "execution_count": 15,
     "metadata": {},
     "output_type": "execute_result"
    }
   ],
   "source": [
    "df.rus_citizenship.value_counts(dropna=False)"
   ]
  },
  {
   "cell_type": "markdown",
   "metadata": {},
   "source": [
    "## 6. `city`"
   ]
  },
  {
   "cell_type": "code",
   "execution_count": 16,
   "metadata": {},
   "outputs": [
    {
     "data": {
      "text/plain": [
       "Москва                                 720\n",
       "Санкт-Петербург                        293\n",
       "Хабаровск                               64\n",
       "Уфа                                     55\n",
       "Иркутск                                 51\n",
       "Ростов-на-Дону                          48\n",
       "Краснодар                               33\n",
       "Самара                                  32\n",
       "Саратов                                 27\n",
       "Казань                                  27\n",
       "Рязань                                  26\n",
       "Нижний Новгород                         24\n",
       "Ульяновск                               23\n",
       "Пенза                                   23\n",
       "Волгоград                               22\n",
       "Воронеж                                 20\n",
       "Оренбург                                19\n",
       "Сыктывкар                               17\n",
       "Тверь                                   17\n",
       "Екатеринбург                            16\n",
       "Челябинск                               16\n",
       "Владимир                                16\n",
       "Смоленск                                16\n",
       "Астрахань                               15\n",
       "Тюмень                                  15\n",
       "Тольятти                                15\n",
       "Новосибирск                             14\n",
       "Курск                                   14\n",
       "Красноярск                              14\n",
       "Брянск                                  13\n",
       "                                      ... \n",
       "Барда (Пермский край)                    1\n",
       "Шадринск                                 1\n",
       "Магадан                                  1\n",
       "Жигулевск                                1\n",
       "Кировград                                1\n",
       "Мишкино (Республика Башкортостан)        1\n",
       "Краснознаменск (Московская область)      1\n",
       "Междуреченск                             1\n",
       "Печора                                   1\n",
       "Знамя Октября                            1\n",
       "Сланцы                                   1\n",
       "Хотьково                                 1\n",
       "Усолье-Сибирское                         1\n",
       "Заполярный                               1\n",
       "Удомля                                   1\n",
       "Касимов                                  1\n",
       "Тында                                    1\n",
       "Свердловский                             1\n",
       "Дзержинск (Нижегородская область)        1\n",
       "Чапаевск                                 1\n",
       "Славянск-на-Кубани                       1\n",
       "Сарапул                                  1\n",
       "Черноголовка                             1\n",
       "Нахабино                                 1\n",
       "Гусь-Хрустальный                         1\n",
       "Бодайбо                                  1\n",
       "Губкин                                   1\n",
       "Аксай                                    1\n",
       "Коммунарка                               1\n",
       "Северобайкальск                          1\n",
       "Name: city, Length: 263, dtype: int64"
      ]
     },
     "execution_count": 16,
     "metadata": {},
     "output_type": "execute_result"
    }
   ],
   "source": [
    "df.city.value_counts(dropna=False)"
   ]
  },
  {
   "cell_type": "markdown",
   "metadata": {},
   "source": [
    "Оставим 3 признака: Москва, Санкт-Петербург, другие регионы"
   ]
  },
  {
   "cell_type": "code",
   "execution_count": 17,
   "metadata": {},
   "outputs": [
    {
     "data": {
      "text/plain": [
       "(2369, 20)"
      ]
     },
     "execution_count": 17,
     "metadata": {},
     "output_type": "execute_result"
    }
   ],
   "source": [
    "ctgr = pd.get_dummies(df.city)\n",
    "ctgr\n",
    "city_msk = ctgr['Москва']\n",
    "city_spb = ctgr['Санкт-Петербург']\n",
    "ctgr = ctgr.drop(['Москва', 'Санкт-Петербург'], axis=1)\n",
    "city_other = np.sum(ctgr.values, axis=1)\n",
    "df['city_msk'] = city_msk\n",
    "df['city_spb'] = city_spb\n",
    "df['city_other'] = city_other\n",
    "df = df.drop(['city'], axis=1)\n",
    "df.shape"
   ]
  },
  {
   "cell_type": "markdown",
   "metadata": {},
   "source": [
    "## 7. `education`"
   ]
  },
  {
   "cell_type": "code",
   "execution_count": 18,
   "metadata": {},
   "outputs": [
    {
     "data": {
      "text/plain": [
       "NaN                                                                                                                                                                                                                                                                                                                                                                                                                                                                                                                                                                                                                                                                                                                                                                                                                                                                68\n",
       "[{'kind': 'Среднее образование'}]                                                                                                                                                                                                                                                                                                                                                                                                                                                                                                                                                                                                                                                                                                                                                                                                                                  28\n",
       "[{'kind': 'Высшее образование', 'form': 'Дневная/Очная', 'period': '1985', 'university': 'Харьковское высшее военное авиационное училище радиоэлектроники', 'faculty': 'Командный', 'specialty': 'Командно-тактическая радиосвязь'}]                                                                                                                                                                                                                                                                                                                                                                                                                                                                                                                                                                                                                                6\n",
       "[{'kind': 'Высшее образование', 'form': 'Дневная/Очная', 'period': '1994', 'university': 'Московский государственный технический университет имени Н.Э.Баумана', 'faculty': 'Информатика и управление', 'specialty': 'Инженер-системотехник'}]                                                                                                                                                                                                                                                                                                                                                                                                                                                                                                                                                                                                                      4\n",
       "[{'kind': 'Магистр', 'form': 'Заочная', 'period': '2018', 'university': 'Ростовский государственный экономический университет \"РИНХ\"', 'faculty': 'Факультет менеджмента и предпринимательства', 'specialty': 'Государственное и муниципальное управление'}, {'kind': 'Высшее образование', 'form': 'Заочная', 'period': '2009', 'university': 'Ростовский филиал Московского государственного университета технологий и управления', 'faculty': 'Технологический Менеджмент', 'specialty': 'Технолог инженер пивоваренной и безалкогольной промышленности'}]                                                                                                                                                                                                                                                                                                       4\n",
       "[{'kind': 'Высшее образование', 'form': 'Заочная', 'period': '2005', 'university': 'Международная Академия Биржевой Торговли'}, {'kind': 'Высшее образование', 'period': '2003', 'university': 'Санкт-Петербургский государственный университет телекоммуникаций им.проф.М.А.Бонч-Бруевича', 'specialty': 'Автоматизация технологических процессов и производств.'}]                                                                                                                                                                                                                                                                                                                                                                                                                                                                                                4\n",
       "[{'kind': 'Среднее специальное образование'}]                                                                                                                                                                                                                                                                                                                                                                                                                                                                                                                                                                                                                                                                                                                                                                                                                       4\n",
       "[{'kind': 'Высшее образование', 'form': 'Вечерняя', 'period': '1989', 'university': 'Московский государственный университет им. М.В. Ломоносова', 'faculty': 'ВМиК Красный диплом', 'specialty': 'Прикладная математика; специализация АСУ'}, {'kind': 'Высшее образование', 'form': 'Дневная/Очная', 'period': '1985', 'university': 'Московский государственный технический университет имени Н.Э.Баумана', 'faculty': 'Автоматизация и механизация производства', 'specialty': 'Технология машиностроения'}]                                                                                                                                                                                                                                                                                                                                                     3\n",
       "[{'kind': 'Высшее образование', 'form': 'Дневная/Очная', 'period': '2004', 'university': 'Национальный исследовательский Иркутский государственный технический университет', 'faculty': 'Факультет кибернетики', 'specialty': 'Автоматизированные системы обработки информации и управления'}]                                                                                                                                                                                                                                                                                                                                                                                                                                                                                                                                                                      3\n",
       "[{'kind': 'Высшее образование', 'form': 'Заочная', 'period': '2005', 'university': 'Оренбургский государственный университет', 'faculty': 'Факультет информационных технологий', 'specialty': 'Инженер-программист'}, {'kind': 'Высшее образование', 'form': 'Дневная/Очная', 'period': '1996', 'university': 'Оренбургский государственный педагогический университет', 'faculty': 'Естественно-географический факультет', 'specialty': 'Учитель биологии и химии (диплом с отличием)'}, {'kind': 'Среднее специальное образование', 'form': 'Дневная/Очная', 'period': '1991', 'university': 'Средняя школа №57 (с серебряной медалью)', 'specialty': 'С серебряной медалью'}]                                                                                                                                                                                    3\n",
       "[{'kind': 'Высшее образование', 'form': 'Дневная/Очная', 'period': '1996', 'university': 'Марийский государственный университет', 'faculty': 'Физико-математический', 'specialty': 'Физик'}]                                                                                                                                                                                                                                                                                                                                                                                                                                                                                                                                                                                                                                                                        3\n",
       "[{'kind': 'Бакалавр', 'form': 'Вечерняя', 'period': '2015', 'university': 'Московский инженерно-физический институт, Москва', 'faculty': 'Вечерний', 'specialty': 'Вечерний, Вычислительные машины, комплексы, системы и сети'}, {'kind': 'Среднее специальное образование', 'form': 'Дневная/Очная', 'period': '2012', 'university': 'ФГОУ СПО \"МТК\"', 'specialty': 'Вечерний, Вычислительные машины, комплексы, системы и сети'}]                                                                                                                                                                                                                                                                                                                                                                                                                                 3\n",
       "[{'kind': 'Магистр', 'form': 'Дневная/Очная', 'period': '2018', 'university': 'Санкт-Петербургский государственный морской технический университет', 'faculty': 'Морского приборостроения', 'specialty': 'Информатика и вычислительная техника (магистр техники и технологии)'}, {'kind': 'Бакалавр', 'form': 'Дневная/Очная', 'period': '2016', 'university': 'Санкт-Петербургский государственный морской технический университет', 'faculty': 'Морского приборостроения', 'specialty': 'Информатика и вычислительная техника (бакалавр техники и технологии)'}]                                                                                                                                                                                                                                                                                                  3\n",
       "[{'kind': 'Высшее образование', 'form': 'Дневная/Очная', 'period': '2000', 'university': 'Омский государственный технический университет', 'faculty': 'Аэро-Космический Факультет', 'specialty': 'Ракетостроение'}]                                                                                                                                                                                                                                                                                                                                                                                                                                                                                                                                                                                                                                                 3\n",
       "[{'kind': 'Высшее образование', 'form': 'Дневная/Очная', 'period': '2009', 'university': 'НИТУ Московский Институт Стали и Сплавов', 'faculty': 'Полупроводниковая электроника и физика полупроводников', 'specialty': 'Инженер по специальности \"Микроэлектроника и твердотельная электроника\"'}, {'kind': 'Среднее специальное образование', 'form': 'Дневная/Очная', 'period': '2004', 'university': 'Московский технический колледж', 'specialty': 'Радиоаппаратостроение'}]                                                                                                                                                                                                                                                                                                                                                                                    3\n",
       "[{'kind': 'Высшее образование', 'form': 'Очно-заочная', 'period': '2010', 'university': 'Национальный исследовательский университет \"МИЭТ\"', 'faculty': 'Вычислительные комплексы системы и сети, Инженер', 'specialty': 'Инженер'}, {'kind': 'Высшее образование', 'form': 'Очно-заочная', 'period': '2008', 'university': 'Национальный исследовательский университет \"МИЭТ\"', 'faculty': 'Программное обеспечение информационных технологий', 'specialty': 'Инженер программист'}, {'kind': 'Среднее специальное образование', 'form': 'Дневная/Очная', 'period': '2001', 'university': 'Гомельский машиностроительный техникум', 'specialty': 'Техник программист'}]                                                                                                                                                                                            3\n",
       "[{'kind': 'Высшее образование', 'form': 'Дневная/Очная', 'period': '1987', 'university': 'МИРЭА Московский институт радиотехники, электроники и автоматики', 'faculty': 'РТС факультет радиотехнических систем', 'specialty': 'Конструирование и производство радиоэлектронной аппаратуры'}]                                                                                                                                                                                                                                                                                                                                                                                                                                                                                                                                                                        3\n",
       "[{'kind': 'Высшее образование', 'form': 'Очно-заочная', 'period': '2011', 'university': 'Российский университет кооперации', 'faculty': 'Финансы и кредит', 'specialty': 'Экономист'}, {'kind': 'Высшее образование', 'form': 'Дневная/Очная', 'period': '1998', 'university': 'Ульяновское высшее военное инженерное училище связи', 'faculty': 'Многоканальная электросвязь', 'specialty': 'Инженер'}]                                                                                                                                                                                                                                                                                                                                                                                                                                                            3\n",
       "[{'kind': 'Высшее образование', 'form': 'Дневная/Очная', 'period': '1998', 'university': '(МГГУ) Московский Государственный Горный Университет, Москва', 'faculty': 'Автоматизации и информатики', 'specialty': 'Инженер-системотехник, Диплом - бакалавр + специалист'}]                                                                                                                                                                                                                                                                                                                                                                                                                                                                                                                                                                                           2\n",
       "[{'kind': 'Неполное высшее образование', 'form': 'Заочная', 'period': '2021', 'university': 'НОУ МосТех', 'faculty': 'Информатика и вычислительная техника', 'specialty': 'Технологии разработки программного обеспечени'}, {'kind': 'Высшее образование', 'form': 'Дистанционная', 'period': '2013', 'university': 'Московский технологический институт «ВТУ»', 'faculty': 'Профессиональной переподготовки', 'specialty': 'Сетевое администрирование'}, {'kind': 'Высшее образование', 'form': 'Очно-заочная', 'period': '2004', 'university': 'Международный \"Институт управления\"', 'faculty': 'Финансы и кредит', 'specialty': 'Финансовый менеджмент'}, {'kind': 'Высшее образование', 'form': 'Дневная/Очная', 'period': '1996', 'university': 'Северный государственный медицинский университет', 'faculty': 'Лечебный', 'specialty': 'Врач-лечебник'}]     2\n",
       "[{'kind': 'Высшее образование', 'form': 'Дневная/Очная', 'period': '1999', 'university': 'Иркутский государственный университет', 'faculty': 'Физический', 'specialty': 'Инженер-физик'}]                                                                                                                                                                                                                                                                                                                                                                                                                                                                                                                                                                                                                                                                           2\n",
       "[{'kind': 'Высшее образование', 'form': 'Заочная', 'period': '2012', 'university': 'Московский психолого-социальный университет', 'faculty': 'Государственное и муниципальное управление', 'specialty': 'Государственное и муниципальное управление (менеджер)'}, {'kind': 'Высшее образование', 'form': 'Дневная/Очная', 'period': '2009', 'university': 'Стерлитамакский филиал Уфимского государственного нефтяного технического университета', 'faculty': 'Автоматизация технологических процессов и производств (по отраслям)', 'specialty': 'Автоматизация технологических процессов и производств (по отраслям)'}]                                                                                                                                                                                                                                           2\n",
       "[{'kind': 'Высшее образование', 'form': 'Дневная/Очная', 'period': '1993', 'university': 'Московский физико-технический институт (государственный университет)', 'faculty': 'ФПФЭ', 'specialty': 'Инженер-физик'}]                                                                                                                                                                                                                                                                                                                                                                                                                                                                                                                                                                                                                                                  2\n",
       "[{'kind': 'Высшее образование', 'form': 'Заочная', 'period': '2007', 'university': 'Карагандинский экономический университет Казпотребсоюза, Караганда', 'faculty': 'Информационные системы', 'specialty': 'Информационные технологии'}]                                                                                                                                                                                                                                                                                                                                                                                                                                                                                                                                                                                                                            2\n",
       "[{'kind': 'Высшее образование', 'form': 'Дневная/Очная', 'period': '2004', 'university': 'Московский технологический университет. МИРЭА, г. Москва,', 'faculty': 'Вычислительные машины, комплексы, системы и сети'}]                                                                                                                                                                                                                                                                                                                                                                                                                                                                                                                                                                                                                                               2\n",
       "[{'kind': 'Бакалавр', 'form': 'Заочная', 'period': '2015', 'university': 'Невинномысский государственный гуманитарно-технический институт', 'faculty': 'Информационные системы и технологии'}]                                                                                                                                                                                                                                                                                                                                                                                                                                                                                                                                                                                                                                                                      2\n",
       "[{'kind': 'Высшее образование', 'form': 'Дневная/Очная', 'period': '1992', 'university': 'Московский Энергетический Технический Университет (МЭИ)', 'faculty': 'Электромеханический (ЭМФ)', 'specialty': 'Электрооборудование летательных аппаратов'}]                                                                                                                                                                                                                                                                                                                                                                                                                                                                                                                                                                                                              2\n",
       "[{'kind': 'Высшее образование', 'form': 'Дневная/Очная', 'period': '1999', 'university': 'Комсомольский-на-Амуре государственный технический университет', 'faculty': 'Факультет Компьютерных технологий', 'specialty': 'Программное обеспечение вычислительных комплексов и автоматизированных систем'}]                                                                                                                                                                                                                                                                                                                                                                                                                                                                                                                                                           2\n",
       "[{'kind': 'Высшее образование', 'form': 'Вечерняя', 'period': '1995', 'university': 'Московский технологический университет', 'faculty': 'Проектирование и техноология радиоэлектронных средств', 'specialty': 'Инженер-электрик'}]                                                                                                                                                                                                                                                                                                                                                                                                                                                                                                                                                                                                                                 2\n",
       "[{'kind': 'Высшее образование', 'form': 'Заочная', 'period': '2005', 'university': 'South Ural State University, Chelyabinsk, Russia.', 'faculty': 'Computer Sciences Engineering', 'specialty': 'Bachelor’s Degree, Computer Sciences Engineering, Qualification Engineer, 2005'}]                                                                                                                                                                                                                                                                                                                                                                                                                                                                                                                                                                                 2\n",
       "                                                                                                                                                                                                                                                                                                                                                                                                                                                                                                                                                                                                                                                                                                                                                                                                                                                                   ..\n",
       "[{'kind': 'Высшее образование', 'form': 'Дневная/Очная', 'period': '2015', 'university': 'Российский экономический университет имени Г.В. Плеханова', 'faculty': 'Математической информатики и экономики', 'specialty': 'Информационные системы и технологии'}]                                                                                                                                                                                                                                                                                                                                                                                                                                                                                                                                                                                                     1\n",
       "[{'kind': 'Высшее образование', 'form': 'Дневная/Очная', 'period': '2008', 'university': 'Волгоградский кооперативный институт (филиал) Российского университета кооперации', 'faculty': 'Управления и переподготовки специалистов', 'specialty': 'Прикладная информатика'}]                                                                                                                                                                                                                                                                                                                                                                                                                                                                                                                                                                                        1\n",
       "[{'kind': 'Высшее образование', 'form': 'Дневная/Очная', 'period': '1998', 'university': 'Пензенский государственный университет', 'faculty': 'ФАИТ', 'specialty': 'ИИТ'}]                                                                                                                                                                                                                                                                                                                                                                                                                                                                                                                                                                                                                                                                                          1\n",
       "[{'kind': 'Высшее образование', 'form': 'Дневная/Очная', 'period': '2007', 'university': 'Тихоокеанский государственный университет', 'faculty': 'ИИТ', 'specialty': 'Инженер'}]                                                                                                                                                                                                                                                                                                                                                                                                                                                                                                                                                                                                                                                                                    1\n",
       "[{'kind': 'Высшее образование', 'form': 'Дневная/Очная', 'period': '2013', 'university': '(БашГУ) Башкирский государственный университет, Стерлитамакский филиал', 'faculty': 'Физико-математический', 'specialty': 'Математика с дополнительной специальностью информатика'}]                                                                                                                                                                                                                                                                                                                                                                                                                                                                                                                                                                                      1\n",
       "[{'kind': 'Высшее образование', 'form': 'Дневная/Очная', 'period': '2004', 'university': 'Поволжский государственный технологический университет, Йошкар-Ола', 'faculty': 'Информационной и вычислительной техники', 'specialty': 'Вычислительные машины комплексы и сети'}]                                                                                                                                                                                                                                                                                                                                                                                                                                                                                                                                                                                        1\n",
       "[{'kind': 'Среднее специальное образование', 'form': 'Заочная', 'university': 'Агротехнический колледж БГСХА', 'specialty': 'Бухгалтерский учёт'}]                                                                                                                                                                                                                                                                                                                                                                                                                                                                                                                                                                                                                                                                                                                  1\n",
       "[{'kind': 'Неполное высшее образование', 'form': 'Дневная/Очная', 'period': '2001', 'university': 'Московский педагогический государственный университет', 'faculty': 'География и экология', 'specialty': 'География и экология'}]                                                                                                                                                                                                                                                                                                                                                                                                                                                                                                                                                                                                                                 1\n",
       "[{'kind': 'Высшее образование', 'form': 'Дневная/Очная', 'period': '2008', 'university': 'Московский авиационный институт (Национальный исследовательский университет)', 'faculty': 'ЭВМ системы и сети', 'specialty': 'Вычислительные машины, комплексы, системы и сети'}]                                                                                                                                                                                                                                                                                                                                                                                                                                                                                                                                                                                         1\n",
       "[{'kind': 'Высшее образование', 'form': 'Дневная/Очная', 'period': '1996', 'university': 'Московский авиационный институт (Национальный исследовательский университет)', 'faculty': 'Вычислительные машины, комплексы, системы и сети.', 'specialty': 'Инженер системотехник.'}, {'kind': 'Среднее специальное образование', 'form': 'Дневная/Очная', 'period': '1991', 'university': 'Московский радиоаппаратостроительный техникум', 'specialty': 'Техник-электрик ЭВМ.'}]                                                                                                                                                                                                                                                                                                                                                                                        1\n",
       "[{'kind': 'Среднее специальное образование', 'form': 'Заочная', 'period': '2016', 'university': 'Профцентр', 'specialty': 'Инженер ЭВМ'}, {'kind': 'Высшее образование', 'form': 'Очно-заочная', 'period': '2016', 'university': 'Крымский институт бизнеса Университета экономики и управления', 'faculty': 'Экономика', 'specialty': 'Финансы и кредит'}]                                                                                                                                                                                                                                                                                                                                                                                                                                                                                                         1\n",
       "[{'kind': 'Высшее образование', 'form': 'Дневная/Очная', 'period': '2015', 'university': 'ФГБОУ ВПО РГУПС Ростовский государственный университет путей сообщения', 'faculty': 'Автоматика, телемеханика и связь на ждт.', 'specialty': 'Связь на железнодорожном транспорте.'}]                                                                                                                                                                                                                                                                                                                                                                                                                                                                                                                                                                                     1\n",
       "[{'kind': 'Высшее образование', 'form': 'Дневная/Очная', 'period': '2007', 'university': 'Забайкальский государственный университет', 'faculty': 'Технологических и транспортных систем', 'specialty': 'Автоматизация технологических процессов'}]                                                                                                                                                                                                                                                                                                                                                                                                                                                                                                                                                                                                                  1\n",
       "[{'kind': 'Высшее образование', 'form': 'Заочная', 'period': '2014', 'university': '(ВИВТ) Воронежский институт высоких технологий, Воронеж', 'faculty': 'ПБз', 'specialty': 'Инженер по пожарной безопасности'}, {'kind': 'Среднее специальное образование', 'form': 'Дневная/Очная', 'period': '2009', 'university': 'Воронежский институт высоких технологий', 'specialty': 'Программное обеспечение вычислительной техники и автоматизированных систем'}]                                                                                                                                                                                                                                                                                                                                                                                                       1\n",
       "[{'kind': 'Высшее образование', 'form': 'Заочная', 'period': '2004', 'faculty': 'Многоканальная электросвязь (МЭС)', 'specialty': 'Многоканальные телекоммуникационные системы (инженер)'}, {'kind': 'Среднее специальное образование', 'form': 'Дневная/Очная', 'period': '1996', 'university': 'ГБОУ СПО Колледж автоматизации и радиоэлектроники № 27 имени П. М. Вострухина', 'specialty': 'Автоматизация технологических процессов и производств (по отраслям), Прикладная механика'}]                                                                                                                                                                                                                                                                                                                                                                         1\n",
       "[{'kind': 'Высшее образование', 'form': 'Дневная/Очная', 'period': '2014', 'university': 'Волгоградский государственный аграрный университет', 'faculty': 'Строительный', 'specialty': 'Информационные системы и технологии'}, {'kind': 'Бакалавр', 'form': 'Заочная', 'period': '2013', 'university': '(Быковский филиал НАЧОУ ВПО СГА) Быковский филиал Современной Гуманитарной академии, Быково', 'faculty': 'Экономический', 'specialty': 'Экономика'}]                                                                                                                                                                                                                                                                                                                                                                                                        1\n",
       "[{'kind': 'Бакалавр', 'form': 'Очно-заочная', 'period': '2016', 'university': 'Государственный университет управления', 'faculty': 'Государственное и муниципальное управление и право', 'specialty': 'Менеджмент организаций'}]                                                                                                                                                                                                                                                                                                                                                                                                                                                                                                                                                                                                                                    1\n",
       "[{'kind': 'Высшее образование', 'form': 'Дневная/Очная', 'period': '2015', 'university': 'Балтийский государственный технический университет \"Военмех\" имени Д.Ф.Устинова', 'faculty': 'Информационные и управляющие системы', 'specialty': 'Автоматизированные системы обработки информации и управления'}]                                                                                                                                                                                                                                                                                                                                                                                                                                                                                                                                                        1\n",
       "[{'kind': 'Высшее образование', 'form': 'Дневная/Очная', 'period': '2018', 'university': 'Московский финансово-промышленный университет \"Синергия\"', 'faculty': 'Информационные системы и технологии'}, {'kind': 'Среднее специальное образование', 'university': 'Российский государственный университет туризма и сервиса', 'specialty': 'Автоматизированные системы обработки информации и управления (по отраслям)'}]                                                                                                                                                                                                                                                                                                                                                                                                                                           1\n",
       "[{'kind': 'Неполное высшее образование', 'form': 'Заочная', 'period': '2007', 'university': 'Московский государственный индустриальный университет', 'faculty': 'Менеджмент организации', 'specialty': 'Менеджмент'}, {'kind': 'Среднее специальное образование', 'form': 'Дневная/Очная', 'period': '2003', 'university': 'Московский Государственный Колледж Информационных Технологий', 'specialty': 'Техник'}]                                                                                                                                                                                                                                                                                                                                                                                                                                                  1\n",
       "[{'kind': 'Среднее специальное образование', 'form': 'Дневная/Очная', 'period': '2015', 'university': 'Уфимский колледж статистики информатики и вычислительной техники (УКСИВТ)', 'specialty': 'Техник по информационным системам'}]                                                                                                                                                                                                                                                                                                                                                                                                                                                                                                                                                                                                                               1\n",
       "[{'kind': 'Высшее образование', 'form': 'Заочная', 'period': '1991', 'university': 'Новосибирский государственный технический университет', 'specialty': 'Инженер-системотехник'}]                                                                                                                                                                                                                                                                                                                                                                                                                                                                                                                                                                                                                                                                                  1\n",
       "[{'kind': 'Высшее образование', 'form': 'Заочная', 'period': '2010', 'university': 'Южно-Уральский государственный университет филиал г. Нижневартовск', 'faculty': 'Экономика и управление на предприятии (нефтяная и газовая промышленность)', 'specialty': 'Экономист–менеджер'}]                                                                                                                                                                                                                                                                                                                                                                                                                                                                                                                                                                                1\n",
       "[{'kind': 'Высшее образование', 'form': 'Дневная/Очная', 'period': '2008', 'university': 'Тихоокеанский государственный университет', 'faculty': 'Институт Информационных Технологий', 'specialty': 'Вычислительные Машины, Комплексы, Системы и Сети'}]                                                                                                                                                                                                                                                                                                                                                                                                                                                                                                                                                                                                            1\n",
       "[{'kind': 'Среднее специальное образование', 'form': 'Заочная', 'period': '2013', 'university': 'Институт менеджмента, маркетинга и финансов', 'specialty': 'Финансист'}]                                                                                                                                                                                                                                                                                                                                                                                                                                                                                                                                                                                                                                                                                           1\n",
       "[{'kind': 'Среднее специальное образование', 'form': 'Дневная/Очная', 'period': '2007', 'university': 'Тюменский колледж транспорта №5', 'specialty': 'Технолог сварочного производства'}]                                                                                                                                                                                                                                                                                                                                                                                                                                                                                                                                                                                                                                                                          1\n",
       "[{'kind': 'Высшее образование', 'form': 'Дневная/Очная', 'period': '1999', 'university': 'Сыктывкарский Государстверный Университет', 'faculty': 'Математический', 'specialty': 'Математик'}]                                                                                                                                                                                                                                                                                                                                                                                                                                                                                                                                                                                                                                                                       1\n",
       "[{'kind': 'Высшее образование', 'form': 'Дневная/Очная', 'period': '2019', 'university': 'Московский педагогический государственный университет', 'faculty': 'Институт физики, технологии и информационных систем', 'specialty': 'Робототехника и электроника'}, {'kind': 'Высшее образование', 'form': 'Дневная/Очная', 'period': '2014', 'university': 'Волгоградский государственный технический университет'}]                                                                                                                                                                                                                                                                                                                                                                                                                                                  1\n",
       "[{'kind': 'Высшее образование', 'form': 'Очно-заочная', 'period': '2006', 'university': 'Московский технологический университет', 'faculty': 'Автоматики и вычислительной техники', 'specialty': 'Вычислительные машины, комплексы, системы и сети'}]                                                                                                                                                                                                                                                                                                                                                                                                                                                                                                                                                                                                               1\n",
       "[{'kind': 'Высшее образование', 'form': 'Заочная', 'period': '2016', 'university': 'Омский государственный институт сервиса', 'faculty': 'Математика и прикладная информатика', 'specialty': 'Програмист'}, {'kind': 'Среднее специальное образование', 'form': 'Дневная/Очная', 'period': '2011', 'university': 'Сибирский профессионально-педагогический колледж', 'specialty': 'Информатика, ВТ и АС'}]                                                                                                                                                                                                                                                                                                                                                                                                                                                          1\n",
       "Name: education, Length: 2171, dtype: int64"
      ]
     },
     "execution_count": 18,
     "metadata": {},
     "output_type": "execute_result"
    }
   ],
   "source": [
    "df.education.value_counts(dropna=False)"
   ]
  },
  {
   "cell_type": "code",
   "execution_count": 19,
   "metadata": {},
   "outputs": [],
   "source": [
    "def i_am_crab(x):\n",
    "    if type(x)==float:\n",
    "        return 0\n",
    "    else:\n",
    "        max_val = 0\n",
    "        for y in eval(x):\n",
    "            if (y['kind'])=='Среднее образование' and max_val < 1:\n",
    "                max_val = 1\n",
    "           \n",
    "            if (y['kind'])=='Среднее специальное образование' and max_val < 2:\n",
    "                max_val = 2\n",
    "            if (y['kind'])=='Неполное высшее образование' and max_val < 3:\n",
    "                max_val = 3\n",
    "               \n",
    "            if (y['kind'])=='Бакалавр' and max_val < 4:\n",
    "                max_val = 4\n",
    "               \n",
    "            if (y['kind'])=='Магистр' and max_val < 5:\n",
    "                max_val = 5\n",
    "            if (y['kind'])=='Кандидат наук' and max_val < 6:\n",
    "                max_val = 6\n",
    "        return max_val"
   ]
  },
  {
   "cell_type": "code",
   "execution_count": 20,
   "metadata": {},
   "outputs": [],
   "source": [
    "df['education_degree'] = df.education.apply(i_am_crab)\n",
    "df = df.drop('education', axis=1)"
   ]
  },
  {
   "cell_type": "markdown",
   "metadata": {},
   "source": [
    "## 8. `employment`"
   ]
  },
  {
   "cell_type": "code",
   "execution_count": 21,
   "metadata": {},
   "outputs": [
    {
     "data": {
      "text/plain": [
       "полная занятость           1180\n",
       "NaN                        1107\n",
       "неполный рабочий день        33\n",
       "сменный график работы        25\n",
       "частичная занятость          13\n",
       "работа вахтовым методом      11\n",
       "Name: employment, dtype: int64"
      ]
     },
     "execution_count": 21,
     "metadata": {},
     "output_type": "execute_result"
    }
   ],
   "source": [
    "df.employment.value_counts(dropna=False)"
   ]
  },
  {
   "cell_type": "code",
   "execution_count": 22,
   "metadata": {},
   "outputs": [],
   "source": [
    "ctgr = pd.get_dummies(df.employment)\n",
    "fn = lambda row: 1 if(row['полная занятость'] == 1 or row['сменный график работы'] == 1)else 0\n",
    "full_empl = ctgr.apply(fn, axis=1)\n",
    "df['full_employment'] = full_empl\n",
    "df = df.drop('employment', axis=1)"
   ]
  },
  {
   "cell_type": "markdown",
   "metadata": {},
   "source": [
    "## 9. `experience`"
   ]
  },
  {
   "cell_type": "code",
   "execution_count": 23,
   "metadata": {},
   "outputs": [],
   "source": [
    "import ast\n",
    "\n",
    "def exp_to_text(exp):\n",
    "    if exp != exp: # check for nan\n",
    "        return ''\n",
    "    arr = ast.literal_eval(exp)\n",
    "    result = ''\n",
    "    for exp_dict in arr:\n",
    "        if 'name' in exp_dict:\n",
    "            result += exp_dict['name'] + ' '\n",
    "        if 'duties' in exp_dict:\n",
    "            result += exp_dict['duties'] + ' '\n",
    "    return result"
   ]
  },
  {
   "cell_type": "code",
   "execution_count": 24,
   "metadata": {},
   "outputs": [],
   "source": [
    "df['experience_text'] = df.experience.apply(exp_to_text)\n",
    "df = df.drop('experience', axis=1)"
   ]
  },
  {
   "cell_type": "markdown",
   "metadata": {},
   "source": [
    "## 10. `experience_length`"
   ]
  },
  {
   "cell_type": "code",
   "execution_count": 25,
   "metadata": {},
   "outputs": [
    {
     "data": {
      "text/plain": [
       "0 лет и 0 месяцев       126\n",
       "7 лет и 3 месяца         19\n",
       "14 лет и 4 месяца        18\n",
       "12 лет и 8 месяцев       15\n",
       "11 лет и 11 месяцев      15\n",
       "11 лет и 4 месяца        15\n",
       "10 лет и 6 месяцев       15\n",
       "5 лет и 10 месяцев       15\n",
       "9 лет и 7 месяцев        15\n",
       "10 лет и 2 месяца        14\n",
       "3 года и 6 месяцев       14\n",
       "13 лет и 11 месяцев      14\n",
       "7 лет и 8 месяцев        14\n",
       "6 лет                    14\n",
       "7 лет и 2 месяца         14\n",
       "16 лет и 2 месяца        13\n",
       "1 год и 4 месяца         13\n",
       "2 года и 5 месяцев       13\n",
       "6 лет и 6 месяцев        13\n",
       "10 лет и 3 месяца        13\n",
       "9 лет и 6 месяцев        13\n",
       "1 год и 3 месяца         12\n",
       "8 лет и 6 месяцев        12\n",
       "16 лет и 5 месяцев       12\n",
       "12 лет и 5 месяцев       12\n",
       "9 лет и 11 месяцев       12\n",
       "2 года и 10 месяцев      12\n",
       "6 лет и 11 месяцев       12\n",
       "12 лет и 11 месяцев      12\n",
       "7 лет и 9 месяцев        12\n",
       "                       ... \n",
       "37 лет и 2 месяца         1\n",
       "25 лет и 4 месяца         1\n",
       "41 год и 11 месяцев       1\n",
       "25 лет и 6 месяцев        1\n",
       "29 лет и 8 месяцев        1\n",
       "35 лет и 8 месяцев        1\n",
       "29 лет и 3 месяца         1\n",
       "31 год и 6 месяцев        1\n",
       "41 год и 3 месяца         1\n",
       "29 лет и 9 месяцев        1\n",
       "19 лет и 10 месяцев       1\n",
       "27 лет и 5 месяцев        1\n",
       "27 лет и 2 месяца         1\n",
       "39 лет и 4 месяца         1\n",
       "31 год и 7 месяцев        1\n",
       "28 лет и 9 месяцев        1\n",
       "34 года и 7 месяцев       1\n",
       "25 лет и 9 месяцев        1\n",
       "33 года и 10 месяцев      1\n",
       "26 лет и 10 месяцев       1\n",
       "20 лет и 1 месяц          1\n",
       "33 года и 7 месяцев       1\n",
       "41 год и 9 месяцев        1\n",
       "28 лет и 8 месяцев        1\n",
       "35 лет и 5 месяцев        1\n",
       "28 лет и 5 месяцев        1\n",
       "38 лет                    1\n",
       "30 лет и 11 месяцев       1\n",
       "22 года и 6 месяцев       1\n",
       "26 лет и 11 месяцев       1\n",
       "Name: experience_length, Length: 380, dtype: int64"
      ]
     },
     "execution_count": 25,
     "metadata": {},
     "output_type": "execute_result"
    }
   ],
   "source": [
    "df.experience_length = df.experience_length.fillna('0 лет и 0 месяцев')\n",
    "df.experience_length.value_counts(dropna=False)"
   ]
  },
  {
   "cell_type": "code",
   "execution_count": 26,
   "metadata": {},
   "outputs": [
    {
     "data": {
      "text/plain": [
       "(2369, 20)"
      ]
     },
     "execution_count": 26,
     "metadata": {},
     "output_type": "execute_result"
    }
   ],
   "source": [
    "df.shape"
   ]
  },
  {
   "cell_type": "code",
   "execution_count": 27,
   "metadata": {},
   "outputs": [],
   "source": [
    "df.index = np.arange(df.shape[0])"
   ]
  },
  {
   "cell_type": "code",
   "execution_count": 28,
   "metadata": {},
   "outputs": [],
   "source": [
    "def period_to_month(string):\n",
    "    s = string.split()\n",
    "    if len(s) == 2:\n",
    "        if (s[1] == 'год') or (s[1] == 'года') or (s[1] == 'лет'):\n",
    "            return int(s[0]) * 12\n",
    "        return int(s[0])\n",
    "    return int(s[0]) * 12 + int(s[3])"
   ]
  },
  {
   "cell_type": "code",
   "execution_count": 29,
   "metadata": {},
   "outputs": [],
   "source": [
    "pers = df.experience_length.copy()"
   ]
  },
  {
   "cell_type": "code",
   "execution_count": 30,
   "metadata": {},
   "outputs": [
    {
     "data": {
      "text/plain": [
       "False"
      ]
     },
     "execution_count": 30,
     "metadata": {},
     "output_type": "execute_result"
    }
   ],
   "source": [
    "pers is df.experience_length"
   ]
  },
  {
   "cell_type": "code",
   "execution_count": 31,
   "metadata": {},
   "outputs": [],
   "source": [
    "for i in pers.index:\n",
    "    pers.values[i] = period_to_month(pers.values[i])"
   ]
  },
  {
   "cell_type": "code",
   "execution_count": 32,
   "metadata": {},
   "outputs": [
    {
     "data": {
      "text/plain": [
       "0         7\n",
       "1       216\n",
       "2       154\n",
       "3        51\n",
       "4       262\n",
       "5        14\n",
       "6        28\n",
       "7        55\n",
       "8        74\n",
       "9        51\n",
       "10       59\n",
       "11      224\n",
       "12        3\n",
       "13       78\n",
       "14      172\n",
       "15      361\n",
       "16      411\n",
       "17      111\n",
       "18      250\n",
       "19        0\n",
       "20      183\n",
       "21      284\n",
       "22      216\n",
       "23      280\n",
       "24      381\n",
       "25      186\n",
       "26      126\n",
       "27      128\n",
       "28       42\n",
       "29      268\n",
       "       ... \n",
       "2339    121\n",
       "2340    283\n",
       "2341    283\n",
       "2342    207\n",
       "2343    244\n",
       "2344    167\n",
       "2345    121\n",
       "2346    179\n",
       "2347    165\n",
       "2348    389\n",
       "2349    334\n",
       "2350    245\n",
       "2351     97\n",
       "2352    194\n",
       "2353    211\n",
       "2354    154\n",
       "2355    268\n",
       "2356     75\n",
       "2357    298\n",
       "2358    156\n",
       "2359    194\n",
       "2360    339\n",
       "2361    156\n",
       "2362    146\n",
       "2363     66\n",
       "2364    180\n",
       "2365    347\n",
       "2366    229\n",
       "2367     34\n",
       "2368     72\n",
       "Name: experience_length, Length: 2369, dtype: object"
      ]
     },
     "execution_count": 32,
     "metadata": {},
     "output_type": "execute_result"
    }
   ],
   "source": [
    "df.experience_length = pers\n",
    "df.experience_length"
   ]
  },
  {
   "cell_type": "markdown",
   "metadata": {},
   "source": [
    "## 11. `family`"
   ]
  },
  {
   "cell_type": "code",
   "execution_count": 33,
   "metadata": {},
   "outputs": [
    {
     "data": {
      "text/plain": [
       "cостоит в браке, есть дети       804\n",
       "NaN                              687\n",
       "не состоит в браке, детей нет    528\n",
       "cостоит в браке, детей нет       168\n",
       "не состоит в браке, есть дети    111\n",
       "cостоит в браке                   37\n",
       "не состоит в браке                29\n",
       "есть дети                          3\n",
       "детей нет                          2\n",
       "Name: family, dtype: int64"
      ]
     },
     "execution_count": 33,
     "metadata": {},
     "output_type": "execute_result"
    }
   ],
   "source": [
    "df.family.value_counts(dropna=False)"
   ]
  },
  {
   "cell_type": "code",
   "execution_count": 34,
   "metadata": {},
   "outputs": [],
   "source": [
    "df = df.drop('family', axis=1)"
   ]
  },
  {
   "cell_type": "markdown",
   "metadata": {},
   "source": [
    "## 12. `gender`"
   ]
  },
  {
   "cell_type": "code",
   "execution_count": 35,
   "metadata": {},
   "outputs": [],
   "source": [
    "gender = pd.get_dummies(df.gender)\n",
    "df['gender'] = gender.f"
   ]
  },
  {
   "cell_type": "markdown",
   "metadata": {},
   "source": [
    "## 13. `languages`"
   ]
  },
  {
   "cell_type": "code",
   "execution_count": 36,
   "metadata": {},
   "outputs": [
    {
     "data": {
      "text/plain": [
       "['Английский язык, Технический']                                                                                                                               832\n",
       "NaN                                                                                                                                                            547\n",
       "['Английский язык, Базовый']                                                                                                                                   463\n",
       "['Английский язык, Разговорный']                                                                                                                               164\n",
       "['Английский язык, Технический', 'Немецкий язык, Базовый']                                                                                                      47\n",
       "['Английский язык, Базовый', 'Немецкий язык, Базовый']                                                                                                          42\n",
       "['Английский язык, Cвободное владение']                                                                                                                         40\n",
       "['Английский язык, Технический', 'Русский язык, Cвободное владение']                                                                                            16\n",
       "['Английский язык, Технический', 'Немецкий язык, Технический']                                                                                                  16\n",
       "['Немецкий язык, Базовый']                                                                                                                                      11\n",
       "['Английский язык, Разговорный', 'Немецкий язык, Базовый']                                                                                                      11\n",
       "['Английский язык, Технический', 'Французский язык, Базовый']                                                                                                   10\n",
       "['Английский язык, Базовый', 'Русский язык, Cвободное владение']                                                                                                10\n",
       "['Английский язык, Технический', 'Испанский язык, Базовый']                                                                                                      8\n",
       "['Английский язык, Разговорный', 'Русский язык, Cвободное владение']                                                                                             8\n",
       "['Английский язык, Разговорный', 'Французский язык, Базовый']                                                                                                    7\n",
       "['Английский язык, Cвободное владение', 'Немецкий язык, Базовый']                                                                                                6\n",
       "['Английский язык, Технический', 'Немецкий язык, Базовый', 'Русский язык, Cвободное владение']                                                                   6\n",
       "['Английский язык, Технический', 'Немецкий язык, Разговорный']                                                                                                   5\n",
       "['Английский язык, Технический', 'Французский язык, Разговорный']                                                                                                5\n",
       "['Английский язык, Разговорный', 'Немецкий язык, Технический']                                                                                                   4\n",
       "['Английский язык, Технический', 'Украинский язык, Разговорный']                                                                                                 4\n",
       "['Английский язык, Базовый', 'Французский язык, Базовый']                                                                                                        4\n",
       "['Английский язык, Базовый', 'Немецкий язык, Базовый', 'Русский язык, Cвободное владение']                                                                       3\n",
       "['Английский язык, Cвободное владение', 'Немецкий язык, Cвободное владение']                                                                                     3\n",
       "['Английский язык, Технический', 'Украинский язык, Cвободное владение']                                                                                          3\n",
       "['Английский язык, Технический', 'Казахский язык, Разговорный', 'Русский язык, Cвободное владение']                                                              3\n",
       "['Английский язык, Разговорный', 'Немецкий язык, Разговорный']                                                                                                   2\n",
       "['Английский язык, Технический', 'Французский язык, Технический']                                                                                                2\n",
       "['Английский язык, Разговорный', 'Немецкий язык, Базовый', 'Французский язык, Базовый']                                                                          2\n",
       "                                                                                                                                                              ... \n",
       "['Английский язык, Технический', 'Чешский язык, Базовый']                                                                                                        1\n",
       "['Английский язык, Базовый', 'Испанский язык, Базовый']                                                                                                          1\n",
       "['Английский язык, Технический', 'Татарский язык, Разговорный']                                                                                                  1\n",
       "['Английский язык, Cвободное владение', 'Турецкий язык, Базовый']                                                                                                1\n",
       "['Английский язык, Базовый', 'Французский язык, Технический']                                                                                                    1\n",
       "['Английский язык, Технический', 'Татарский язык, Cвободное владение']                                                                                           1\n",
       "['Английский язык, Cвободное владение', 'Французский язык, Разговорный']                                                                                         1\n",
       "['Английский язык, Разговорный', 'Норвежский язык, Базовый']                                                                                                     1\n",
       "['Английский язык, Базовый', 'Армянский язык, Cвободное владение']                                                                                               1\n",
       "['Турецкий язык, Cвободное владение', 'Азербайджанский язык, Cвободное владение', 'Русский язык, Cвободное владение', 'Талышский язык, Cвободное владение']      1\n",
       "['Английский язык, Cвободное владение', 'Испанский язык, Базовый']                                                                                               1\n",
       "['Немецкий язык, Технический']                                                                                                                                   1\n",
       "['Английский язык, Технический', 'Финский язык, Базовый']                                                                                                        1\n",
       "['Английский язык, Технический', 'Тайский язык, Разговорный']                                                                                                    1\n",
       "['Английский язык, Технический', 'Польский язык, Базовый']                                                                                                       1\n",
       "['Английский язык, Технический', 'Французский язык, Cвободное владение']                                                                                         1\n",
       "['Армянский язык, Cвободное владение']                                                                                                                           1\n",
       "['Английский язык, Разговорный', 'Итальянский язык, Базовый']                                                                                                    1\n",
       "['Английский язык, Базовый', 'Азербайджанский язык, Cвободное владение']                                                                                         1\n",
       "['Английский язык, Cвободное владение', 'Литовский язык, Cвободное владение']                                                                                    1\n",
       "['Английский язык, Технический', 'Немецкий язык, Технический', 'Французский язык, Базовый']                                                                      1\n",
       "['Английский язык, Технический', 'Португальский язык, Базовый']                                                                                                  1\n",
       "['Английский язык, Базовый', 'Эстонский язык, Базовый']                                                                                                          1\n",
       "['Болгарский язык, Разговорный']                                                                                                                                 1\n",
       "['Английский язык, Cвободное владение', 'Французский язык, Cвободное владение']                                                                                  1\n",
       "['Английский язык, Базовый', 'Немецкий язык, Базовый', 'Башкирский язык, Базовый']                                                                               1\n",
       "['Английский язык, Технический', 'Венгерский язык, Cвободное владение', 'Украинский язык, Разговорный']                                                          1\n",
       "['Украинский язык, Cвободное владение']                                                                                                                          1\n",
       "['Английский язык, Технический', 'Польский язык, Cвободное владение']                                                                                            1\n",
       "['Татарский язык, Cвободное владение', 'Русский язык, Cвободное владение']                                                                                       1\n",
       "Name: languages, Length: 111, dtype: int64"
      ]
     },
     "execution_count": 36,
     "metadata": {},
     "output_type": "execute_result"
    }
   ],
   "source": [
    "df.languages.value_counts(dropna=False)"
   ]
  },
  {
   "cell_type": "code",
   "execution_count": 37,
   "metadata": {},
   "outputs": [],
   "source": [
    "df.languages=df.languages.fillna(\"[]\")"
   ]
  },
  {
   "cell_type": "code",
   "execution_count": 38,
   "metadata": {},
   "outputs": [],
   "source": [
    "def i_am_cruel(x):\n",
    "    #print (eval(x))\n",
    "    for z in eval(x):\n",
    "        y = z.split(', ')\n",
    "        if y[0] == 'Английский язык':\n",
    "            if y[1] == 'Базовый':\n",
    "                return 1\n",
    "            if y[1] == 'Технический':\n",
    "                return 2\n",
    "            if y[1] == 'Разговорный':\n",
    "                return 3\n",
    "            if y[1] == 'Cвободное владение':\n",
    "                return 4\n",
    "            print (y[1])\n",
    "    return 0\n",
    "for i in df.languages.values:\n",
    "    i_am_cruel(i)\n",
    "df['english_level']=df.languages.apply(i_am_cruel)"
   ]
  },
  {
   "cell_type": "code",
   "execution_count": 39,
   "metadata": {},
   "outputs": [],
   "source": [
    "df.drop('languages', axis=1, inplace=True)"
   ]
  },
  {
   "cell_type": "markdown",
   "metadata": {},
   "source": [
    "## 14. `metro_or_moving`"
   ]
  },
  {
   "cell_type": "code",
   "execution_count": 40,
   "metadata": {},
   "outputs": [
    {
     "data": {
      "text/plain": [
       "NaN                                               1357\n",
       "готов к переезду                                   540\n",
       "Пражская                                            12\n",
       "Улица Дыбенко                                        9\n",
       "Комендантский проспект                               8\n",
       "Новогиреево                                          6\n",
       "Коломенская                                          6\n",
       "Первомайская                                         6\n",
       "Выхино                                               6\n",
       "Ботанический садВДНХ                                 6\n",
       "Медведково                                           6\n",
       "Проспект Ветеранов                                   6\n",
       "Ладожская                                            6\n",
       "Новокосино                                           5\n",
       "Проспект Большевиков                                 5\n",
       "Щелковская                                           5\n",
       "Академическая                                        5\n",
       "Планерная                                            5\n",
       "Люблино                                              4\n",
       "Бульвар Рокоссовского                                4\n",
       "Московская                                           4\n",
       "Митино                                               4\n",
       "Перово                                               4\n",
       "Войковская                                           4\n",
       "Саларьево                                            4\n",
       "Строгино                                             4\n",
       "Девяткино                                            4\n",
       "Домодедовская                                        4\n",
       "Пионерская и ещё 2                                   4\n",
       "Бабушкинская                                         4\n",
       "                                                  ... \n",
       "АэропортНовогиреево                                  1\n",
       "Текстильщики и ещё 2                                 1\n",
       "Ботаническая                                         1\n",
       "Автозаводская                                        1\n",
       "Лермонтовский проспект                               1\n",
       "Кантемировская                                       1\n",
       "Аэропорт                                             1\n",
       "ЛомоносовскаяЕлизаровская                            1\n",
       "Красногвардейская и ещё 2                            1\n",
       "Мякинино                                             1\n",
       "Удельная и ещё 2                                     1\n",
       "ВыхиноЖулебино                                       1\n",
       "СеменовскаяСоколиная Гора                            1\n",
       "Ленинский проспектАвтово                             1\n",
       "ЦарицыноПражская                                     1\n",
       "КрасногвардейскаяШипиловская                         1\n",
       "Новослободская                                       1\n",
       "КалужскаяБеляево                                     1\n",
       "СеменовскаяШоссе Энтузиастов                         1\n",
       "ТекстильщикиПечатники                                1\n",
       "Электрозаводская                                     1\n",
       "ВыборгскаяЛесная                                     1\n",
       "Речной вокзалАлтуфьево                               1\n",
       "БелорусскаяДинамо                                    1\n",
       "Юго-ЗападнаяМолодежная                               1\n",
       "Тульская                                             1\n",
       "Площадь ВосстанияПлощадь Александра Невского I       1\n",
       "Сокол и ещё 2                                        1\n",
       "ХовриноСелигерская                                   1\n",
       "Полежаевская и ещё 2                                 1\n",
       "Name: metro_or_moving, Length: 243, dtype: int64"
      ]
     },
     "execution_count": 40,
     "metadata": {},
     "output_type": "execute_result"
    }
   ],
   "source": [
    "df.metro_or_moving.value_counts(dropna=False)"
   ]
  },
  {
   "cell_type": "markdown",
   "metadata": {},
   "source": [
    "Половина Nan-ов, удаляем."
   ]
  },
  {
   "cell_type": "code",
   "execution_count": 41,
   "metadata": {},
   "outputs": [],
   "source": [
    "df.drop('metro_or_moving', axis=1, inplace=True)"
   ]
  },
  {
   "cell_type": "markdown",
   "metadata": {},
   "source": [
    "## 15. `name`"
   ]
  },
  {
   "cell_type": "code",
   "execution_count": 42,
   "metadata": {},
   "outputs": [
    {
     "data": {
      "text/plain": [
       "Системный администратор, IT-специалист                                                               416\n",
       "IT-специалист                                                                                        207\n",
       "IT специалист                                                                                         76\n",
       "ИТ-специалист                                                                                         54\n",
       "Руководитель IT-отдела                                                                                37\n",
       "Инженер IT                                                                                            29\n",
       "Руководитель отдела ИТ                                                                                27\n",
       "Руководитель IT отдела                                                                                24\n",
       "It-специалист                                                                                         22\n",
       "Ведущий специалист ИТ                                                                                 20\n",
       "Инженер ИТ                                                                                            20\n",
       "Руководитель ИТ отдела                                                                                19\n",
       "Начальник отдела ИТ                                                                                   18\n",
       "Специалист по IT                                                                                      17\n",
       "Специалист IT                                                                                         16\n",
       "Специалист ИТ                                                                                         16\n",
       "Специалист IT-отдела                                                                                  12\n",
       "Руководитель ИТ                                                                                        9\n",
       "Руководитель IT-проектов                                                                               9\n",
       "Системный администратор / IT-специалист                                                                8\n",
       "IT директор                                                                                            8\n",
       "Менеджер IT-проектов                                                                                   8\n",
       "Директор ИТ                                                                                            8\n",
       "Руководитель IT                                                                                        8\n",
       "IT-директор                                                                                            8\n",
       "Руководитель ИТ-проектов                                                                               7\n",
       "Специалист IT отдела                                                                                   7\n",
       "Начальник ИТ-отдела                                                                                    7\n",
       "Руководитель ИТ-отдела                                                                                 7\n",
       "Руководитель IT-подразделения                                                                          7\n",
       "                                                                                                    ... \n",
       "IT-специалист, оператор ПК, специалист сервисной поддержки, системный администратор                    1\n",
       "Системный администратор / it-cпециалист                                                                1\n",
       "Инженер связи, IT специалист, электромеханик связи, электрослесарь КИПиА                               1\n",
       "Заместитель руководителя IT отдела                                                                     1\n",
       "IT специалист, Специалист технической поддержки, Project Manager                                       1\n",
       "Руководитель отдела связи, ИТ                                                                          1\n",
       "Системный администратор, IT-специалист, оператор, наладчик технологического оборудования               1\n",
       "Руководитель, IT-специалист                                                                            1\n",
       "Системный администратор, ИТ                                                                            1\n",
       "Системный администратор, техник IT                                                                     1\n",
       "Директор ИТ, заместитель директора по ИТ, по ИБ                                                        1\n",
       "IT-Специалист / Заместитель начальника отдела IT                                                       1\n",
       "Ведущий ИТ-специалист                                                                                  1\n",
       "IT-специалист / Специалист технической поддержки                                                       1\n",
       "Техник, мастер, специалист ИТ                                                                          1\n",
       "Сервис-мастер IT                                                                                       1\n",
       "Заместитель директора по IT-технологиям / начальник IT-отдела / системный администратор                1\n",
       "Cпециалист по IT, HelpDesk                                                                             1\n",
       "Системный администратор, специалист технической поддержки, заместитель директора по IT                 1\n",
       "Начальник ИТ-отдела, программист 1С, системный администратор                                           1\n",
       "Заведующий складом, технический специалист IT, водитель                                                1\n",
       "Руководитель IT, Руководитель отдела                                                                   1\n",
       "Менеджер / Инженер / IT-специалист                                                                     1\n",
       "Помощник юриста, Инженер ИТ, Сотрудник службы охраны, Аварийный комиссар. Рабочий на производство      1\n",
       "Менеджер по развитию направления, работе с партнерами в IT компанию, представительство IT вендора      1\n",
       "Системный администратор (руководитель IT отдела)                                                       1\n",
       "Системный администратор, инженер-системотехник, специалист IT, инженер ИБ                              1\n",
       "Главный специалист IT / Начальник отдела                                                               1\n",
       "Технический директор, IT директор, руководитель отдела технической поддержки                           1\n",
       "Инженер технической поддержки / ИТ-специалист                                                          1\n",
       "Name: name, Length: 1115, dtype: int64"
      ]
     },
     "execution_count": 42,
     "metadata": {},
     "output_type": "execute_result"
    }
   ],
   "source": [
    "df.name.value_counts(dropna=False)"
   ]
  },
  {
   "cell_type": "code",
   "execution_count": 43,
   "metadata": {},
   "outputs": [],
   "source": [
    "df['name_text'] = df.name\n",
    "df = df.drop('name', axis=1)"
   ]
  },
  {
   "cell_type": "markdown",
   "metadata": {},
   "source": [
    "## 16. `photo_url`"
   ]
  },
  {
   "cell_type": "code",
   "execution_count": 44,
   "metadata": {},
   "outputs": [],
   "source": [
    "df = df.drop('photo_url', axis=1)"
   ]
  },
  {
   "cell_type": "markdown",
   "metadata": {},
   "source": [
    "## 17. `salary`"
   ]
  },
  {
   "cell_type": "code",
   "execution_count": 45,
   "metadata": {},
   "outputs": [],
   "source": [
    "df.salary=df.salary.apply(lambda x: int(x[:-1].replace(\" \", '')))"
   ]
  },
  {
   "cell_type": "code",
   "execution_count": 46,
   "metadata": {},
   "outputs": [
    {
     "data": {
      "text/plain": [
       "<bound method IndexOpsMixin.value_counts of 0        30000\n",
       "1        50000\n",
       "2        30000\n",
       "3        25000\n",
       "4        20000\n",
       "5        45000\n",
       "6        20000\n",
       "7        45000\n",
       "8        50000\n",
       "9        30000\n",
       "10       20000\n",
       "11       30000\n",
       "12       35000\n",
       "13       60000\n",
       "14       30000\n",
       "15       75000\n",
       "16       75000\n",
       "17       20000\n",
       "18      150000\n",
       "19       25000\n",
       "20      150000\n",
       "21       70000\n",
       "22      280000\n",
       "23      240000\n",
       "24       90000\n",
       "25       80000\n",
       "26       20000\n",
       "27       50000\n",
       "28       50000\n",
       "29      100000\n",
       "         ...  \n",
       "2339    175000\n",
       "2340     80000\n",
       "2341     80000\n",
       "2342    150000\n",
       "2343    200000\n",
       "2344     50000\n",
       "2345    120000\n",
       "2346     70000\n",
       "2347    130000\n",
       "2348     50000\n",
       "2349    120000\n",
       "2350     55000\n",
       "2351     50000\n",
       "2352    100000\n",
       "2353    150000\n",
       "2354    120000\n",
       "2355     50000\n",
       "2356     25000\n",
       "2357     60000\n",
       "2358    100000\n",
       "2359     50000\n",
       "2360     50000\n",
       "2361     60000\n",
       "2362    110000\n",
       "2363     30000\n",
       "2364    150000\n",
       "2365    150000\n",
       "2366     40000\n",
       "2367     45000\n",
       "2368     80000\n",
       "Name: salary, Length: 2369, dtype: int64>"
      ]
     },
     "execution_count": 46,
     "metadata": {},
     "output_type": "execute_result"
    }
   ],
   "source": [
    "df.salary.value_counts"
   ]
  },
  {
   "cell_type": "markdown",
   "metadata": {},
   "source": [
    "## 18. `skills`"
   ]
  },
  {
   "cell_type": "code",
   "execution_count": 47,
   "metadata": {},
   "outputs": [
    {
     "data": {
      "text/plain": [
       "(1965,)"
      ]
     },
     "execution_count": 47,
     "metadata": {},
     "output_type": "execute_result"
    }
   ],
   "source": [
    "df.skills.value_counts(dropna=False).shape"
   ]
  },
  {
   "cell_type": "markdown",
   "metadata": {},
   "source": [
    "Часть - дубликаты. Но полных дубликатов не было. Видимо, люди хотят на разные должности по одинаковым резюме. Можно оставить как есть (логике задачи это не противоречит)"
   ]
  },
  {
   "cell_type": "code",
   "execution_count": 48,
   "metadata": {},
   "outputs": [
    {
     "data": {
      "text/plain": [
       "<pandas.core.groupby.groupby.DataFrameGroupBy object at 0x7f1c91bbb9e8>"
      ]
     },
     "execution_count": 48,
     "metadata": {},
     "output_type": "execute_result"
    }
   ],
   "source": [
    "df.groupby(by='skills')"
   ]
  },
  {
   "cell_type": "code",
   "execution_count": 49,
   "metadata": {},
   "outputs": [
    {
     "data": {
      "text/plain": [
       "(330, 17)"
      ]
     },
     "execution_count": 49,
     "metadata": {},
     "output_type": "execute_result"
    }
   ],
   "source": [
    "df[df.skills.isna()].shape"
   ]
  },
  {
   "cell_type": "code",
   "execution_count": 50,
   "metadata": {},
   "outputs": [],
   "source": [
    "df = df.dropna(subset=['skills'])"
   ]
  },
  {
   "cell_type": "code",
   "execution_count": 51,
   "metadata": {},
   "outputs": [
    {
     "data": {
      "text/plain": [
       "(2039, 17)"
      ]
     },
     "execution_count": 51,
     "metadata": {},
     "output_type": "execute_result"
    }
   ],
   "source": [
    "df.shape"
   ]
  },
  {
   "cell_type": "code",
   "execution_count": 52,
   "metadata": {},
   "outputs": [],
   "source": [
    "def skill_to_text(skill):\n",
    "    if skill != skill: # check for nan\n",
    "        return ''\n",
    "    arr = ast.literal_eval(skill)\n",
    "    result = ''\n",
    "    exp_dict = arr[0]\n",
    "    if 'professional' in exp_dict:\n",
    "        result += exp_dict['professional'] + ' '\n",
    "    return result"
   ]
  },
  {
   "cell_type": "code",
   "execution_count": 53,
   "metadata": {},
   "outputs": [
    {
     "name": "stderr",
     "output_type": "stream",
     "text": [
      "/home/semen/anaconda3/lib/python3.7/site-packages/ipykernel_launcher.py:1: SettingWithCopyWarning: \n",
      "A value is trying to be set on a copy of a slice from a DataFrame.\n",
      "Try using .loc[row_indexer,col_indexer] = value instead\n",
      "\n",
      "See the caveats in the documentation: http://pandas.pydata.org/pandas-docs/stable/indexing.html#indexing-view-versus-copy\n",
      "  \"\"\"Entry point for launching an IPython kernel.\n"
     ]
    }
   ],
   "source": [
    "df['skills_text'] = df.skills.apply(skill_to_text)\n",
    "df = df.drop('skills', axis=1)"
   ]
  },
  {
   "cell_type": "markdown",
   "metadata": {},
   "source": [
    "## 19. `url`"
   ]
  },
  {
   "cell_type": "code",
   "execution_count": 54,
   "metadata": {},
   "outputs": [],
   "source": [
    "df = df.drop('url', axis = 1)"
   ]
  },
  {
   "cell_type": "markdown",
   "metadata": {},
   "source": [
    "## Заполненность резюме\n",
    "\n",
    "Добавим новый признак - длина строк, отвечающих за требования на прошлых местах работы и скиллы.\n",
    "\n",
    "Название резюме обычно всегда фиксированной длины.\n",
    "\n",
    "Категории заполняются не соискателем."
   ]
  },
  {
   "cell_type": "code",
   "execution_count": 55,
   "metadata": {},
   "outputs": [],
   "source": [
    "def resume_fullfillment(resume):\n",
    "    result = 0\n",
    "    if resume['experience_text'] != '':\n",
    "        result += len(resume['experience_text'])\n",
    "    if resume.skills_text != '':\n",
    "        result += len(resume.skills_text)\n",
    "    return result"
   ]
  },
  {
   "cell_type": "code",
   "execution_count": 56,
   "metadata": {},
   "outputs": [],
   "source": [
    "df['fullfillment'] = df.apply(resume_fullfillment, axis=1)"
   ]
  },
  {
   "cell_type": "markdown",
   "metadata": {},
   "source": [
    "## Ну и объединим все текстовые признаки в один"
   ]
  },
  {
   "cell_type": "code",
   "execution_count": 57,
   "metadata": {},
   "outputs": [
    {
     "data": {
      "text/plain": [
       "['categories_text', 'experience_text', 'name_text', 'skills_text']"
      ]
     },
     "execution_count": 57,
     "metadata": {},
     "output_type": "execute_result"
    }
   ],
   "source": [
    "columns = list(df.columns.values)\n",
    "text_cols = filter(lambda c: c.endswith('_text'), columns)\n",
    "text_cols = list(text_cols)\n",
    "text_cols"
   ]
  },
  {
   "cell_type": "code",
   "execution_count": 58,
   "metadata": {},
   "outputs": [],
   "source": [
    "def join_text(resume):\n",
    "    result = ''\n",
    "    for text_col in text_cols:\n",
    "        if resume[text_col] != '' or resume[text_col] == resume[text_col]:\n",
    "            result += resume[text_col] + ' '\n",
    "    return result"
   ]
  },
  {
   "cell_type": "code",
   "execution_count": 59,
   "metadata": {},
   "outputs": [],
   "source": [
    "df['text'] = df.apply(join_text, axis=1)\n",
    "df = df.drop(text_cols, axis=1)"
   ]
  },
  {
   "cell_type": "markdown",
   "metadata": {},
   "source": [
    "## Результат:"
   ]
  },
  {
   "cell_type": "code",
   "execution_count": 60,
   "metadata": {},
   "outputs": [
    {
     "name": "stdout",
     "output_type": "stream",
     "text": [
      "(2039, 14)\n"
     ]
    },
    {
     "data": {
      "text/html": [
       "<div>\n",
       "<style scoped>\n",
       "    .dataframe tbody tr th:only-of-type {\n",
       "        vertical-align: middle;\n",
       "    }\n",
       "\n",
       "    .dataframe tbody tr th {\n",
       "        vertical-align: top;\n",
       "    }\n",
       "\n",
       "    .dataframe thead th {\n",
       "        text-align: right;\n",
       "    }\n",
       "</style>\n",
       "<table border=\"1\" class=\"dataframe\">\n",
       "  <thead>\n",
       "    <tr style=\"text-align: right;\">\n",
       "      <th></th>\n",
       "      <th>age</th>\n",
       "      <th>auto</th>\n",
       "      <th>experience_length</th>\n",
       "      <th>gender</th>\n",
       "      <th>salary</th>\n",
       "      <th>rus_citizenship</th>\n",
       "      <th>city_msk</th>\n",
       "      <th>city_spb</th>\n",
       "      <th>city_other</th>\n",
       "      <th>education_degree</th>\n",
       "      <th>full_employment</th>\n",
       "      <th>english_level</th>\n",
       "      <th>fullfillment</th>\n",
       "      <th>text</th>\n",
       "    </tr>\n",
       "  </thead>\n",
       "  <tbody>\n",
       "    <tr>\n",
       "      <th>1</th>\n",
       "      <td>39</td>\n",
       "      <td>1</td>\n",
       "      <td>216</td>\n",
       "      <td>0</td>\n",
       "      <td>50000</td>\n",
       "      <td>1</td>\n",
       "      <td>1</td>\n",
       "      <td>0</td>\n",
       "      <td>0</td>\n",
       "      <td>0</td>\n",
       "      <td>1</td>\n",
       "      <td>0</td>\n",
       "      <td>1676</td>\n",
       "      <td>Техническая поддержка Администратор Организаци...</td>\n",
       "    </tr>\n",
       "    <tr>\n",
       "      <th>2</th>\n",
       "      <td>47</td>\n",
       "      <td>0</td>\n",
       "      <td>154</td>\n",
       "      <td>0</td>\n",
       "      <td>30000</td>\n",
       "      <td>1</td>\n",
       "      <td>0</td>\n",
       "      <td>0</td>\n",
       "      <td>1</td>\n",
       "      <td>0</td>\n",
       "      <td>1</td>\n",
       "      <td>2</td>\n",
       "      <td>961</td>\n",
       "      <td>Передача данных и доступ в интернет Старший ин...</td>\n",
       "    </tr>\n",
       "    <tr>\n",
       "      <th>3</th>\n",
       "      <td>23</td>\n",
       "      <td>0</td>\n",
       "      <td>51</td>\n",
       "      <td>1</td>\n",
       "      <td>25000</td>\n",
       "      <td>1</td>\n",
       "      <td>0</td>\n",
       "      <td>0</td>\n",
       "      <td>1</td>\n",
       "      <td>0</td>\n",
       "      <td>1</td>\n",
       "      <td>0</td>\n",
       "      <td>299</td>\n",
       "      <td>Техническая поддержка Продавец-кассир Экскурсо...</td>\n",
       "    </tr>\n",
       "    <tr>\n",
       "      <th>5</th>\n",
       "      <td>22</td>\n",
       "      <td>0</td>\n",
       "      <td>14</td>\n",
       "      <td>0</td>\n",
       "      <td>45000</td>\n",
       "      <td>1</td>\n",
       "      <td>1</td>\n",
       "      <td>0</td>\n",
       "      <td>0</td>\n",
       "      <td>3</td>\n",
       "      <td>0</td>\n",
       "      <td>0</td>\n",
       "      <td>761</td>\n",
       "      <td>Системное администрирование Специалист офиса п...</td>\n",
       "    </tr>\n",
       "    <tr>\n",
       "      <th>6</th>\n",
       "      <td>23</td>\n",
       "      <td>0</td>\n",
       "      <td>28</td>\n",
       "      <td>0</td>\n",
       "      <td>20000</td>\n",
       "      <td>1</td>\n",
       "      <td>0</td>\n",
       "      <td>0</td>\n",
       "      <td>1</td>\n",
       "      <td>2</td>\n",
       "      <td>1</td>\n",
       "      <td>1</td>\n",
       "      <td>513</td>\n",
       "      <td>Техническая поддержка Оператор ЭВМ В данной ор...</td>\n",
       "    </tr>\n",
       "    <tr>\n",
       "      <th>7</th>\n",
       "      <td>24</td>\n",
       "      <td>1</td>\n",
       "      <td>55</td>\n",
       "      <td>0</td>\n",
       "      <td>45000</td>\n",
       "      <td>1</td>\n",
       "      <td>0</td>\n",
       "      <td>1</td>\n",
       "      <td>0</td>\n",
       "      <td>4</td>\n",
       "      <td>1</td>\n",
       "      <td>1</td>\n",
       "      <td>984</td>\n",
       "      <td>Сетевые технологии Системный администратор, IT...</td>\n",
       "    </tr>\n",
       "    <tr>\n",
       "      <th>9</th>\n",
       "      <td>22</td>\n",
       "      <td>0</td>\n",
       "      <td>51</td>\n",
       "      <td>0</td>\n",
       "      <td>30000</td>\n",
       "      <td>1</td>\n",
       "      <td>0</td>\n",
       "      <td>0</td>\n",
       "      <td>1</td>\n",
       "      <td>0</td>\n",
       "      <td>1</td>\n",
       "      <td>2</td>\n",
       "      <td>939</td>\n",
       "      <td>Методист по информационным технологиям Устано...</td>\n",
       "    </tr>\n",
       "    <tr>\n",
       "      <th>10</th>\n",
       "      <td>31</td>\n",
       "      <td>1</td>\n",
       "      <td>59</td>\n",
       "      <td>0</td>\n",
       "      <td>20000</td>\n",
       "      <td>1</td>\n",
       "      <td>0</td>\n",
       "      <td>0</td>\n",
       "      <td>1</td>\n",
       "      <td>2</td>\n",
       "      <td>0</td>\n",
       "      <td>1</td>\n",
       "      <td>5431</td>\n",
       "      <td>Web-верстка Администратор сообщества ВКонтакте...</td>\n",
       "    </tr>\n",
       "    <tr>\n",
       "      <th>11</th>\n",
       "      <td>48</td>\n",
       "      <td>0</td>\n",
       "      <td>224</td>\n",
       "      <td>0</td>\n",
       "      <td>30000</td>\n",
       "      <td>1</td>\n",
       "      <td>0</td>\n",
       "      <td>0</td>\n",
       "      <td>1</td>\n",
       "      <td>0</td>\n",
       "      <td>1</td>\n",
       "      <td>2</td>\n",
       "      <td>1588</td>\n",
       "      <td>Сетевые технологии Системный администратор Адм...</td>\n",
       "    </tr>\n",
       "    <tr>\n",
       "      <th>12</th>\n",
       "      <td>23</td>\n",
       "      <td>1</td>\n",
       "      <td>3</td>\n",
       "      <td>0</td>\n",
       "      <td>35000</td>\n",
       "      <td>1</td>\n",
       "      <td>1</td>\n",
       "      <td>0</td>\n",
       "      <td>0</td>\n",
       "      <td>4</td>\n",
       "      <td>1</td>\n",
       "      <td>1</td>\n",
       "      <td>295</td>\n",
       "      <td>Техническая поддержка Электроник 1ой категории...</td>\n",
       "    </tr>\n",
       "  </tbody>\n",
       "</table>\n",
       "</div>"
      ],
      "text/plain": [
       "    age  auto experience_length  gender  salary  rus_citizenship  city_msk  \\\n",
       "1    39     1               216       0   50000                1         1   \n",
       "2    47     0               154       0   30000                1         0   \n",
       "3    23     0                51       1   25000                1         0   \n",
       "5    22     0                14       0   45000                1         1   \n",
       "6    23     0                28       0   20000                1         0   \n",
       "7    24     1                55       0   45000                1         0   \n",
       "9    22     0                51       0   30000                1         0   \n",
       "10   31     1                59       0   20000                1         0   \n",
       "11   48     0               224       0   30000                1         0   \n",
       "12   23     1                 3       0   35000                1         1   \n",
       "\n",
       "    city_spb  city_other  education_degree  full_employment  english_level  \\\n",
       "1          0           0                 0                1              0   \n",
       "2          0           1                 0                1              2   \n",
       "3          0           1                 0                1              0   \n",
       "5          0           0                 3                0              0   \n",
       "6          0           1                 2                1              1   \n",
       "7          1           0                 4                1              1   \n",
       "9          0           1                 0                1              2   \n",
       "10         0           1                 2                0              1   \n",
       "11         0           1                 0                1              2   \n",
       "12         0           0                 4                1              1   \n",
       "\n",
       "    fullfillment                                               text  \n",
       "1           1676  Техническая поддержка Администратор Организаци...  \n",
       "2            961  Передача данных и доступ в интернет Старший ин...  \n",
       "3            299  Техническая поддержка Продавец-кассир Экскурсо...  \n",
       "5            761  Системное администрирование Специалист офиса п...  \n",
       "6            513  Техническая поддержка Оператор ЭВМ В данной ор...  \n",
       "7            984  Сетевые технологии Системный администратор, IT...  \n",
       "9            939   Методист по информационным технологиям Устано...  \n",
       "10          5431  Web-верстка Администратор сообщества ВКонтакте...  \n",
       "11          1588  Сетевые технологии Системный администратор Адм...  \n",
       "12           295  Техническая поддержка Электроник 1ой категории...  "
      ]
     },
     "execution_count": 60,
     "metadata": {},
     "output_type": "execute_result"
    }
   ],
   "source": [
    "print(df.shape)\n",
    "df.head(10)"
   ]
  },
  {
   "cell_type": "code",
   "execution_count": 61,
   "metadata": {},
   "outputs": [
    {
     "data": {
      "text/plain": [
       "Index(['age', 'auto', 'experience_length', 'gender', 'salary',\n",
       "       'rus_citizenship', 'city_msk', 'city_spb', 'city_other',\n",
       "       'education_degree', 'full_employment', 'english_level', 'fullfillment',\n",
       "       'text'],\n",
       "      dtype='object')"
      ]
     },
     "execution_count": 61,
     "metadata": {},
     "output_type": "execute_result"
    }
   ],
   "source": [
    "df.columns"
   ]
  },
  {
   "cell_type": "code",
   "execution_count": 62,
   "metadata": {},
   "outputs": [],
   "source": [
    "with open('data/preprocessed_resume.csv', mode='w', encoding='utf-8') as f_csv:\n",
    "    df.to_csv(f_csv)"
   ]
  },
  {
   "cell_type": "markdown",
   "metadata": {},
   "source": [
    "## Имеем фичи:\n",
    "\n",
    "1. `age` - Возраст - **нужно нормализовать**\n",
    "2. `auto` - Наличие прав\n",
    "3. `experience_length` - Продолжительность опыта работы - **нужно нормализовать**\n",
    "4. `gender` - Пол\n",
    "5. `salary`  - Зарплата\n",
    "6. `rus_citizenship` - Наличие российского гражданства\n",
    "7. `city_msk` - Живет в Москве\n",
    "8. `city_spb` - Живет в Санкт-Петербурге\n",
    "9. `city_other` - Живет не в Москве и не в Санкт-Петербурге\n",
    "10. `education_degree` - Уровень образования\n",
    "11. `full_employment` - Готовность работать на полную ставку\n",
    "12. `english_level` - Уровень владения английским\n",
    "13. `fullfillment` - Заполненность пунктов, содержащих ключевые навыки - **нужно нормализовать**\n",
    "14. `text` - Текст, содержащий ключевые навыки - **нужно вычленить ключевые навыки**"
   ]
  },
  {
   "cell_type": "code",
   "execution_count": 63,
   "metadata": {},
   "outputs": [],
   "source": [
    "from sklearn.feature_extraction.text import TfidfVectorizer\n",
    "vectorizer = TfidfVectorizer()"
   ]
  },
  {
   "cell_type": "code",
   "execution_count": 64,
   "metadata": {},
   "outputs": [],
   "source": [
    "import matplotlib.pyplot as plt\n",
    "\n",
    "%matplotlib inline\n",
    "\n",
    "#plt.style.use('ggplot')\n",
    "plt.rcParams['figure.figsize'] = (10, 5)"
   ]
  },
  {
   "cell_type": "code",
   "execution_count": 93,
   "metadata": {},
   "outputs": [
    {
     "data": {
      "text/plain": [
       "(2039, 35442)"
      ]
     },
     "execution_count": 93,
     "metadata": {},
     "output_type": "execute_result"
    }
   ],
   "source": [
    "bag = vectorizer.fit_transform(df.text)\n",
    "bag = bag.toarray()\n",
    "bag.shape"
   ]
  },
  {
   "cell_type": "code",
   "execution_count": 94,
   "metadata": {},
   "outputs": [
    {
     "data": {
      "text/plain": [
       "(2039, 12)"
      ]
     },
     "execution_count": 94,
     "metadata": {},
     "output_type": "execute_result"
    }
   ],
   "source": [
    "x = df.drop(['salary', 'text'], axis=1).values.copy()\n",
    "x.shape"
   ]
  },
  {
   "cell_type": "code",
   "execution_count": 96,
   "metadata": {},
   "outputs": [
    {
     "data": {
      "text/plain": [
       "(2039, 35454)"
      ]
     },
     "execution_count": 96,
     "metadata": {},
     "output_type": "execute_result"
    }
   ],
   "source": [
    "X = np.concatenate((x, bag), 1)\n",
    "X.shape"
   ]
  },
  {
   "cell_type": "code",
   "execution_count": 69,
   "metadata": {},
   "outputs": [
    {
     "data": {
      "text/plain": [
       "AgglomerativeClustering(affinity='euclidean', compute_full_tree='auto',\n",
       "            connectivity=None, linkage='ward', memory=None, n_clusters=2,\n",
       "            pooling_func=<function mean at 0x7f1caad719d8>)"
      ]
     },
     "execution_count": 69,
     "metadata": {},
     "output_type": "execute_result"
    }
   ],
   "source": [
    "from sklearn.cluster import AgglomerativeClustering\n",
    "clust = AgglomerativeClustering()\n",
    "clust"
   ]
  },
  {
   "cell_type": "code",
   "execution_count": 147,
   "metadata": {},
   "outputs": [
    {
     "data": {
      "text/plain": [
       "RandomForestRegressor(bootstrap=True, criterion='mse', max_depth=15,\n",
       "           max_features=3000, max_leaf_nodes=None,\n",
       "           min_impurity_decrease=0.0, min_impurity_split=None,\n",
       "           min_samples_leaf=10, min_samples_split=2,\n",
       "           min_weight_fraction_leaf=0.0, n_estimators=1000, n_jobs=1,\n",
       "           oob_score=False, random_state=None, verbose=0, warm_start=False)"
      ]
     },
     "execution_count": 147,
     "metadata": {},
     "output_type": "execute_result"
    }
   ],
   "source": [
    "from sklearn.ensemble import RandomForestRegressor\n",
    "regressor = RandomForestRegressor(min_samples_leaf=10, max_features=3000, n_estimators=1000, max_depth=15)\n",
    "regressor"
   ]
  },
  {
   "cell_type": "code",
   "execution_count": 148,
   "metadata": {},
   "outputs": [
    {
     "data": {
      "text/plain": [
       "RandomForestRegressor(bootstrap=True, criterion='mse', max_depth=15,\n",
       "           max_features=3000, max_leaf_nodes=None,\n",
       "           min_impurity_decrease=0.0, min_impurity_split=None,\n",
       "           min_samples_leaf=10, min_samples_split=2,\n",
       "           min_weight_fraction_leaf=0.0, n_estimators=1000, n_jobs=1,\n",
       "           oob_score=False, random_state=None, verbose=0, warm_start=False)"
      ]
     },
     "execution_count": 148,
     "metadata": {},
     "output_type": "execute_result"
    }
   ],
   "source": [
    "regressor.fit(X, y)"
   ]
  },
  {
   "cell_type": "code",
   "execution_count": 149,
   "metadata": {},
   "outputs": [
    {
     "data": {
      "text/plain": [
       "0.6435394815678035"
      ]
     },
     "execution_count": 149,
     "metadata": {},
     "output_type": "execute_result"
    }
   ],
   "source": [
    "regressor.score(X, y)"
   ]
  },
  {
   "cell_type": "code",
   "execution_count": 150,
   "metadata": {},
   "outputs": [
    {
     "data": {
      "text/plain": [
       "64689.271701814614"
      ]
     },
     "execution_count": 150,
     "metadata": {},
     "output_type": "execute_result"
    }
   ],
   "source": [
    "y_pr = regressor.predict(X).reshape(-1, 1)\n",
    "y.mean()"
   ]
  },
  {
   "cell_type": "code",
   "execution_count": 151,
   "metadata": {},
   "outputs": [
    {
     "data": {
      "text/plain": [
       "array([[ 49818.08217377,  50000.        ],\n",
       "       [ 82487.69706581,  50000.        ],\n",
       "       [ 67327.2055106 ,  60000.        ],\n",
       "       [ 78795.10535364, 110000.        ],\n",
       "       [ 49039.11609193,  30000.        ],\n",
       "       [138019.92198133, 150000.        ],\n",
       "       [123648.04283151, 150000.        ],\n",
       "       [ 47181.31726801,  40000.        ],\n",
       "       [ 49180.44148381,  45000.        ],\n",
       "       [ 53214.75237556,  80000.        ]])"
      ]
     },
     "execution_count": 151,
     "metadata": {},
     "output_type": "execute_result"
    }
   ],
   "source": [
    "np.concatenate((y_pr, y.reshape(-1, 1)), axis=1)[-10:]"
   ]
  },
  {
   "cell_type": "code",
   "execution_count": 157,
   "metadata": {},
   "outputs": [
    {
     "data": {
      "text/plain": [
       "array([[0.0099345 ],\n",
       "       [0.00125321],\n",
       "       [0.03689939],\n",
       "       ...,\n",
       "       [0.        ],\n",
       "       [0.        ],\n",
       "       [0.        ]])"
      ]
     },
     "execution_count": 157,
     "metadata": {},
     "output_type": "execute_result"
    }
   ],
   "source": [
    "regressor.feature_importances_.reshape(-1, 1)"
   ]
  },
  {
   "cell_type": "code",
   "execution_count": 162,
   "metadata": {},
   "outputs": [
    {
     "data": {
      "text/plain": [
       "0.5385315445223124"
      ]
     },
     "execution_count": 162,
     "metadata": {},
     "output_type": "execute_result"
    }
   ],
   "source": [
    "X_notxt = df.drop(['salary', 'text'], axis=1).values.copy()\n",
    "regressor2 = RandomForestRegressor(min_samples_leaf=10, max_features=None, n_estimators=1000, max_depth=30)\n",
    "regressor2.fit(X_notxt, y)\n",
    "regressor2.score(X_notxt, y)"
   ]
  },
  {
   "cell_type": "code",
   "execution_count": null,
   "metadata": {},
   "outputs": [],
   "source": []
  }
 ],
 "metadata": {
  "kernelspec": {
   "display_name": "Python 3",
   "language": "python",
   "name": "python3"
  },
  "language_info": {
   "codemirror_mode": {
    "name": "ipython",
    "version": 3
   },
   "file_extension": ".py",
   "mimetype": "text/x-python",
   "name": "python",
   "nbconvert_exporter": "python",
   "pygments_lexer": "ipython3",
   "version": "3.7.0"
  }
 },
 "nbformat": 4,
 "nbformat_minor": 2
}
