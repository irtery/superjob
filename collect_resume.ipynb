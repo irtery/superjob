{
 "cells": [
  {
   "cell_type": "code",
   "execution_count": 24,
   "metadata": {},
   "outputs": [],
   "source": [
    "import requests\n",
    "import re\n",
    "import string\n",
    "import pandas as pd\n",
    "import numpy as np\n",
    "from bs4 import BeautifulSoup"
   ]
  },
  {
   "cell_type": "markdown",
   "metadata": {},
   "source": [
    "### Резюме"
   ]
  },
  {
   "cell_type": "markdown",
   "metadata": {},
   "source": [
    "Ищем ссылки на резюме с ключевым запросом IT, геолокацией -- Россия (по умолчанию отдается Москва), с поиском ключевого запроса (фильтры) 'по всем словам', 'в тексте резюме', пока не начали постоянно отдаваться дубликаты, ограничения на номер страниц в резюме superjob нет"
   ]
  },
  {
   "cell_type": "code",
   "execution_count": 53,
   "metadata": {},
   "outputs": [
    {
     "name": "stdout",
     "output_type": "stream",
     "text": [
      "page: 10 collected: 300\n",
      "page: 20 collected: 600\n",
      "page: 30 collected: 900\n",
      "page: 40 collected: 1200\n",
      "page: 50 collected: 1500\n",
      "page: 60 collected: 1800\n",
      "page: 70 collected: 2100\n",
      "page: 80 collected: 2400\n",
      "page: 90 collected: 2700\n",
      "page: 100 collected: 3000\n",
      "page: 110 collected: 3300\n",
      "page: 120 collected: 3600\n",
      "page: 130 collected: 3900\n",
      "page: 140 collected: 4200\n",
      "page: 150 collected: 4500\n",
      "page: 160 collected: 4800\n",
      "page: 170 collected: 5000\n",
      "page: 180 collected: 5000\n",
      "page_count: 188\n"
     ]
    }
   ],
   "source": [
    "main_url = \"https://www.superjob.ru\"\n",
    "search_url = main_url + \"/resume/search_resume.html\"\n",
    "\n",
    "resume_urls = np.array([])\n",
    "all_dublicates_count = 0\n",
    "i = 1\n",
    "while all_dublicates_count < 20:\n",
    "    url_params = {\n",
    "        'c[0]': '1', # это геолокация == Россия\n",
    "        'keywords[0][keys]': 'IT',\n",
    "        'keywords[0][skwc]': 'and',\n",
    "        'keywords[0][srws]': '7',\n",
    "        'page': i\n",
    "    }\n",
    "    resume_html = requests.get(search_url, params=url_params).text\n",
    "    soup = BeautifulSoup(resume_html, 'html.parser')\n",
    "    resume_div = soup.find('div', class_='_1Ttd8 sESpW')\n",
    "    resume_div = resume_div.find_all('div', class_='_3VcZr')[1]\n",
    "    resume_divs = resume_div.find_all('div', class_='_1ruK8')\n",
    "    resume_links = resume_div.find_all('a', class_='icMQ_ f-test-link- _3dPok')\n",
    "    urls = list(map(lambda link: main_url + link.attrs['href'], resume_links))\n",
    "    urls = np.array(urls)\n",
    "    diff = np.unique(np.append(resume_urls, urls)).shape[0] - resume_urls.shape[0] \n",
    "    if diff == 0:\n",
    "        all_dublicates_count += 1\n",
    "    resume_urls = np.unique(np.append(resume_urls, urls))\n",
    "    if (i % 10) == 0:\n",
    "        print(\"page:\", i, \"collected:\", resume_urls.shape[0])\n",
    "    i += 1\n",
    "print(\"page_count:\", i)"
   ]
  },
  {
   "cell_type": "code",
   "execution_count": 52,
   "metadata": {},
   "outputs": [
    {
     "name": "stdout",
     "output_type": "stream",
     "text": [
      "5000\n"
     ]
    },
    {
     "data": {
      "text/plain": [
       "array(['https://www.superjob.ru/resume/3d-modeller-43623349.html',\n",
       "       'https://www.superjob.ru/resume/administrator-26936498.html',\n",
       "       'https://www.superjob.ru/resume/administrator-2832565.html',\n",
       "       'https://www.superjob.ru/resume/administrator-35752711.html',\n",
       "       'https://www.superjob.ru/resume/administrator-37440177.html',\n",
       "       'https://www.superjob.ru/resume/administrator-42151588.html',\n",
       "       'https://www.superjob.ru/resume/administrator-43041335.html',\n",
       "       'https://www.superjob.ru/resume/administrator-43894667.html',\n",
       "       'https://www.superjob.ru/resume/administrator-baz-dannyh-9452765.html',\n",
       "       'https://www.superjob.ru/resume/administrator-it-proekta-44001872.html'],\n",
       "      dtype='<U117')"
      ]
     },
     "execution_count": 52,
     "metadata": {},
     "output_type": "execute_result"
    }
   ],
   "source": [
    "print(len(resume_urls))\n",
    "resume_urls[:10]"
   ]
  },
  {
   "cell_type": "code",
   "execution_count": null,
   "metadata": {},
   "outputs": [],
   "source": [
    "# df = pd.DataFrame(result)\n",
    "# print(df.shape)\n",
    "# df.head()"
   ]
  },
  {
   "cell_type": "code",
   "execution_count": null,
   "metadata": {},
   "outputs": [],
   "source": [
    "# with open('data/resume.csv', mode='w', encoding='utf-8') as f_csv:\n",
    "#     df.to_csv(f_csv)"
   ]
  }
 ],
 "metadata": {
  "kernelspec": {
   "display_name": "Python 3",
   "language": "python",
   "name": "python3"
  },
  "language_info": {
   "codemirror_mode": {
    "name": "ipython",
    "version": 3
   },
   "file_extension": ".py",
   "mimetype": "text/x-python",
   "name": "python",
   "nbconvert_exporter": "python",
   "pygments_lexer": "ipython3",
   "version": "3.7.0"
  }
 },
 "nbformat": 4,
 "nbformat_minor": 2
}
