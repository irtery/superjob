{
 "cells": [
  {
   "cell_type": "code",
   "execution_count": 1,
   "metadata": {},
   "outputs": [],
   "source": [
    "import pandas as pd\n",
    "import numpy as np\n",
    "import sklearn as sk\n",
    "import json as js"
   ]
  },
  {
   "cell_type": "code",
   "execution_count": 2,
   "metadata": {},
   "outputs": [],
   "source": [
    "df = pd.read_csv('data/resume.csv')"
   ]
  },
  {
   "cell_type": "code",
   "execution_count": 3,
   "metadata": {},
   "outputs": [
    {
     "data": {
      "text/plain": [
       "(2369, 20)"
      ]
     },
     "execution_count": 3,
     "metadata": {},
     "output_type": "execute_result"
    }
   ],
   "source": [
    "df.shape"
   ]
  },
  {
   "cell_type": "code",
   "execution_count": 4,
   "metadata": {},
   "outputs": [
    {
     "data": {
      "text/plain": [
       "(2369,)"
      ]
     },
     "execution_count": 4,
     "metadata": {},
     "output_type": "execute_result"
    }
   ],
   "source": [
    "df.duplicated().shape"
   ]
  },
  {
   "cell_type": "code",
   "execution_count": 5,
   "metadata": {},
   "outputs": [
    {
     "data": {
      "text/html": [
       "<div>\n",
       "<style scoped>\n",
       "    .dataframe tbody tr th:only-of-type {\n",
       "        vertical-align: middle;\n",
       "    }\n",
       "\n",
       "    .dataframe tbody tr th {\n",
       "        vertical-align: top;\n",
       "    }\n",
       "\n",
       "    .dataframe thead th {\n",
       "        text-align: right;\n",
       "    }\n",
       "</style>\n",
       "<table border=\"1\" class=\"dataframe\">\n",
       "  <thead>\n",
       "    <tr style=\"text-align: right;\">\n",
       "      <th></th>\n",
       "      <th>Unnamed: 0</th>\n",
       "      <th>age</th>\n",
       "      <th>auto</th>\n",
       "      <th>business_trips</th>\n",
       "      <th>categories</th>\n",
       "      <th>citizenship</th>\n",
       "      <th>city</th>\n",
       "      <th>education</th>\n",
       "      <th>employment</th>\n",
       "      <th>experience</th>\n",
       "      <th>experience_length</th>\n",
       "      <th>family</th>\n",
       "      <th>gender</th>\n",
       "      <th>languages</th>\n",
       "      <th>metro_or_moving</th>\n",
       "      <th>name</th>\n",
       "      <th>photo_url</th>\n",
       "      <th>salary</th>\n",
       "      <th>skills</th>\n",
       "      <th>url</th>\n",
       "    </tr>\n",
       "  </thead>\n",
       "  <tbody>\n",
       "    <tr>\n",
       "      <th>0</th>\n",
       "      <td>0</td>\n",
       "      <td>20</td>\n",
       "      <td>NaN</td>\n",
       "      <td>не готов к командировкам</td>\n",
       "      <td>Архитектура</td>\n",
       "      <td>Россия</td>\n",
       "      <td>Ковров</td>\n",
       "      <td>[{'kind': 'Неполное высшее образование', 'form...</td>\n",
       "      <td>неполный рабочий день</td>\n",
       "      <td>[{'period': 'сентябрь 2017 – март 2018', 'leng...</td>\n",
       "      <td>7 месяцев</td>\n",
       "      <td>NaN</td>\n",
       "      <td>f</td>\n",
       "      <td>['Немецкий язык, Базовый']</td>\n",
       "      <td>NaN</td>\n",
       "      <td>3D-моделлер, IT стажёр, консультант</td>\n",
       "      <td>NaN</td>\n",
       "      <td>30 000₽</td>\n",
       "      <td>NaN</td>\n",
       "      <td>https://www.superjob.ru/resume/3d-modeller-436...</td>\n",
       "    </tr>\n",
       "  </tbody>\n",
       "</table>\n",
       "</div>"
      ],
      "text/plain": [
       "   Unnamed: 0  age auto            business_trips   categories citizenship  \\\n",
       "0           0   20  NaN  не готов к командировкам  Архитектура      Россия   \n",
       "\n",
       "     city                                          education  \\\n",
       "0  Ковров  [{'kind': 'Неполное высшее образование', 'form...   \n",
       "\n",
       "              employment                                         experience  \\\n",
       "0  неполный рабочий день  [{'period': 'сентябрь 2017 – март 2018', 'leng...   \n",
       "\n",
       "  experience_length family gender                   languages metro_or_moving  \\\n",
       "0         7 месяцев    NaN      f  ['Немецкий язык, Базовый']             NaN   \n",
       "\n",
       "                                  name photo_url   salary skills  \\\n",
       "0  3D-моделлер, IT стажёр, консультант       NaN  30 000₽    NaN   \n",
       "\n",
       "                                                 url  \n",
       "0  https://www.superjob.ru/resume/3d-modeller-436...  "
      ]
     },
     "execution_count": 5,
     "metadata": {},
     "output_type": "execute_result"
    }
   ],
   "source": [
    "df.head(1)"
   ]
  },
  {
   "cell_type": "code",
   "execution_count": 6,
   "metadata": {},
   "outputs": [
    {
     "data": {
      "text/plain": [
       "Index(['Unnamed: 0', 'age', 'auto', 'business_trips', 'categories',\n",
       "       'citizenship', 'city', 'education', 'employment', 'experience',\n",
       "       'experience_length', 'family', 'gender', 'languages', 'metro_or_moving',\n",
       "       'name', 'photo_url', 'salary', 'skills', 'url'],\n",
       "      dtype='object')"
      ]
     },
     "execution_count": 6,
     "metadata": {},
     "output_type": "execute_result"
    }
   ],
   "source": [
    "df.columns"
   ]
  },
  {
   "cell_type": "code",
   "execution_count": 7,
   "metadata": {},
   "outputs": [],
   "source": [
    "df = df.drop('Unnamed: 0', axis=1)"
   ]
  },
  {
   "cell_type": "code",
   "execution_count": 8,
   "metadata": {},
   "outputs": [
    {
     "data": {
      "text/plain": [
       "['B — легковые авто']                                                                                 1171\n",
       "NaN                                                                                                    808\n",
       "['B — легковые авто', 'C — грузовые авто']                                                             220\n",
       "['A — мотоциклы', 'B — легковые авто']                                                                  74\n",
       "['A — мотоциклы', 'B — легковые авто', 'C — грузовые авто']                                             52\n",
       "['B — легковые авто', 'C — грузовые авто', 'D — автобусы']                                              11\n",
       "['C — грузовые авто']                                                                                   11\n",
       "['B — легковые авто', 'C — грузовые авто', 'D — автобусы', 'E — авто с прицепом']                        7\n",
       "['B — легковые авто', 'D — автобусы']                                                                    5\n",
       "['A — мотоциклы', 'B — легковые авто', 'C — грузовые авто', 'D — автобусы']                              3\n",
       "['A — мотоциклы', 'B — легковые авто', 'C — грузовые авто', 'D — автобусы', 'E — авто с прицепом']       2\n",
       "['A — мотоциклы']                                                                                        2\n",
       "['B — легковые авто', 'C — грузовые авто', 'E — авто с прицепом']                                        2\n",
       "['A — мотоциклы', 'C — грузовые авто']                                                                   1\n",
       "Name: auto, dtype: int64"
      ]
     },
     "execution_count": 8,
     "metadata": {},
     "output_type": "execute_result"
    }
   ],
   "source": [
    "df.auto.value_counts(dropna=False)"
   ]
  },
  {
   "cell_type": "code",
   "execution_count": 9,
   "metadata": {},
   "outputs": [],
   "source": [
    "df.auto=df.auto.fillna(\"['Нет прав']\")"
   ]
  },
  {
   "cell_type": "markdown",
   "metadata": {},
   "source": [
    "## Замена - не выкидываем"
   ]
  },
  {
   "cell_type": "code",
   "execution_count": 10,
   "metadata": {},
   "outputs": [
    {
     "data": {
      "text/plain": [
       "NaN                         1373\n",
       "не готов к командировкам     968\n",
       "на дому                       28\n",
       "Name: business_trips, dtype: int64"
      ]
     },
     "execution_count": 10,
     "metadata": {},
     "output_type": "execute_result"
    }
   ],
   "source": [
    "df.business_trips.value_counts(dropna=False)"
   ]
  },
  {
   "cell_type": "code",
   "execution_count": 11,
   "metadata": {},
   "outputs": [
    {
     "data": {
      "text/plain": [
       "'https://www.superjob.ru/resume/administrator-26936498.html'"
      ]
     },
     "execution_count": 11,
     "metadata": {},
     "output_type": "execute_result"
    }
   ],
   "source": [
    "df.url.iloc[1]"
   ]
  },
  {
   "cell_type": "markdown",
   "metadata": {},
   "source": [
    "## Замена, ничего не понятно, почему либо не готов, либо на дому, где вариант готов?"
   ]
  },
  {
   "cell_type": "code",
   "execution_count": 12,
   "metadata": {},
   "outputs": [],
   "source": [
    "#df = df.drop('business_trips', axis=1)"
   ]
  },
  {
   "cell_type": "code",
   "execution_count": 13,
   "metadata": {},
   "outputs": [
    {
     "data": {
      "text/plain": [
       "Системное администрирование                      552\n",
       "NaN                                              467\n",
       "Техническая поддержка                            358\n",
       "IT, Интернет, связь, телеком                     238\n",
       "Инжиниринг                                       184\n",
       "Администрирование баз данных                      80\n",
       "Административная работа, секретариат, АХО         64\n",
       "Сетевые технологии                                49\n",
       "Разработка, программирование                      41\n",
       "Передача данных и доступ в интернет               38\n",
       "Управление проектами                              34\n",
       "Аналитика                                         31\n",
       "Интернет, создание и поддержка сайтов             23\n",
       "Другое                                            18\n",
       "Электронный документооборот                       15\n",
       "Внедрение и сопровождение ПО                      12\n",
       "Делопроизводство, ввод данных, систематизация     11\n",
       "Компьютеры, оргтехника, ПО                         9\n",
       "Web-верстка                                        8\n",
       "Системная интеграция                               8\n",
       "Call Center                                        8\n",
       "Телекоммуникации и связь                           7\n",
       "Диспетчерская служба                               6\n",
       "Контент                                            6\n",
       "Оптимизация, SEO                                   6\n",
       "Косметика, бытовая химия                           6\n",
       "Высшее образование                                 5\n",
       "Строительно-монтажные и отделочные работы          5\n",
       "Игровое ПО / Геймдевелопмент                       4\n",
       "Имущественная безопасность                         3\n",
       "                                                ... \n",
       "Услуги для бизнеса                                 1\n",
       "Продажи                                            1\n",
       "Консалтинг, стратегическое развитие                1\n",
       "Секретариат, ресепшн, офис-менеджмент              1\n",
       "Стратегический консалтинг                          1\n",
       "Начало карьеры, мало опыта                         1\n",
       "Алкоголь, напитки                                  1\n",
       "Складское хозяйство                                1\n",
       "Приборостроение                                    1\n",
       "Машиностроение, станкостроение                     1\n",
       "Видеонаблюдение                                    1\n",
       "Бренд-менеджмент, продакт-менеджмент               1\n",
       "ВЭД                                                1\n",
       "Бытовая техника, электроника, фото, видео          1\n",
       "Переводы                                           1\n",
       "Слаботочные системы и сети                         1\n",
       "Музыка, пение                                      1\n",
       "Защита информации                                  1\n",
       "Кассовые операции                                  1\n",
       "Компьютерная анимация и мультимедиа                1\n",
       "Архитектура                                        1\n",
       "Web, UI, UX дизайн                                 1\n",
       "Закупки, снабжение                                 1\n",
       "Экономический анализ                               1\n",
       "Рекрутмент, подбор персонала                       1\n",
       "IT-консалтинг                                      1\n",
       "ЖКХ                                                1\n",
       "Эксплуатация зданий                                1\n",
       "Контроль качества, сертификация, экспертиза        1\n",
       "Дизайн интерьера                                   1\n",
       "Name: categories, Length: 82, dtype: int64"
      ]
     },
     "execution_count": 13,
     "metadata": {},
     "output_type": "execute_result"
    }
   ],
   "source": [
    "df.categories.value_counts(dropna=False)"
   ]
  },
  {
   "cell_type": "code",
   "execution_count": 14,
   "metadata": {},
   "outputs": [],
   "source": [
    "df.categories=df.categories.fillna('Не указано')"
   ]
  },
  {
   "cell_type": "markdown",
   "metadata": {},
   "source": [
    "Выкинуть незаполненные (20 % данных) или весь признак? Неясно\n",
    "## Выкинуть всегда успеем, преобразовал в отдельную категорию."
   ]
  },
  {
   "cell_type": "markdown",
   "metadata": {},
   "source": [
    "Так как категории заполнялись сайтом автоматически, эту информацию можно извлечь из других полей (name), удаляем.\n",
    "## Хотя может ты и прав, короче потом подумаем."
   ]
  },
  {
   "cell_type": "code",
   "execution_count": 15,
   "metadata": {},
   "outputs": [],
   "source": [
    "#df.cit"
   ]
  },
  {
   "cell_type": "code",
   "execution_count": 16,
   "metadata": {},
   "outputs": [
    {
     "data": {
      "text/plain": [
       "Россия               1615\n",
       "NaN                   727\n",
       "Украина                 8\n",
       "Казахстан               7\n",
       "Кыргызстан              3\n",
       "Азербайджан             3\n",
       "Беларусь                2\n",
       "Молдова                 1\n",
       "Дальнее зарубежье       1\n",
       "Литва                   1\n",
       "Таджикистан             1\n",
       "Name: citizenship, dtype: int64"
      ]
     },
     "execution_count": 16,
     "metadata": {},
     "output_type": "execute_result"
    }
   ],
   "source": [
    "df.citizenship.value_counts(dropna=False)"
   ]
  },
  {
   "cell_type": "markdown",
   "metadata": {},
   "source": [
    "## Заменим"
   ]
  },
  {
   "cell_type": "markdown",
   "metadata": {},
   "source": [
    "Считаем, что гражданство не влияет на уровень зп."
   ]
  },
  {
   "cell_type": "code",
   "execution_count": 17,
   "metadata": {},
   "outputs": [],
   "source": [
    "df.citizenship=df.citizenship.fillna('Да вообще плевать')"
   ]
  },
  {
   "cell_type": "code",
   "execution_count": 18,
   "metadata": {},
   "outputs": [
    {
     "data": {
      "text/plain": [
       "(2369, 20)"
      ]
     },
     "execution_count": 18,
     "metadata": {},
     "output_type": "execute_result"
    }
   ],
   "source": [
    "ctgr = pd.get_dummies(df.citizenship)\n",
    "cit = ctgr['Россия']\n",
    "ctgr = ctgr.drop(['Россия'], axis=1)\n",
    "city_oth = np.sum(ctgr.values, axis=1)\n",
    "df['is_cit_p'] = cit\n",
    "df['isn_t_cit_p'] = city_oth\n",
    "df = df.drop(['citizenship'], axis=1)\n",
    "df.shape"
   ]
  },
  {
   "cell_type": "code",
   "execution_count": 19,
   "metadata": {},
   "outputs": [
    {
     "data": {
      "text/plain": [
       "Москва                               720\n",
       "Санкт-Петербург                      293\n",
       "Хабаровск                             64\n",
       "Уфа                                   55\n",
       "Иркутск                               51\n",
       "Ростов-на-Дону                        48\n",
       "Краснодар                             33\n",
       "Самара                                32\n",
       "Казань                                27\n",
       "Саратов                               27\n",
       "Рязань                                26\n",
       "Нижний Новгород                       24\n",
       "Пенза                                 23\n",
       "Ульяновск                             23\n",
       "Волгоград                             22\n",
       "Воронеж                               20\n",
       "Оренбург                              19\n",
       "Тверь                                 17\n",
       "Сыктывкар                             17\n",
       "Челябинск                             16\n",
       "Владимир                              16\n",
       "Смоленск                              16\n",
       "Екатеринбург                          16\n",
       "Астрахань                             15\n",
       "Тюмень                                15\n",
       "Тольятти                              15\n",
       "Новосибирск                           14\n",
       "Красноярск                            14\n",
       "Курск                                 14\n",
       "Иваново                               13\n",
       "                                    ... \n",
       "Барда (Пермский край)                  1\n",
       "Дзержинский                            1\n",
       "Таштагол                               1\n",
       "Московский                             1\n",
       "Свердловский                           1\n",
       "Коммунарка                             1\n",
       "Александров                            1\n",
       "Севастополь                            1\n",
       "Урюпинск                               1\n",
       "Отрадный                               1\n",
       "Инта                                   1\n",
       "Кызыл                                  1\n",
       "Апрелевка                              1\n",
       "Чапаевск                               1\n",
       "Бийск                                  1\n",
       "Новоаннинский                          1\n",
       "Голицыно                               1\n",
       "Тосно                                  1\n",
       "Дзержинск (Нижегородская область)      1\n",
       "Тейково                                1\n",
       "Новотитаровская                        1\n",
       "Кудрово                                1\n",
       "Брюховецкая                            1\n",
       "Апатиты                                1\n",
       "Конаково                               1\n",
       "Мишкино (Республика Башкортостан)      1\n",
       "Благовещенск (Башкортостан)            1\n",
       "Гурзуф                                 1\n",
       "Ступино                                1\n",
       "Абакан                                 1\n",
       "Name: city, Length: 263, dtype: int64"
      ]
     },
     "execution_count": 19,
     "metadata": {},
     "output_type": "execute_result"
    }
   ],
   "source": [
    "df.city.value_counts(dropna=False)"
   ]
  },
  {
   "cell_type": "markdown",
   "metadata": {},
   "source": [
    "Обучать модель для регионов отдельно не хочется, будет слишком мало объектов. Предложение: выделить категории в зависимости от уровня зарплат по региону. Для начала 3: Мск, Спб, остальные."
   ]
  },
  {
   "cell_type": "code",
   "execution_count": 20,
   "metadata": {},
   "outputs": [
    {
     "data": {
      "text/plain": [
       "(2369, 22)"
      ]
     },
     "execution_count": 20,
     "metadata": {},
     "output_type": "execute_result"
    }
   ],
   "source": [
    "ctgr = pd.get_dummies(df.city)\n",
    "city_Msk = ctgr['Москва']\n",
    "city_Spb = ctgr['Санкт-Петербург']\n",
    "ctgr = ctgr.drop(['Москва', 'Санкт-Петербург'], axis=1)\n",
    "city_oth = np.sum(ctgr.values, axis=1)\n",
    "df['city_Msk'] = city_Msk\n",
    "df['city_Spb'] = city_Spb\n",
    "df['city_oth'] = city_oth\n",
    "df = df.drop(['city'], axis=1)\n",
    "df.shape"
   ]
  },
  {
   "cell_type": "code",
   "execution_count": 21,
   "metadata": {},
   "outputs": [
    {
     "data": {
      "text/plain": [
       "полная занятость           1180\n",
       "NaN                        1107\n",
       "неполный рабочий день        33\n",
       "сменный график работы        25\n",
       "частичная занятость          13\n",
       "работа вахтовым методом      11\n",
       "Name: employment, dtype: int64"
      ]
     },
     "execution_count": 21,
     "metadata": {},
     "output_type": "execute_result"
    }
   ],
   "source": [
    "df.employment.value_counts(dropna=False)"
   ]
  },
  {
   "cell_type": "code",
   "execution_count": 22,
   "metadata": {},
   "outputs": [
    {
     "data": {
      "text/plain": [
       "(2369, 23)"
      ]
     },
     "execution_count": 22,
     "metadata": {},
     "output_type": "execute_result"
    }
   ],
   "source": [
    "ctgr = pd.get_dummies(df.employment)\n",
    "full_empl = ctgr['полная занятость'] | ctgr['сменный график работы']\n",
    "not_full = ctgr.drop(['полная занятость', 'сменный график работы'], axis=1)\n",
    "nf = np.sum(not_full.values, axis=1)\n",
    "df['ready_for_full']=full_empl\n",
    "df['not_ready_for_full']=nf\n",
    "df=df.drop(['employment'], axis=1)\n",
    "df.shape"
   ]
  },
  {
   "cell_type": "markdown",
   "metadata": {},
   "source": [
    "Много NaN, выкидываем.\n",
    "## Очень важная же инфа"
   ]
  },
  {
   "cell_type": "code",
   "execution_count": 25,
   "metadata": {},
   "outputs": [
    {
     "data": {
      "text/plain": [
       "cостоит в браке, есть дети       804\n",
       "NaN                              687\n",
       "не состоит в браке, детей нет    528\n",
       "cостоит в браке, детей нет       168\n",
       "не состоит в браке, есть дети    111\n",
       "cостоит в браке                   37\n",
       "не состоит в браке                29\n",
       "есть дети                          3\n",
       "детей нет                          2\n",
       "Name: family, dtype: int64"
      ]
     },
     "execution_count": 25,
     "metadata": {},
     "output_type": "execute_result"
    }
   ],
   "source": [
    "df.family.value_counts(dropna=False)"
   ]
  },
  {
   "cell_type": "code",
   "execution_count": 26,
   "metadata": {},
   "outputs": [],
   "source": [
    "df = df.drop('family', axis=1)"
   ]
  },
  {
   "cell_type": "code",
   "execution_count": 27,
   "metadata": {},
   "outputs": [],
   "source": [
    "gender = pd.get_dummies(df.gender)\n",
    "gender.f\n",
    "df['gender'] = gender.f"
   ]
  },
  {
   "cell_type": "markdown",
   "metadata": {},
   "source": [
    "Как вариант можно считать, что если иностранные языки не указаны, то человек ими не владеет. Логика в этом есть!!!"
   ]
  },
  {
   "cell_type": "code",
   "execution_count": 28,
   "metadata": {},
   "outputs": [
    {
     "data": {
      "text/plain": [
       "['Английский язык, Технический']                                                                                      832\n",
       "NaN                                                                                                                   547\n",
       "['Английский язык, Базовый']                                                                                          463\n",
       "['Английский язык, Разговорный']                                                                                      164\n",
       "['Английский язык, Технический', 'Немецкий язык, Базовый']                                                             47\n",
       "['Английский язык, Базовый', 'Немецкий язык, Базовый']                                                                 42\n",
       "['Английский язык, Cвободное владение']                                                                                40\n",
       "['Английский язык, Технический', 'Русский язык, Cвободное владение']                                                   16\n",
       "['Английский язык, Технический', 'Немецкий язык, Технический']                                                         16\n",
       "['Немецкий язык, Базовый']                                                                                             11\n",
       "['Английский язык, Разговорный', 'Немецкий язык, Базовый']                                                             11\n",
       "['Английский язык, Технический', 'Французский язык, Базовый']                                                          10\n",
       "['Английский язык, Базовый', 'Русский язык, Cвободное владение']                                                       10\n",
       "['Английский язык, Разговорный', 'Русский язык, Cвободное владение']                                                    8\n",
       "['Английский язык, Технический', 'Испанский язык, Базовый']                                                             8\n",
       "['Английский язык, Разговорный', 'Французский язык, Базовый']                                                           7\n",
       "['Английский язык, Cвободное владение', 'Немецкий язык, Базовый']                                                       6\n",
       "['Английский язык, Технический', 'Немецкий язык, Базовый', 'Русский язык, Cвободное владение']                          6\n",
       "['Английский язык, Технический', 'Немецкий язык, Разговорный']                                                          5\n",
       "['Английский язык, Технический', 'Французский язык, Разговорный']                                                       5\n",
       "['Английский язык, Базовый', 'Французский язык, Базовый']                                                               4\n",
       "['Английский язык, Технический', 'Украинский язык, Разговорный']                                                        4\n",
       "['Английский язык, Разговорный', 'Немецкий язык, Технический']                                                          4\n",
       "['Английский язык, Базовый', 'Немецкий язык, Базовый', 'Русский язык, Cвободное владение']                              3\n",
       "['Английский язык, Cвободное владение', 'Немецкий язык, Cвободное владение']                                            3\n",
       "['Английский язык, Технический', 'Украинский язык, Cвободное владение']                                                 3\n",
       "['Английский язык, Технический', 'Казахский язык, Разговорный', 'Русский язык, Cвободное владение']                     3\n",
       "['Английский язык, Технический', 'Французский язык, Технический']                                                       2\n",
       "['Французский язык, Базовый']                                                                                           2\n",
       "['Английский язык, Разговорный', 'Немецкий язык, Разговорный']                                                          2\n",
       "                                                                                                                     ... \n",
       "['Английский язык, Разговорный', 'Русский язык, Разговорный']                                                           1\n",
       "['Английский язык, Cвободное владение', 'Испанский язык, Базовый']                                                      1\n",
       "['Английский язык, Технический', 'Татарский язык, Cвободное владение']                                                  1\n",
       "['Английский язык, Базовый', 'Китайский язык, Технический', 'Узбекский язык, Cвободное владение']                       1\n",
       "['Английский язык, Базовый', 'Эсперанто, Разговорный']                                                                  1\n",
       "['Английский язык, Разговорный', 'Французский язык, Разговорный', 'Итальянский язык, Базовый']                          1\n",
       "['Английский язык, Cвободное владение', 'Литовский язык, Cвободное владение']                                           1\n",
       "['Английский язык, Технический', 'Украинский язык, Cвободное владение', 'Русский язык, Cвободное владение']             1\n",
       "['Английский язык, Разговорный', 'Украинский язык, Разговорный']                                                        1\n",
       "['Болгарский язык, Разговорный']                                                                                        1\n",
       "['Английский язык, Cвободное владение', 'Чешский язык, Базовый']                                                        1\n",
       "['Английский язык, Cвободное владение', 'Французский язык, Базовый', 'Испанский язык, Базовый']                         1\n",
       "['Английский язык, Технический', 'Корейский язык, Базовый']                                                             1\n",
       "['Английский язык, Разговорный', 'Чешский язык, Разговорный']                                                           1\n",
       "['Английский язык, Разговорный', 'Итальянский язык, Базовый']                                                           1\n",
       "['Английский язык, Технический', 'Французский язык, Cвободное владение']                                                1\n",
       "['Английский язык, Технический', 'Немецкий язык, Технический', 'Французский язык, Базовый']                             1\n",
       "['Английский язык, Технический', 'Болгарский язык, Разговорный']                                                        1\n",
       "['Английский язык, Базовый', 'Латынь, Базовый', 'Русский язык, Cвободное владение']                                     1\n",
       "['Английский язык, Разговорный', 'Французский язык, Технический']                                                       1\n",
       "['Английский язык, Разговорный', 'Немецкий язык, Базовый', 'Латышский язык, Cвободное владение']                        1\n",
       "['Английский язык, Базовый', 'Украинский язык, Разговорный', 'Русский язык, Cвободное владение']                        1\n",
       "['Английский язык, Базовый', 'Немецкий язык, Базовый', 'Башкирский язык, Базовый']                                      1\n",
       "['Английский язык, Cвободное владение', 'Украинский язык, Cвободное владение', 'Русский язык, Cвободное владение']      1\n",
       "['Английский язык, Разговорный', 'Турецкий язык, Cвободное владение']                                                   1\n",
       "['Английский язык, Технический', 'Китайский язык, Базовый']                                                             1\n",
       "['Английский язык, Технический', 'Башкирский язык, Базовый', 'Татарский язык, Базовый']                                 1\n",
       "['Английский язык, Технический', 'Португальский язык, Базовый']                                                         1\n",
       "['Английский язык, Cвободное владение', 'Немецкий язык, Базовый', 'Фарси, Разговорный']                                 1\n",
       "['Английский язык, Технический', 'Немецкий язык, Базовый', 'Татарский язык, Разговорный']                               1\n",
       "Name: languages, Length: 111, dtype: int64"
      ]
     },
     "execution_count": 28,
     "metadata": {},
     "output_type": "execute_result"
    }
   ],
   "source": [
    "df.languages.value_counts(dropna=False)"
   ]
  },
  {
   "cell_type": "code",
   "execution_count": 29,
   "metadata": {},
   "outputs": [],
   "source": [
    "#df = df.drop('languages', axis=1)\n",
    "df.languages=df.languages.fillna(\"[]\")"
   ]
  },
  {
   "cell_type": "code",
   "execution_count": 65,
   "metadata": {},
   "outputs": [],
   "source": [
    "def i_am_cruel(x):\n",
    "    #print (eval(x))\n",
    "    for z in eval(x):\n",
    "        y = z.split(', ')\n",
    "        if y[0] == 'Английский язык':\n",
    "            if y[1] == 'Базовый':\n",
    "                return 1\n",
    "            if y[1] == 'Технический':\n",
    "                return 2\n",
    "            if y[1] == 'Разговорный':\n",
    "                return 3\n",
    "            if y[1] == 'Cвободное владение':\n",
    "                return 4\n",
    "            print (y[1])\n",
    "    return 0\n",
    "for i in df.languages.values:\n",
    "    i_am_cruel(i)\n",
    "df['English_lvl']=df.languages.apply(i_am_cruel)"
   ]
  },
  {
   "cell_type": "code",
   "execution_count": 68,
   "metadata": {},
   "outputs": [],
   "source": [
    "df.drop('languages', axis=1, inplace=True)"
   ]
  },
  {
   "cell_type": "code",
   "execution_count": null,
   "metadata": {},
   "outputs": [],
   "source": [
    "Lang = set()\n",
    "for x in df.languages.values:\n",
    "    if type(x)==float:\n",
    "        Lang.add('С')\n",
    "    print (x)\n",
    "    for y in eval(x):\n",
    "        Lang.add(y)\n",
    "Lang"
   ]
  },
  {
   "cell_type": "code",
   "execution_count": null,
   "metadata": {},
   "outputs": [],
   "source": [
    "df.metro_or_moving.value_counts(dropna=False)"
   ]
  },
  {
   "cell_type": "markdown",
   "metadata": {},
   "source": [
    "## Не сделано, но может быть лучше рабить на готов-не готов к переезду?"
   ]
  },
  {
   "cell_type": "code",
   "execution_count": null,
   "metadata": {},
   "outputs": [],
   "source": [
    "#df = df.drop('metro_or_moving', axis=1)"
   ]
  },
  {
   "cell_type": "code",
   "execution_count": null,
   "metadata": {},
   "outputs": [],
   "source": [
    "df.name.value_counts(dropna=False)"
   ]
  },
  {
   "cell_type": "code",
   "execution_count": null,
   "metadata": {},
   "outputs": [],
   "source": [
    "df.name.unique().shape"
   ]
  },
  {
   "cell_type": "markdown",
   "metadata": {},
   "source": [
    "Нужно обрабатывать как текст. Очень много синонимов!"
   ]
  },
  {
   "cell_type": "code",
   "execution_count": null,
   "metadata": {},
   "outputs": [],
   "source": [
    "df = df.drop('photo_url', axis=1)"
   ]
  },
  {
   "cell_type": "code",
   "execution_count": null,
   "metadata": {
    "scrolled": false
   },
   "outputs": [],
   "source": [
    "df.skills.value_counts(dropna=False).shape"
   ]
  },
  {
   "cell_type": "markdown",
   "metadata": {},
   "source": [
    "Часть - дубликаты. Но полных дубликатов не было. Видимо, люди хотят на разные должности по одинаковым резюме. Можно оставить как есть (логике задачи это не противоречит)"
   ]
  },
  {
   "cell_type": "code",
   "execution_count": null,
   "metadata": {},
   "outputs": [],
   "source": [
    "df.groupby(by='skills')"
   ]
  },
  {
   "cell_type": "code",
   "execution_count": null,
   "metadata": {},
   "outputs": [],
   "source": [
    "df[df.skills.isna()].shape"
   ]
  },
  {
   "cell_type": "code",
   "execution_count": null,
   "metadata": {},
   "outputs": [],
   "source": [
    "df = df.dropna(subset=['skills'])"
   ]
  },
  {
   "cell_type": "markdown",
   "metadata": {},
   "source": [
    "## Я плох в панде, что здесь происходит?"
   ]
  },
  {
   "cell_type": "markdown",
   "metadata": {},
   "source": [
    "Видимо, придется выкинуть незаполненные, важная инфа :("
   ]
  },
  {
   "cell_type": "code",
   "execution_count": null,
   "metadata": {},
   "outputs": [],
   "source": [
    "df = df.drop('url', axis = 1)"
   ]
  },
  {
   "cell_type": "code",
   "execution_count": null,
   "metadata": {},
   "outputs": [],
   "source": [
    "df.shape"
   ]
  },
  {
   "cell_type": "code",
   "execution_count": null,
   "metadata": {},
   "outputs": [],
   "source": [
    "df.education.value_counts(dropna=False)"
   ]
  },
  {
   "cell_type": "markdown",
   "metadata": {},
   "source": [
    "## Тяжело\n",
    "нашлись уникумумы с 4 образованиями"
   ]
  },
  {
   "cell_type": "code",
   "execution_count": null,
   "metadata": {},
   "outputs": [],
   "source": [
    "A=set()"
   ]
  },
  {
   "cell_type": "code",
   "execution_count": null,
   "metadata": {
    "scrolled": false
   },
   "outputs": [],
   "source": [
    "A=set()\n",
    "for x in df.education.values:\n",
    "    if type(x)==float:\n",
    "        A.add(\"Пусто\")\n",
    "    else:\n",
    "        for ed in eval(x):\n",
    "            if ed['kind']=='Учащийся школы':\n",
    "                print(x)\n",
    "            A.add(ed['kind'])"
   ]
  },
  {
   "cell_type": "code",
   "execution_count": null,
   "metadata": {},
   "outputs": [],
   "source": [
    "A"
   ]
  },
  {
   "cell_type": "code",
   "execution_count": null,
   "metadata": {},
   "outputs": [],
   "source": [
    "df.education.value_counts(dropna=False)"
   ]
  },
  {
   "cell_type": "markdown",
   "metadata": {},
   "source": [
    "Просто интересно."
   ]
  },
  {
   "cell_type": "markdown",
   "metadata": {},
   "source": [
    "def returner_because_i_am_not_clever(x):\n",
    "    if type(x)==float:\n",
    "        return \"пусто\"\n",
    "    if len(eval(x))==4:\n",
    "        #print (x)\n",
    "        print (\"^^^^^^^^^^\n",
    "    \n",
    "    return eval()\n",
    "set([returner_because_i_am_not_clever(x) for x in df.education.values])"
   ]
  },
  {
   "cell_type": "code",
   "execution_count": null,
   "metadata": {},
   "outputs": [],
   "source": [
    "#df = df[df.education.isna() == False]\n",
    "df = df.dropna(subset=['education'])"
   ]
  },
  {
   "cell_type": "markdown",
   "metadata": {},
   "source": [
    "Выкидываем незаполненные. Че дальше - непонятно"
   ]
  },
  {
   "cell_type": "code",
   "execution_count": null,
   "metadata": {},
   "outputs": [],
   "source": [
    "df.experience_length.value_counts(dropna=False)"
   ]
  },
  {
   "cell_type": "markdown",
   "metadata": {},
   "source": [
    "Наны, видимо, - нет опыта работы"
   ]
  },
  {
   "cell_type": "code",
   "execution_count": null,
   "metadata": {},
   "outputs": [],
   "source": [
    "df.experience_length=df.experience_length.fillna(\"0 лет и 0 месяцев\")"
   ]
  },
  {
   "cell_type": "code",
   "execution_count": null,
   "metadata": {},
   "outputs": [],
   "source": [
    "#df = df.dropna(subset=['experience_length'])"
   ]
  },
  {
   "cell_type": "code",
   "execution_count": null,
   "metadata": {},
   "outputs": [],
   "source": [
    "df.shape"
   ]
  },
  {
   "cell_type": "code",
   "execution_count": null,
   "metadata": {},
   "outputs": [],
   "source": [
    "df.index = np.arange(df.shape[0])"
   ]
  },
  {
   "cell_type": "code",
   "execution_count": null,
   "metadata": {},
   "outputs": [],
   "source": [
    "df.columns"
   ]
  },
  {
   "cell_type": "markdown",
   "metadata": {},
   "source": [
    "### Промежуточный итог: ###\n",
    "\n",
    "Остались пропуски в 'languages', нужно решить, что с ними делать. Идея в том, что NaN можно интерпретировать как незнание языков. \n",
    "\n",
    "В остальных фичах пропусков нет. \n",
    "\n",
    "Город и пол one-hot.\n",
    "\n",
    "Что с образованием - неясно, очень много категорий.\n",
    "\n",
    "Для 'experience' и 'skills' нужно посмотреть распределения N-грамм и выбрать хорошие, информативные фичи по вхождениям ключевых слов.\n",
    "\n",
    "Так же необходимо все числовые признаки нормализовать."
   ]
  },
  {
   "cell_type": "code",
   "execution_count": null,
   "metadata": {},
   "outputs": [],
   "source": [
    "def period_to_month(string):\n",
    "    s = string.split()\n",
    "    if len(s) == 2:\n",
    "        if (s[1] == 'год') or (s[1] == 'года') or (s[1] == 'лет'):\n",
    "            return int(s[0]) * 12\n",
    "        return int(s[0])\n",
    "    return int(s[0]) * 12 + int(s[3])"
   ]
  },
  {
   "cell_type": "code",
   "execution_count": null,
   "metadata": {},
   "outputs": [],
   "source": [
    "pers = df.experience_length.copy()"
   ]
  },
  {
   "cell_type": "code",
   "execution_count": null,
   "metadata": {},
   "outputs": [],
   "source": [
    "pers is df.experience_length"
   ]
  },
  {
   "cell_type": "code",
   "execution_count": null,
   "metadata": {},
   "outputs": [],
   "source": [
    "for i in pers.index:\n",
    "    pers.values[i] = period_to_month(pers.values[i])"
   ]
  },
  {
   "cell_type": "code",
   "execution_count": null,
   "metadata": {
    "scrolled": true
   },
   "outputs": [],
   "source": [
    "df.experience_length = pers\n",
    "df.experience_length"
   ]
  },
  {
   "cell_type": "markdown",
   "metadata": {},
   "source": [
    "Перевели стаж работы в месяцы."
   ]
  },
  {
   "cell_type": "markdown",
   "metadata": {},
   "source": [
    "add more text"
   ]
  },
  {
   "cell_type": "code",
   "execution_count": null,
   "metadata": {},
   "outputs": [],
   "source": [
    "for x in df.salary.values:\n",
    "    if (x[-1]!='₽'):\n",
    "        print (x)"
   ]
  },
  {
   "cell_type": "markdown",
   "metadata": {},
   "source": [
    "ЗП только в рублях, что очень странно"
   ]
  },
  {
   "cell_type": "code",
   "execution_count": null,
   "metadata": {},
   "outputs": [],
   "source": [
    "df.salary=df.salary.apply(lambda x: int(x[:-1].replace(\" \", '')))"
   ]
  },
  {
   "cell_type": "code",
   "execution_count": null,
   "metadata": {},
   "outputs": [],
   "source": [
    "df.head(3)"
   ]
  },
  {
   "cell_type": "code",
   "execution_count": null,
   "metadata": {},
   "outputs": [],
   "source": [
    "df.salary.value_counts"
   ]
  },
  {
   "cell_type": "code",
   "execution_count": null,
   "metadata": {},
   "outputs": [],
   "source": []
  }
 ],
 "metadata": {
  "kernelspec": {
   "display_name": "Python 3",
   "language": "python",
   "name": "python3"
  },
  "language_info": {
   "codemirror_mode": {
    "name": "ipython",
    "version": 3
   },
   "file_extension": ".py",
   "mimetype": "text/x-python",
   "name": "python",
   "nbconvert_exporter": "python",
   "pygments_lexer": "ipython3",
   "version": "3.7.0"
  }
 },
 "nbformat": 4,
 "nbformat_minor": 2
}
